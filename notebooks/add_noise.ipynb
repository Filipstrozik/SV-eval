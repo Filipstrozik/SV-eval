{
 "cells": [
  {
   "cell_type": "code",
   "execution_count": 3,
   "metadata": {},
   "outputs": [],
   "source": [
    "import os\n",
    "\n",
    "os.chdir(\"..\")\n",
    "from src.utils import *\n",
    "\n",
    "data_dir = 'data'\n",
    "dataset_name = 'vox1_test_segments'\n",
    "\n",
    "clean_dt_path = os.path.join(data_dir, dataset_name)\n",
    "\n",
    "clean_dataset = scan_directory_voxceleb2(clean_dt_path)"
   ]
  },
  {
   "cell_type": "code",
   "execution_count": 4,
   "metadata": {},
   "outputs": [
    {
     "data": {
      "text/html": [
       "<div>\n",
       "<style scoped>\n",
       "    .dataframe tbody tr th:only-of-type {\n",
       "        vertical-align: middle;\n",
       "    }\n",
       "\n",
       "    .dataframe tbody tr th {\n",
       "        vertical-align: top;\n",
       "    }\n",
       "\n",
       "    .dataframe thead th {\n",
       "        text-align: right;\n",
       "    }\n",
       "</style>\n",
       "<table border=\"1\" class=\"dataframe\">\n",
       "  <thead>\n",
       "    <tr style=\"text-align: right;\">\n",
       "      <th></th>\n",
       "      <th>path</th>\n",
       "      <th>person_id</th>\n",
       "      <th>utterance_filename</th>\n",
       "    </tr>\n",
       "  </thead>\n",
       "  <tbody>\n",
       "    <tr>\n",
       "      <th>0</th>\n",
       "      <td>data\\vox1_test_segments\\id10270\\00001_seg_0.wav</td>\n",
       "      <td>id10270</td>\n",
       "      <td>00001_seg_0.wav</td>\n",
       "    </tr>\n",
       "    <tr>\n",
       "      <th>1</th>\n",
       "      <td>data\\vox1_test_segments\\id10270\\00001_seg_1.wav</td>\n",
       "      <td>id10270</td>\n",
       "      <td>00001_seg_1.wav</td>\n",
       "    </tr>\n",
       "    <tr>\n",
       "      <th>2</th>\n",
       "      <td>data\\vox1_test_segments\\id10270\\00001_seg_2.wav</td>\n",
       "      <td>id10270</td>\n",
       "      <td>00001_seg_2.wav</td>\n",
       "    </tr>\n",
       "    <tr>\n",
       "      <th>3</th>\n",
       "      <td>data\\vox1_test_segments\\id10270\\00001_seg_3.wav</td>\n",
       "      <td>id10270</td>\n",
       "      <td>00001_seg_3.wav</td>\n",
       "    </tr>\n",
       "    <tr>\n",
       "      <th>4</th>\n",
       "      <td>data\\vox1_test_segments\\id10270\\00001_seg_4.wav</td>\n",
       "      <td>id10270</td>\n",
       "      <td>00001_seg_4.wav</td>\n",
       "    </tr>\n",
       "    <tr>\n",
       "      <th>...</th>\n",
       "      <td>...</td>\n",
       "      <td>...</td>\n",
       "      <td>...</td>\n",
       "    </tr>\n",
       "    <tr>\n",
       "      <th>9114</th>\n",
       "      <td>data\\vox1_test_segments\\id10309\\00016_seg_2.wav</td>\n",
       "      <td>id10309</td>\n",
       "      <td>00016_seg_2.wav</td>\n",
       "    </tr>\n",
       "    <tr>\n",
       "      <th>9115</th>\n",
       "      <td>data\\vox1_test_segments\\id10309\\00017_seg_0.wav</td>\n",
       "      <td>id10309</td>\n",
       "      <td>00017_seg_0.wav</td>\n",
       "    </tr>\n",
       "    <tr>\n",
       "      <th>9116</th>\n",
       "      <td>data\\vox1_test_segments\\id10309\\00018_seg_0.wav</td>\n",
       "      <td>id10309</td>\n",
       "      <td>00018_seg_0.wav</td>\n",
       "    </tr>\n",
       "    <tr>\n",
       "      <th>9117</th>\n",
       "      <td>data\\vox1_test_segments\\id10309\\00019_seg_0.wav</td>\n",
       "      <td>id10309</td>\n",
       "      <td>00019_seg_0.wav</td>\n",
       "    </tr>\n",
       "    <tr>\n",
       "      <th>9118</th>\n",
       "      <td>data\\vox1_test_segments\\id10309\\00019_seg_1.wav</td>\n",
       "      <td>id10309</td>\n",
       "      <td>00019_seg_1.wav</td>\n",
       "    </tr>\n",
       "  </tbody>\n",
       "</table>\n",
       "<p>9119 rows × 3 columns</p>\n",
       "</div>"
      ],
      "text/plain": [
       "                                                 path person_id  \\\n",
       "0     data\\vox1_test_segments\\id10270\\00001_seg_0.wav   id10270   \n",
       "1     data\\vox1_test_segments\\id10270\\00001_seg_1.wav   id10270   \n",
       "2     data\\vox1_test_segments\\id10270\\00001_seg_2.wav   id10270   \n",
       "3     data\\vox1_test_segments\\id10270\\00001_seg_3.wav   id10270   \n",
       "4     data\\vox1_test_segments\\id10270\\00001_seg_4.wav   id10270   \n",
       "...                                               ...       ...   \n",
       "9114  data\\vox1_test_segments\\id10309\\00016_seg_2.wav   id10309   \n",
       "9115  data\\vox1_test_segments\\id10309\\00017_seg_0.wav   id10309   \n",
       "9116  data\\vox1_test_segments\\id10309\\00018_seg_0.wav   id10309   \n",
       "9117  data\\vox1_test_segments\\id10309\\00019_seg_0.wav   id10309   \n",
       "9118  data\\vox1_test_segments\\id10309\\00019_seg_1.wav   id10309   \n",
       "\n",
       "     utterance_filename  \n",
       "0       00001_seg_0.wav  \n",
       "1       00001_seg_1.wav  \n",
       "2       00001_seg_2.wav  \n",
       "3       00001_seg_3.wav  \n",
       "4       00001_seg_4.wav  \n",
       "...                 ...  \n",
       "9114    00016_seg_2.wav  \n",
       "9115    00017_seg_0.wav  \n",
       "9116    00018_seg_0.wav  \n",
       "9117    00019_seg_0.wav  \n",
       "9118    00019_seg_1.wav  \n",
       "\n",
       "[9119 rows x 3 columns]"
      ]
     },
     "execution_count": 4,
     "metadata": {},
     "output_type": "execute_result"
    }
   ],
   "source": [
    "clean_dataset"
   ]
  },
  {
   "cell_type": "code",
   "execution_count": 9,
   "metadata": {},
   "outputs": [],
   "source": [
    "# method for adding noise to the clean dataset with a given SNR using the noise dataset, with the same structure as the clean dataset\n",
    "\n",
    "def add_noise_to_dataset(clean_dataset, data_dir, dataset_name, noisy_subdir='noisy', type_of_gen_noise='gaussian', snr=0):\n",
    "    output_dir_name = f'{dataset_name}_snr_{snr}_noisy_{type_of_gen_noise}'\n",
    "    output_dir = os.path.join(data_dir, noisy_subdir, type_of_gen_noise, output_dir_name)\n",
    "\n",
    "    os.makedirs(output_dir, exist_ok=True)\n",
    "\n",
    "    for index, row in tqdm(clean_dataset.iterrows(), total=clean_dataset.shape[0]):\n",
    "        clean_path = row['path']\n",
    "        waveform, sr = torchaudio.load(clean_path)  # load the clean audio\n",
    "        noisy = add_scaled_noise_snr(waveform.numpy(), snr, type_of_gen_noise)  # add noise to the clean audio\n",
    "        noisy = torch.tensor(noisy, dtype=torch.float32)\n",
    "        # make a new directory for the person_id\n",
    "        person_subdir = os.path.join(output_dir, row['person_id'])\n",
    "        os.makedirs(person_subdir, exist_ok=True)\n",
    "        # save the noisy audio in the new directory\n",
    "        noisy_path = os.path.join(person_subdir, os.path.basename(clean_path))\n",
    "        torchaudio.save(noisy_path, noisy, sr)\n",
    "\n"
   ]
  },
  {
   "cell_type": "code",
   "execution_count": 10,
   "metadata": {},
   "outputs": [
    {
     "name": "stderr",
     "output_type": "stream",
     "text": [
      "100%|██████████| 9119/9119 [00:45<00:00, 201.02it/s]\n"
     ]
    }
   ],
   "source": [
    "\n",
    "# add noise to the clean dataset with a given SNR using the noise dataset, with the same structure as the clean dataset\n",
    "snr = 5\n",
    "type_of_gen_noise = 'gaussian'\n",
    "\n",
    "add_noise_to_dataset(clean_dataset, data_dir, dataset_name, noisy_subdir='noisy', type_of_gen_noise=type_of_gen_noise, snr=snr)\n"
   ]
  },
  {
   "cell_type": "code",
   "execution_count": 13,
   "metadata": {},
   "outputs": [
    {
     "name": "stderr",
     "output_type": "stream",
     "text": [
      "100%|██████████| 9119/9119 [00:47<00:00, 193.30it/s]\n",
      "100%|██████████| 9119/9119 [00:46<00:00, 197.31it/s]\n",
      "100%|██████████| 9119/9119 [00:46<00:00, 197.77it/s]\n",
      "100%|██████████| 9119/9119 [00:46<00:00, 196.61it/s]\n",
      "100%|██████████| 9119/9119 [00:46<00:00, 197.41it/s]\n"
     ]
    }
   ],
   "source": [
    "snrs = [0,5,10,15,20]\n",
    "type_of_gen_noise = \"poisson\"\n",
    "\n",
    "for snr in snrs:\n",
    "    add_noise_to_dataset(clean_dataset, data_dir, dataset_name, noisy_subdir='noisy', type_of_gen_noise=type_of_gen_noise, snr=snr)"
   ]
  },
  {
   "cell_type": "code",
   "execution_count": null,
   "metadata": {},
   "outputs": [],
   "source": []
  }
 ],
 "metadata": {
  "kernelspec": {
   "display_name": ".venv",
   "language": "python",
   "name": "python3"
  },
  "language_info": {
   "codemirror_mode": {
    "name": "ipython",
    "version": 3
   },
   "file_extension": ".py",
   "mimetype": "text/x-python",
   "name": "python",
   "nbconvert_exporter": "python",
   "pygments_lexer": "ipython3",
   "version": "3.12.8"
  }
 },
 "nbformat": 4,
 "nbformat_minor": 2
}
