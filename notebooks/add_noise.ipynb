{
 "cells": [
  {
   "cell_type": "code",
   "execution_count": null,
   "metadata": {},
   "outputs": [
    {
     "name": "stderr",
     "output_type": "stream",
     "text": [
      "100%|██████████| 4874/4874 [00:15<00:00, 323.91it/s]\n"
     ]
    }
   ],
   "source": [
    "import numpy as np\n",
    "import soundfile as sf\n",
    "import os\n",
    "import os\n",
    "import pandas as pd\n",
    "import torchaudio\n",
    "from IPython.display import Audio\n",
    "import matplotlib.pyplot as plt\n",
    "from numpy import ndarray\n",
    "\n",
    "os.chdir(\"..\")\n",
    "\n",
    "from src.utils import *\n",
    "from tqdm import tqdm\n",
    "\n",
    "def add_scaled_noise(signal: ndarray, intensity=0.5, noise_type=\"gaussian\") -> ndarray:\n",
    "    \"\"\"\n",
    "    Dodaje szum o określonej intensywności względem sygnału.\n",
    "\n",
    "    :param signal: Sygnał wejściowy.\n",
    "    :param intensity: Intensywność szumu względem RMS sygnału (np. 0.5 dla 50%).\n",
    "    :param noise_type: Typ szumu ('gaussian', 'rayleigh', 'poisson').\n",
    "    :return: Sygnał z dodanym szumem.\n",
    "    \"\"\"\n",
    "    rms_signal = np.sqrt(np.mean(signal**2))\n",
    "    rms_noise = intensity * rms_signal\n",
    "\n",
    "    match noise_type:\n",
    "        case \"gaussian\":\n",
    "            noise = np.random.normal(0, rms_noise, signal.shape)\n",
    "        case \"rayleigh\":\n",
    "            # Rayleigh noise requires scaling its parameter to achieve target RMS\n",
    "            sigma = rms_noise / np.sqrt(2 - np.pi / 2)\n",
    "            noise = np.random.rayleigh(sigma, signal.shape)\n",
    "        case \"poisson\":\n",
    "            # Scale Poisson noise approximation\n",
    "            # Use the signal as lambda and scale it to match RMS intensity\n",
    "            noise = np.random.poisson(rms_noise, signal.shape) - rms_signal\n",
    "            noise = noise * rms_noise / np.sqrt(np.mean(noise**2))\n",
    "        case _:\n",
    "            raise ValueError(\"Nieobsługiwany typ szumu.\")\n",
    "\n",
    "    return signal + noise\n",
    "\n",
    "def add_noise_to_dataset(df, dataset_path, intensity, output_path, noise_type=\"gaussian\"):\n",
    "    os.makedirs(output_path, exist_ok=True)\n",
    "    # iterate over all files\n",
    "    for index, row in tqdm(df.iterrows(), total=df.shape[0]):\n",
    "        # load audio file\n",
    "        os.makedirs(os.path.join(output_path, row['person_id']), exist_ok=True)\n",
    "\n",
    "        audio, sample_rate = torchaudio.load(row['path'])\n",
    "        audio = audio.numpy()\n",
    "        # add noise\n",
    "        audio_noisy = add_scaled_noise(audio, intensity=intensity, noise_type=noise_type)\n",
    "        # save audio file\n",
    "        torchaudio.save(os.path.join(output_path, row['person_id'], row['utterance_filename']), torch.tensor(audio_noisy), sample_rate)\n",
    "\n",
    "dataset_path = \"data/vox1_test_wav\"\n",
    "df = scan_directory_voxceleb1(dataset_path)\n"
   ]
  },
  {
   "cell_type": "code",
   "execution_count": null,
   "metadata": {},
   "outputs": [],
   "source": [
    "intensity = 0.01\n",
    "output_path = f\"data/noisy/vox1/gaussian_{intensity}\"\n",
    "\n",
    "add_noise_to_dataset(df, dataset_path, intensity, output_path)"
   ]
  },
  {
   "cell_type": "code",
   "execution_count": null,
   "metadata": {},
   "outputs": [],
   "source": [
    "intensity = 0.1\n",
    "output_path = f\"data/noisy/vox1/gaussian_{intensity}\"\n",
    "\n",
    "add_noise_to_dataset(df, dataset_path, intensity, output_path)"
   ]
  },
  {
   "cell_type": "code",
   "execution_count": null,
   "metadata": {},
   "outputs": [],
   "source": [
    "intensity = 0.5\n",
    "output_path = f\"data/noisy/vox1/gaussian_{intensity}\"\n",
    "\n",
    "add_noise_to_dataset(df, dataset_path, intensity, output_path)"
   ]
  }
 ],
 "metadata": {
  "kernelspec": {
   "display_name": ".venv",
   "language": "python",
   "name": "python3"
  },
  "language_info": {
   "codemirror_mode": {
    "name": "ipython",
    "version": 3
   },
   "file_extension": ".py",
   "mimetype": "text/x-python",
   "name": "python",
   "nbconvert_exporter": "python",
   "pygments_lexer": "ipython3",
   "version": "3.12.4"
  }
 },
 "nbformat": 4,
 "nbformat_minor": 2
}
