{
 "cells": [
  {
   "cell_type": "code",
   "execution_count": 5,
   "id": "a60f0403",
   "metadata": {},
   "outputs": [
    {
     "name": "stdout",
     "output_type": "stream",
     "text": [
      "Current Working Directory  c:\\Users\\filip\\Documents\\code\\SV-eval\n"
     ]
    }
   ],
   "source": [
    "import os\n",
    "\n",
    "os.chdir(\"..\")\n",
    "from src.utils import *\n",
    "\n",
    "print(\"Current Working Directory \", os.getcwd())"
   ]
  },
  {
   "cell_type": "code",
   "execution_count": 6,
   "id": "91416b60",
   "metadata": {},
   "outputs": [
    {
     "name": "stdout",
     "output_type": "stream",
     "text": [
      "Directory data\\noisy\\gaussian\\vox1_test_segments_snr_0_noisy_gaussian exists\n"
     ]
    }
   ],
   "source": [
    "data_dir = \"data\"\n",
    "data_type = \"noisy\"\n",
    "noise_type = \"gaussian\"\n",
    "snr = 0\n",
    "dataset_name = f\"vox1_test_segments_snr_{snr}_noisy_{noise_type}\"\n",
    "\n",
    "noisy_dt_path = os.path.join(data_dir, data_type, noise_type, dataset_name)\n",
    "if not os.path.exists(noisy_dt_path):\n",
    "    print(f\"Directory {noisy_dt_path} does not exist\")\n",
    "    raise FileNotFoundError(f\"Directory {noisy_dt_path} does not exist\")\n",
    "print(f\"Directory {noisy_dt_path} exists\")"
   ]
  },
  {
   "cell_type": "code",
   "execution_count": 7,
   "id": "20a122e2",
   "metadata": {},
   "outputs": [
    {
     "name": "stderr",
     "output_type": "stream",
     "text": [
      "c:\\Users\\filip\\Documents\\code\\SV-eval\\.venv\\Lib\\site-packages\\speechbrain\\utils\\checkpoints.py:200: FutureWarning: You are using `torch.load` with `weights_only=False` (the current default value), which uses the default pickle module implicitly. It is possible to construct malicious pickle data which will execute arbitrary code during unpickling (See https://github.com/pytorch/pytorch/blob/main/SECURITY.md#untrusted-models for more details). In a future release, the default value for `weights_only` will be flipped to `True`. This limits the functions that could be executed during unpickling. Arbitrary objects will no longer be allowed to be loaded via this mode unless they are explicitly allowlisted by the user via `torch.serialization.add_safe_globals`. We recommend you start setting `weights_only=True` for any use case where you don't have full control of the loaded file. Please open an issue on GitHub for any issues related to this experimental feature.\n",
      "  state_dict = torch.load(path, map_location=device)\n"
     ]
    }
   ],
   "source": [
    "import torch\n",
    "import torchaudio\n",
    "from speechbrain.inference.enhancement import SpectralMaskEnhancement\n",
    "\n",
    "enhance_model = SpectralMaskEnhancement.from_hparams(\n",
    "    source=\"speechbrain/metricgan-plus-voicebank\",\n",
    "    run_opts={\"device\":\"cuda\"}\n",
    ")\n"
   ]
  },
  {
   "cell_type": "code",
   "execution_count": 8,
   "id": "7771aa2a",
   "metadata": {},
   "outputs": [],
   "source": [
    "\n",
    "from tqdm.notebook import tqdm\n",
    "\n",
    "def denoise_dataset_metricgan(noisy_dataset, data_dir, subdir, noise_type):\n",
    "    output_dir = os.path.join(data_dir, subdir, noise_type, dataset_name)\n",
    "    os.makedirs(output_dir, exist_ok=True)\n",
    "\n",
    "    for index, row in tqdm(noisy_dataset.iterrows(), total=noisy_dataset.shape[0]):\n",
    "        noisy_path = row[\"path\"]\n",
    "        \n",
    "        # Load noisy audio\n",
    "        noisy, sr = torchaudio.load(noisy_path)\n",
    "        if sr != 16000:\n",
    "            noisy = torchaudio.functional.resample(noisy, sr, 16000)\n",
    "            print(f\"Resampling {noisy_path} from {sr} to 16000\")\n",
    "            sr = 16000\n",
    "\n",
    "        # Add batch dimension and relative length tensor\n",
    "        noisy = noisy.to('cuda')\n",
    "        enhanced = enhance_model.enhance_batch(noisy, lengths=torch.tensor([1.0]))\n",
    "\n",
    "        # Create output directory for person\n",
    "        person_subdir = os.path.join(output_dir, row[\"person_id\"])\n",
    "        os.makedirs(person_subdir, exist_ok=True)\n",
    "\n",
    "        # Save enhanced audio\n",
    "        enhanced_path = os.path.join(person_subdir, os.path.basename(noisy_path))\n",
    "        torchaudio.save(enhanced_path, enhanced.cpu(), sr)"
   ]
  },
  {
   "cell_type": "code",
   "execution_count": 9,
   "id": "57249ce1",
   "metadata": {},
   "outputs": [
    {
     "name": "stdout",
     "output_type": "stream",
     "text": [
      "Directory data\\noisy\\gaussian\\vox1_test_segments_snr_0_noisy_gaussian exists\n"
     ]
    },
    {
     "data": {
      "application/vnd.jupyter.widget-view+json": {
       "model_id": "bb55adc0eb964d30b265434b892161e1",
       "version_major": 2,
       "version_minor": 0
      },
      "text/plain": [
       "  0%|          | 0/9119 [00:00<?, ?it/s]"
      ]
     },
     "metadata": {},
     "output_type": "display_data"
    },
    {
     "name": "stdout",
     "output_type": "stream",
     "text": [
      "Directory data\\noisy\\gaussian\\vox1_test_segments_snr_5_noisy_gaussian exists\n"
     ]
    },
    {
     "data": {
      "application/vnd.jupyter.widget-view+json": {
       "model_id": "0de5c6d1fdf941d5978a26aa8e491005",
       "version_major": 2,
       "version_minor": 0
      },
      "text/plain": [
       "  0%|          | 0/9119 [00:00<?, ?it/s]"
      ]
     },
     "metadata": {},
     "output_type": "display_data"
    },
    {
     "name": "stdout",
     "output_type": "stream",
     "text": [
      "Directory data\\noisy\\gaussian\\vox1_test_segments_snr_10_noisy_gaussian exists\n"
     ]
    },
    {
     "data": {
      "application/vnd.jupyter.widget-view+json": {
       "model_id": "d3954398f90f41cb9c6661c69e7070cf",
       "version_major": 2,
       "version_minor": 0
      },
      "text/plain": [
       "  0%|          | 0/9119 [00:00<?, ?it/s]"
      ]
     },
     "metadata": {},
     "output_type": "display_data"
    },
    {
     "name": "stdout",
     "output_type": "stream",
     "text": [
      "Directory data\\noisy\\gaussian\\vox1_test_segments_snr_15_noisy_gaussian exists\n"
     ]
    },
    {
     "data": {
      "application/vnd.jupyter.widget-view+json": {
       "model_id": "d333087aeafb4699a8c48eb4b5dc8701",
       "version_major": 2,
       "version_minor": 0
      },
      "text/plain": [
       "  0%|          | 0/9119 [00:00<?, ?it/s]"
      ]
     },
     "metadata": {},
     "output_type": "display_data"
    },
    {
     "name": "stdout",
     "output_type": "stream",
     "text": [
      "Directory data\\noisy\\gaussian\\vox1_test_segments_snr_20_noisy_gaussian exists\n"
     ]
    },
    {
     "data": {
      "application/vnd.jupyter.widget-view+json": {
       "model_id": "bb7b97139dbd4f9ea867be4968e0f4bd",
       "version_major": 2,
       "version_minor": 0
      },
      "text/plain": [
       "  0%|          | 0/9119 [00:00<?, ?it/s]"
      ]
     },
     "metadata": {},
     "output_type": "display_data"
    },
    {
     "name": "stdout",
     "output_type": "stream",
     "text": [
      "Directory data\\noisy\\poisson\\vox1_test_segments_snr_0_noisy_poisson exists\n"
     ]
    },
    {
     "data": {
      "application/vnd.jupyter.widget-view+json": {
       "model_id": "6fa06fd3917d42108783ee715f603af7",
       "version_major": 2,
       "version_minor": 0
      },
      "text/plain": [
       "  0%|          | 0/9119 [00:00<?, ?it/s]"
      ]
     },
     "metadata": {},
     "output_type": "display_data"
    },
    {
     "name": "stdout",
     "output_type": "stream",
     "text": [
      "Directory data\\noisy\\poisson\\vox1_test_segments_snr_5_noisy_poisson exists\n"
     ]
    },
    {
     "data": {
      "application/vnd.jupyter.widget-view+json": {
       "model_id": "e6c7289f57c34b5c8ad1e3aa0165f2c2",
       "version_major": 2,
       "version_minor": 0
      },
      "text/plain": [
       "  0%|          | 0/9119 [00:00<?, ?it/s]"
      ]
     },
     "metadata": {},
     "output_type": "display_data"
    },
    {
     "name": "stdout",
     "output_type": "stream",
     "text": [
      "Directory data\\noisy\\poisson\\vox1_test_segments_snr_10_noisy_poisson exists\n"
     ]
    },
    {
     "data": {
      "application/vnd.jupyter.widget-view+json": {
       "model_id": "0a223d234b0143409426fcb0d80bee71",
       "version_major": 2,
       "version_minor": 0
      },
      "text/plain": [
       "  0%|          | 0/9119 [00:00<?, ?it/s]"
      ]
     },
     "metadata": {},
     "output_type": "display_data"
    },
    {
     "name": "stdout",
     "output_type": "stream",
     "text": [
      "Directory data\\noisy\\poisson\\vox1_test_segments_snr_15_noisy_poisson exists\n"
     ]
    },
    {
     "data": {
      "application/vnd.jupyter.widget-view+json": {
       "model_id": "4a27106631e14dd9a9726998900f5aa4",
       "version_major": 2,
       "version_minor": 0
      },
      "text/plain": [
       "  0%|          | 0/9119 [00:00<?, ?it/s]"
      ]
     },
     "metadata": {},
     "output_type": "display_data"
    },
    {
     "name": "stdout",
     "output_type": "stream",
     "text": [
      "Directory data\\noisy\\poisson\\vox1_test_segments_snr_20_noisy_poisson exists\n"
     ]
    },
    {
     "data": {
      "application/vnd.jupyter.widget-view+json": {
       "model_id": "d6e478d7be5b4930a15a6743a562af79",
       "version_major": 2,
       "version_minor": 0
      },
      "text/plain": [
       "  0%|          | 0/9119 [00:00<?, ?it/s]"
      ]
     },
     "metadata": {},
     "output_type": "display_data"
    },
    {
     "name": "stdout",
     "output_type": "stream",
     "text": [
      "Directory data\\noisy\\rayleigh\\vox1_test_segments_snr_0_noisy_rayleigh exists\n"
     ]
    },
    {
     "data": {
      "application/vnd.jupyter.widget-view+json": {
       "model_id": "19a4ac466d8d46588ee1cab1d230957d",
       "version_major": 2,
       "version_minor": 0
      },
      "text/plain": [
       "  0%|          | 0/9119 [00:00<?, ?it/s]"
      ]
     },
     "metadata": {},
     "output_type": "display_data"
    },
    {
     "name": "stdout",
     "output_type": "stream",
     "text": [
      "Directory data\\noisy\\rayleigh\\vox1_test_segments_snr_5_noisy_rayleigh exists\n"
     ]
    },
    {
     "data": {
      "application/vnd.jupyter.widget-view+json": {
       "model_id": "104e917fb6cf4a829635e0fcaa009011",
       "version_major": 2,
       "version_minor": 0
      },
      "text/plain": [
       "  0%|          | 0/9119 [00:00<?, ?it/s]"
      ]
     },
     "metadata": {},
     "output_type": "display_data"
    },
    {
     "name": "stdout",
     "output_type": "stream",
     "text": [
      "Directory data\\noisy\\rayleigh\\vox1_test_segments_snr_10_noisy_rayleigh exists\n"
     ]
    },
    {
     "data": {
      "application/vnd.jupyter.widget-view+json": {
       "model_id": "ac06c3ec4322471d92c2d4d34fa3d557",
       "version_major": 2,
       "version_minor": 0
      },
      "text/plain": [
       "  0%|          | 0/9119 [00:00<?, ?it/s]"
      ]
     },
     "metadata": {},
     "output_type": "display_data"
    },
    {
     "name": "stdout",
     "output_type": "stream",
     "text": [
      "Directory data\\noisy\\rayleigh\\vox1_test_segments_snr_15_noisy_rayleigh exists\n"
     ]
    },
    {
     "data": {
      "application/vnd.jupyter.widget-view+json": {
       "model_id": "0697e0f84bda4c52aa9c0a4be051fcbf",
       "version_major": 2,
       "version_minor": 0
      },
      "text/plain": [
       "  0%|          | 0/9119 [00:00<?, ?it/s]"
      ]
     },
     "metadata": {},
     "output_type": "display_data"
    },
    {
     "name": "stdout",
     "output_type": "stream",
     "text": [
      "Directory data\\noisy\\rayleigh\\vox1_test_segments_snr_20_noisy_rayleigh exists\n"
     ]
    },
    {
     "data": {
      "application/vnd.jupyter.widget-view+json": {
       "model_id": "94ce347985034c859788c2ea50cdd859",
       "version_major": 2,
       "version_minor": 0
      },
      "text/plain": [
       "  0%|          | 0/9119 [00:00<?, ?it/s]"
      ]
     },
     "metadata": {},
     "output_type": "display_data"
    }
   ],
   "source": [
    "\n",
    "\n",
    "# Process synthetic noise types\n",
    "noise_types = [\"gaussian\", \"poisson\", \"rayleigh\"]\n",
    "snrs = [0, 5, 10, 15, 20]\n",
    "data_dir = \"data\"\n",
    "data_type = \"noisy\"\n",
    "output_subdir = \"metricgan\"\n",
    "\n",
    "for noise_type in noise_types:\n",
    "    for snr in snrs:\n",
    "        dataset_name = f\"vox1_test_segments_snr_{snr}_noisy_{noise_type}\"\n",
    "\n",
    "        noisy_dt_path = os.path.join(data_dir, data_type, noise_type, dataset_name)\n",
    "        if not os.path.exists(noisy_dt_path):\n",
    "            print(f\"Directory {noisy_dt_path} does not exist\")\n",
    "            continue\n",
    "        print(f\"Directory {noisy_dt_path} exists\")\n",
    "\n",
    "        noisy_dataset = scan_directory_voxceleb2(noisy_dt_path)\n",
    "        denoise_dataset_metricgan(\n",
    "            noisy_dataset, data_dir, output_subdir, noise_type, \n",
    "        )"
   ]
  },
  {
   "cell_type": "code",
   "execution_count": 10,
   "id": "e344d9e6",
   "metadata": {},
   "outputs": [
    {
     "name": "stdout",
     "output_type": "stream",
     "text": [
      "Directory data\\noisy_bg\\vox1_test_wav_bq_noise\\AirConditioner\\vox1_test_wav_snr_0_AirConditioner exists\n"
     ]
    },
    {
     "data": {
      "application/vnd.jupyter.widget-view+json": {
       "model_id": "3d165ec6c3ad47c5a8ea1763fdec20da",
       "version_major": 2,
       "version_minor": 0
      },
      "text/plain": [
       "  0%|          | 0/9119 [00:00<?, ?it/s]"
      ]
     },
     "metadata": {},
     "output_type": "display_data"
    },
    {
     "name": "stdout",
     "output_type": "stream",
     "text": [
      "Directory data\\noisy_bg\\vox1_test_wav_bq_noise\\AirConditioner\\vox1_test_wav_snr_5_AirConditioner exists\n"
     ]
    },
    {
     "data": {
      "application/vnd.jupyter.widget-view+json": {
       "model_id": "e10ce5b73add49c8844f42cfb4c1c846",
       "version_major": 2,
       "version_minor": 0
      },
      "text/plain": [
       "  0%|          | 0/9119 [00:00<?, ?it/s]"
      ]
     },
     "metadata": {},
     "output_type": "display_data"
    },
    {
     "name": "stdout",
     "output_type": "stream",
     "text": [
      "Directory data\\noisy_bg\\vox1_test_wav_bq_noise\\AirConditioner\\vox1_test_wav_snr_10_AirConditioner exists\n"
     ]
    },
    {
     "data": {
      "application/vnd.jupyter.widget-view+json": {
       "model_id": "86f5155d975e438a89c0b290d393b1ff",
       "version_major": 2,
       "version_minor": 0
      },
      "text/plain": [
       "  0%|          | 0/9119 [00:00<?, ?it/s]"
      ]
     },
     "metadata": {},
     "output_type": "display_data"
    },
    {
     "name": "stdout",
     "output_type": "stream",
     "text": [
      "Directory data\\noisy_bg\\vox1_test_wav_bq_noise\\AirConditioner\\vox1_test_wav_snr_15_AirConditioner exists\n"
     ]
    },
    {
     "data": {
      "application/vnd.jupyter.widget-view+json": {
       "model_id": "ea4f25ae853a42e4bc01c2407c9974eb",
       "version_major": 2,
       "version_minor": 0
      },
      "text/plain": [
       "  0%|          | 0/9119 [00:00<?, ?it/s]"
      ]
     },
     "metadata": {},
     "output_type": "display_data"
    },
    {
     "name": "stdout",
     "output_type": "stream",
     "text": [
      "Directory data\\noisy_bg\\vox1_test_wav_bq_noise\\AirConditioner\\vox1_test_wav_snr_20_AirConditioner exists\n"
     ]
    },
    {
     "data": {
      "application/vnd.jupyter.widget-view+json": {
       "model_id": "78e8b5e4dffa4429a4bc03829f5cb9a5",
       "version_major": 2,
       "version_minor": 0
      },
      "text/plain": [
       "  0%|          | 0/9119 [00:00<?, ?it/s]"
      ]
     },
     "metadata": {},
     "output_type": "display_data"
    },
    {
     "name": "stdout",
     "output_type": "stream",
     "text": [
      "Directory data\\noisy_bg\\vox1_test_wav_bq_noise\\Babble\\vox1_test_wav_snr_0_Babble exists\n"
     ]
    },
    {
     "data": {
      "application/vnd.jupyter.widget-view+json": {
       "model_id": "25918b2b10a24831ad1336fda259dcfa",
       "version_major": 2,
       "version_minor": 0
      },
      "text/plain": [
       "  0%|          | 0/9119 [00:00<?, ?it/s]"
      ]
     },
     "metadata": {},
     "output_type": "display_data"
    },
    {
     "name": "stdout",
     "output_type": "stream",
     "text": [
      "Directory data\\noisy_bg\\vox1_test_wav_bq_noise\\Babble\\vox1_test_wav_snr_5_Babble exists\n"
     ]
    },
    {
     "data": {
      "application/vnd.jupyter.widget-view+json": {
       "model_id": "69ff809431b641638d99922098226f60",
       "version_major": 2,
       "version_minor": 0
      },
      "text/plain": [
       "  0%|          | 0/9119 [00:00<?, ?it/s]"
      ]
     },
     "metadata": {},
     "output_type": "display_data"
    },
    {
     "name": "stdout",
     "output_type": "stream",
     "text": [
      "Directory data\\noisy_bg\\vox1_test_wav_bq_noise\\Babble\\vox1_test_wav_snr_10_Babble exists\n"
     ]
    },
    {
     "data": {
      "application/vnd.jupyter.widget-view+json": {
       "model_id": "df0be523b53e4d9c85aad49e00ea1fa9",
       "version_major": 2,
       "version_minor": 0
      },
      "text/plain": [
       "  0%|          | 0/9119 [00:00<?, ?it/s]"
      ]
     },
     "metadata": {},
     "output_type": "display_data"
    },
    {
     "name": "stdout",
     "output_type": "stream",
     "text": [
      "Directory data\\noisy_bg\\vox1_test_wav_bq_noise\\Babble\\vox1_test_wav_snr_15_Babble exists\n"
     ]
    },
    {
     "data": {
      "application/vnd.jupyter.widget-view+json": {
       "model_id": "0c3df75f17cc456fb3f83e56bac01a45",
       "version_major": 2,
       "version_minor": 0
      },
      "text/plain": [
       "  0%|          | 0/9119 [00:00<?, ?it/s]"
      ]
     },
     "metadata": {},
     "output_type": "display_data"
    },
    {
     "name": "stdout",
     "output_type": "stream",
     "text": [
      "Directory data\\noisy_bg\\vox1_test_wav_bq_noise\\Babble\\vox1_test_wav_snr_20_Babble exists\n"
     ]
    },
    {
     "data": {
      "application/vnd.jupyter.widget-view+json": {
       "model_id": "4fbded1564074558b81f703e7ee9fa4e",
       "version_major": 2,
       "version_minor": 0
      },
      "text/plain": [
       "  0%|          | 0/9119 [00:00<?, ?it/s]"
      ]
     },
     "metadata": {},
     "output_type": "display_data"
    },
    {
     "name": "stdout",
     "output_type": "stream",
     "text": [
      "Directory data\\noisy_bg\\vox1_test_wav_bq_noise\\Neighbor\\vox1_test_wav_snr_0_Neighbor exists\n"
     ]
    },
    {
     "data": {
      "application/vnd.jupyter.widget-view+json": {
       "model_id": "c64d1281ce6f4b93b13f5ec38dd415ae",
       "version_major": 2,
       "version_minor": 0
      },
      "text/plain": [
       "  0%|          | 0/9119 [00:00<?, ?it/s]"
      ]
     },
     "metadata": {},
     "output_type": "display_data"
    },
    {
     "name": "stdout",
     "output_type": "stream",
     "text": [
      "Directory data\\noisy_bg\\vox1_test_wav_bq_noise\\Neighbor\\vox1_test_wav_snr_5_Neighbor exists\n"
     ]
    },
    {
     "data": {
      "application/vnd.jupyter.widget-view+json": {
       "model_id": "cbb6749956174412adb87ae18a3fb770",
       "version_major": 2,
       "version_minor": 0
      },
      "text/plain": [
       "  0%|          | 0/9119 [00:00<?, ?it/s]"
      ]
     },
     "metadata": {},
     "output_type": "display_data"
    },
    {
     "name": "stdout",
     "output_type": "stream",
     "text": [
      "Directory data\\noisy_bg\\vox1_test_wav_bq_noise\\Neighbor\\vox1_test_wav_snr_10_Neighbor exists\n"
     ]
    },
    {
     "data": {
      "application/vnd.jupyter.widget-view+json": {
       "model_id": "7d5dd0670efc407fb926f2a4b2c14b8a",
       "version_major": 2,
       "version_minor": 0
      },
      "text/plain": [
       "  0%|          | 0/9119 [00:00<?, ?it/s]"
      ]
     },
     "metadata": {},
     "output_type": "display_data"
    },
    {
     "name": "stdout",
     "output_type": "stream",
     "text": [
      "Directory data\\noisy_bg\\vox1_test_wav_bq_noise\\Neighbor\\vox1_test_wav_snr_15_Neighbor exists\n"
     ]
    },
    {
     "data": {
      "application/vnd.jupyter.widget-view+json": {
       "model_id": "fa3841bee8af49b4b38192f841e0ba00",
       "version_major": 2,
       "version_minor": 0
      },
      "text/plain": [
       "  0%|          | 0/9119 [00:00<?, ?it/s]"
      ]
     },
     "metadata": {},
     "output_type": "display_data"
    },
    {
     "name": "stdout",
     "output_type": "stream",
     "text": [
      "Directory data\\noisy_bg\\vox1_test_wav_bq_noise\\Neighbor\\vox1_test_wav_snr_20_Neighbor exists\n"
     ]
    },
    {
     "data": {
      "application/vnd.jupyter.widget-view+json": {
       "model_id": "e64e649ddfdc429c8a1d65305f7a1836",
       "version_major": 2,
       "version_minor": 0
      },
      "text/plain": [
       "  0%|          | 0/9119 [00:00<?, ?it/s]"
      ]
     },
     "metadata": {},
     "output_type": "display_data"
    }
   ],
   "source": [
    "# Process real background noise types\n",
    "noise_types = [\"AirConditioner\", \"Babble\", \"Neighbor\"]\n",
    "snrs = [0, 5, 10, 15, 20]\n",
    "data_dir = \"data\"\n",
    "data_type = \"noisy_bg\\\\vox1_test_wav_bq_noise\"\n",
    "output_subdir = \"metricgan\"\n",
    "\n",
    "for noise_type in noise_types:\n",
    "    for snr in snrs:\n",
    "        dataset_name = f\"vox1_test_wav_snr_{snr}_{noise_type}\"\n",
    "\n",
    "        noisy_dt_path = os.path.join(data_dir, data_type, noise_type, dataset_name)\n",
    "        if not os.path.exists(noisy_dt_path):\n",
    "            print(f\"Directory {noisy_dt_path} does not exist\")\n",
    "            continue\n",
    "        print(f\"Directory {noisy_dt_path} exists\")\n",
    "\n",
    "        noisy_dataset = scan_directory_voxceleb2(noisy_dt_path)\n",
    "        denoise_dataset_metricgan(\n",
    "            noisy_dataset, data_dir, output_subdir, noise_type\n",
    "        )"
   ]
  }
 ],
 "metadata": {
  "kernelspec": {
   "display_name": ".venv",
   "language": "python",
   "name": "python3"
  },
  "language_info": {
   "codemirror_mode": {
    "name": "ipython",
    "version": 3
   },
   "file_extension": ".py",
   "mimetype": "text/x-python",
   "name": "python",
   "nbconvert_exporter": "python",
   "pygments_lexer": "ipython3",
   "version": "3.12.8"
  }
 },
 "nbformat": 4,
 "nbformat_minor": 5
}
