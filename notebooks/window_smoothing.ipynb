{
 "cells": [
  {
   "cell_type": "code",
   "execution_count": 1,
   "id": "88988b8e",
   "metadata": {},
   "outputs": [
    {
     "name": "stdout",
     "output_type": "stream",
     "text": [
      "Current Working Directory: c:\\Users\\filip\\Documents\\code\\SV-eval\n",
      "Processing directory: data\\noisy\\gaussian\\vox1_test_segments_snr_0_noisy_gaussian\n",
      "Processing with mean filter, window size 12ms\n"
     ]
    },
    {
     "name": "stderr",
     "output_type": "stream",
     "text": [
      "Processing gaussian SNR 0 with mean_12ms: 100%|██████████| 9119/9119 [02:15<00:00, 67.15it/s]\n"
     ]
    },
    {
     "name": "stdout",
     "output_type": "stream",
     "text": [
      "Processing with mean filter, window size 25ms\n"
     ]
    },
    {
     "name": "stderr",
     "output_type": "stream",
     "text": [
      "Processing gaussian SNR 0 with mean_25ms: 100%|██████████| 9119/9119 [01:19<00:00, 115.20it/s]\n"
     ]
    },
    {
     "name": "stdout",
     "output_type": "stream",
     "text": [
      "Processing with savgol filter, window size 12ms\n"
     ]
    },
    {
     "name": "stderr",
     "output_type": "stream",
     "text": [
      "Processing gaussian SNR 0 with savgol_12ms: 100%|██████████| 9119/9119 [01:23<00:00, 109.27it/s]\n"
     ]
    },
    {
     "name": "stdout",
     "output_type": "stream",
     "text": [
      "Processing with savgol filter, window size 25ms\n"
     ]
    },
    {
     "name": "stderr",
     "output_type": "stream",
     "text": [
      "Processing gaussian SNR 0 with savgol_25ms: 100%|██████████| 9119/9119 [02:12<00:00, 68.86it/s]\n"
     ]
    },
    {
     "name": "stdout",
     "output_type": "stream",
     "text": [
      "Processing directory: data\\noisy\\gaussian\\vox1_test_segments_snr_5_noisy_gaussian\n",
      "Processing with mean filter, window size 12ms\n"
     ]
    },
    {
     "name": "stderr",
     "output_type": "stream",
     "text": [
      "Processing gaussian SNR 5 with mean_12ms: 100%|██████████| 9119/9119 [02:12<00:00, 68.59it/s]\n"
     ]
    },
    {
     "name": "stdout",
     "output_type": "stream",
     "text": [
      "Processing with mean filter, window size 25ms\n"
     ]
    },
    {
     "name": "stderr",
     "output_type": "stream",
     "text": [
      "Processing gaussian SNR 5 with mean_25ms: 100%|██████████| 9119/9119 [01:18<00:00, 115.61it/s]\n"
     ]
    },
    {
     "name": "stdout",
     "output_type": "stream",
     "text": [
      "Processing with savgol filter, window size 12ms\n"
     ]
    },
    {
     "name": "stderr",
     "output_type": "stream",
     "text": [
      "Processing gaussian SNR 5 with savgol_12ms: 100%|██████████| 9119/9119 [01:22<00:00, 110.40it/s]\n"
     ]
    },
    {
     "name": "stdout",
     "output_type": "stream",
     "text": [
      "Processing with savgol filter, window size 25ms\n"
     ]
    },
    {
     "name": "stderr",
     "output_type": "stream",
     "text": [
      "Processing gaussian SNR 5 with savgol_25ms: 100%|██████████| 9119/9119 [02:11<00:00, 69.12it/s]\n"
     ]
    },
    {
     "name": "stdout",
     "output_type": "stream",
     "text": [
      "Processing directory: data\\noisy\\gaussian\\vox1_test_segments_snr_10_noisy_gaussian\n",
      "Processing with mean filter, window size 12ms\n"
     ]
    },
    {
     "name": "stderr",
     "output_type": "stream",
     "text": [
      "Processing gaussian SNR 10 with mean_12ms: 100%|██████████| 9119/9119 [02:13<00:00, 68.44it/s]\n"
     ]
    },
    {
     "name": "stdout",
     "output_type": "stream",
     "text": [
      "Processing with mean filter, window size 25ms\n"
     ]
    },
    {
     "name": "stderr",
     "output_type": "stream",
     "text": [
      "Processing gaussian SNR 10 with mean_25ms: 100%|██████████| 9119/9119 [01:18<00:00, 116.46it/s]\n"
     ]
    },
    {
     "name": "stdout",
     "output_type": "stream",
     "text": [
      "Processing with savgol filter, window size 12ms\n"
     ]
    },
    {
     "name": "stderr",
     "output_type": "stream",
     "text": [
      "Processing gaussian SNR 10 with savgol_12ms: 100%|██████████| 9119/9119 [01:21<00:00, 111.30it/s]\n"
     ]
    },
    {
     "name": "stdout",
     "output_type": "stream",
     "text": [
      "Processing with savgol filter, window size 25ms\n"
     ]
    },
    {
     "name": "stderr",
     "output_type": "stream",
     "text": [
      "Processing gaussian SNR 10 with savgol_25ms: 100%|██████████| 9119/9119 [02:11<00:00, 69.32it/s]\n"
     ]
    },
    {
     "name": "stdout",
     "output_type": "stream",
     "text": [
      "Processing directory: data\\noisy\\gaussian\\vox1_test_segments_snr_15_noisy_gaussian\n",
      "Processing with mean filter, window size 12ms\n"
     ]
    },
    {
     "name": "stderr",
     "output_type": "stream",
     "text": [
      "Processing gaussian SNR 15 with mean_12ms: 100%|██████████| 9119/9119 [02:10<00:00, 69.62it/s]\n"
     ]
    },
    {
     "name": "stdout",
     "output_type": "stream",
     "text": [
      "Processing with mean filter, window size 25ms\n"
     ]
    },
    {
     "name": "stderr",
     "output_type": "stream",
     "text": [
      "Processing gaussian SNR 15 with mean_25ms: 100%|██████████| 9119/9119 [01:17<00:00, 117.67it/s]\n"
     ]
    },
    {
     "name": "stdout",
     "output_type": "stream",
     "text": [
      "Processing with savgol filter, window size 12ms\n"
     ]
    },
    {
     "name": "stderr",
     "output_type": "stream",
     "text": [
      "Processing gaussian SNR 15 with savgol_12ms: 100%|██████████| 9119/9119 [01:21<00:00, 111.74it/s]\n"
     ]
    },
    {
     "name": "stdout",
     "output_type": "stream",
     "text": [
      "Processing with savgol filter, window size 25ms\n"
     ]
    },
    {
     "name": "stderr",
     "output_type": "stream",
     "text": [
      "Processing gaussian SNR 15 with savgol_25ms: 100%|██████████| 9119/9119 [02:11<00:00, 69.44it/s]\n"
     ]
    },
    {
     "name": "stdout",
     "output_type": "stream",
     "text": [
      "Processing directory: data\\noisy\\gaussian\\vox1_test_segments_snr_20_noisy_gaussian\n",
      "Processing with mean filter, window size 12ms\n"
     ]
    },
    {
     "name": "stderr",
     "output_type": "stream",
     "text": [
      "Processing gaussian SNR 20 with mean_12ms: 100%|██████████| 9119/9119 [02:10<00:00, 69.71it/s]\n"
     ]
    },
    {
     "name": "stdout",
     "output_type": "stream",
     "text": [
      "Processing with mean filter, window size 25ms\n"
     ]
    },
    {
     "name": "stderr",
     "output_type": "stream",
     "text": [
      "Processing gaussian SNR 20 with mean_25ms: 100%|██████████| 9119/9119 [01:18<00:00, 116.59it/s]\n"
     ]
    },
    {
     "name": "stdout",
     "output_type": "stream",
     "text": [
      "Processing with savgol filter, window size 12ms\n"
     ]
    },
    {
     "name": "stderr",
     "output_type": "stream",
     "text": [
      "Processing gaussian SNR 20 with savgol_12ms: 100%|██████████| 9119/9119 [01:21<00:00, 111.50it/s]\n"
     ]
    },
    {
     "name": "stdout",
     "output_type": "stream",
     "text": [
      "Processing with savgol filter, window size 25ms\n"
     ]
    },
    {
     "name": "stderr",
     "output_type": "stream",
     "text": [
      "Processing gaussian SNR 20 with savgol_25ms: 100%|██████████| 9119/9119 [02:11<00:00, 69.32it/s]\n"
     ]
    },
    {
     "name": "stdout",
     "output_type": "stream",
     "text": [
      "Processing directory: data\\noisy\\poisson\\vox1_test_segments_snr_0_noisy_poisson\n",
      "Processing with mean filter, window size 12ms\n"
     ]
    },
    {
     "name": "stderr",
     "output_type": "stream",
     "text": [
      "Processing poisson SNR 0 with mean_12ms: 100%|██████████| 9119/9119 [02:10<00:00, 69.95it/s]\n"
     ]
    },
    {
     "name": "stdout",
     "output_type": "stream",
     "text": [
      "Processing with mean filter, window size 25ms\n"
     ]
    },
    {
     "name": "stderr",
     "output_type": "stream",
     "text": [
      "Processing poisson SNR 0 with mean_25ms: 100%|██████████| 9119/9119 [01:18<00:00, 115.81it/s]\n"
     ]
    },
    {
     "name": "stdout",
     "output_type": "stream",
     "text": [
      "Processing with savgol filter, window size 12ms\n"
     ]
    },
    {
     "name": "stderr",
     "output_type": "stream",
     "text": [
      "Processing poisson SNR 0 with savgol_12ms: 100%|██████████| 9119/9119 [01:23<00:00, 109.66it/s]\n"
     ]
    },
    {
     "name": "stdout",
     "output_type": "stream",
     "text": [
      "Processing with savgol filter, window size 25ms\n"
     ]
    },
    {
     "name": "stderr",
     "output_type": "stream",
     "text": [
      "Processing poisson SNR 0 with savgol_25ms: 100%|██████████| 9119/9119 [02:11<00:00, 69.18it/s]\n"
     ]
    },
    {
     "name": "stdout",
     "output_type": "stream",
     "text": [
      "Processing directory: data\\noisy\\poisson\\vox1_test_segments_snr_5_noisy_poisson\n",
      "Processing with mean filter, window size 12ms\n"
     ]
    },
    {
     "name": "stderr",
     "output_type": "stream",
     "text": [
      "Processing poisson SNR 5 with mean_12ms: 100%|██████████| 9119/9119 [02:10<00:00, 69.71it/s]\n"
     ]
    },
    {
     "name": "stdout",
     "output_type": "stream",
     "text": [
      "Processing with mean filter, window size 25ms\n"
     ]
    },
    {
     "name": "stderr",
     "output_type": "stream",
     "text": [
      "Processing poisson SNR 5 with mean_25ms: 100%|██████████| 9119/9119 [01:18<00:00, 116.78it/s]\n"
     ]
    },
    {
     "name": "stdout",
     "output_type": "stream",
     "text": [
      "Processing with savgol filter, window size 12ms\n"
     ]
    },
    {
     "name": "stderr",
     "output_type": "stream",
     "text": [
      "Processing poisson SNR 5 with savgol_12ms: 100%|██████████| 9119/9119 [01:21<00:00, 111.52it/s]\n"
     ]
    },
    {
     "name": "stdout",
     "output_type": "stream",
     "text": [
      "Processing with savgol filter, window size 25ms\n"
     ]
    },
    {
     "name": "stderr",
     "output_type": "stream",
     "text": [
      "Processing poisson SNR 5 with savgol_25ms: 100%|██████████| 9119/9119 [02:11<00:00, 69.09it/s]\n"
     ]
    },
    {
     "name": "stdout",
     "output_type": "stream",
     "text": [
      "Processing directory: data\\noisy\\poisson\\vox1_test_segments_snr_10_noisy_poisson\n",
      "Processing with mean filter, window size 12ms\n"
     ]
    },
    {
     "name": "stderr",
     "output_type": "stream",
     "text": [
      "Processing poisson SNR 10 with mean_12ms: 100%|██████████| 9119/9119 [02:15<00:00, 67.31it/s]\n"
     ]
    },
    {
     "name": "stdout",
     "output_type": "stream",
     "text": [
      "Processing with mean filter, window size 25ms\n"
     ]
    },
    {
     "name": "stderr",
     "output_type": "stream",
     "text": [
      "Processing poisson SNR 10 with mean_25ms: 100%|██████████| 9119/9119 [01:30<00:00, 100.42it/s]\n"
     ]
    },
    {
     "name": "stdout",
     "output_type": "stream",
     "text": [
      "Processing with savgol filter, window size 12ms\n"
     ]
    },
    {
     "name": "stderr",
     "output_type": "stream",
     "text": [
      "Processing poisson SNR 10 with savgol_12ms: 100%|██████████| 9119/9119 [01:38<00:00, 92.88it/s] \n"
     ]
    },
    {
     "name": "stdout",
     "output_type": "stream",
     "text": [
      "Processing with savgol filter, window size 25ms\n"
     ]
    },
    {
     "name": "stderr",
     "output_type": "stream",
     "text": [
      "Processing poisson SNR 10 with savgol_25ms: 100%|██████████| 9119/9119 [02:27<00:00, 61.84it/s]\n"
     ]
    },
    {
     "name": "stdout",
     "output_type": "stream",
     "text": [
      "Processing directory: data\\noisy\\poisson\\vox1_test_segments_snr_15_noisy_poisson\n",
      "Processing with mean filter, window size 12ms\n"
     ]
    },
    {
     "name": "stderr",
     "output_type": "stream",
     "text": [
      "Processing poisson SNR 15 with mean_12ms: 100%|██████████| 9119/9119 [02:25<00:00, 62.53it/s]\n"
     ]
    },
    {
     "name": "stdout",
     "output_type": "stream",
     "text": [
      "Processing with mean filter, window size 25ms\n"
     ]
    },
    {
     "name": "stderr",
     "output_type": "stream",
     "text": [
      "Processing poisson SNR 15 with mean_25ms: 100%|██████████| 9119/9119 [01:32<00:00, 98.26it/s] \n"
     ]
    },
    {
     "name": "stdout",
     "output_type": "stream",
     "text": [
      "Processing with savgol filter, window size 12ms\n"
     ]
    },
    {
     "name": "stderr",
     "output_type": "stream",
     "text": [
      "Processing poisson SNR 15 with savgol_12ms: 100%|██████████| 9119/9119 [01:35<00:00, 95.86it/s] \n"
     ]
    },
    {
     "name": "stdout",
     "output_type": "stream",
     "text": [
      "Processing with savgol filter, window size 25ms\n"
     ]
    },
    {
     "name": "stderr",
     "output_type": "stream",
     "text": [
      "Processing poisson SNR 15 with savgol_25ms: 100%|██████████| 9119/9119 [02:26<00:00, 62.18it/s]\n"
     ]
    },
    {
     "name": "stdout",
     "output_type": "stream",
     "text": [
      "Processing directory: data\\noisy\\poisson\\vox1_test_segments_snr_20_noisy_poisson\n",
      "Processing with mean filter, window size 12ms\n"
     ]
    },
    {
     "name": "stderr",
     "output_type": "stream",
     "text": [
      "Processing poisson SNR 20 with mean_12ms: 100%|██████████| 9119/9119 [02:24<00:00, 62.98it/s]\n"
     ]
    },
    {
     "name": "stdout",
     "output_type": "stream",
     "text": [
      "Processing with mean filter, window size 25ms\n"
     ]
    },
    {
     "name": "stderr",
     "output_type": "stream",
     "text": [
      "Processing poisson SNR 20 with mean_25ms: 100%|██████████| 9119/9119 [01:33<00:00, 97.57it/s] \n"
     ]
    },
    {
     "name": "stdout",
     "output_type": "stream",
     "text": [
      "Processing with savgol filter, window size 12ms\n"
     ]
    },
    {
     "name": "stderr",
     "output_type": "stream",
     "text": [
      "Processing poisson SNR 20 with savgol_12ms: 100%|██████████| 9119/9119 [01:40<00:00, 91.06it/s] \n"
     ]
    },
    {
     "name": "stdout",
     "output_type": "stream",
     "text": [
      "Processing with savgol filter, window size 25ms\n"
     ]
    },
    {
     "name": "stderr",
     "output_type": "stream",
     "text": [
      "Processing poisson SNR 20 with savgol_25ms: 100%|██████████| 9119/9119 [02:24<00:00, 63.30it/s]\n"
     ]
    },
    {
     "name": "stdout",
     "output_type": "stream",
     "text": [
      "Processing directory: data\\noisy\\rayleigh\\vox1_test_segments_snr_0_noisy_rayleigh\n",
      "Processing with mean filter, window size 12ms\n"
     ]
    },
    {
     "name": "stderr",
     "output_type": "stream",
     "text": [
      "Processing rayleigh SNR 0 with mean_12ms: 100%|██████████| 9119/9119 [02:27<00:00, 61.68it/s]\n"
     ]
    },
    {
     "name": "stdout",
     "output_type": "stream",
     "text": [
      "Processing with mean filter, window size 25ms\n"
     ]
    },
    {
     "name": "stderr",
     "output_type": "stream",
     "text": [
      "Processing rayleigh SNR 0 with mean_25ms: 100%|██████████| 9119/9119 [01:35<00:00, 95.33it/s] \n"
     ]
    },
    {
     "name": "stdout",
     "output_type": "stream",
     "text": [
      "Processing with savgol filter, window size 12ms\n"
     ]
    },
    {
     "name": "stderr",
     "output_type": "stream",
     "text": [
      "Processing rayleigh SNR 0 with savgol_12ms: 100%|██████████| 9119/9119 [01:39<00:00, 91.26it/s] \n"
     ]
    },
    {
     "name": "stdout",
     "output_type": "stream",
     "text": [
      "Processing with savgol filter, window size 25ms\n"
     ]
    },
    {
     "name": "stderr",
     "output_type": "stream",
     "text": [
      "Processing rayleigh SNR 0 with savgol_25ms: 100%|██████████| 9119/9119 [02:38<00:00, 57.44it/s]\n"
     ]
    },
    {
     "name": "stdout",
     "output_type": "stream",
     "text": [
      "Processing directory: data\\noisy\\rayleigh\\vox1_test_segments_snr_5_noisy_rayleigh\n",
      "Processing with mean filter, window size 12ms\n"
     ]
    },
    {
     "name": "stderr",
     "output_type": "stream",
     "text": [
      "Processing rayleigh SNR 5 with mean_12ms: 100%|██████████| 9119/9119 [02:26<00:00, 62.30it/s]\n"
     ]
    },
    {
     "name": "stdout",
     "output_type": "stream",
     "text": [
      "Processing with mean filter, window size 25ms\n"
     ]
    },
    {
     "name": "stderr",
     "output_type": "stream",
     "text": [
      "Processing rayleigh SNR 5 with mean_25ms: 100%|██████████| 9119/9119 [01:32<00:00, 98.86it/s] \n"
     ]
    },
    {
     "name": "stdout",
     "output_type": "stream",
     "text": [
      "Processing with savgol filter, window size 12ms\n"
     ]
    },
    {
     "name": "stderr",
     "output_type": "stream",
     "text": [
      "Processing rayleigh SNR 5 with savgol_12ms: 100%|██████████| 9119/9119 [01:38<00:00, 92.63it/s] \n"
     ]
    },
    {
     "name": "stdout",
     "output_type": "stream",
     "text": [
      "Processing with savgol filter, window size 25ms\n"
     ]
    },
    {
     "name": "stderr",
     "output_type": "stream",
     "text": [
      "Processing rayleigh SNR 5 with savgol_25ms: 100%|██████████| 9119/9119 [02:25<00:00, 62.65it/s]\n"
     ]
    },
    {
     "name": "stdout",
     "output_type": "stream",
     "text": [
      "Processing directory: data\\noisy\\rayleigh\\vox1_test_segments_snr_10_noisy_rayleigh\n",
      "Processing with mean filter, window size 12ms\n"
     ]
    },
    {
     "name": "stderr",
     "output_type": "stream",
     "text": [
      "Processing rayleigh SNR 10 with mean_12ms: 100%|██████████| 9119/9119 [02:21<00:00, 64.34it/s]\n"
     ]
    },
    {
     "name": "stdout",
     "output_type": "stream",
     "text": [
      "Processing with mean filter, window size 25ms\n"
     ]
    },
    {
     "name": "stderr",
     "output_type": "stream",
     "text": [
      "Processing rayleigh SNR 10 with mean_25ms: 100%|██████████| 9119/9119 [01:34<00:00, 96.14it/s] \n"
     ]
    },
    {
     "name": "stdout",
     "output_type": "stream",
     "text": [
      "Processing with savgol filter, window size 12ms\n"
     ]
    },
    {
     "name": "stderr",
     "output_type": "stream",
     "text": [
      "Processing rayleigh SNR 10 with savgol_12ms: 100%|██████████| 9119/9119 [01:37<00:00, 93.61it/s] \n"
     ]
    },
    {
     "name": "stdout",
     "output_type": "stream",
     "text": [
      "Processing with savgol filter, window size 25ms\n"
     ]
    },
    {
     "name": "stderr",
     "output_type": "stream",
     "text": [
      "Processing rayleigh SNR 10 with savgol_25ms: 100%|██████████| 9119/9119 [02:26<00:00, 62.04it/s]\n"
     ]
    },
    {
     "name": "stdout",
     "output_type": "stream",
     "text": [
      "Processing directory: data\\noisy\\rayleigh\\vox1_test_segments_snr_15_noisy_rayleigh\n",
      "Processing with mean filter, window size 12ms\n"
     ]
    },
    {
     "name": "stderr",
     "output_type": "stream",
     "text": [
      "Processing rayleigh SNR 15 with mean_12ms: 100%|██████████| 9119/9119 [02:23<00:00, 63.56it/s]\n"
     ]
    },
    {
     "name": "stdout",
     "output_type": "stream",
     "text": [
      "Processing with mean filter, window size 25ms\n"
     ]
    },
    {
     "name": "stderr",
     "output_type": "stream",
     "text": [
      "Processing rayleigh SNR 15 with mean_25ms: 100%|██████████| 9119/9119 [01:36<00:00, 94.60it/s] \n"
     ]
    },
    {
     "name": "stdout",
     "output_type": "stream",
     "text": [
      "Processing with savgol filter, window size 12ms\n"
     ]
    },
    {
     "name": "stderr",
     "output_type": "stream",
     "text": [
      "Processing rayleigh SNR 15 with savgol_12ms: 100%|██████████| 9119/9119 [01:39<00:00, 91.45it/s] \n"
     ]
    },
    {
     "name": "stdout",
     "output_type": "stream",
     "text": [
      "Processing with savgol filter, window size 25ms\n"
     ]
    },
    {
     "name": "stderr",
     "output_type": "stream",
     "text": [
      "Processing rayleigh SNR 15 with savgol_25ms: 100%|██████████| 9119/9119 [02:25<00:00, 62.48it/s]\n"
     ]
    },
    {
     "name": "stdout",
     "output_type": "stream",
     "text": [
      "Processing directory: data\\noisy\\rayleigh\\vox1_test_segments_snr_20_noisy_rayleigh\n",
      "Processing with mean filter, window size 12ms\n"
     ]
    },
    {
     "name": "stderr",
     "output_type": "stream",
     "text": [
      "Processing rayleigh SNR 20 with mean_12ms: 100%|██████████| 9119/9119 [02:23<00:00, 63.75it/s]\n"
     ]
    },
    {
     "name": "stdout",
     "output_type": "stream",
     "text": [
      "Processing with mean filter, window size 25ms\n"
     ]
    },
    {
     "name": "stderr",
     "output_type": "stream",
     "text": [
      "Processing rayleigh SNR 20 with mean_25ms: 100%|██████████| 9119/9119 [01:35<00:00, 95.50it/s] \n"
     ]
    },
    {
     "name": "stdout",
     "output_type": "stream",
     "text": [
      "Processing with savgol filter, window size 12ms\n"
     ]
    },
    {
     "name": "stderr",
     "output_type": "stream",
     "text": [
      "Processing rayleigh SNR 20 with savgol_12ms: 100%|██████████| 9119/9119 [01:38<00:00, 92.95it/s] \n"
     ]
    },
    {
     "name": "stdout",
     "output_type": "stream",
     "text": [
      "Processing with savgol filter, window size 25ms\n"
     ]
    },
    {
     "name": "stderr",
     "output_type": "stream",
     "text": [
      "Processing rayleigh SNR 20 with savgol_25ms: 100%|██████████| 9119/9119 [02:27<00:00, 61.97it/s]\n"
     ]
    },
    {
     "name": "stdout",
     "output_type": "stream",
     "text": [
      "Processing directory: data\\noisy_bg\\vox1_test_wav_bq_noise\\AirConditioner\\vox1_test_wav_snr_0_AirConditioner\n",
      "Processing with mean filter, window size 12ms\n"
     ]
    },
    {
     "name": "stderr",
     "output_type": "stream",
     "text": [
      "Processing AirConditioner SNR 0 with mean_12ms: 100%|██████████| 9119/9119 [02:23<00:00, 63.36it/s]\n"
     ]
    },
    {
     "name": "stdout",
     "output_type": "stream",
     "text": [
      "Processing with mean filter, window size 25ms\n"
     ]
    },
    {
     "name": "stderr",
     "output_type": "stream",
     "text": [
      "Processing AirConditioner SNR 0 with mean_25ms: 100%|██████████| 9119/9119 [01:35<00:00, 95.01it/s] \n"
     ]
    },
    {
     "name": "stdout",
     "output_type": "stream",
     "text": [
      "Processing with savgol filter, window size 12ms\n"
     ]
    },
    {
     "name": "stderr",
     "output_type": "stream",
     "text": [
      "Processing AirConditioner SNR 0 with savgol_12ms: 100%|██████████| 9119/9119 [01:38<00:00, 93.03it/s]\n"
     ]
    },
    {
     "name": "stdout",
     "output_type": "stream",
     "text": [
      "Processing with savgol filter, window size 25ms\n"
     ]
    },
    {
     "name": "stderr",
     "output_type": "stream",
     "text": [
      "Processing AirConditioner SNR 0 with savgol_25ms: 100%|██████████| 9119/9119 [02:26<00:00, 62.11it/s]\n"
     ]
    },
    {
     "name": "stdout",
     "output_type": "stream",
     "text": [
      "Processing directory: data\\noisy_bg\\vox1_test_wav_bq_noise\\AirConditioner\\vox1_test_wav_snr_5_AirConditioner\n",
      "Processing with mean filter, window size 12ms\n"
     ]
    },
    {
     "name": "stderr",
     "output_type": "stream",
     "text": [
      "Processing AirConditioner SNR 5 with mean_12ms: 100%|██████████| 9119/9119 [02:24<00:00, 63.03it/s]\n"
     ]
    },
    {
     "name": "stdout",
     "output_type": "stream",
     "text": [
      "Processing with mean filter, window size 25ms\n"
     ]
    },
    {
     "name": "stderr",
     "output_type": "stream",
     "text": [
      "Processing AirConditioner SNR 5 with mean_25ms: 100%|██████████| 9119/9119 [01:36<00:00, 94.60it/s] \n"
     ]
    },
    {
     "name": "stdout",
     "output_type": "stream",
     "text": [
      "Processing with savgol filter, window size 12ms\n"
     ]
    },
    {
     "name": "stderr",
     "output_type": "stream",
     "text": [
      "Processing AirConditioner SNR 5 with savgol_12ms: 100%|██████████| 9119/9119 [01:40<00:00, 91.11it/s]\n"
     ]
    },
    {
     "name": "stdout",
     "output_type": "stream",
     "text": [
      "Processing with savgol filter, window size 25ms\n"
     ]
    },
    {
     "name": "stderr",
     "output_type": "stream",
     "text": [
      "Processing AirConditioner SNR 5 with savgol_25ms: 100%|██████████| 9119/9119 [02:27<00:00, 61.64it/s]\n"
     ]
    },
    {
     "name": "stdout",
     "output_type": "stream",
     "text": [
      "Processing directory: data\\noisy_bg\\vox1_test_wav_bq_noise\\AirConditioner\\vox1_test_wav_snr_10_AirConditioner\n",
      "Processing with mean filter, window size 12ms\n"
     ]
    },
    {
     "name": "stderr",
     "output_type": "stream",
     "text": [
      "Processing AirConditioner SNR 10 with mean_12ms: 100%|██████████| 9119/9119 [02:26<00:00, 62.15it/s]\n"
     ]
    },
    {
     "name": "stdout",
     "output_type": "stream",
     "text": [
      "Processing with mean filter, window size 25ms\n"
     ]
    },
    {
     "name": "stderr",
     "output_type": "stream",
     "text": [
      "Processing AirConditioner SNR 10 with mean_25ms: 100%|██████████| 9119/9119 [01:36<00:00, 94.64it/s] \n"
     ]
    },
    {
     "name": "stdout",
     "output_type": "stream",
     "text": [
      "Processing with savgol filter, window size 12ms\n"
     ]
    },
    {
     "name": "stderr",
     "output_type": "stream",
     "text": [
      "Processing AirConditioner SNR 10 with savgol_12ms: 100%|██████████| 9119/9119 [01:41<00:00, 89.92it/s]\n"
     ]
    },
    {
     "name": "stdout",
     "output_type": "stream",
     "text": [
      "Processing with savgol filter, window size 25ms\n"
     ]
    },
    {
     "name": "stderr",
     "output_type": "stream",
     "text": [
      "Processing AirConditioner SNR 10 with savgol_25ms: 100%|██████████| 9119/9119 [02:27<00:00, 61.63it/s]\n"
     ]
    },
    {
     "name": "stdout",
     "output_type": "stream",
     "text": [
      "Processing directory: data\\noisy_bg\\vox1_test_wav_bq_noise\\AirConditioner\\vox1_test_wav_snr_15_AirConditioner\n",
      "Processing with mean filter, window size 12ms\n"
     ]
    },
    {
     "name": "stderr",
     "output_type": "stream",
     "text": [
      "Processing AirConditioner SNR 15 with mean_12ms: 100%|██████████| 9119/9119 [02:25<00:00, 62.88it/s]\n"
     ]
    },
    {
     "name": "stdout",
     "output_type": "stream",
     "text": [
      "Processing with mean filter, window size 25ms\n"
     ]
    },
    {
     "name": "stderr",
     "output_type": "stream",
     "text": [
      "Processing AirConditioner SNR 15 with mean_25ms: 100%|██████████| 9119/9119 [01:34<00:00, 96.92it/s] \n"
     ]
    },
    {
     "name": "stdout",
     "output_type": "stream",
     "text": [
      "Processing with savgol filter, window size 12ms\n"
     ]
    },
    {
     "name": "stderr",
     "output_type": "stream",
     "text": [
      "Processing AirConditioner SNR 15 with savgol_12ms: 100%|██████████| 9119/9119 [01:39<00:00, 91.20it/s]\n"
     ]
    },
    {
     "name": "stdout",
     "output_type": "stream",
     "text": [
      "Processing with savgol filter, window size 25ms\n"
     ]
    },
    {
     "name": "stderr",
     "output_type": "stream",
     "text": [
      "Processing AirConditioner SNR 15 with savgol_25ms: 100%|██████████| 9119/9119 [02:28<00:00, 61.58it/s]\n"
     ]
    },
    {
     "name": "stdout",
     "output_type": "stream",
     "text": [
      "Processing directory: data\\noisy_bg\\vox1_test_wav_bq_noise\\AirConditioner\\vox1_test_wav_snr_20_AirConditioner\n",
      "Processing with mean filter, window size 12ms\n"
     ]
    },
    {
     "name": "stderr",
     "output_type": "stream",
     "text": [
      "Processing AirConditioner SNR 20 with mean_12ms: 100%|██████████| 9119/9119 [02:26<00:00, 62.35it/s]\n"
     ]
    },
    {
     "name": "stdout",
     "output_type": "stream",
     "text": [
      "Processing with mean filter, window size 25ms\n"
     ]
    },
    {
     "name": "stderr",
     "output_type": "stream",
     "text": [
      "Processing AirConditioner SNR 20 with mean_25ms: 100%|██████████| 9119/9119 [01:39<00:00, 91.81it/s] \n"
     ]
    },
    {
     "name": "stdout",
     "output_type": "stream",
     "text": [
      "Processing with savgol filter, window size 12ms\n"
     ]
    },
    {
     "name": "stderr",
     "output_type": "stream",
     "text": [
      "Processing AirConditioner SNR 20 with savgol_12ms: 100%|██████████| 9119/9119 [01:39<00:00, 91.72it/s]\n"
     ]
    },
    {
     "name": "stdout",
     "output_type": "stream",
     "text": [
      "Processing with savgol filter, window size 25ms\n"
     ]
    },
    {
     "name": "stderr",
     "output_type": "stream",
     "text": [
      "Processing AirConditioner SNR 20 with savgol_25ms: 100%|██████████| 9119/9119 [02:29<00:00, 61.13it/s]\n"
     ]
    },
    {
     "name": "stdout",
     "output_type": "stream",
     "text": [
      "Processing directory: data\\noisy_bg\\vox1_test_wav_bq_noise\\Babble\\vox1_test_wav_snr_0_Babble\n",
      "Processing with mean filter, window size 12ms\n"
     ]
    },
    {
     "name": "stderr",
     "output_type": "stream",
     "text": [
      "Processing Babble SNR 0 with mean_12ms: 100%|██████████| 9119/9119 [02:26<00:00, 62.35it/s]\n"
     ]
    },
    {
     "name": "stdout",
     "output_type": "stream",
     "text": [
      "Processing with mean filter, window size 25ms\n"
     ]
    },
    {
     "name": "stderr",
     "output_type": "stream",
     "text": [
      "Processing Babble SNR 0 with mean_25ms: 100%|██████████| 9119/9119 [01:38<00:00, 92.57it/s] \n"
     ]
    },
    {
     "name": "stdout",
     "output_type": "stream",
     "text": [
      "Processing with savgol filter, window size 12ms\n"
     ]
    },
    {
     "name": "stderr",
     "output_type": "stream",
     "text": [
      "Processing Babble SNR 0 with savgol_12ms: 100%|██████████| 9119/9119 [01:39<00:00, 91.88it/s]\n"
     ]
    },
    {
     "name": "stdout",
     "output_type": "stream",
     "text": [
      "Processing with savgol filter, window size 25ms\n"
     ]
    },
    {
     "name": "stderr",
     "output_type": "stream",
     "text": [
      "Processing Babble SNR 0 with savgol_25ms: 100%|██████████| 9119/9119 [02:26<00:00, 62.13it/s]\n"
     ]
    },
    {
     "name": "stdout",
     "output_type": "stream",
     "text": [
      "Processing directory: data\\noisy_bg\\vox1_test_wav_bq_noise\\Babble\\vox1_test_wav_snr_5_Babble\n",
      "Processing with mean filter, window size 12ms\n"
     ]
    },
    {
     "name": "stderr",
     "output_type": "stream",
     "text": [
      "Processing Babble SNR 5 with mean_12ms: 100%|██████████| 9119/9119 [02:23<00:00, 63.35it/s]\n"
     ]
    },
    {
     "name": "stdout",
     "output_type": "stream",
     "text": [
      "Processing with mean filter, window size 25ms\n"
     ]
    },
    {
     "name": "stderr",
     "output_type": "stream",
     "text": [
      "Processing Babble SNR 5 with mean_25ms: 100%|██████████| 9119/9119 [01:33<00:00, 97.42it/s] \n"
     ]
    },
    {
     "name": "stdout",
     "output_type": "stream",
     "text": [
      "Processing with savgol filter, window size 12ms\n"
     ]
    },
    {
     "name": "stderr",
     "output_type": "stream",
     "text": [
      "Processing Babble SNR 5 with savgol_12ms: 100%|██████████| 9119/9119 [01:35<00:00, 95.33it/s] \n"
     ]
    },
    {
     "name": "stdout",
     "output_type": "stream",
     "text": [
      "Processing with savgol filter, window size 25ms\n"
     ]
    },
    {
     "name": "stderr",
     "output_type": "stream",
     "text": [
      "Processing Babble SNR 5 with savgol_25ms: 100%|██████████| 9119/9119 [02:25<00:00, 62.85it/s]\n"
     ]
    },
    {
     "name": "stdout",
     "output_type": "stream",
     "text": [
      "Processing directory: data\\noisy_bg\\vox1_test_wav_bq_noise\\Babble\\vox1_test_wav_snr_10_Babble\n",
      "Processing with mean filter, window size 12ms\n"
     ]
    },
    {
     "name": "stderr",
     "output_type": "stream",
     "text": [
      "Processing Babble SNR 10 with mean_12ms: 100%|██████████| 9119/9119 [02:22<00:00, 64.14it/s]\n"
     ]
    },
    {
     "name": "stdout",
     "output_type": "stream",
     "text": [
      "Processing with mean filter, window size 25ms\n"
     ]
    },
    {
     "name": "stderr",
     "output_type": "stream",
     "text": [
      "Processing Babble SNR 10 with mean_25ms: 100%|██████████| 9119/9119 [01:35<00:00, 95.84it/s] \n"
     ]
    },
    {
     "name": "stdout",
     "output_type": "stream",
     "text": [
      "Processing with savgol filter, window size 12ms\n"
     ]
    },
    {
     "name": "stderr",
     "output_type": "stream",
     "text": [
      "Processing Babble SNR 10 with savgol_12ms: 100%|██████████| 9119/9119 [01:35<00:00, 95.67it/s]\n"
     ]
    },
    {
     "name": "stdout",
     "output_type": "stream",
     "text": [
      "Processing with savgol filter, window size 25ms\n"
     ]
    },
    {
     "name": "stderr",
     "output_type": "stream",
     "text": [
      "Processing Babble SNR 10 with savgol_25ms: 100%|██████████| 9119/9119 [02:25<00:00, 62.76it/s]\n"
     ]
    },
    {
     "name": "stdout",
     "output_type": "stream",
     "text": [
      "Processing directory: data\\noisy_bg\\vox1_test_wav_bq_noise\\Babble\\vox1_test_wav_snr_15_Babble\n",
      "Processing with mean filter, window size 12ms\n"
     ]
    },
    {
     "name": "stderr",
     "output_type": "stream",
     "text": [
      "Processing Babble SNR 15 with mean_12ms: 100%|██████████| 9119/9119 [02:23<00:00, 63.73it/s]\n"
     ]
    },
    {
     "name": "stdout",
     "output_type": "stream",
     "text": [
      "Processing with mean filter, window size 25ms\n"
     ]
    },
    {
     "name": "stderr",
     "output_type": "stream",
     "text": [
      "Processing Babble SNR 15 with mean_25ms: 100%|██████████| 9119/9119 [01:34<00:00, 96.71it/s] \n"
     ]
    },
    {
     "name": "stdout",
     "output_type": "stream",
     "text": [
      "Processing with savgol filter, window size 12ms\n"
     ]
    },
    {
     "name": "stderr",
     "output_type": "stream",
     "text": [
      "Processing Babble SNR 15 with savgol_12ms: 100%|██████████| 9119/9119 [01:36<00:00, 94.89it/s]\n"
     ]
    },
    {
     "name": "stdout",
     "output_type": "stream",
     "text": [
      "Processing with savgol filter, window size 25ms\n"
     ]
    },
    {
     "name": "stderr",
     "output_type": "stream",
     "text": [
      "Processing Babble SNR 15 with savgol_25ms: 100%|██████████| 9119/9119 [02:24<00:00, 62.89it/s]\n"
     ]
    },
    {
     "name": "stdout",
     "output_type": "stream",
     "text": [
      "Processing directory: data\\noisy_bg\\vox1_test_wav_bq_noise\\Babble\\vox1_test_wav_snr_20_Babble\n",
      "Processing with mean filter, window size 12ms\n"
     ]
    },
    {
     "name": "stderr",
     "output_type": "stream",
     "text": [
      "Processing Babble SNR 20 with mean_12ms: 100%|██████████| 9119/9119 [02:21<00:00, 64.31it/s]\n"
     ]
    },
    {
     "name": "stdout",
     "output_type": "stream",
     "text": [
      "Processing with mean filter, window size 25ms\n"
     ]
    },
    {
     "name": "stderr",
     "output_type": "stream",
     "text": [
      "Processing Babble SNR 20 with mean_25ms: 100%|██████████| 9119/9119 [01:32<00:00, 98.52it/s] \n"
     ]
    },
    {
     "name": "stdout",
     "output_type": "stream",
     "text": [
      "Processing with savgol filter, window size 12ms\n"
     ]
    },
    {
     "name": "stderr",
     "output_type": "stream",
     "text": [
      "Processing Babble SNR 20 with savgol_12ms: 100%|██████████| 9119/9119 [01:35<00:00, 95.86it/s] \n"
     ]
    },
    {
     "name": "stdout",
     "output_type": "stream",
     "text": [
      "Processing with savgol filter, window size 25ms\n"
     ]
    },
    {
     "name": "stderr",
     "output_type": "stream",
     "text": [
      "Processing Babble SNR 20 with savgol_25ms: 100%|██████████| 9119/9119 [02:25<00:00, 62.65it/s]\n"
     ]
    },
    {
     "name": "stdout",
     "output_type": "stream",
     "text": [
      "Processing directory: data\\noisy_bg\\vox1_test_wav_bq_noise\\Neighbor\\vox1_test_wav_snr_0_Neighbor\n",
      "Processing with mean filter, window size 12ms\n"
     ]
    },
    {
     "name": "stderr",
     "output_type": "stream",
     "text": [
      "Processing Neighbor SNR 0 with mean_12ms: 100%|██████████| 9119/9119 [02:21<00:00, 64.24it/s]\n"
     ]
    },
    {
     "name": "stdout",
     "output_type": "stream",
     "text": [
      "Processing with mean filter, window size 25ms\n"
     ]
    },
    {
     "name": "stderr",
     "output_type": "stream",
     "text": [
      "Processing Neighbor SNR 0 with mean_25ms: 100%|██████████| 9119/9119 [01:31<00:00, 99.49it/s] \n"
     ]
    },
    {
     "name": "stdout",
     "output_type": "stream",
     "text": [
      "Processing with savgol filter, window size 12ms\n"
     ]
    },
    {
     "name": "stderr",
     "output_type": "stream",
     "text": [
      "Processing Neighbor SNR 0 with savgol_12ms: 100%|██████████| 9119/9119 [01:36<00:00, 94.54it/s]\n"
     ]
    },
    {
     "name": "stdout",
     "output_type": "stream",
     "text": [
      "Processing with savgol filter, window size 25ms\n"
     ]
    },
    {
     "name": "stderr",
     "output_type": "stream",
     "text": [
      "Processing Neighbor SNR 0 with savgol_25ms: 100%|██████████| 9119/9119 [02:24<00:00, 63.05it/s]\n"
     ]
    },
    {
     "name": "stdout",
     "output_type": "stream",
     "text": [
      "Processing directory: data\\noisy_bg\\vox1_test_wav_bq_noise\\Neighbor\\vox1_test_wav_snr_5_Neighbor\n",
      "Processing with mean filter, window size 12ms\n"
     ]
    },
    {
     "name": "stderr",
     "output_type": "stream",
     "text": [
      "Processing Neighbor SNR 5 with mean_12ms: 100%|██████████| 9119/9119 [02:23<00:00, 63.44it/s]\n"
     ]
    },
    {
     "name": "stdout",
     "output_type": "stream",
     "text": [
      "Processing with mean filter, window size 25ms\n"
     ]
    },
    {
     "name": "stderr",
     "output_type": "stream",
     "text": [
      "Processing Neighbor SNR 5 with mean_25ms: 100%|██████████| 9119/9119 [01:33<00:00, 97.62it/s] \n"
     ]
    },
    {
     "name": "stdout",
     "output_type": "stream",
     "text": [
      "Processing with savgol filter, window size 12ms\n"
     ]
    },
    {
     "name": "stderr",
     "output_type": "stream",
     "text": [
      "Processing Neighbor SNR 5 with savgol_12ms: 100%|██████████| 9119/9119 [01:38<00:00, 92.57it/s] \n"
     ]
    },
    {
     "name": "stdout",
     "output_type": "stream",
     "text": [
      "Processing with savgol filter, window size 25ms\n"
     ]
    },
    {
     "name": "stderr",
     "output_type": "stream",
     "text": [
      "Processing Neighbor SNR 5 with savgol_25ms: 100%|██████████| 9119/9119 [02:27<00:00, 61.98it/s]\n"
     ]
    },
    {
     "name": "stdout",
     "output_type": "stream",
     "text": [
      "Processing directory: data\\noisy_bg\\vox1_test_wav_bq_noise\\Neighbor\\vox1_test_wav_snr_10_Neighbor\n",
      "Processing with mean filter, window size 12ms\n"
     ]
    },
    {
     "name": "stderr",
     "output_type": "stream",
     "text": [
      "Processing Neighbor SNR 10 with mean_12ms: 100%|██████████| 9119/9119 [02:24<00:00, 63.15it/s]\n"
     ]
    },
    {
     "name": "stdout",
     "output_type": "stream",
     "text": [
      "Processing with mean filter, window size 25ms\n"
     ]
    },
    {
     "name": "stderr",
     "output_type": "stream",
     "text": [
      "Processing Neighbor SNR 10 with mean_25ms: 100%|██████████| 9119/9119 [01:33<00:00, 97.96it/s] \n"
     ]
    },
    {
     "name": "stdout",
     "output_type": "stream",
     "text": [
      "Processing with savgol filter, window size 12ms\n"
     ]
    },
    {
     "name": "stderr",
     "output_type": "stream",
     "text": [
      "Processing Neighbor SNR 10 with savgol_12ms: 100%|██████████| 9119/9119 [01:36<00:00, 94.14it/s]\n"
     ]
    },
    {
     "name": "stdout",
     "output_type": "stream",
     "text": [
      "Processing with savgol filter, window size 25ms\n"
     ]
    },
    {
     "name": "stderr",
     "output_type": "stream",
     "text": [
      "Processing Neighbor SNR 10 with savgol_25ms: 100%|██████████| 9119/9119 [02:25<00:00, 62.68it/s]\n"
     ]
    },
    {
     "name": "stdout",
     "output_type": "stream",
     "text": [
      "Processing directory: data\\noisy_bg\\vox1_test_wav_bq_noise\\Neighbor\\vox1_test_wav_snr_15_Neighbor\n",
      "Processing with mean filter, window size 12ms\n"
     ]
    },
    {
     "name": "stderr",
     "output_type": "stream",
     "text": [
      "Processing Neighbor SNR 15 with mean_12ms: 100%|██████████| 9119/9119 [02:21<00:00, 64.37it/s]\n"
     ]
    },
    {
     "name": "stdout",
     "output_type": "stream",
     "text": [
      "Processing with mean filter, window size 25ms\n"
     ]
    },
    {
     "name": "stderr",
     "output_type": "stream",
     "text": [
      "Processing Neighbor SNR 15 with mean_25ms: 100%|██████████| 9119/9119 [01:32<00:00, 98.20it/s] \n"
     ]
    },
    {
     "name": "stdout",
     "output_type": "stream",
     "text": [
      "Processing with savgol filter, window size 12ms\n"
     ]
    },
    {
     "name": "stderr",
     "output_type": "stream",
     "text": [
      "Processing Neighbor SNR 15 with savgol_12ms: 100%|██████████| 9119/9119 [01:36<00:00, 94.34it/s]\n"
     ]
    },
    {
     "name": "stdout",
     "output_type": "stream",
     "text": [
      "Processing with savgol filter, window size 25ms\n"
     ]
    },
    {
     "name": "stderr",
     "output_type": "stream",
     "text": [
      "Processing Neighbor SNR 15 with savgol_25ms: 100%|██████████| 9119/9119 [02:25<00:00, 62.66it/s]\n"
     ]
    },
    {
     "name": "stdout",
     "output_type": "stream",
     "text": [
      "Processing directory: data\\noisy_bg\\vox1_test_wav_bq_noise\\Neighbor\\vox1_test_wav_snr_20_Neighbor\n",
      "Processing with mean filter, window size 12ms\n"
     ]
    },
    {
     "name": "stderr",
     "output_type": "stream",
     "text": [
      "Processing Neighbor SNR 20 with mean_12ms: 100%|██████████| 9119/9119 [02:23<00:00, 63.43it/s]\n"
     ]
    },
    {
     "name": "stdout",
     "output_type": "stream",
     "text": [
      "Processing with mean filter, window size 25ms\n"
     ]
    },
    {
     "name": "stderr",
     "output_type": "stream",
     "text": [
      "Processing Neighbor SNR 20 with mean_25ms: 100%|██████████| 9119/9119 [01:34<00:00, 96.99it/s] \n"
     ]
    },
    {
     "name": "stdout",
     "output_type": "stream",
     "text": [
      "Processing with savgol filter, window size 12ms\n"
     ]
    },
    {
     "name": "stderr",
     "output_type": "stream",
     "text": [
      "Processing Neighbor SNR 20 with savgol_12ms: 100%|██████████| 9119/9119 [01:38<00:00, 92.67it/s]\n"
     ]
    },
    {
     "name": "stdout",
     "output_type": "stream",
     "text": [
      "Processing with savgol filter, window size 25ms\n"
     ]
    },
    {
     "name": "stderr",
     "output_type": "stream",
     "text": [
      "Processing Neighbor SNR 20 with savgol_25ms: 100%|██████████| 9119/9119 [02:27<00:00, 61.69it/s]"
     ]
    },
    {
     "name": "stdout",
     "output_type": "stream",
     "text": [
      "Processing complete!\n"
     ]
    },
    {
     "name": "stderr",
     "output_type": "stream",
     "text": [
      "\n"
     ]
    }
   ],
   "source": [
    "import os\n",
    "import torch\n",
    "import torchaudio\n",
    "import pandas as pd\n",
    "import numpy as np\n",
    "from tqdm import tqdm\n",
    "from scipy import signal\n",
    "import matplotlib.pyplot as plt\n",
    "\n",
    "# Change to root directory\n",
    "os.chdir(\"..\")\n",
    "from src.utils import *\n",
    "\n",
    "print(\"Current Working Directory:\", os.getcwd())\n",
    "\n",
    "# Define filter types and window sizes to use\n",
    "filter_types = [\"mean\", \"savgol\"]\n",
    "window_sizes = [12, 25]  # in milliseconds\n",
    "    \n",
    "# Setup data paths\n",
    "data_dir = \"data\"\n",
    "data_type = \"noisy\"\n",
    "noise_types = [\"gaussian\", \"poisson\", \"rayleigh\"]\n",
    "snrs = [0, 5, 10, 15, 20]\n",
    "output_subdir = \"window_smoothing\"\n",
    "\n",
    "\n",
    "# Create a function to process and filter the dataset\n",
    "def process_dataset_with_window_filter(\n",
    "    noisy_dataset, data_dir, subdir, noise_type, snr, filter_type, window_size\n",
    "):\n",
    "    \"\"\"\n",
    "    Process a dataset applying a window filter and save the results\n",
    "\n",
    "    Args:\n",
    "        noisy_dataset: DataFrame containing paths to noisy audio files\n",
    "        data_dir: Root data directory\n",
    "        subdir: Output subdirectory\n",
    "        noise_type: Type of noise in the dataset\n",
    "        filter_type: Type of filter to apply ('gaussian' or 'median')\n",
    "        window_size: Size of the filter window in milliseconds\n",
    "    \"\"\"\n",
    "    dataset_name = f\"vox1_test_wav_snr_{snr}_{noise_type}\"\n",
    "    output_dir = os.path.join(\n",
    "        data_dir, subdir, f\"filter_{filter_type}_{window_size}ms\", noise_type, dataset_name\n",
    "    )\n",
    "    os.makedirs(output_dir, exist_ok=True)\n",
    "\n",
    "    print(f\"Processing with {filter_type} filter, window size {window_size}ms\")\n",
    "\n",
    "    for index, row in tqdm(\n",
    "        noisy_dataset.iterrows(),\n",
    "        total=noisy_dataset.shape[0],\n",
    "        desc=f\"Processing {noise_type} SNR {snr} with {filter_type}_{window_size}ms\",\n",
    "    ):\n",
    "        noisy_path = row[\"path\"]\n",
    "\n",
    "        # Load audio\n",
    "        audio, sample_rate = torchaudio.load(noisy_path)\n",
    "\n",
    "        # Apply window filter\n",
    "        filtered_audio = apply_window_filter(\n",
    "            audio, filter_type, window_size, sample_rate\n",
    "        )\n",
    "\n",
    "        # Create output directory structure\n",
    "        person_subdir = os.path.join(output_dir, row[\"person_id\"])\n",
    "        os.makedirs(person_subdir, exist_ok=True)\n",
    "\n",
    "        # Save filtered audio\n",
    "        filtered_audio_path = os.path.join(person_subdir, os.path.basename(noisy_path))\n",
    "        torchaudio.save(filtered_audio_path, filtered_audio, sample_rate)\n",
    "\n",
    "\n",
    "# Process all datasets with all filter combinations\n",
    "for noise_type in noise_types:\n",
    "    for snr in snrs:\n",
    "        dataset_name = f\"vox1_test_segments_snr_{snr}_noisy_{noise_type}\"\n",
    "\n",
    "        noisy_dt_path = os.path.join(data_dir, data_type, noise_type, dataset_name)\n",
    "        if not os.path.exists(noisy_dt_path):\n",
    "            print(f\"Directory {noisy_dt_path} does not exist\")\n",
    "            continue\n",
    "\n",
    "        print(f\"Processing directory: {noisy_dt_path}\")\n",
    "        noisy_dataset = scan_directory_voxceleb2(noisy_dt_path)\n",
    "\n",
    "        for filter_type in filter_types:\n",
    "            for window_size in window_sizes:\n",
    "                process_dataset_with_window_filter(\n",
    "                    noisy_dataset,\n",
    "                    data_dir,\n",
    "                    output_subdir,\n",
    "                    noise_type,\n",
    "                    snr,    \n",
    "                    filter_type,\n",
    "                    window_size,\n",
    "                )\n",
    "\n",
    "# Process background noise datasets as well\n",
    "noise_types = [\"AirConditioner\", \"Babble\", \"Neighbor\"]\n",
    "data_type = \"noisy_bg\\\\vox1_test_wav_bq_noise\"\n",
    "\n",
    "for noise_type in noise_types:\n",
    "    for snr in snrs:\n",
    "        dataset_name = f\"vox1_test_wav_snr_{snr}_{noise_type}\"\n",
    "\n",
    "        noisy_dt_path = os.path.join(data_dir, data_type, noise_type, dataset_name)\n",
    "        if not os.path.exists(noisy_dt_path):\n",
    "            print(f\"Directory {noisy_dt_path} does not exist\")\n",
    "            continue\n",
    "\n",
    "        print(f\"Processing directory: {noisy_dt_path}\")\n",
    "        noisy_dataset = scan_directory_voxceleb2(noisy_dt_path)\n",
    "\n",
    "        for filter_type in filter_types:\n",
    "            for window_size in window_sizes:\n",
    "                process_dataset_with_window_filter(\n",
    "                    noisy_dataset,\n",
    "                    data_dir,\n",
    "                    output_subdir,\n",
    "                    noise_type,\n",
    "                    snr,\n",
    "                    filter_type,\n",
    "                    window_size,\n",
    "                )\n",
    "\n",
    "\n",
    "print(\"Processing complete!\")"
   ]
  }
 ],
 "metadata": {
  "kernelspec": {
   "display_name": ".venv",
   "language": "python",
   "name": "python3"
  },
  "language_info": {
   "codemirror_mode": {
    "name": "ipython",
    "version": 3
   },
   "file_extension": ".py",
   "mimetype": "text/x-python",
   "name": "python",
   "nbconvert_exporter": "python",
   "pygments_lexer": "ipython3",
   "version": "3.12.8"
  }
 },
 "nbformat": 4,
 "nbformat_minor": 5
}
