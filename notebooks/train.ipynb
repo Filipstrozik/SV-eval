{
 "cells": [
  {
   "cell_type": "code",
   "execution_count": 4,
   "id": "546ab578",
   "metadata": {},
   "outputs": [],
   "source": [
    "from tqdm import tqdm\n",
    "import numpy as np\n",
    "import torchaudio\n",
    "import torch\n",
    "import os\n",
    "import wespeaker\n",
    "import pandas as pd\n",
    "from torch.utils.data import DataLoader\n",
    "from torch.utils.data import Dataset\n",
    "import subprocess\n",
    "import sys"
   ]
  },
  {
   "cell_type": "code",
   "execution_count": 5,
   "id": "1a4c5685",
   "metadata": {},
   "outputs": [],
   "source": [
    "os.chdir(\"..\")\n",
    "from src.utils import *"
   ]
  },
  {
   "cell_type": "code",
   "execution_count": 6,
   "id": "4d793a84",
   "metadata": {},
   "outputs": [
    {
     "data": {
      "text/plain": [
       "device(type='cuda', index=0)"
      ]
     },
     "execution_count": 6,
     "metadata": {},
     "output_type": "execute_result"
    }
   ],
   "source": [
    "\n",
    "# check if GPU is available\n",
    "if torch.cuda.is_available():\n",
    "    device = torch.device(\"cuda:0\")\n",
    "else:\n",
    "    device = torch.device(\"cpu\")\n",
    "device"
   ]
  },
  {
   "cell_type": "code",
   "execution_count": 7,
   "id": "efaf6849",
   "metadata": {},
   "outputs": [
    {
     "name": "stdout",
     "output_type": "stream",
     "text": [
      "Current working directory: c:\\Users\\filip\\Documents\\code\\SV-eval\n"
     ]
    }
   ],
   "source": [
    "# show current directory\n",
    "print(\"Current working directory:\", os.getcwd())"
   ]
  },
  {
   "cell_type": "code",
   "execution_count": 10,
   "id": "a71e7b18",
   "metadata": {},
   "outputs": [
    {
     "name": "stderr",
     "output_type": "stream",
     "text": [
      "WARNING:root:unexpected tensor: projection.weight\n"
     ]
    }
   ],
   "source": [
    "ecapa_tdnn = wespeaker.load_model_local(\"models/voxceleb_ECAPA1024\")"
   ]
  },
  {
   "cell_type": "code",
   "execution_count": 11,
   "id": "a7b78b84",
   "metadata": {},
   "outputs": [
    {
     "data": {
      "text/plain": [
       "wespeaker.cli.speaker.Speaker"
      ]
     },
     "execution_count": 11,
     "metadata": {},
     "output_type": "execute_result"
    }
   ],
   "source": [
    "type(ecapa_tdnn)"
   ]
  },
  {
   "cell_type": "code",
   "execution_count": null,
   "id": "6173add2",
   "metadata": {},
   "outputs": [
    {
     "data": {
      "text/plain": [
       "True"
      ]
     },
     "execution_count": 17,
     "metadata": {},
     "output_type": "execute_result"
    }
   ],
   "source": [
    "isinstance(ecapa_tdnn.model, torch.nn.Module)"
   ]
  },
  {
   "cell_type": "code",
   "execution_count": 15,
   "id": "2349b4ec",
   "metadata": {},
   "outputs": [
    {
     "name": "stdout",
     "output_type": "stream",
     "text": [
      "Superclass of ecapa_tdnn: object\n"
     ]
    }
   ],
   "source": [
    "# show superclass of ecapa_tdnn\n",
    "print(\"Superclass of ecapa_tdnn:\", ecapa_tdnn.__class__.__bases__[0].__name__)"
   ]
  },
  {
   "cell_type": "code",
   "execution_count": null,
   "id": "2c529257",
   "metadata": {},
   "outputs": [],
   "source": []
  }
 ],
 "metadata": {
  "kernelspec": {
   "display_name": ".venv",
   "language": "python",
   "name": "python3"
  },
  "language_info": {
   "codemirror_mode": {
    "name": "ipython",
    "version": 3
   },
   "file_extension": ".py",
   "mimetype": "text/x-python",
   "name": "python",
   "nbconvert_exporter": "python",
   "pygments_lexer": "ipython3",
   "version": "3.12.8"
  }
 },
 "nbformat": 4,
 "nbformat_minor": 5
}
