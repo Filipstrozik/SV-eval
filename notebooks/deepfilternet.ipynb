{
 "cells": [
  {
   "cell_type": "code",
   "execution_count": null,
   "metadata": {},
   "outputs": [
    {
     "name": "stdout",
     "output_type": "stream",
     "text": [
      "Current Working Directory  c:\\Users\\filip\\Documents\\code\\SV-eval\n"
     ]
    }
   ],
   "source": [
    "import os\n",
    "\n",
    "os.chdir(\"..\")\n",
    "from src.utils import *\n",
    "\n",
    "print(\"Current Working Directory \", os.getcwd())"
   ]
  },
  {
   "cell_type": "code",
   "execution_count": null,
   "metadata": {},
   "outputs": [
    {
     "name": "stdout",
     "output_type": "stream",
     "text": [
      "Directory data\\noisy\\gaussian\\vox1_test_segments_snr_0_noisy_gaussian exists\n"
     ]
    }
   ],
   "source": [
    "data_dir = \"data\"\n",
    "data_type = \"noisy\"\n",
    "noise_type = \"gaussian\"\n",
    "snr = 0\n",
    "dataset_name = f\"vox1_test_segments_snr_{snr}_noisy_{noise_type}\"\n",
    "\n",
    "noisy_dt_path = os.path.join(data_dir, data_type, noise_type, dataset_name)\n",
    "if not os.path.exists(noisy_dt_path):\n",
    "    print(f\"Directory {noisy_dt_path} does not exist\")\n",
    "    raise FileNotFoundError(f\"Directory {noisy_dt_path} does not exist\")\n",
    "print(f\"Directory {noisy_dt_path} exists\")\n",
    "\n",
    "# clean_dataset = scan_directory_voxceleb2(clean_dt_path)"
   ]
  },
  {
   "cell_type": "code",
   "execution_count": 8,
   "metadata": {},
   "outputs": [],
   "source": [
    "noisy_dataset = scan_directory_voxceleb2(noisy_dt_path)"
   ]
  },
  {
   "cell_type": "code",
   "execution_count": 12,
   "metadata": {},
   "outputs": [
    {
     "name": "stdout",
     "output_type": "stream",
     "text": [
      "\u001b[32m2025-03-28 11:44:05\u001b[0m | \u001b[1mINFO    \u001b[0m | \u001b[36mDF\u001b[0m | \u001b[1mLoading model settings of DeepFilterNet3\u001b[0m\n",
      "\u001b[32m2025-03-28 11:44:05\u001b[0m | \u001b[1mINFO    \u001b[0m | \u001b[36mDF\u001b[0m | \u001b[1mUsing DeepFilterNet3 model at C:\\Users\\filip\\AppData\\Local\\DeepFilterNet\\DeepFilterNet\\Cache\\DeepFilterNet3\u001b[0m\n",
      "\u001b[32m2025-03-28 11:44:05\u001b[0m | \u001b[1mINFO    \u001b[0m | \u001b[36mDF\u001b[0m | \u001b[1mInitializing model `deepfilternet3`\u001b[0m\n",
      "\u001b[32m2025-03-28 11:44:05\u001b[0m | \u001b[1mINFO    \u001b[0m | \u001b[36mDF\u001b[0m | \u001b[1mFound checkpoint C:\\Users\\filip\\AppData\\Local\\DeepFilterNet\\DeepFilterNet\\Cache\\DeepFilterNet3\\checkpoints\\model_120.ckpt.best with epoch 120\u001b[0m\n",
      "\u001b[32m2025-03-28 11:44:05\u001b[0m | \u001b[1mINFO    \u001b[0m | \u001b[36mDF\u001b[0m | \u001b[1mRunning on device cuda:0\u001b[0m\n",
      "\u001b[32m2025-03-28 11:44:05\u001b[0m | \u001b[1mINFO    \u001b[0m | \u001b[36mDF\u001b[0m | \u001b[1mModel loaded\u001b[0m\n"
     ]
    },
    {
     "name": "stderr",
     "output_type": "stream",
     "text": [
      "c:\\Users\\filip\\Documents\\code\\SV-eval\\.venv\\Lib\\site-packages\\df\\checkpoint.py:77: FutureWarning: You are using `torch.load` with `weights_only=False` (the current default value), which uses the default pickle module implicitly. It is possible to construct malicious pickle data which will execute arbitrary code during unpickling (See https://github.com/pytorch/pytorch/blob/main/SECURITY.md#untrusted-models for more details). In a future release, the default value for `weights_only` will be flipped to `True`. This limits the functions that could be executed during unpickling. Arbitrary objects will no longer be allowed to be loaded via this mode unless they are explicitly allowlisted by the user via `torch.serialization.add_safe_globals`. We recommend you start setting `weights_only=True` for any use case where you don't have full control of the loaded file. Please open an issue on GitHub for any issues related to this experimental feature.\n",
      "  latest = torch.load(latest, map_location=\"cpu\")\n"
     ]
    }
   ],
   "source": [
    "from df.enhance import enhance, init_df, load_audio, save_audio, resample\n",
    "\n",
    "model, df_state, _ = init_df()"
   ]
  },
  {
   "cell_type": "code",
   "execution_count": null,
   "metadata": {},
   "outputs": [
    {
     "data": {
      "text/plain": [
       "48000"
      ]
     },
     "execution_count": 11,
     "metadata": {},
     "output_type": "execute_result"
    }
   ],
   "source": []
  },
  {
   "cell_type": "code",
   "execution_count": 40,
   "metadata": {},
   "outputs": [],
   "source": [
    "import warnings\n",
    "import torchaudio.functional as F\n",
    "\n",
    "\n",
    "def denoise_dataset_deepfilternet(noisy_dataset, data_dir, subdir, noise_type):\n",
    "    output_dir = os.path.join(data_dir, subdir, noise_type, dataset_name)\n",
    "\n",
    "    os.makedirs(output_dir, exist_ok=True)\n",
    "\n",
    "    enhance_sr = 48000  # for enhancement\n",
    "\n",
    "    for index, row in tqdm(noisy_dataset.iterrows(), total=noisy_dataset.shape[0]):\n",
    "        noisy_path = row[\"path\"]\n",
    "\n",
    "        audio, original_sample_rate = torchaudio.load(noisy_path)\n",
    "        audio_48k = F.resample(audio, original_sample_rate, enhance_sr)\n",
    "\n",
    "        enhanced_audio = enhance(model, df_state, audio_48k)\n",
    "        enhanced_audio_16k = F.resample(\n",
    "            enhanced_audio, enhance_sr, original_sample_rate\n",
    "        )\n",
    "\n",
    "        person_subdir = os.path.join(output_dir, row[\"person_id\"])\n",
    "        os.makedirs(person_subdir, exist_ok=True)\n",
    "\n",
    "        enchanced_audio_path = os.path.join(person_subdir, os.path.basename(noisy_path))\n",
    "\n",
    "        save_audio(enchanced_audio_path, enhanced_audio_16k, sr=original_sample_rate)"
   ]
  },
  {
   "cell_type": "code",
   "execution_count": 34,
   "metadata": {},
   "outputs": [
    {
     "name": "stdout",
     "output_type": "stream",
     "text": [
      "Directory data\\noisy\\gaussian\\vox1_test_segments_snr_0_noisy_gaussian exists\n"
     ]
    },
    {
     "name": "stderr",
     "output_type": "stream",
     "text": [
      "100%|██████████| 9119/9119 [21:17<00:00,  7.14it/s]\n"
     ]
    },
    {
     "name": "stdout",
     "output_type": "stream",
     "text": [
      "Directory data\\noisy\\gaussian\\vox1_test_segments_snr_5_noisy_gaussian exists\n"
     ]
    },
    {
     "name": "stderr",
     "output_type": "stream",
     "text": [
      "100%|██████████| 9119/9119 [21:36<00:00,  7.03it/s]\n"
     ]
    },
    {
     "name": "stdout",
     "output_type": "stream",
     "text": [
      "Directory data\\noisy\\gaussian\\vox1_test_segments_snr_10_noisy_gaussian exists\n"
     ]
    },
    {
     "name": "stderr",
     "output_type": "stream",
     "text": [
      "100%|██████████| 9119/9119 [21:33<00:00,  7.05it/s]\n"
     ]
    },
    {
     "name": "stdout",
     "output_type": "stream",
     "text": [
      "Directory data\\noisy\\gaussian\\vox1_test_segments_snr_15_noisy_gaussian exists\n"
     ]
    },
    {
     "name": "stderr",
     "output_type": "stream",
     "text": [
      "100%|██████████| 9119/9119 [21:39<00:00,  7.02it/s]\n"
     ]
    },
    {
     "name": "stdout",
     "output_type": "stream",
     "text": [
      "Directory data\\noisy\\gaussian\\vox1_test_segments_snr_20_noisy_gaussian exists\n"
     ]
    },
    {
     "name": "stderr",
     "output_type": "stream",
     "text": [
      "100%|██████████| 9119/9119 [21:30<00:00,  7.07it/s]\n"
     ]
    },
    {
     "name": "stdout",
     "output_type": "stream",
     "text": [
      "Directory data\\noisy\\poisson\\vox1_test_segments_snr_0_noisy_poisson exists\n"
     ]
    },
    {
     "name": "stderr",
     "output_type": "stream",
     "text": [
      "100%|██████████| 9119/9119 [21:41<00:00,  7.01it/s]\n"
     ]
    },
    {
     "name": "stdout",
     "output_type": "stream",
     "text": [
      "Directory data\\noisy\\poisson\\vox1_test_segments_snr_5_noisy_poisson exists\n"
     ]
    },
    {
     "name": "stderr",
     "output_type": "stream",
     "text": [
      "100%|██████████| 9119/9119 [21:34<00:00,  7.05it/s]\n"
     ]
    },
    {
     "name": "stdout",
     "output_type": "stream",
     "text": [
      "Directory data\\noisy\\poisson\\vox1_test_segments_snr_10_noisy_poisson exists\n"
     ]
    },
    {
     "name": "stderr",
     "output_type": "stream",
     "text": [
      "100%|██████████| 9119/9119 [21:06<00:00,  7.20it/s]\n"
     ]
    },
    {
     "name": "stdout",
     "output_type": "stream",
     "text": [
      "Directory data\\noisy\\poisson\\vox1_test_segments_snr_15_noisy_poisson exists\n"
     ]
    },
    {
     "name": "stderr",
     "output_type": "stream",
     "text": [
      "100%|██████████| 9119/9119 [20:59<00:00,  7.24it/s]\n"
     ]
    },
    {
     "name": "stdout",
     "output_type": "stream",
     "text": [
      "Directory data\\noisy\\poisson\\vox1_test_segments_snr_20_noisy_poisson exists\n"
     ]
    },
    {
     "name": "stderr",
     "output_type": "stream",
     "text": [
      "100%|██████████| 9119/9119 [21:00<00:00,  7.24it/s]\n"
     ]
    },
    {
     "name": "stdout",
     "output_type": "stream",
     "text": [
      "Directory data\\noisy\\rayleigh\\vox1_test_segments_snr_0_noisy_rayleigh exists\n"
     ]
    },
    {
     "name": "stderr",
     "output_type": "stream",
     "text": [
      "100%|██████████| 9119/9119 [20:55<00:00,  7.26it/s]\n"
     ]
    },
    {
     "name": "stdout",
     "output_type": "stream",
     "text": [
      "Directory data\\noisy\\rayleigh\\vox1_test_segments_snr_5_noisy_rayleigh exists\n"
     ]
    },
    {
     "name": "stderr",
     "output_type": "stream",
     "text": [
      "100%|██████████| 9119/9119 [21:01<00:00,  7.23it/s]\n"
     ]
    },
    {
     "name": "stdout",
     "output_type": "stream",
     "text": [
      "Directory data\\noisy\\rayleigh\\vox1_test_segments_snr_10_noisy_rayleigh exists\n"
     ]
    },
    {
     "name": "stderr",
     "output_type": "stream",
     "text": [
      "100%|██████████| 9119/9119 [20:53<00:00,  7.27it/s]\n"
     ]
    },
    {
     "name": "stdout",
     "output_type": "stream",
     "text": [
      "Directory data\\noisy\\rayleigh\\vox1_test_segments_snr_15_noisy_rayleigh exists\n"
     ]
    },
    {
     "name": "stderr",
     "output_type": "stream",
     "text": [
      "100%|██████████| 9119/9119 [20:25<00:00,  7.44it/s]\n"
     ]
    },
    {
     "name": "stdout",
     "output_type": "stream",
     "text": [
      "Directory data\\noisy\\rayleigh\\vox1_test_segments_snr_20_noisy_rayleigh exists\n"
     ]
    },
    {
     "name": "stderr",
     "output_type": "stream",
     "text": [
      "100%|██████████| 9119/9119 [19:58<00:00,  7.61it/s]\n"
     ]
    }
   ],
   "source": [
    "noise_types = [\"gaussian\", \"poisson\", \"rayleigh\"]\n",
    "snrs = [0, 5, 10, 15, 20]\n",
    "data_dir = \"data\"\n",
    "data_type = \"noisy\"\n",
    "output_subdir = \"deepfilternet3\"\n",
    "\n",
    "for noise_type in noise_types:\n",
    "    for snr in snrs:\n",
    "        dataset_name = f\"vox1_test_segments_snr_{snr}_noisy_{noise_type}\"\n",
    "\n",
    "        noisy_dt_path = os.path.join(data_dir, data_type, noise_type, dataset_name)\n",
    "        if not os.path.exists(noisy_dt_path):\n",
    "            print(f\"Directory {noisy_dt_path} does not exist\")\n",
    "            raise FileNotFoundError(f\"Directory {noisy_dt_path} does not exist\")\n",
    "        print(f\"Directory {noisy_dt_path} exists\")\n",
    "\n",
    "        noisy_dataset = scan_directory_voxceleb2(noisy_dt_path)\n",
    "        denoise_dataset_deepfilternet(\n",
    "            noisy_dataset, data_dir, output_subdir, noise_type\n",
    "        )"
   ]
  },
  {
   "cell_type": "code",
   "execution_count": 41,
   "metadata": {},
   "outputs": [
    {
     "name": "stdout",
     "output_type": "stream",
     "text": [
      "Directory data\\noisy_bg\\vox1_test_wav_bq_noise\\AirConditioner\\vox1_test_wav_snr_0_AirConditioner exists\n"
     ]
    },
    {
     "name": "stderr",
     "output_type": "stream",
     "text": [
      "100%|██████████| 9119/9119 [20:22<00:00,  7.46it/s]\n"
     ]
    },
    {
     "name": "stdout",
     "output_type": "stream",
     "text": [
      "Directory data\\noisy_bg\\vox1_test_wav_bq_noise\\AirConditioner\\vox1_test_wav_snr_5_AirConditioner exists\n"
     ]
    },
    {
     "name": "stderr",
     "output_type": "stream",
     "text": [
      "100%|██████████| 9119/9119 [20:23<00:00,  7.45it/s]\n"
     ]
    },
    {
     "name": "stdout",
     "output_type": "stream",
     "text": [
      "Directory data\\noisy_bg\\vox1_test_wav_bq_noise\\AirConditioner\\vox1_test_wav_snr_10_AirConditioner exists\n"
     ]
    },
    {
     "name": "stderr",
     "output_type": "stream",
     "text": [
      "100%|██████████| 9119/9119 [20:21<00:00,  7.46it/s]\n"
     ]
    },
    {
     "name": "stdout",
     "output_type": "stream",
     "text": [
      "Directory data\\noisy_bg\\vox1_test_wav_bq_noise\\AirConditioner\\vox1_test_wav_snr_15_AirConditioner exists\n"
     ]
    },
    {
     "name": "stderr",
     "output_type": "stream",
     "text": [
      "100%|██████████| 9119/9119 [20:24<00:00,  7.45it/s]\n"
     ]
    },
    {
     "name": "stdout",
     "output_type": "stream",
     "text": [
      "Directory data\\noisy_bg\\vox1_test_wav_bq_noise\\AirConditioner\\vox1_test_wav_snr_20_AirConditioner exists\n"
     ]
    },
    {
     "name": "stderr",
     "output_type": "stream",
     "text": [
      "100%|██████████| 9119/9119 [20:20<00:00,  7.47it/s]\n"
     ]
    },
    {
     "name": "stdout",
     "output_type": "stream",
     "text": [
      "Directory data\\noisy_bg\\vox1_test_wav_bq_noise\\Babble\\vox1_test_wav_snr_0_Babble exists\n"
     ]
    },
    {
     "name": "stderr",
     "output_type": "stream",
     "text": [
      "100%|██████████| 9119/9119 [20:16<00:00,  7.50it/s]\n"
     ]
    },
    {
     "name": "stdout",
     "output_type": "stream",
     "text": [
      "Directory data\\noisy_bg\\vox1_test_wav_bq_noise\\Babble\\vox1_test_wav_snr_5_Babble exists\n"
     ]
    },
    {
     "name": "stderr",
     "output_type": "stream",
     "text": [
      "100%|██████████| 9119/9119 [20:25<00:00,  7.44it/s]\n"
     ]
    },
    {
     "name": "stdout",
     "output_type": "stream",
     "text": [
      "Directory data\\noisy_bg\\vox1_test_wav_bq_noise\\Babble\\vox1_test_wav_snr_10_Babble exists\n"
     ]
    },
    {
     "name": "stderr",
     "output_type": "stream",
     "text": [
      "100%|██████████| 9119/9119 [20:21<00:00,  7.47it/s]\n"
     ]
    },
    {
     "name": "stdout",
     "output_type": "stream",
     "text": [
      "Directory data\\noisy_bg\\vox1_test_wav_bq_noise\\Babble\\vox1_test_wav_snr_15_Babble exists\n"
     ]
    },
    {
     "name": "stderr",
     "output_type": "stream",
     "text": [
      "100%|██████████| 9119/9119 [20:20<00:00,  7.47it/s]\n"
     ]
    },
    {
     "name": "stdout",
     "output_type": "stream",
     "text": [
      "Directory data\\noisy_bg\\vox1_test_wav_bq_noise\\Babble\\vox1_test_wav_snr_20_Babble exists\n"
     ]
    },
    {
     "name": "stderr",
     "output_type": "stream",
     "text": [
      "100%|██████████| 9119/9119 [20:13<00:00,  7.51it/s]\n"
     ]
    },
    {
     "name": "stdout",
     "output_type": "stream",
     "text": [
      "Directory data\\noisy_bg\\vox1_test_wav_bq_noise\\Neighbor\\vox1_test_wav_snr_0_Neighbor exists\n"
     ]
    },
    {
     "name": "stderr",
     "output_type": "stream",
     "text": [
      "100%|██████████| 9119/9119 [20:23<00:00,  7.45it/s]\n"
     ]
    },
    {
     "name": "stdout",
     "output_type": "stream",
     "text": [
      "Directory data\\noisy_bg\\vox1_test_wav_bq_noise\\Neighbor\\vox1_test_wav_snr_5_Neighbor exists\n"
     ]
    },
    {
     "name": "stderr",
     "output_type": "stream",
     "text": [
      "100%|██████████| 9119/9119 [20:18<00:00,  7.48it/s]\n"
     ]
    },
    {
     "name": "stdout",
     "output_type": "stream",
     "text": [
      "Directory data\\noisy_bg\\vox1_test_wav_bq_noise\\Neighbor\\vox1_test_wav_snr_10_Neighbor exists\n"
     ]
    },
    {
     "name": "stderr",
     "output_type": "stream",
     "text": [
      "100%|██████████| 9119/9119 [20:16<00:00,  7.49it/s]\n"
     ]
    },
    {
     "name": "stdout",
     "output_type": "stream",
     "text": [
      "Directory data\\noisy_bg\\vox1_test_wav_bq_noise\\Neighbor\\vox1_test_wav_snr_15_Neighbor exists\n"
     ]
    },
    {
     "name": "stderr",
     "output_type": "stream",
     "text": [
      "100%|██████████| 9119/9119 [20:22<00:00,  7.46it/s]\n"
     ]
    },
    {
     "name": "stdout",
     "output_type": "stream",
     "text": [
      "Directory data\\noisy_bg\\vox1_test_wav_bq_noise\\Neighbor\\vox1_test_wav_snr_20_Neighbor exists\n"
     ]
    },
    {
     "name": "stderr",
     "output_type": "stream",
     "text": [
      "100%|██████████| 9119/9119 [20:23<00:00,  7.45it/s]\n"
     ]
    }
   ],
   "source": [
    "noise_types = [\"AirConditioner\", \"Babble\", \"Neighbor\"]\n",
    "snrs = [0, 5, 10, 15, 20]\n",
    "data_dir = \"data\"\n",
    "data_type = \"noisy_bg\\\\vox1_test_wav_bq_noise\"\n",
    "output_subdir = \"deepfilternet3\"\n",
    "\n",
    "for noise_type in noise_types:\n",
    "    for snr in snrs:\n",
    "        dataset_name = f\"vox1_test_wav_snr_{snr}_{noise_type}\"\n",
    "\n",
    "        noisy_dt_path = os.path.join(data_dir, data_type, noise_type, dataset_name)\n",
    "        if not os.path.exists(noisy_dt_path):\n",
    "            print(f\"Directory {noisy_dt_path} does not exist\")\n",
    "            raise FileNotFoundError(f\"Directory {noisy_dt_path} does not exist\")\n",
    "        print(f\"Directory {noisy_dt_path} exists\")\n",
    "\n",
    "        noisy_dataset = scan_directory_voxceleb2(noisy_dt_path)\n",
    "        denoise_dataset_deepfilternet(\n",
    "            noisy_dataset, data_dir, output_subdir, noise_type\n",
    "        )"
   ]
  },
  {
   "cell_type": "code",
   "execution_count": null,
   "metadata": {},
   "outputs": [],
   "source": []
  }
 ],
 "metadata": {
  "kernelspec": {
   "display_name": ".venv",
   "language": "python",
   "name": "python3"
  },
  "language_info": {
   "codemirror_mode": {
    "name": "ipython",
    "version": 3
   },
   "file_extension": ".py",
   "mimetype": "text/x-python",
   "name": "python",
   "nbconvert_exporter": "python",
   "pygments_lexer": "ipython3",
   "version": "3.12.8"
  }
 },
 "nbformat": 4,
 "nbformat_minor": 2
}
