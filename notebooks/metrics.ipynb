{
 "cells": [
  {
   "cell_type": "code",
   "execution_count": 106,
   "metadata": {},
   "outputs": [],
   "source": [
    "import numpy as np\n",
    "from sklearn.metrics.pairwise import cosine_similarity\n",
    "import torch\n",
    "import pandas as pd"
   ]
  },
  {
   "cell_type": "code",
   "execution_count": 107,
   "metadata": {},
   "outputs": [
    {
     "data": {
      "text/html": [
       "<div>\n",
       "<style scoped>\n",
       "    .dataframe tbody tr th:only-of-type {\n",
       "        vertical-align: middle;\n",
       "    }\n",
       "\n",
       "    .dataframe tbody tr th {\n",
       "        vertical-align: top;\n",
       "    }\n",
       "\n",
       "    .dataframe thead th {\n",
       "        text-align: right;\n",
       "    }\n",
       "</style>\n",
       "<table border=\"1\" class=\"dataframe\">\n",
       "  <thead>\n",
       "    <tr style=\"text-align: right;\">\n",
       "      <th></th>\n",
       "      <th>path</th>\n",
       "      <th>person_id</th>\n",
       "      <th>utterance_filename</th>\n",
       "      <th>embedding</th>\n",
       "    </tr>\n",
       "  </thead>\n",
       "  <tbody>\n",
       "    <tr>\n",
       "      <th>0</th>\n",
       "      <td>./wav_files_voxceleb2/id08149/16.wav</td>\n",
       "      <td>id08149</td>\n",
       "      <td>16.wav</td>\n",
       "      <td>[-0.02879259 -0.04628501  0.79844713 -1.007444...</td>\n",
       "    </tr>\n",
       "    <tr>\n",
       "      <th>1</th>\n",
       "      <td>./wav_files_voxceleb2/id08149/17.wav</td>\n",
       "      <td>id08149</td>\n",
       "      <td>17.wav</td>\n",
       "      <td>[ 0.00339373 -0.56627667  1.8227887  -1.208145...</td>\n",
       "    </tr>\n",
       "    <tr>\n",
       "      <th>2</th>\n",
       "      <td>./wav_files_voxceleb2/id08149/15.wav</td>\n",
       "      <td>id08149</td>\n",
       "      <td>15.wav</td>\n",
       "      <td>[-0.13785703 -0.40674278  1.6309307  -1.681454...</td>\n",
       "    </tr>\n",
       "    <tr>\n",
       "      <th>3</th>\n",
       "      <td>./wav_files_voxceleb2/id08149/28.wav</td>\n",
       "      <td>id08149</td>\n",
       "      <td>28.wav</td>\n",
       "      <td>[ 0.24818708 -1.0722951   1.1296148  -0.814627...</td>\n",
       "    </tr>\n",
       "    <tr>\n",
       "      <th>4</th>\n",
       "      <td>./wav_files_voxceleb2/id08149/14.wav</td>\n",
       "      <td>id08149</td>\n",
       "      <td>14.wav</td>\n",
       "      <td>[ 1.44684181e-01 -5.41866601e-01  2.41425705e+...</td>\n",
       "    </tr>\n",
       "  </tbody>\n",
       "</table>\n",
       "</div>"
      ],
      "text/plain": [
       "                                   path person_id utterance_filename  \\\n",
       "0  ./wav_files_voxceleb2/id08149/16.wav   id08149             16.wav   \n",
       "1  ./wav_files_voxceleb2/id08149/17.wav   id08149             17.wav   \n",
       "2  ./wav_files_voxceleb2/id08149/15.wav   id08149             15.wav   \n",
       "3  ./wav_files_voxceleb2/id08149/28.wav   id08149             28.wav   \n",
       "4  ./wav_files_voxceleb2/id08149/14.wav   id08149             14.wav   \n",
       "\n",
       "                                           embedding  \n",
       "0  [-0.02879259 -0.04628501  0.79844713 -1.007444...  \n",
       "1  [ 0.00339373 -0.56627667  1.8227887  -1.208145...  \n",
       "2  [-0.13785703 -0.40674278  1.6309307  -1.681454...  \n",
       "3  [ 0.24818708 -1.0722951   1.1296148  -0.814627...  \n",
       "4  [ 1.44684181e-01 -5.41866601e-01  2.41425705e+...  "
      ]
     },
     "execution_count": 107,
     "metadata": {},
     "output_type": "execute_result"
    }
   ],
   "source": [
    "file_path = './embeds/campplus_embeddings.csv'\n",
    "df = pd.read_csv(file_path)\n",
    "\n",
    "df.head()"
   ]
  },
  {
   "cell_type": "code",
   "execution_count": 108,
   "metadata": {},
   "outputs": [
    {
     "data": {
      "text/html": [
       "<div>\n",
       "<style scoped>\n",
       "    .dataframe tbody tr th:only-of-type {\n",
       "        vertical-align: middle;\n",
       "    }\n",
       "\n",
       "    .dataframe tbody tr th {\n",
       "        vertical-align: top;\n",
       "    }\n",
       "\n",
       "    .dataframe thead th {\n",
       "        text-align: right;\n",
       "    }\n",
       "</style>\n",
       "<table border=\"1\" class=\"dataframe\">\n",
       "  <thead>\n",
       "    <tr style=\"text-align: right;\">\n",
       "      <th></th>\n",
       "      <th>path</th>\n",
       "      <th>person_id</th>\n",
       "      <th>utterance_filename</th>\n",
       "      <th>embedding</th>\n",
       "    </tr>\n",
       "  </thead>\n",
       "  <tbody>\n",
       "    <tr>\n",
       "      <th>0</th>\n",
       "      <td>./wav_files_voxceleb2/id08149/16.wav</td>\n",
       "      <td>id08149</td>\n",
       "      <td>16.wav</td>\n",
       "      <td>[-0.02879259, -0.04628501, 0.79844713, -1.0074...</td>\n",
       "    </tr>\n",
       "    <tr>\n",
       "      <th>1</th>\n",
       "      <td>./wav_files_voxceleb2/id08149/17.wav</td>\n",
       "      <td>id08149</td>\n",
       "      <td>17.wav</td>\n",
       "      <td>[0.00339373, -0.56627667, 1.8227887, -1.208145...</td>\n",
       "    </tr>\n",
       "    <tr>\n",
       "      <th>2</th>\n",
       "      <td>./wav_files_voxceleb2/id08149/15.wav</td>\n",
       "      <td>id08149</td>\n",
       "      <td>15.wav</td>\n",
       "      <td>[-0.13785703, -0.40674278, 1.6309307, -1.68145...</td>\n",
       "    </tr>\n",
       "    <tr>\n",
       "      <th>3</th>\n",
       "      <td>./wav_files_voxceleb2/id08149/28.wav</td>\n",
       "      <td>id08149</td>\n",
       "      <td>28.wav</td>\n",
       "      <td>[0.24818708, -1.0722951, 1.1296148, -0.8146277...</td>\n",
       "    </tr>\n",
       "    <tr>\n",
       "      <th>4</th>\n",
       "      <td>./wav_files_voxceleb2/id08149/14.wav</td>\n",
       "      <td>id08149</td>\n",
       "      <td>14.wav</td>\n",
       "      <td>[0.144684181, -0.541866601, 2.41425705, 0.1363...</td>\n",
       "    </tr>\n",
       "  </tbody>\n",
       "</table>\n",
       "</div>"
      ],
      "text/plain": [
       "                                   path person_id utterance_filename  \\\n",
       "0  ./wav_files_voxceleb2/id08149/16.wav   id08149             16.wav   \n",
       "1  ./wav_files_voxceleb2/id08149/17.wav   id08149             17.wav   \n",
       "2  ./wav_files_voxceleb2/id08149/15.wav   id08149             15.wav   \n",
       "3  ./wav_files_voxceleb2/id08149/28.wav   id08149             28.wav   \n",
       "4  ./wav_files_voxceleb2/id08149/14.wav   id08149             14.wav   \n",
       "\n",
       "                                           embedding  \n",
       "0  [-0.02879259, -0.04628501, 0.79844713, -1.0074...  \n",
       "1  [0.00339373, -0.56627667, 1.8227887, -1.208145...  \n",
       "2  [-0.13785703, -0.40674278, 1.6309307, -1.68145...  \n",
       "3  [0.24818708, -1.0722951, 1.1296148, -0.8146277...  \n",
       "4  [0.144684181, -0.541866601, 2.41425705, 0.1363...  "
      ]
     },
     "execution_count": 108,
     "metadata": {},
     "output_type": "execute_result"
    }
   ],
   "source": [
    "df['embedding'] = df['embedding'].apply(lambda x: np.array(x.strip('[]').split(), dtype=float))\n",
    "df.head()"
   ]
  },
  {
   "cell_type": "code",
   "execution_count": 109,
   "metadata": {},
   "outputs": [
    {
     "name": "stdout",
     "output_type": "stream",
     "text": [
      "embedding_length\n",
      "192    2476\n",
      "Name: count, dtype: int64\n"
     ]
    }
   ],
   "source": [
    "# Check dimensions of all embeddings\n",
    "df[\"embedding_length\"] = df[\"embedding\"].apply(len)\n",
    "print(df[\"embedding_length\"].value_counts())"
   ]
  },
  {
   "cell_type": "code",
   "execution_count": 110,
   "metadata": {},
   "outputs": [],
   "source": [
    "def cosine_similarity(e1, e2):\n",
    "    cosine_score = torch.dot(e1, e2) / (torch.norm(e1) * torch.norm(e2))\n",
    "    cosine_score = cosine_score.item()\n",
    "    return (cosine_score + 1.0) / 2  # normalize: [-1, 1] => [0, 1]\n",
    "\n",
    "\n",
    "def cosine_sim(tensor1: torch.Tensor, tensor2: torch.Tensor) -> torch.Tensor:\n",
    "\n",
    "    tensor1_normalized = tensor1 / torch.norm(tensor1, dim=1, keepdim=True)\n",
    "    tensor2_normalized = tensor2 / torch.norm(tensor2, dim=1, keepdim=True)\n",
    "\n",
    "    cosine_similarity_matrix = torch.mm(tensor1_normalized, tensor2_normalized.T)\n",
    "\n",
    "    normalized_similarity_matrix = (cosine_similarity_matrix + 1.0) / 2.0\n",
    "\n",
    "    return normalized_similarity_matrix"
   ]
  },
  {
   "cell_type": "code",
   "execution_count": 111,
   "metadata": {},
   "outputs": [],
   "source": [
    "embeddings = df['embedding'].values\n",
    "embeddings_array = np.vstack(embeddings)\n",
    "embeddings_tensor = torch.tensor(embeddings_array, dtype=torch.float32)"
   ]
  },
  {
   "cell_type": "code",
   "execution_count": 112,
   "metadata": {},
   "outputs": [],
   "source": [
    "# embeddings is a array of array of floats i want to compute a matrix of cosine similarity each element of the matrix is the cosine similarity between the two embeddings\n",
    "# using torch for this\n",
    "\n",
    "similarity_matrix = cosine_sim(embeddings_tensor, embeddings_tensor)\n",
    "# fill the diagonal with "
   ]
  },
  {
   "cell_type": "code",
   "execution_count": 113,
   "metadata": {},
   "outputs": [
    {
     "data": {
      "text/plain": [
       "torch.Size([2476, 2476])"
      ]
     },
     "execution_count": 113,
     "metadata": {},
     "output_type": "execute_result"
    }
   ],
   "source": [
    "similarity_matrix.shape"
   ]
  },
  {
   "cell_type": "code",
   "execution_count": 114,
   "metadata": {},
   "outputs": [],
   "source": [
    "labels = df[\"person_id\"].values"
   ]
  },
  {
   "cell_type": "code",
   "execution_count": 115,
   "metadata": {},
   "outputs": [],
   "source": [
    "labels_matrix = np.equal(labels[:, None], labels)\n",
    "np.fill_diagonal(labels_matrix, False)\n",
    "upper_triangle_indices = np.triu_indices_from(similarity_matrix, k=1)\n",
    "class_labels = labels_matrix[upper_triangle_indices]\n",
    "scores = similarity_matrix[upper_triangle_indices]\n",
    "\n"
   ]
  },
  {
   "cell_type": "code",
   "execution_count": 116,
   "metadata": {},
   "outputs": [
    {
     "name": "stdout",
     "output_type": "stream",
     "text": [
      "class_labels [ True  True  True ...  True  True  True] len 3064050\n",
      "scores tensor([0.9456, 0.9431, 0.8405,  ..., 0.7887, 0.8223, 0.8345]) len 3064050\n"
     ]
    }
   ],
   "source": [
    "print( \"class_labels\", class_labels, \"len\", len(class_labels))\n",
    "print(\"scores\", scores, \"len\", len(scores))"
   ]
  },
  {
   "cell_type": "code",
   "execution_count": 117,
   "metadata": {},
   "outputs": [],
   "source": [
    "genuine_scores = scores[class_labels]\n",
    "impostor_scores = scores[~class_labels]"
   ]
  },
  {
   "cell_type": "code",
   "execution_count": 118,
   "metadata": {},
   "outputs": [
    {
     "data": {
      "text/plain": [
       "(torch.Size([60350]), torch.Size([3003700]))"
      ]
     },
     "execution_count": 118,
     "metadata": {},
     "output_type": "execute_result"
    }
   ],
   "source": [
    "genuine_scores.shape, impostor_scores.shape"
   ]
  },
  {
   "cell_type": "code",
   "execution_count": 119,
   "metadata": {},
   "outputs": [
    {
     "name": "stdout",
     "output_type": "stream",
     "text": [
      "EER: 0.1013 at threshold: 0.7317\n"
     ]
    }
   ],
   "source": [
    "# Combine scores and generate thresholds\n",
    "thresholds = np.linspace(0, 1, 1000)  # Cosine similarity ranges from -1 to 1\n",
    "FAR = []  # False Acceptance Rate\n",
    "FRR = []  # False Rejection Rate\n",
    "\n",
    "for threshold in thresholds:\n",
    "    # FAR: Proportion of impostor scores >= threshold\n",
    "    FAR.append(np.mean(np.array(impostor_scores) >= threshold))\n",
    "\n",
    "    # FRR: Proportion of genuine scores < threshold\n",
    "    FRR.append(np.mean(np.array(genuine_scores) < threshold))\n",
    "\n",
    "# Find the threshold where FAR and FRR are equal (EER)\n",
    "EER_index = np.argmin(np.abs(np.array(FAR) - np.array(FRR)))\n",
    "EER = (FAR[EER_index] + FRR[EER_index]) / 2\n",
    "EER_threshold = thresholds[EER_index]\n",
    "\n",
    "print(f\"EER: {EER:.4f} at threshold: {EER_threshold:.4f}\")"
   ]
  },
  {
   "cell_type": "code",
   "execution_count": 120,
   "metadata": {},
   "outputs": [],
   "source": [
    "import matplotlib.pyplot as plt"
   ]
  },
  {
   "cell_type": "code",
   "execution_count": 121,
   "metadata": {},
   "outputs": [
    {
     "data": {
      "image/png": "[encoded data removed]",
      "text/plain": [
       "<Figure size 640x480 with 1 Axes>"
      ]
     },
     "metadata": {},
     "output_type": "display_data"
    }
   ],
   "source": [
    "plt.plot(thresholds, FAR, label=\"FAR\", color=\"red\")\n",
    "plt.plot(thresholds, FRR, label=\"FRR\", color=\"blue\")\n",
    "plt.axvline(EER_threshold, color=\"green\", linestyle=\"--\", label=f\"EER = {EER * 100:.2f}%\")\n",
    "plt.xlabel(\"Threshold\")\n",
    "plt.ylabel(\"Rate\")\n",
    "plt.title(\"FAR and FRR vs Threshold\")\n",
    "plt.legend()\n",
    "plt.grid()\n",
    "\n",
    "# Annotate the EER threshold\n",
    "plt.text(EER_threshold, 0.5, f'{EER_threshold:.2f}', color=\"green\")\n",
    "\n",
    "plt.show()"
   ]
  },
  {
   "cell_type": "code",
   "execution_count": null,
   "metadata": {},
   "outputs": [],
   "source": []
  }
 ],
 "metadata": {
  "kernelspec": {
   "display_name": ".venv",
   "language": "python",
   "name": "python3"
  },
  "language_info": {
   "codemirror_mode": {
    "name": "ipython",
    "version": 3
   },
   "file_extension": ".py",
   "mimetype": "text/x-python",
   "name": "python",
   "nbconvert_exporter": "python",
   "pygments_lexer": "ipython3",
   "version": "3.12.4"
  }
 },
 "nbformat": 4,
 "nbformat_minor": 2
}
