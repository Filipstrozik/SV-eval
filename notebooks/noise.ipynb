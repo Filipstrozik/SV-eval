{
 "cells": [
  {
   "cell_type": "markdown",
   "metadata": {},
   "source": [
    "# Noise Generation"
   ]
  },
  {
   "cell_type": "markdown",
   "metadata": {},
   "source": [
    "## import libraries\n"
   ]
  },
  {
   "cell_type": "code",
   "execution_count": null,
   "metadata": {},
   "outputs": [],
   "source": [
    "import numpy as np\n",
    "import soundfile as sf\n",
    "import os\n",
    "import os\n",
    "import pandas as pd\n",
    "import torchaudio\n",
    "from IPython.display import Audio\n",
    "import matplotlib.pyplot as plt"
   ]
  },
  {
   "cell_type": "code",
   "execution_count": null,
   "metadata": {},
   "outputs": [],
   "source": [
    "path = './test.wav'\n",
    "\n",
    "# Load an example audio file\n",
    "waveform, sample_rate = torchaudio.load(path)\n",
    "\n",
    "# Play the audio\n",
    "Audio(waveform.numpy(), rate=sample_rate)"
   ]
  },
  {
   "cell_type": "code",
   "execution_count": null,
   "metadata": {},
   "outputs": [],
   "source": [
    "def plot_waveform(waveform):\n",
    "\n",
    "    plt.figure(figsize=(10, 4))\n",
    "    plt.plot(waveform[0])\n",
    "    plt.title(\"Audio Signal\")\n",
    "    plt.xlabel(\"Sample Index\")\n",
    "    plt.ylabel(\"Amplitude\")\n",
    "    plt.show()\n",
    "\n",
    "def plot_spectrogram(waveform, sample_rate):\n",
    "    plt.figure(figsize=(10, 4))\n",
    "    plt.specgram(waveform[0], Fs=sample_rate)\n",
    "    plt.title(\"Spectrogram\")\n",
    "    plt.xlabel(\"Time\")\n",
    "    plt.ylabel(\"Frequency\")\n",
    "    plt.colorbar()\n",
    "    plt.show()"
   ]
  },
  {
   "cell_type": "code",
   "execution_count": null,
   "metadata": {},
   "outputs": [],
   "source": [
    "plot_waveform(waveform)\n",
    "plot_spectrogram(waveform, sample_rate)\n",
    "display(Audio(waveform.numpy(), rate=sample_rate))"
   ]
  },
  {
   "cell_type": "code",
   "execution_count": null,
   "metadata": {},
   "outputs": [],
   "source": [
    "from numpy import ndarray\n",
    "\n",
    "\n",
    "def add_scaled_noise(signal: ndarray, intensity=0.5, noise_type=\"gaussian\") -> ndarray:\n",
    "    \"\"\"\n",
    "    Dodaje szum o określonej intensywności względem sygnału.\n",
    "\n",
    "    :param signal: Sygnał wejściowy.\n",
    "    :param intensity: Intensywność szumu względem RMS sygnału (np. 0.5 dla 50%).\n",
    "    :param noise_type: Typ szumu ('gaussian', 'uniform').\n",
    "    :return: Sygnał z dodanym szumem.\n",
    "    \"\"\"\n",
    "    rms_signal = np.sqrt(np.mean(signal**2))\n",
    "    rms_noise = intensity * rms_signal\n",
    "\n",
    "    match noise_type:\n",
    "        case \"gaussian\":\n",
    "            noise = np.random.normal(0, rms_noise, signal.shape)\n",
    "        case \"rayleigh\":\n",
    "            # Rayleigh noise requires scaling its parameter to achieve target RMS\n",
    "            sigma = rms_noise / np.sqrt(2 - np.pi / 2)\n",
    "            noise = np.random.rayleigh(sigma, signal.shape)\n",
    "        case \"poisson\":\n",
    "            # Scale Poisson noise approximation\n",
    "            # Use the signal as lambda and scale it to match RMS intensity\n",
    "            noise = np.random.poisson(rms_noise, signal.shape) - rms_signal\n",
    "            noise = noise * rms_noise / np.sqrt(np.mean(noise**2))\n",
    "        case _:\n",
    "            raise ValueError(\"Nieobsługiwany typ szumu.\")\n",
    "\n",
    "    return signal + noise"
   ]
  },
  {
   "cell_type": "code",
   "execution_count": null,
   "metadata": {},
   "outputs": [],
   "source": [
    "noisy_waveform = add_scaled_noise(waveform.numpy(), intensity=1, noise_type=\"gaussian\")\n",
    "display(Audio(noisy_waveform, rate=sample_rate))\n",
    "plot_waveform(noisy_waveform)\n",
    "plot_spectrogram(noisy_waveform, sample_rate)\n"
   ]
  },
  {
   "cell_type": "code",
   "execution_count": null,
   "metadata": {},
   "outputs": [],
   "source": [
    "noisy_waveform = add_scaled_noise(waveform.numpy(), intensity=0.5, noise_type=\"gaussian\")\n",
    "display(Audio(noisy_waveform, rate=sample_rate))\n",
    "plot_waveform(noisy_waveform)\n",
    "plot_spectrogram(noisy_waveform, sample_rate)"
   ]
  },
  {
   "cell_type": "code",
   "execution_count": null,
   "metadata": {},
   "outputs": [],
   "source": [
    "noisy_waveform = add_scaled_noise(waveform.numpy(), intensity=1, noise_type=\"rayleigh\")\n",
    "display(Audio(noisy_waveform, rate=sample_rate))\n",
    "plot_waveform(noisy_waveform)\n",
    "plot_spectrogram(noisy_waveform, sample_rate)"
   ]
  },
  {
   "cell_type": "code",
   "execution_count": null,
   "metadata": {},
   "outputs": [],
   "source": [
    "noisy_waveform = add_scaled_noise(waveform.numpy(), intensity=0.5, noise_type=\"rayleigh\")\n",
    "display(Audio(noisy_waveform, rate=sample_rate))\n",
    "plot_waveform(noisy_waveform)\n",
    "plot_spectrogram(noisy_waveform, sample_rate)"
   ]
  },
  {
   "cell_type": "code",
   "execution_count": null,
   "metadata": {},
   "outputs": [],
   "source": [
    "noisy_waveform = add_scaled_noise(waveform.numpy(), intensity=1, noise_type=\"poisson\")\n",
    "display(Audio(noisy_waveform, rate=sample_rate))\n",
    "plot_waveform(noisy_waveform)\n",
    "plot_spectrogram(noisy_waveform, sample_rate)"
   ]
  },
  {
   "cell_type": "code",
   "execution_count": null,
   "metadata": {},
   "outputs": [],
   "source": [
    "noisy_waveform = add_scaled_noise(waveform.numpy(), intensity=0.5, noise_type=\"poisson\")\n",
    "display(Audio(noisy_waveform, rate=sample_rate))\n",
    "plot_waveform(noisy_waveform)\n",
    "plot_spectrogram(noisy_waveform, sample_rate)"
   ]
  },
  {
   "cell_type": "markdown",
   "metadata": {},
   "source": [
    "## Sinusoidal waveform"
   ]
  },
  {
   "cell_type": "code",
   "execution_count": null,
   "metadata": {},
   "outputs": [],
   "source": [
    "# make a sinusoidal signal\n",
    "from sympy import plot\n",
    "\n",
    "\n",
    "t = np.linspace(0, 1, 3200)  # Make the signal shorter to show only one loop\n",
    "f = 20\n",
    "\n",
    "signal = np.sin(2 * np.pi * f * t)\n",
    "\n",
    "# play and show the signal\n",
    "display(Audio(signal, rate=16000))\n",
    "\n",
    "plt.figure(figsize=(10, 4))\n",
    "plt.plot(signal)\n",
    "plt.title(\"Sinusoidal Signal\")\n",
    "plt.xlabel(\"Sample Index\")\n",
    "plt.ylabel(\"Amplitude\")\n",
    "plt.show()"
   ]
  },
  {
   "cell_type": "code",
   "execution_count": null,
   "metadata": {},
   "outputs": [],
   "source": [
    "noisy_signal = add_scaled_noise(signal, intensity=1, noise_type=\"gaussian\")\n",
    "display(Audio(noisy_signal, rate=16000))\n",
    "plt.figure(figsize=(10, 4))\n",
    "plt.plot(noisy_signal)\n",
    "plt.title(\"Sinusoidal Signal\")\n",
    "plt.xlabel(\"Sample Index\")\n",
    "plt.ylabel(\"Amplitude\")\n",
    "plt.show()"
   ]
  },
  {
   "cell_type": "code",
   "execution_count": null,
   "metadata": {},
   "outputs": [],
   "source": [
    "noisy_signal = add_scaled_noise(signal, intensity=1, noise_type=\"rayleigh\")\n",
    "display(Audio(noisy_signal, rate=16000))\n",
    "plt.figure(figsize=(10, 4))\n",
    "plt.plot(noisy_signal)\n",
    "plt.title(\"Sinusoidal Signal\")\n",
    "plt.xlabel(\"Sample Index\")\n",
    "plt.ylabel(\"Amplitude\")\n",
    "plt.show()"
   ]
  },
  {
   "cell_type": "code",
   "execution_count": null,
   "metadata": {},
   "outputs": [],
   "source": [
    "noisy_signal = add_scaled_noise(signal, intensity=1, noise_type=\"poisson\")\n",
    "display(Audio(noisy_signal, rate=16000))\n",
    "plt.figure(figsize=(10, 4))\n",
    "plt.plot(noisy_signal)\n",
    "plt.title(\"Sinusoidal Signal\")\n",
    "plt.xlabel(\"Sample Index\")\n",
    "plt.ylabel(\"Amplitude\")\n",
    "plt.show()"
   ]
  },
  {
   "cell_type": "code",
   "execution_count": null,
   "metadata": {},
   "outputs": [],
   "source": [
    "from numpy import ndarray\n",
    "\n",
    "\n",
    "def add_noise(signal: ndarray, snr_db=20, noise_type=\"gaussian\") -> ndarray:\n",
    "    \"\"\"\n",
    "    Dodaje szum do sygnału.\n",
    "\n",
    "    :param signal: Sygnał wejściowy.\n",
    "    :param noise_type: Typ szumu ('gaussian', 'uniform', 'poisson', 'impulse').\n",
    "    :param snr_db: Pożądane SNR w decybelach.\n",
    "    :return: Sygnał z dodanym szumem.\n",
    "    \"\"\"\n",
    "    signal_average_power = np.mean(signal**2)\n",
    "    signal_average_power_db = 10 * np.log10(signal_average_power)\n",
    "    noise_db = signal_average_power_db - snr_db\n",
    "    noise_power = 10 ** (noise_db / 10)\n",
    "    rms_noise = np.sqrt(noise_power)\n",
    "    mean_noise = 0\n",
    "\n",
    "    if noise_type == \"gaussian\":\n",
    "        noise = np.random.normal(mean_noise, rms_noise, signal.shape)\n",
    "    elif noise_type == \"uniform\":\n",
    "        noise = np.random.uniform(-rms_noise, rms_noise, signal.shape)\n",
    "    elif noise_type == \"poisson\":\n",
    "        noise = np.random.poisson(rms_noise, signal.shape) - rms_noise\n",
    "    else:\n",
    "        raise ValueError(\"Nieobsługiwany typ szumu.\")\n",
    "\n",
    "    return signal + noise"
   ]
  }
 ],
 "metadata": {
  "kernelspec": {
   "display_name": ".venv",
   "language": "python",
   "name": "python3"
  },
  "language_info": {
   "codemirror_mode": {
    "name": "ipython",
    "version": 3
   },
   "file_extension": ".py",
   "mimetype": "text/x-python",
   "name": "python",
   "nbconvert_exporter": "python",
   "pygments_lexer": "ipython3",
   "version": "3.12.4"
  }
 },
 "nbformat": 4,
 "nbformat_minor": 2
}
