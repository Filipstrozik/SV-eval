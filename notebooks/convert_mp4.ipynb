{
 "cells": [
  {
   "cell_type": "code",
   "execution_count": 1,
   "metadata": {},
   "outputs": [],
   "source": [
    "from tqdm import tqdm\n",
    "import numpy as np\n",
    "import torchaudio\n",
    "import torch\n",
    "import os\n",
    "import wespeaker\n",
    "import pandas as pd\n",
    "from torch.utils.data import DataLoader\n",
    "from torch.utils.data import Dataset\n",
    "import os\n",
    "import subprocess\n",
    "import sys"
   ]
  },
  {
   "cell_type": "code",
   "execution_count": 2,
   "metadata": {},
   "outputs": [],
   "source": [
    "os.chdir(\"..\")\n",
    "from src.utils import *"
   ]
  },
  {
   "cell_type": "code",
   "execution_count": 3,
   "metadata": {},
   "outputs": [
    {
     "name": "stdout",
     "output_type": "stream",
     "text": [
      "c:\\Users\\filip\\Documents\\code\\SV-eval\n"
     ]
    }
   ],
   "source": [
    "current_working_dir = os.getcwd()\n",
    "print(current_working_dir)"
   ]
  },
  {
   "cell_type": "code",
   "execution_count": 4,
   "metadata": {},
   "outputs": [
    {
     "data": {
      "text/html": [
       "<div>\n",
       "<style scoped>\n",
       "    .dataframe tbody tr th:only-of-type {\n",
       "        vertical-align: middle;\n",
       "    }\n",
       "\n",
       "    .dataframe tbody tr th {\n",
       "        vertical-align: top;\n",
       "    }\n",
       "\n",
       "    .dataframe thead th {\n",
       "        text-align: right;\n",
       "    }\n",
       "</style>\n",
       "<table border=\"1\" class=\"dataframe\">\n",
       "  <thead>\n",
       "    <tr style=\"text-align: right;\">\n",
       "      <th></th>\n",
       "      <th>path</th>\n",
       "      <th>person_id</th>\n",
       "      <th>utterance_filename</th>\n",
       "    </tr>\n",
       "  </thead>\n",
       "  <tbody>\n",
       "    <tr>\n",
       "      <th>0</th>\n",
       "      <td>data\\vox2_train_mp4\\id00019\\1.mp4</td>\n",
       "      <td>id00019</td>\n",
       "      <td>1.mp4</td>\n",
       "    </tr>\n",
       "    <tr>\n",
       "      <th>1</th>\n",
       "      <td>data\\vox2_train_mp4\\id00019\\10.mp4</td>\n",
       "      <td>id00019</td>\n",
       "      <td>10.mp4</td>\n",
       "    </tr>\n",
       "    <tr>\n",
       "      <th>2</th>\n",
       "      <td>data\\vox2_train_mp4\\id00019\\100.mp4</td>\n",
       "      <td>id00019</td>\n",
       "      <td>100.mp4</td>\n",
       "    </tr>\n",
       "    <tr>\n",
       "      <th>3</th>\n",
       "      <td>data\\vox2_train_mp4\\id00019\\101.mp4</td>\n",
       "      <td>id00019</td>\n",
       "      <td>101.mp4</td>\n",
       "    </tr>\n",
       "    <tr>\n",
       "      <th>4</th>\n",
       "      <td>data\\vox2_train_mp4\\id00019\\102.mp4</td>\n",
       "      <td>id00019</td>\n",
       "      <td>102.mp4</td>\n",
       "    </tr>\n",
       "    <tr>\n",
       "      <th>...</th>\n",
       "      <td>...</td>\n",
       "      <td>...</td>\n",
       "      <td>...</td>\n",
       "    </tr>\n",
       "    <tr>\n",
       "      <th>51682</th>\n",
       "      <td>data\\vox2_train_mp4\\id02411\\5.mp4</td>\n",
       "      <td>id02411</td>\n",
       "      <td>5.mp4</td>\n",
       "    </tr>\n",
       "    <tr>\n",
       "      <th>51683</th>\n",
       "      <td>data\\vox2_train_mp4\\id02411\\6.mp4</td>\n",
       "      <td>id02411</td>\n",
       "      <td>6.mp4</td>\n",
       "    </tr>\n",
       "    <tr>\n",
       "      <th>51684</th>\n",
       "      <td>data\\vox2_train_mp4\\id02411\\7.mp4</td>\n",
       "      <td>id02411</td>\n",
       "      <td>7.mp4</td>\n",
       "    </tr>\n",
       "    <tr>\n",
       "      <th>51685</th>\n",
       "      <td>data\\vox2_train_mp4\\id02411\\8.mp4</td>\n",
       "      <td>id02411</td>\n",
       "      <td>8.mp4</td>\n",
       "    </tr>\n",
       "    <tr>\n",
       "      <th>51686</th>\n",
       "      <td>data\\vox2_train_mp4\\id02411\\9.mp4</td>\n",
       "      <td>id02411</td>\n",
       "      <td>9.mp4</td>\n",
       "    </tr>\n",
       "  </tbody>\n",
       "</table>\n",
       "<p>51687 rows × 3 columns</p>\n",
       "</div>"
      ],
      "text/plain": [
       "                                      path person_id utterance_filename\n",
       "0        data\\vox2_train_mp4\\id00019\\1.mp4   id00019              1.mp4\n",
       "1       data\\vox2_train_mp4\\id00019\\10.mp4   id00019             10.mp4\n",
       "2      data\\vox2_train_mp4\\id00019\\100.mp4   id00019            100.mp4\n",
       "3      data\\vox2_train_mp4\\id00019\\101.mp4   id00019            101.mp4\n",
       "4      data\\vox2_train_mp4\\id00019\\102.mp4   id00019            102.mp4\n",
       "...                                    ...       ...                ...\n",
       "51682    data\\vox2_train_mp4\\id02411\\5.mp4   id02411              5.mp4\n",
       "51683    data\\vox2_train_mp4\\id02411\\6.mp4   id02411              6.mp4\n",
       "51684    data\\vox2_train_mp4\\id02411\\7.mp4   id02411              7.mp4\n",
       "51685    data\\vox2_train_mp4\\id02411\\8.mp4   id02411              8.mp4\n",
       "51686    data\\vox2_train_mp4\\id02411\\9.mp4   id02411              9.mp4\n",
       "\n",
       "[51687 rows x 3 columns]"
      ]
     },
     "execution_count": 4,
     "metadata": {},
     "output_type": "execute_result"
    }
   ],
   "source": [
    "path = os.path.join(\"data\", \"vox2_train_mp4\")\n",
    "df = scan_directory_voxceleb2(path)\n",
    "df"
   ]
  },
  {
   "cell_type": "code",
   "execution_count": 5,
   "metadata": {},
   "outputs": [],
   "source": [
    "def convert_mp4_to_wav(mp4_path, wav_path):\n",
    "    command = [\"ffmpeg\", \"-hide_banner\", \"-loglevel\", \"error\", \"-i\", mp4_path, wav_path]\n",
    "    subprocess.run(command, check=True)\n"
   ]
  },
  {
   "cell_type": "code",
   "execution_count": 6,
   "metadata": {},
   "outputs": [
    {
     "name": "stderr",
     "output_type": "stream",
     "text": [
      "Converting MP4 to WAV: 100%|██████████| 51687/51687 [43:01<00:00, 20.02it/s] \n"
     ]
    }
   ],
   "source": [
    "\n",
    "output_dir = os.path.join(\"data\", \"vox2_train\")\n",
    "os.makedirs(output_dir, exist_ok=True)\n",
    "\n",
    "# Iterate through the dataframe and convert each MP4 file to WAV\n",
    "for index, row in tqdm(df.iterrows(), total=len(df), desc=\"Converting MP4 to WAV\"):\n",
    "    # Create a directory for each person_id if it doesn't exist\n",
    "    person_dir = os.path.join(output_dir, row['person_id'])\n",
    "    os.makedirs(person_dir, exist_ok=True)\n",
    "    \n",
    "    mp4_file = row['path']\n",
    "    wav_file = os.path.join(person_dir, os.path.splitext(os.path.basename(mp4_file))[0] + \".wav\")\n",
    "    convert_mp4_to_wav(mp4_file, wav_file)\n"
   ]
  },
  {
   "cell_type": "code",
   "execution_count": null,
   "metadata": {},
   "outputs": [],
   "source": []
  }
 ],
 "metadata": {
  "kernelspec": {
   "display_name": ".venv",
   "language": "python",
   "name": "python3"
  },
  "language_info": {
   "codemirror_mode": {
    "name": "ipython",
    "version": 3
   },
   "file_extension": ".py",
   "mimetype": "text/x-python",
   "name": "python",
   "nbconvert_exporter": "python",
   "pygments_lexer": "ipython3",
   "version": "3.12.8"
  }
 },
 "nbformat": 4,
 "nbformat_minor": 2
}
