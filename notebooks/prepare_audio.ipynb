{
 "cells": [
  {
   "cell_type": "code",
   "execution_count": 1,
   "metadata": {},
   "outputs": [],
   "source": [
    "from tqdm import tqdm\n",
    "import numpy as np\n",
    "import torchaudio\n",
    "import torch\n",
    "import os\n",
    "import wespeaker\n",
    "import pandas as pd\n",
    "from torch.utils.data import DataLoader\n",
    "from torch.utils.data import Dataset\n",
    "import os\n",
    "import subprocess\n",
    "import sys"
   ]
  },
  {
   "cell_type": "code",
   "execution_count": 2,
   "metadata": {},
   "outputs": [],
   "source": [
    "os.chdir(\"..\")"
   ]
  },
  {
   "cell_type": "code",
   "execution_count": 3,
   "metadata": {},
   "outputs": [],
   "source": [
    "from src.utilities.prep_audio import get_audio_tensor"
   ]
  },
  {
   "cell_type": "code",
   "execution_count": 5,
   "metadata": {},
   "outputs": [],
   "source": [
    "def scan_directory_voxceleb2(test_dir):\n",
    "    data = []\n",
    "    for person_id in os.listdir(test_dir):\n",
    "        person_path = os.path.join(test_dir, person_id)\n",
    "        if os.path.isdir(person_path):\n",
    "            for file in os.listdir(person_path):\n",
    "                file_path = os.path.join(person_path, file)\n",
    "                if os.path.isfile(file_path):\n",
    "                    data.append([file_path, person_id, file])\n",
    "\n",
    "    df = pd.DataFrame(\n",
    "        data, columns=[\"path\", \"person_id\", \"utterance_filename\"]\n",
    "    )\n",
    "    return df"
   ]
  },
  {
   "cell_type": "code",
   "execution_count": 6,
   "metadata": {},
   "outputs": [],
   "source": [
    "test_dir = os.path.join(\"data\", \"vox2_train\")\n",
    "df = scan_directory_voxceleb2(test_dir)"
   ]
  },
  {
   "cell_type": "code",
   "execution_count": 7,
   "metadata": {},
   "outputs": [
    {
     "data": {
      "text/html": [
       "<div>\n",
       "<style scoped>\n",
       "    .dataframe tbody tr th:only-of-type {\n",
       "        vertical-align: middle;\n",
       "    }\n",
       "\n",
       "    .dataframe tbody tr th {\n",
       "        vertical-align: top;\n",
       "    }\n",
       "\n",
       "    .dataframe thead th {\n",
       "        text-align: right;\n",
       "    }\n",
       "</style>\n",
       "<table border=\"1\" class=\"dataframe\">\n",
       "  <thead>\n",
       "    <tr style=\"text-align: right;\">\n",
       "      <th></th>\n",
       "      <th>path</th>\n",
       "      <th>person_id</th>\n",
       "      <th>utterance_filename</th>\n",
       "    </tr>\n",
       "  </thead>\n",
       "  <tbody>\n",
       "    <tr>\n",
       "      <th>0</th>\n",
       "      <td>data\\vox2_train\\id00019\\1.wav</td>\n",
       "      <td>id00019</td>\n",
       "      <td>1.wav</td>\n",
       "    </tr>\n",
       "    <tr>\n",
       "      <th>1</th>\n",
       "      <td>data\\vox2_train\\id00019\\10.wav</td>\n",
       "      <td>id00019</td>\n",
       "      <td>10.wav</td>\n",
       "    </tr>\n",
       "    <tr>\n",
       "      <th>2</th>\n",
       "      <td>data\\vox2_train\\id00019\\100.wav</td>\n",
       "      <td>id00019</td>\n",
       "      <td>100.wav</td>\n",
       "    </tr>\n",
       "    <tr>\n",
       "      <th>3</th>\n",
       "      <td>data\\vox2_train\\id00019\\101.wav</td>\n",
       "      <td>id00019</td>\n",
       "      <td>101.wav</td>\n",
       "    </tr>\n",
       "    <tr>\n",
       "      <th>4</th>\n",
       "      <td>data\\vox2_train\\id00019\\102.wav</td>\n",
       "      <td>id00019</td>\n",
       "      <td>102.wav</td>\n",
       "    </tr>\n",
       "    <tr>\n",
       "      <th>...</th>\n",
       "      <td>...</td>\n",
       "      <td>...</td>\n",
       "      <td>...</td>\n",
       "    </tr>\n",
       "    <tr>\n",
       "      <th>51682</th>\n",
       "      <td>data\\vox2_train\\id02411\\5.wav</td>\n",
       "      <td>id02411</td>\n",
       "      <td>5.wav</td>\n",
       "    </tr>\n",
       "    <tr>\n",
       "      <th>51683</th>\n",
       "      <td>data\\vox2_train\\id02411\\6.wav</td>\n",
       "      <td>id02411</td>\n",
       "      <td>6.wav</td>\n",
       "    </tr>\n",
       "    <tr>\n",
       "      <th>51684</th>\n",
       "      <td>data\\vox2_train\\id02411\\7.wav</td>\n",
       "      <td>id02411</td>\n",
       "      <td>7.wav</td>\n",
       "    </tr>\n",
       "    <tr>\n",
       "      <th>51685</th>\n",
       "      <td>data\\vox2_train\\id02411\\8.wav</td>\n",
       "      <td>id02411</td>\n",
       "      <td>8.wav</td>\n",
       "    </tr>\n",
       "    <tr>\n",
       "      <th>51686</th>\n",
       "      <td>data\\vox2_train\\id02411\\9.wav</td>\n",
       "      <td>id02411</td>\n",
       "      <td>9.wav</td>\n",
       "    </tr>\n",
       "  </tbody>\n",
       "</table>\n",
       "<p>51687 rows × 3 columns</p>\n",
       "</div>"
      ],
      "text/plain": [
       "                                  path person_id utterance_filename\n",
       "0        data\\vox2_train\\id00019\\1.wav   id00019              1.wav\n",
       "1       data\\vox2_train\\id00019\\10.wav   id00019             10.wav\n",
       "2      data\\vox2_train\\id00019\\100.wav   id00019            100.wav\n",
       "3      data\\vox2_train\\id00019\\101.wav   id00019            101.wav\n",
       "4      data\\vox2_train\\id00019\\102.wav   id00019            102.wav\n",
       "...                                ...       ...                ...\n",
       "51682    data\\vox2_train\\id02411\\5.wav   id02411              5.wav\n",
       "51683    data\\vox2_train\\id02411\\6.wav   id02411              6.wav\n",
       "51684    data\\vox2_train\\id02411\\7.wav   id02411              7.wav\n",
       "51685    data\\vox2_train\\id02411\\8.wav   id02411              8.wav\n",
       "51686    data\\vox2_train\\id02411\\9.wav   id02411              9.wav\n",
       "\n",
       "[51687 rows x 3 columns]"
      ]
     },
     "execution_count": 7,
     "metadata": {},
     "output_type": "execute_result"
    }
   ],
   "source": [
    "df"
   ]
  },
  {
   "cell_type": "code",
   "execution_count": 8,
   "metadata": {},
   "outputs": [
    {
     "name": "stderr",
     "output_type": "stream",
     "text": [
      "  0%|          | 63/51687 [00:01<13:47, 62.41it/s]"
     ]
    },
    {
     "name": "stdout",
     "output_type": "stream",
     "text": [
      "Error reading file data\\vox2_train\\id00019\\148.wav: The audio waveform is too short to create even one segment of length 63488, expected at least 64000\n"
     ]
    },
    {
     "name": "stderr",
     "output_type": "stream",
     "text": [
      "  0%|          | 127/51687 [00:01<12:08, 70.75it/s]"
     ]
    },
    {
     "name": "stdout",
     "output_type": "stream",
     "text": [
      "Error reading file data\\vox2_train\\id00019\\45.wav: The audio waveform is too short to create even one segment of length 63488, expected at least 64000\n"
     ]
    },
    {
     "name": "stderr",
     "output_type": "stream",
     "text": [
      "  1%|          | 267/51687 [00:04<14:30, 59.06it/s]"
     ]
    },
    {
     "name": "stdout",
     "output_type": "stream",
     "text": [
      "Error reading file data\\vox2_train\\id00022\\17.wav: The audio waveform is too short to create even one segment of length 63488, expected at least 64000\n"
     ]
    },
    {
     "name": "stderr",
     "output_type": "stream",
     "text": [
      "  1%|          | 347/51687 [00:05<17:14, 49.62it/s]"
     ]
    },
    {
     "name": "stdout",
     "output_type": "stream",
     "text": [
      "Error reading file data\\vox2_train\\id00022\\245.wav: The audio waveform is too short to create even one segment of length 63488, expected at least 64000\n"
     ]
    },
    {
     "name": "stderr",
     "output_type": "stream",
     "text": [
      "  1%|          | 436/51687 [00:07<13:32, 63.08it/s]"
     ]
    },
    {
     "name": "stdout",
     "output_type": "stream",
     "text": [
      "Error reading file data\\vox2_train\\id00022\\325.wav: The audio waveform is too short to create even one segment of length 63488, expected at least 64000\n"
     ]
    },
    {
     "name": "stderr",
     "output_type": "stream",
     "text": [
      "  1%|          | 450/51687 [00:07<14:02, 60.79it/s]"
     ]
    },
    {
     "name": "stdout",
     "output_type": "stream",
     "text": [
      "Error reading file data\\vox2_train\\id00022\\337.wav: The audio waveform is too short to create even one segment of length 63488, expected at least 64000\n"
     ]
    },
    {
     "name": "stderr",
     "output_type": "stream",
     "text": [
      "  1%|          | 564/51687 [00:09<13:46, 61.82it/s]"
     ]
    },
    {
     "name": "stdout",
     "output_type": "stream",
     "text": [
      "Error reading file data\\vox2_train\\id00022\\50.wav: The audio waveform is too short to create even one segment of length 63488, expected at least 64000\n"
     ]
    },
    {
     "name": "stderr",
     "output_type": "stream",
     "text": [
      "  1%|          | 592/51687 [00:10<14:55, 57.04it/s]"
     ]
    },
    {
     "name": "stdout",
     "output_type": "stream",
     "text": [
      "Error reading file data\\vox2_train\\id00022\\75.wav: The audio waveform is too short to create even one segment of length 63488, expected at least 64000\n"
     ]
    },
    {
     "name": "stderr",
     "output_type": "stream",
     "text": [
      "  1%|▏         | 665/51687 [00:11<12:09, 69.96it/s]"
     ]
    },
    {
     "name": "stdout",
     "output_type": "stream",
     "text": [
      "Error reading file data\\vox2_train\\id00026\\47.wav: The audio waveform is too short to create even one segment of length 63488, expected at least 64000\n"
     ]
    },
    {
     "name": "stderr",
     "output_type": "stream",
     "text": [
      "  1%|▏         | 698/51687 [00:11<11:26, 74.31it/s]"
     ]
    },
    {
     "name": "stdout",
     "output_type": "stream",
     "text": [
      "Error reading file data\\vox2_train\\id00036\\31.wav: The audio waveform is too short to create even one segment of length 63488, expected at least 64000\n"
     ]
    },
    {
     "name": "stderr",
     "output_type": "stream",
     "text": [
      "  1%|▏         | 732/51687 [00:12<11:15, 75.41it/s]"
     ]
    },
    {
     "name": "stdout",
     "output_type": "stream",
     "text": [
      "Error reading file data\\vox2_train\\id00036\\6.wav: The audio waveform is too short to create even one segment of length 63488, expected at least 64000\n"
     ]
    },
    {
     "name": "stderr",
     "output_type": "stream",
     "text": [
      "  1%|▏         | 751/51687 [00:12<11:23, 74.55it/s]"
     ]
    },
    {
     "name": "stdout",
     "output_type": "stream",
     "text": [
      "Error reading file data\\vox2_train\\id00036\\78.wav: The audio waveform is too short to create even one segment of length 63488, expected at least 64000\n"
     ]
    },
    {
     "name": "stderr",
     "output_type": "stream",
     "text": [
      "  2%|▏         | 813/51687 [00:13<11:31, 73.58it/s]"
     ]
    },
    {
     "name": "stdout",
     "output_type": "stream",
     "text": [
      "Error reading file data\\vox2_train\\id00040\\136.wav: The audio waveform is too short to create even one segment of length 63488, expected at least 64000\n"
     ]
    },
    {
     "name": "stderr",
     "output_type": "stream",
     "text": [
      "  2%|▏         | 976/51687 [00:15<11:17, 74.84it/s]"
     ]
    },
    {
     "name": "stdout",
     "output_type": "stream",
     "text": [
      "Error reading file data\\vox2_train\\id00040\\91.wav: The audio waveform is too short to create even one segment of length 63488, expected at least 64000\n"
     ]
    },
    {
     "name": "stderr",
     "output_type": "stream",
     "text": [
      "  2%|▏         | 1040/51687 [00:16<11:20, 74.46it/s]"
     ]
    },
    {
     "name": "stdout",
     "output_type": "stream",
     "text": [
      "Error reading file data\\vox2_train\\id00056\\8.wav: The audio waveform is too short to create even one segment of length 63488, expected at least 64000\n"
     ]
    },
    {
     "name": "stderr",
     "output_type": "stream",
     "text": [
      "  2%|▏         | 1090/51687 [00:17<14:25, 58.45it/s]"
     ]
    },
    {
     "name": "stdout",
     "output_type": "stream",
     "text": [
      "Error reading file data\\vox2_train\\id00059\\32.wav: The audio waveform is too short to create even one segment of length 63488, expected at least 64000\n"
     ]
    },
    {
     "name": "stderr",
     "output_type": "stream",
     "text": [
      "  2%|▏         | 1217/51687 [00:19<11:17, 74.49it/s]"
     ]
    },
    {
     "name": "stdout",
     "output_type": "stream",
     "text": [
      "Error reading file data\\vox2_train\\id00067\\58.wav: The audio waveform is too short to create even one segment of length 63488, expected at least 64000\n",
      "Error reading file data\\vox2_train\\id00067\\61.wav: The audio waveform is too short to create even one segment of length 63488, expected at least 64000\n"
     ]
    },
    {
     "name": "stderr",
     "output_type": "stream",
     "text": [
      "  2%|▏         | 1287/51687 [00:20<14:53, 56.43it/s]"
     ]
    },
    {
     "name": "stdout",
     "output_type": "stream",
     "text": [
      "Error reading file data\\vox2_train\\id00078\\135.wav: The audio waveform is too short to create even one segment of length 63488, expected at least 64000\n"
     ]
    },
    {
     "name": "stderr",
     "output_type": "stream",
     "text": [
      "  3%|▎         | 1337/51687 [00:21<16:07, 52.02it/s]"
     ]
    },
    {
     "name": "stdout",
     "output_type": "stream",
     "text": [
      "Error reading file data\\vox2_train\\id00078\\178.wav: The audio waveform is too short to create even one segment of length 63488, expected at least 64000\n"
     ]
    },
    {
     "name": "stderr",
     "output_type": "stream",
     "text": [
      "  3%|▎         | 1403/51687 [00:22<11:55, 70.24it/s]"
     ]
    },
    {
     "name": "stdout",
     "output_type": "stream",
     "text": [
      "Error reading file data\\vox2_train\\id00078\\24.wav: The audio waveform is too short to create even one segment of length 63488, expected at least 64000\n",
      "Error reading file data\\vox2_train\\id00078\\245.wav: The audio waveform is too short to create even one segment of length 63488, expected at least 64000\n"
     ]
    },
    {
     "name": "stderr",
     "output_type": "stream",
     "text": [
      "  3%|▎         | 1547/51687 [00:25<12:22, 67.57it/s]"
     ]
    },
    {
     "name": "stdout",
     "output_type": "stream",
     "text": [
      "Error reading file data\\vox2_train\\id00078\\369.wav: The audio waveform is too short to create even one segment of length 63488, expected at least 64000\n"
     ]
    },
    {
     "name": "stderr",
     "output_type": "stream",
     "text": [
      "  3%|▎         | 1568/51687 [00:25<12:25, 67.20it/s]"
     ]
    },
    {
     "name": "stdout",
     "output_type": "stream",
     "text": [
      "Error reading file data\\vox2_train\\id00078\\388.wav: The audio waveform is too short to create even one segment of length 63488, expected at least 64000\n"
     ]
    },
    {
     "name": "stderr",
     "output_type": "stream",
     "text": [
      "  4%|▎         | 1934/51687 [00:31<11:18, 73.34it/s]"
     ]
    },
    {
     "name": "stdout",
     "output_type": "stream",
     "text": [
      "Error reading file data\\vox2_train\\id00080\\41.wav: The audio waveform is too short to create even one segment of length 63488, expected at least 64000\n"
     ]
    },
    {
     "name": "stderr",
     "output_type": "stream",
     "text": [
      "  4%|▍         | 2163/51687 [00:34<10:33, 78.16it/s]"
     ]
    },
    {
     "name": "stdout",
     "output_type": "stream",
     "text": [
      "Error reading file data\\vox2_train\\id00084\\20.wav: The audio waveform is too short to create even one segment of length 63488, expected at least 64000\n"
     ]
    },
    {
     "name": "stderr",
     "output_type": "stream",
     "text": [
      "  4%|▍         | 2210/51687 [00:35<11:13, 73.44it/s]"
     ]
    },
    {
     "name": "stdout",
     "output_type": "stream",
     "text": [
      "Error reading file data\\vox2_train\\id00084\\242.wav: The audio waveform is too short to create even one segment of length 63488, expected at least 64000\n"
     ]
    },
    {
     "name": "stderr",
     "output_type": "stream",
     "text": [
      "  4%|▍         | 2316/51687 [00:36<11:03, 74.45it/s]"
     ]
    },
    {
     "name": "stdout",
     "output_type": "stream",
     "text": [
      "Error reading file data\\vox2_train\\id00084\\341.wav: The audio waveform is too short to create even one segment of length 63488, expected at least 64000\n"
     ]
    },
    {
     "name": "stderr",
     "output_type": "stream",
     "text": [
      "  5%|▍         | 2380/51687 [00:37<09:21, 87.75it/s]"
     ]
    },
    {
     "name": "stdout",
     "output_type": "stream",
     "text": [
      "Error reading file data\\vox2_train\\id00084\\388.wav: The audio waveform is too short to create even one segment of length 63488, expected at least 64000\n",
      "Error reading file data\\vox2_train\\id00084\\396.wav: The audio waveform is too short to create even one segment of length 63488, expected at least 64000\n",
      "Error reading file data\\vox2_train\\id00084\\399.wav: The audio waveform is too short to create even one segment of length 63488, expected at least 64000\n",
      "Error reading file data\\vox2_train\\id00084\\405.wav: The audio waveform is too short to create even one segment of length 63488, expected at least 64000\n"
     ]
    },
    {
     "name": "stderr",
     "output_type": "stream",
     "text": [
      "  5%|▍         | 2499/51687 [00:39<10:33, 77.71it/s]"
     ]
    },
    {
     "name": "stdout",
     "output_type": "stream",
     "text": [
      "Error reading file data\\vox2_train\\id00085\\4.wav: The audio waveform is too short to create even one segment of length 63488, expected at least 64000\n"
     ]
    },
    {
     "name": "stderr",
     "output_type": "stream",
     "text": [
      "  5%|▍         | 2515/51687 [00:39<12:45, 64.24it/s]"
     ]
    },
    {
     "name": "stdout",
     "output_type": "stream",
     "text": [
      "Error reading file data\\vox2_train\\id00090\\106.wav: The audio waveform is too short to create even one segment of length 63488, expected at least 64000\n"
     ]
    },
    {
     "name": "stderr",
     "output_type": "stream",
     "text": [
      "  5%|▍         | 2559/51687 [00:40<11:21, 72.13it/s]"
     ]
    },
    {
     "name": "stdout",
     "output_type": "stream",
     "text": [
      "Error reading file data\\vox2_train\\id00090\\145.wav: The audio waveform is too short to create even one segment of length 63488, expected at least 64000\n"
     ]
    },
    {
     "name": "stderr",
     "output_type": "stream",
     "text": [
      "  5%|▍         | 2577/51687 [00:40<10:52, 75.28it/s]"
     ]
    },
    {
     "name": "stdout",
     "output_type": "stream",
     "text": [
      "Error reading file data\\vox2_train\\id00090\\17.wav: The audio waveform is too short to create even one segment of length 63488, expected at least 64000\n"
     ]
    },
    {
     "name": "stderr",
     "output_type": "stream",
     "text": [
      "  5%|▌         | 2687/51687 [00:42<10:40, 76.44it/s]"
     ]
    },
    {
     "name": "stdout",
     "output_type": "stream",
     "text": [
      "Error reading file data\\vox2_train\\id00096\\114.wav: The audio waveform is too short to create even one segment of length 63488, expected at least 64000\n"
     ]
    },
    {
     "name": "stderr",
     "output_type": "stream",
     "text": [
      "  5%|▌         | 2723/51687 [00:42<10:20, 78.89it/s]"
     ]
    },
    {
     "name": "stdout",
     "output_type": "stream",
     "text": [
      "Error reading file data\\vox2_train\\id00096\\144.wav: The audio waveform is too short to create even one segment of length 63488, expected at least 64000\n"
     ]
    },
    {
     "name": "stderr",
     "output_type": "stream",
     "text": [
      "  5%|▌         | 2752/51687 [00:42<10:01, 81.34it/s]"
     ]
    },
    {
     "name": "stdout",
     "output_type": "stream",
     "text": [
      "Error reading file data\\vox2_train\\id00096\\173.wav: The audio waveform is too short to create even one segment of length 63488, expected at least 64000\n",
      "Error reading file data\\vox2_train\\id00096\\18.wav: The audio waveform is too short to create even one segment of length 63488, expected at least 64000\n"
     ]
    },
    {
     "name": "stderr",
     "output_type": "stream",
     "text": [
      "  6%|▌         | 2862/51687 [00:44<10:11, 79.85it/s]"
     ]
    },
    {
     "name": "stdout",
     "output_type": "stream",
     "text": [
      "Error reading file data\\vox2_train\\id00109\\17.wav: The audio waveform is too short to create even one segment of length 63488, expected at least 64000\n",
      "Error reading file data\\vox2_train\\id00109\\24.wav: The audio waveform is too short to create even one segment of length 63488, expected at least 64000\n"
     ]
    },
    {
     "name": "stderr",
     "output_type": "stream",
     "text": [
      "  6%|▌         | 2959/51687 [00:46<15:30, 52.37it/s]"
     ]
    },
    {
     "name": "stdout",
     "output_type": "stream",
     "text": [
      "Error reading file data\\vox2_train\\id00111\\166.wav: The audio waveform is too short to create even one segment of length 63488, expected at least 64000\n"
     ]
    },
    {
     "name": "stderr",
     "output_type": "stream",
     "text": [
      "  6%|▌         | 3060/51687 [00:47<13:04, 61.97it/s]"
     ]
    },
    {
     "name": "stdout",
     "output_type": "stream",
     "text": [
      "Error reading file data\\vox2_train\\id00111\\251.wav: The audio waveform is too short to create even one segment of length 63488, expected at least 64000\n"
     ]
    },
    {
     "name": "stderr",
     "output_type": "stream",
     "text": [
      "  6%|▋         | 3241/51687 [00:51<13:13, 61.07it/s]"
     ]
    },
    {
     "name": "stdout",
     "output_type": "stream",
     "text": [
      "Error reading file data\\vox2_train\\id00137\\11.wav: The audio waveform is too short to create even one segment of length 63488, expected at least 64000\n",
      "Error reading file data\\vox2_train\\id00137\\17.wav: The audio waveform is too short to create even one segment of length 63488, expected at least 64000\n"
     ]
    },
    {
     "name": "stderr",
     "output_type": "stream",
     "text": [
      "  6%|▋         | 3347/51687 [00:53<10:35, 76.10it/s]"
     ]
    },
    {
     "name": "stdout",
     "output_type": "stream",
     "text": [
      "Error reading file data\\vox2_train\\id00177\\120.wav: The audio waveform is too short to create even one segment of length 63488, expected at least 64000\n",
      "Error reading file data\\vox2_train\\id00177\\133.wav: The audio waveform is too short to create even one segment of length 63488, expected at least 64000\n"
     ]
    },
    {
     "name": "stderr",
     "output_type": "stream",
     "text": [
      "  7%|▋         | 3477/51687 [00:54<11:22, 70.67it/s]"
     ]
    },
    {
     "name": "stdout",
     "output_type": "stream",
     "text": [
      "Error reading file data\\vox2_train\\id00177\\58.wav: The audio waveform is too short to create even one segment of length 63488, expected at least 64000\n"
     ]
    },
    {
     "name": "stderr",
     "output_type": "stream",
     "text": [
      "  7%|▋         | 3512/51687 [00:55<10:14, 78.40it/s]"
     ]
    },
    {
     "name": "stdout",
     "output_type": "stream",
     "text": [
      "Error reading file data\\vox2_train\\id00177\\85.wav: The audio waveform is too short to create even one segment of length 63488, expected at least 64000\n"
     ]
    },
    {
     "name": "stderr",
     "output_type": "stream",
     "text": [
      "  7%|▋         | 3544/51687 [00:55<11:43, 68.42it/s]"
     ]
    },
    {
     "name": "stdout",
     "output_type": "stream",
     "text": [
      "Error reading file data\\vox2_train\\id00186\\118.wav: The audio waveform is too short to create even one segment of length 63488, expected at least 64000\n"
     ]
    },
    {
     "name": "stderr",
     "output_type": "stream",
     "text": [
      "  7%|▋         | 3676/51687 [00:57<11:09, 71.71it/s]"
     ]
    },
    {
     "name": "stdout",
     "output_type": "stream",
     "text": [
      "Error reading file data\\vox2_train\\id00186\\233.wav: The audio waveform is too short to create even one segment of length 63488, expected at least 64000\n"
     ]
    },
    {
     "name": "stderr",
     "output_type": "stream",
     "text": [
      "  7%|▋         | 3700/51687 [00:58<12:51, 62.19it/s]"
     ]
    },
    {
     "name": "stdout",
     "output_type": "stream",
     "text": [
      "Error reading file data\\vox2_train\\id00186\\259.wav: The audio waveform is too short to create even one segment of length 63488, expected at least 64000\n"
     ]
    },
    {
     "name": "stderr",
     "output_type": "stream",
     "text": [
      "  7%|▋         | 3811/51687 [00:59<10:06, 78.93it/s]"
     ]
    },
    {
     "name": "stdout",
     "output_type": "stream",
     "text": [
      "Error reading file data\\vox2_train\\id00187\\120.wav: The audio waveform is too short to create even one segment of length 63488, expected at least 64000\n"
     ]
    },
    {
     "name": "stderr",
     "output_type": "stream",
     "text": [
      "  7%|▋         | 3845/51687 [01:00<10:27, 76.22it/s]"
     ]
    },
    {
     "name": "stdout",
     "output_type": "stream",
     "text": [
      "Error reading file data\\vox2_train\\id00187\\151.wav: The audio waveform is too short to create even one segment of length 63488, expected at least 64000\n"
     ]
    },
    {
     "name": "stderr",
     "output_type": "stream",
     "text": [
      "  8%|▊         | 4175/51687 [01:06<13:10, 60.08it/s]"
     ]
    },
    {
     "name": "stdout",
     "output_type": "stream",
     "text": [
      "Error reading file data\\vox2_train\\id00187\\45.wav: The audio waveform is too short to create even one segment of length 63488, expected at least 64000\n",
      "Error reading file data\\vox2_train\\id00187\\461.wav: The audio waveform is too short to create even one segment of length 63488, expected at least 64000\n"
     ]
    },
    {
     "name": "stderr",
     "output_type": "stream",
     "text": [
      "  8%|▊         | 4260/51687 [01:08<13:06, 60.32it/s]"
     ]
    },
    {
     "name": "stdout",
     "output_type": "stream",
     "text": [
      "Error reading file data\\vox2_train\\id00188\\2.wav: The audio waveform is too short to create even one segment of length 63488, expected at least 64000\n"
     ]
    },
    {
     "name": "stderr",
     "output_type": "stream",
     "text": [
      "  8%|▊         | 4375/51687 [01:10<12:28, 63.22it/s]"
     ]
    },
    {
     "name": "stdout",
     "output_type": "stream",
     "text": [
      "Error reading file data\\vox2_train\\id00198\\172.wav: The audio waveform is too short to create even one segment of length 63488, expected at least 64000\n"
     ]
    },
    {
     "name": "stderr",
     "output_type": "stream",
     "text": [
      "  9%|▊         | 4402/51687 [01:10<10:23, 75.81it/s]"
     ]
    },
    {
     "name": "stdout",
     "output_type": "stream",
     "text": [
      "Error reading file data\\vox2_train\\id00198\\192.wav: The audio waveform is too short to create even one segment of length 63488, expected at least 64000\n"
     ]
    },
    {
     "name": "stderr",
     "output_type": "stream",
     "text": [
      "  9%|▉         | 4648/51687 [01:14<10:01, 78.17it/s]"
     ]
    },
    {
     "name": "stdout",
     "output_type": "stream",
     "text": [
      "Error reading file data\\vox2_train\\id00198\\93.wav: The audio waveform is too short to create even one segment of length 63488, expected at least 64000\n"
     ]
    },
    {
     "name": "stderr",
     "output_type": "stream",
     "text": [
      "  9%|▉         | 4675/51687 [01:14<09:58, 78.57it/s]"
     ]
    },
    {
     "name": "stdout",
     "output_type": "stream",
     "text": [
      "Error reading file data\\vox2_train\\id00201\\27.wav: The audio waveform is too short to create even one segment of length 63488, expected at least 64000\n"
     ]
    },
    {
     "name": "stderr",
     "output_type": "stream",
     "text": [
      "  9%|▉         | 4795/51687 [01:16<10:22, 75.34it/s]"
     ]
    },
    {
     "name": "stdout",
     "output_type": "stream",
     "text": [
      "Error reading file data\\vox2_train\\id00206\\77.wav: The audio waveform is too short to create even one segment of length 63488, expected at least 64000\n",
      "Error reading file data\\vox2_train\\id00206\\79.wav: The audio waveform is too short to create even one segment of length 63488, expected at least 64000\n"
     ]
    },
    {
     "name": "stderr",
     "output_type": "stream",
     "text": [
      "  9%|▉         | 4827/51687 [01:16<11:10, 69.94it/s]"
     ]
    },
    {
     "name": "stdout",
     "output_type": "stream",
     "text": [
      "Error reading file data\\vox2_train\\id00221\\14.wav: The audio waveform is too short to create even one segment of length 63488, expected at least 64000\n",
      "Error reading file data\\vox2_train\\id00221\\18.wav: The audio waveform is too short to create even one segment of length 63488, expected at least 64000\n"
     ]
    },
    {
     "name": "stderr",
     "output_type": "stream",
     "text": [
      "  9%|▉         | 4845/51687 [01:17<10:39, 73.22it/s]"
     ]
    },
    {
     "name": "stdout",
     "output_type": "stream",
     "text": [
      "Error reading file data\\vox2_train\\id00221\\34.wav: The audio waveform is too short to create even one segment of length 63488, expected at least 64000\n"
     ]
    },
    {
     "name": "stderr",
     "output_type": "stream",
     "text": [
      "  9%|▉         | 4883/51687 [01:17<11:26, 68.19it/s]"
     ]
    },
    {
     "name": "stdout",
     "output_type": "stream",
     "text": [
      "Error reading file data\\vox2_train\\id00221\\58.wav: The audio waveform is too short to create even one segment of length 63488, expected at least 64000\n",
      "Error reading file data\\vox2_train\\id00221\\67.wav: The audio waveform is too short to create even one segment of length 63488, expected at least 64000\n"
     ]
    },
    {
     "name": "stderr",
     "output_type": "stream",
     "text": [
      " 10%|▉         | 5023/51687 [01:20<12:43, 61.10it/s]"
     ]
    },
    {
     "name": "stdout",
     "output_type": "stream",
     "text": [
      "Error reading file data\\vox2_train\\id00231\\7.wav: The audio waveform is too short to create even one segment of length 63488, expected at least 64000\n"
     ]
    },
    {
     "name": "stderr",
     "output_type": "stream",
     "text": [
      " 10%|█         | 5241/51687 [01:23<10:31, 73.53it/s]"
     ]
    },
    {
     "name": "stdout",
     "output_type": "stream",
     "text": [
      "Error reading file data\\vox2_train\\id00245\\65.wav: The audio waveform is too short to create even one segment of length 63488, expected at least 64000\n"
     ]
    },
    {
     "name": "stderr",
     "output_type": "stream",
     "text": [
      " 10%|█         | 5265/51687 [01:23<11:19, 68.32it/s]"
     ]
    },
    {
     "name": "stdout",
     "output_type": "stream",
     "text": [
      "Error reading file data\\vox2_train\\id00245\\88.wav: The audio waveform is too short to create even one segment of length 63488, expected at least 64000\n",
      "Error reading file data\\vox2_train\\id00253\\15.wav: The audio waveform is too short to create even one segment of length 63488, expected at least 64000\n"
     ]
    },
    {
     "name": "stderr",
     "output_type": "stream",
     "text": [
      " 10%|█         | 5331/51687 [01:24<12:59, 59.43it/s]"
     ]
    },
    {
     "name": "stdout",
     "output_type": "stream",
     "text": [
      "Error reading file data\\vox2_train\\id00270\\125.wav: The audio waveform is too short to create even one segment of length 63488, expected at least 64000\n"
     ]
    },
    {
     "name": "stderr",
     "output_type": "stream",
     "text": [
      " 10%|█         | 5419/51687 [01:25<09:43, 79.29it/s]"
     ]
    },
    {
     "name": "stdout",
     "output_type": "stream",
     "text": [
      "Error reading file data\\vox2_train\\id00270\\69.wav: The audio waveform is too short to create even one segment of length 63488, expected at least 64000\n"
     ]
    },
    {
     "name": "stderr",
     "output_type": "stream",
     "text": [
      " 11%|█         | 5526/51687 [01:27<10:18, 74.69it/s]"
     ]
    },
    {
     "name": "stdout",
     "output_type": "stream",
     "text": [
      "Error reading file data\\vox2_train\\id00282\\159.wav: The audio waveform is too short to create even one segment of length 63488, expected at least 64000\n"
     ]
    },
    {
     "name": "stderr",
     "output_type": "stream",
     "text": [
      " 11%|█         | 5559/51687 [01:27<10:18, 74.57it/s]"
     ]
    },
    {
     "name": "stdout",
     "output_type": "stream",
     "text": [
      "Error reading file data\\vox2_train\\id00282\\188.wav: The audio waveform is too short to create even one segment of length 63488, expected at least 64000\n",
      "Error reading file data\\vox2_train\\id00282\\189.wav: The audio waveform is too short to create even one segment of length 63488, expected at least 64000\n"
     ]
    },
    {
     "name": "stderr",
     "output_type": "stream",
     "text": [
      " 11%|█         | 5617/51687 [01:28<10:20, 74.25it/s]"
     ]
    },
    {
     "name": "stdout",
     "output_type": "stream",
     "text": [
      "Error reading file data\\vox2_train\\id00282\\239.wav: The audio waveform is too short to create even one segment of length 63488, expected at least 64000\n",
      "Error reading file data\\vox2_train\\id00282\\240.wav: The audio waveform is too short to create even one segment of length 63488, expected at least 64000\n"
     ]
    },
    {
     "name": "stderr",
     "output_type": "stream",
     "text": [
      " 11%|█         | 5665/51687 [01:29<09:27, 81.07it/s]"
     ]
    },
    {
     "name": "stdout",
     "output_type": "stream",
     "text": [
      "Error reading file data\\vox2_train\\id00282\\283.wav: The audio waveform is too short to create even one segment of length 63488, expected at least 64000\n"
     ]
    },
    {
     "name": "stderr",
     "output_type": "stream",
     "text": [
      " 11%|█         | 5744/51687 [01:30<09:44, 78.59it/s]"
     ]
    },
    {
     "name": "stdout",
     "output_type": "stream",
     "text": [
      "Error reading file data\\vox2_train\\id00282\\354.wav: The audio waveform is too short to create even one segment of length 63488, expected at least 64000\n"
     ]
    },
    {
     "name": "stderr",
     "output_type": "stream",
     "text": [
      " 11%|█         | 5762/51687 [01:30<10:15, 74.59it/s]"
     ]
    },
    {
     "name": "stdout",
     "output_type": "stream",
     "text": [
      "Error reading file data\\vox2_train\\id00282\\372.wav: The audio waveform is too short to create even one segment of length 63488, expected at least 64000\n"
     ]
    },
    {
     "name": "stderr",
     "output_type": "stream",
     "text": [
      " 11%|█▏        | 5828/51687 [01:31<09:50, 77.69it/s]"
     ]
    },
    {
     "name": "stdout",
     "output_type": "stream",
     "text": [
      "Error reading file data\\vox2_train\\id00282\\433.wav: The audio waveform is too short to create even one segment of length 63488, expected at least 64000\n"
     ]
    },
    {
     "name": "stderr",
     "output_type": "stream",
     "text": [
      " 11%|█▏        | 5913/51687 [01:32<11:47, 64.74it/s]"
     ]
    },
    {
     "name": "stdout",
     "output_type": "stream",
     "text": [
      "Error reading file data\\vox2_train\\id00302\\105.wav: The audio waveform is too short to create even one segment of length 63488, expected at least 64000\n"
     ]
    },
    {
     "name": "stderr",
     "output_type": "stream",
     "text": [
      " 12%|█▏        | 5956/51687 [01:33<11:38, 65.49it/s]"
     ]
    },
    {
     "name": "stdout",
     "output_type": "stream",
     "text": [
      "Error reading file data\\vox2_train\\id00302\\141.wav: The audio waveform is too short to create even one segment of length 63488, expected at least 64000\n"
     ]
    },
    {
     "name": "stderr",
     "output_type": "stream",
     "text": [
      " 12%|█▏        | 6052/51687 [01:34<08:12, 92.59it/s]"
     ]
    },
    {
     "name": "stdout",
     "output_type": "stream",
     "text": [
      "Error reading file data\\vox2_train\\id00302\\227.wav: The audio waveform is too short to create even one segment of length 63488, expected at least 64000\n",
      "Error reading file data\\vox2_train\\id00302\\234.wav: The audio waveform is too short to create even one segment of length 63488, expected at least 64000\n"
     ]
    },
    {
     "name": "stderr",
     "output_type": "stream",
     "text": [
      " 12%|█▏        | 6180/51687 [01:36<09:22, 80.97it/s]"
     ]
    },
    {
     "name": "stdout",
     "output_type": "stream",
     "text": [
      "Error reading file data\\vox2_train\\id00309\\13.wav: The audio waveform is too short to create even one segment of length 63488, expected at least 64000\n"
     ]
    },
    {
     "name": "stderr",
     "output_type": "stream",
     "text": [
      " 12%|█▏        | 6208/51687 [01:36<08:51, 85.63it/s]"
     ]
    },
    {
     "name": "stdout",
     "output_type": "stream",
     "text": [
      "Error reading file data\\vox2_train\\id00309\\154.wav: The audio waveform is too short to create even one segment of length 63488, expected at least 64000\n"
     ]
    },
    {
     "name": "stderr",
     "output_type": "stream",
     "text": [
      " 12%|█▏        | 6229/51687 [01:36<08:13, 92.09it/s]"
     ]
    },
    {
     "name": "stdout",
     "output_type": "stream",
     "text": [
      "Error reading file data\\vox2_train\\id00309\\2.wav: The audio waveform is too short to create even one segment of length 63488, expected at least 64000\n",
      "Error reading file data\\vox2_train\\id00309\\24.wav: The audio waveform is too short to create even one segment of length 63488, expected at least 64000\n",
      "Error reading file data\\vox2_train\\id00309\\29.wav: The audio waveform is too short to create even one segment of length 63488, expected at least 64000\n"
     ]
    },
    {
     "name": "stderr",
     "output_type": "stream",
     "text": [
      " 12%|█▏        | 6258/51687 [01:37<09:06, 83.18it/s]"
     ]
    },
    {
     "name": "stdout",
     "output_type": "stream",
     "text": [
      "Error reading file data\\vox2_train\\id00309\\43.wav: The audio waveform is too short to create even one segment of length 63488, expected at least 64000\n"
     ]
    },
    {
     "name": "stderr",
     "output_type": "stream",
     "text": [
      " 12%|█▏        | 6292/51687 [01:37<10:37, 71.19it/s]"
     ]
    },
    {
     "name": "stdout",
     "output_type": "stream",
     "text": [
      "Error reading file data\\vox2_train\\id00309\\79.wav: The audio waveform is too short to create even one segment of length 63488, expected at least 64000\n"
     ]
    },
    {
     "name": "stderr",
     "output_type": "stream",
     "text": [
      " 12%|█▏        | 6360/51687 [01:38<12:10, 62.01it/s]"
     ]
    },
    {
     "name": "stdout",
     "output_type": "stream",
     "text": [
      "Error reading file data\\vox2_train\\id00318\\142.wav: The audio waveform is too short to create even one segment of length 63488, expected at least 64000\n"
     ]
    },
    {
     "name": "stderr",
     "output_type": "stream",
     "text": [
      " 13%|█▎        | 6493/51687 [01:40<09:51, 76.38it/s]"
     ]
    },
    {
     "name": "stdout",
     "output_type": "stream",
     "text": [
      "Error reading file data\\vox2_train\\id00318\\259.wav: The audio waveform is too short to create even one segment of length 63488, expected at least 64000\n"
     ]
    },
    {
     "name": "stderr",
     "output_type": "stream",
     "text": [
      " 13%|█▎        | 6530/51687 [01:41<09:14, 81.43it/s]"
     ]
    },
    {
     "name": "stdout",
     "output_type": "stream",
     "text": [
      "Error reading file data\\vox2_train\\id00318\\293.wav: The audio waveform is too short to create even one segment of length 63488, expected at least 64000\n"
     ]
    },
    {
     "name": "stderr",
     "output_type": "stream",
     "text": [
      " 13%|█▎        | 6585/51687 [01:42<12:12, 61.56it/s]"
     ]
    },
    {
     "name": "stdout",
     "output_type": "stream",
     "text": [
      "Error reading file data\\vox2_train\\id00318\\7.wav: The audio waveform is too short to create even one segment of length 63488, expected at least 64000\n"
     ]
    },
    {
     "name": "stderr",
     "output_type": "stream",
     "text": [
      " 13%|█▎        | 6601/51687 [01:42<11:15, 66.71it/s]"
     ]
    },
    {
     "name": "stdout",
     "output_type": "stream",
     "text": [
      "Error reading file data\\vox2_train\\id00318\\91.wav: The audio waveform is too short to create even one segment of length 63488, expected at least 64000\n"
     ]
    },
    {
     "name": "stderr",
     "output_type": "stream",
     "text": [
      " 13%|█▎        | 6624/51687 [01:42<11:54, 63.03it/s]"
     ]
    },
    {
     "name": "stdout",
     "output_type": "stream",
     "text": [
      "Error reading file data\\vox2_train\\id00324\\105.wav: The audio waveform is too short to create even one segment of length 63488, expected at least 64000\n"
     ]
    },
    {
     "name": "stderr",
     "output_type": "stream",
     "text": [
      " 13%|█▎        | 6691/51687 [01:43<11:29, 65.23it/s]"
     ]
    },
    {
     "name": "stdout",
     "output_type": "stream",
     "text": [
      "Error reading file data\\vox2_train\\id00324\\159.wav: The audio waveform is too short to create even one segment of length 63488, expected at least 64000\n",
      "Error reading file data\\vox2_train\\id00324\\16.wav: The audio waveform is too short to create even one segment of length 63488, expected at least 64000\n",
      "Error reading file data\\vox2_train\\id00324\\170.wav: The audio waveform is too short to create even one segment of length 63488, expected at least 64000\n"
     ]
    },
    {
     "name": "stderr",
     "output_type": "stream",
     "text": [
      " 13%|█▎        | 6731/51687 [01:44<12:01, 62.30it/s]"
     ]
    },
    {
     "name": "stdout",
     "output_type": "stream",
     "text": [
      "Error reading file data\\vox2_train\\id00324\\200.wav: The audio waveform is too short to create even one segment of length 63488, expected at least 64000\n"
     ]
    },
    {
     "name": "stderr",
     "output_type": "stream",
     "text": [
      " 13%|█▎        | 6851/51687 [01:46<12:12, 61.24it/s]"
     ]
    },
    {
     "name": "stdout",
     "output_type": "stream",
     "text": [
      "Error reading file data\\vox2_train\\id00324\\306.wav: The audio waveform is too short to create even one segment of length 63488, expected at least 64000\n"
     ]
    },
    {
     "name": "stderr",
     "output_type": "stream",
     "text": [
      " 13%|█▎        | 6911/51687 [01:47<11:34, 64.51it/s]"
     ]
    },
    {
     "name": "stdout",
     "output_type": "stream",
     "text": [
      "Error reading file data\\vox2_train\\id00324\\57.wav: The audio waveform is too short to create even one segment of length 63488, expected at least 64000\n"
     ]
    },
    {
     "name": "stderr",
     "output_type": "stream",
     "text": [
      " 14%|█▎        | 7085/51687 [01:49<09:11, 80.92it/s]"
     ]
    },
    {
     "name": "stdout",
     "output_type": "stream",
     "text": [
      "Error reading file data\\vox2_train\\id00347\\69.wav: The audio waveform is too short to create even one segment of length 63488, expected at least 64000\n"
     ]
    },
    {
     "name": "stderr",
     "output_type": "stream",
     "text": [
      " 15%|█▍        | 7617/51687 [02:00<10:38, 69.00it/s]"
     ]
    },
    {
     "name": "stdout",
     "output_type": "stream",
     "text": [
      "Error reading file data\\vox2_train\\id00357\\81.wav: The audio waveform is too short to create even one segment of length 63488, expected at least 64000\n"
     ]
    },
    {
     "name": "stderr",
     "output_type": "stream",
     "text": [
      " 15%|█▌        | 7780/51687 [02:03<11:35, 63.12it/s]"
     ]
    },
    {
     "name": "stdout",
     "output_type": "stream",
     "text": [
      "Error reading file data\\vox2_train\\id00374\\231.wav: The audio waveform is too short to create even one segment of length 63488, expected at least 64000\n"
     ]
    },
    {
     "name": "stderr",
     "output_type": "stream",
     "text": [
      " 15%|█▌        | 7795/51687 [02:03<11:01, 66.33it/s]"
     ]
    },
    {
     "name": "stdout",
     "output_type": "stream",
     "text": [
      "Error reading file data\\vox2_train\\id00374\\245.wav: The audio waveform is too short to create even one segment of length 63488, expected at least 64000\n"
     ]
    },
    {
     "name": "stderr",
     "output_type": "stream",
     "text": [
      " 15%|█▌        | 7847/51687 [02:04<11:14, 64.98it/s]"
     ]
    },
    {
     "name": "stdout",
     "output_type": "stream",
     "text": [
      "Error reading file data\\vox2_train\\id00374\\289.wav: The audio waveform is too short to create even one segment of length 63488, expected at least 64000\n"
     ]
    },
    {
     "name": "stderr",
     "output_type": "stream",
     "text": [
      " 15%|█▌        | 7912/51687 [02:05<09:04, 80.45it/s]"
     ]
    },
    {
     "name": "stdout",
     "output_type": "stream",
     "text": [
      "Error reading file data\\vox2_train\\id00374\\48.wav: The audio waveform is too short to create even one segment of length 63488, expected at least 64000\n"
     ]
    },
    {
     "name": "stderr",
     "output_type": "stream",
     "text": [
      " 16%|█▌        | 8051/51687 [02:07<09:12, 78.93it/s]"
     ]
    },
    {
     "name": "stdout",
     "output_type": "stream",
     "text": [
      "Error reading file data\\vox2_train\\id00393\\79.wav: The audio waveform is too short to create even one segment of length 63488, expected at least 64000\n"
     ]
    },
    {
     "name": "stderr",
     "output_type": "stream",
     "text": [
      " 16%|█▌        | 8093/51687 [02:08<10:34, 68.73it/s]"
     ]
    },
    {
     "name": "stdout",
     "output_type": "stream",
     "text": [
      "Error reading file data\\vox2_train\\id00397\\3.wav: The audio waveform is too short to create even one segment of length 63488, expected at least 64000\n",
      "Error reading file data\\vox2_train\\id00397\\9.wav: The audio waveform is too short to create even one segment of length 63488, expected at least 64000\n"
     ]
    },
    {
     "name": "stderr",
     "output_type": "stream",
     "text": [
      " 16%|█▌        | 8111/51687 [02:08<09:20, 77.78it/s]"
     ]
    },
    {
     "name": "stdout",
     "output_type": "stream",
     "text": [
      "Error reading file data\\vox2_train\\id00399\\17.wav: The audio waveform is too short to create even one segment of length 63488, expected at least 64000\n"
     ]
    },
    {
     "name": "stderr",
     "output_type": "stream",
     "text": [
      " 16%|█▌        | 8178/51687 [02:09<11:20, 63.92it/s]"
     ]
    },
    {
     "name": "stdout",
     "output_type": "stream",
     "text": [
      "Error reading file data\\vox2_train\\id00399\\74.wav: The audio waveform is too short to create even one segment of length 63488, expected at least 64000\n",
      "Error reading file data\\vox2_train\\id00399\\80.wav: The audio waveform is too short to create even one segment of length 63488, expected at least 64000\n"
     ]
    },
    {
     "name": "stderr",
     "output_type": "stream",
     "text": [
      " 16%|█▌        | 8210/51687 [02:09<10:10, 71.16it/s]"
     ]
    },
    {
     "name": "stdout",
     "output_type": "stream",
     "text": [
      "Error reading file data\\vox2_train\\id00401\\104.wav: The audio waveform is too short to create even one segment of length 63488, expected at least 64000\n"
     ]
    },
    {
     "name": "stderr",
     "output_type": "stream",
     "text": [
      " 16%|█▌        | 8253/51687 [02:10<09:01, 80.24it/s]"
     ]
    },
    {
     "name": "stdout",
     "output_type": "stream",
     "text": [
      "Error reading file data\\vox2_train\\id00401\\143.wav: The audio waveform is too short to create even one segment of length 63488, expected at least 64000\n",
      "Error reading file data\\vox2_train\\id00401\\22.wav: The audio waveform is too short to create even one segment of length 63488, expected at least 64000\n"
     ]
    },
    {
     "name": "stderr",
     "output_type": "stream",
     "text": [
      " 16%|█▌        | 8317/51687 [02:11<08:44, 82.72it/s]"
     ]
    },
    {
     "name": "stdout",
     "output_type": "stream",
     "text": [
      "Error reading file data\\vox2_train\\id00401\\67.wav: The audio waveform is too short to create even one segment of length 63488, expected at least 64000\n",
      "Error reading file data\\vox2_train\\id00401\\80.wav: The audio waveform is too short to create even one segment of length 63488, expected at least 64000\n"
     ]
    },
    {
     "name": "stderr",
     "output_type": "stream",
     "text": [
      " 16%|█▋        | 8403/51687 [02:12<11:37, 62.08it/s]"
     ]
    },
    {
     "name": "stdout",
     "output_type": "stream",
     "text": [
      "Error reading file data\\vox2_train\\id00417\\125.wav: The audio waveform is too short to create even one segment of length 63488, expected at least 64000\n"
     ]
    },
    {
     "name": "stderr",
     "output_type": "stream",
     "text": [
      " 16%|█▋        | 8435/51687 [02:13<12:57, 55.64it/s]"
     ]
    },
    {
     "name": "stdout",
     "output_type": "stream",
     "text": [
      "Error reading file data\\vox2_train\\id00417\\157.wav: The audio waveform is too short to create even one segment of length 63488, expected at least 64000\n"
     ]
    },
    {
     "name": "stderr",
     "output_type": "stream",
     "text": [
      " 17%|█▋        | 8530/51687 [02:14<10:34, 68.03it/s]"
     ]
    },
    {
     "name": "stdout",
     "output_type": "stream",
     "text": [
      "Error reading file data\\vox2_train\\id00417\\234.wav: The audio waveform is too short to create even one segment of length 63488, expected at least 64000\n",
      "Error reading file data\\vox2_train\\id00417\\24.wav: The audio waveform is too short to create even one segment of length 63488, expected at least 64000\n"
     ]
    },
    {
     "name": "stderr",
     "output_type": "stream",
     "text": [
      " 17%|█▋        | 8863/51687 [02:20<09:55, 71.86it/s]"
     ]
    },
    {
     "name": "stdout",
     "output_type": "stream",
     "text": [
      "Error reading file data\\vox2_train\\id00428\\43.wav: The audio waveform is too short to create even one segment of length 63488, expected at least 64000\n",
      "Error reading file data\\vox2_train\\id00428\\59.wav: The audio waveform is too short to create even one segment of length 63488, expected at least 64000\n"
     ]
    },
    {
     "name": "stderr",
     "output_type": "stream",
     "text": [
      " 17%|█▋        | 8906/51687 [02:21<10:15, 69.55it/s]"
     ]
    },
    {
     "name": "stdout",
     "output_type": "stream",
     "text": [
      "Error reading file data\\vox2_train\\id00428\\85.wav: The audio waveform is too short to create even one segment of length 63488, expected at least 64000\n"
     ]
    },
    {
     "name": "stderr",
     "output_type": "stream",
     "text": [
      " 17%|█▋        | 9034/51687 [02:22<10:10, 69.91it/s]"
     ]
    },
    {
     "name": "stdout",
     "output_type": "stream",
     "text": [
      "Error reading file data\\vox2_train\\id00430\\200.wav: The audio waveform is too short to create even one segment of length 63488, expected at least 64000\n"
     ]
    },
    {
     "name": "stderr",
     "output_type": "stream",
     "text": [
      " 18%|█▊        | 9123/51687 [02:24<09:46, 72.57it/s]"
     ]
    },
    {
     "name": "stdout",
     "output_type": "stream",
     "text": [
      "Error reading file data\\vox2_train\\id00430\\89.wav: The audio waveform is too short to create even one segment of length 63488, expected at least 64000\n"
     ]
    },
    {
     "name": "stderr",
     "output_type": "stream",
     "text": [
      " 18%|█▊        | 9140/51687 [02:24<09:31, 74.48it/s]"
     ]
    },
    {
     "name": "stdout",
     "output_type": "stream",
     "text": [
      "Error reading file data\\vox2_train\\id00438\\14.wav: The audio waveform is too short to create even one segment of length 63488, expected at least 64000\n"
     ]
    },
    {
     "name": "stderr",
     "output_type": "stream",
     "text": [
      " 18%|█▊        | 9203/51687 [02:25<09:59, 70.85it/s]"
     ]
    },
    {
     "name": "stdout",
     "output_type": "stream",
     "text": [
      "Error reading file data\\vox2_train\\id00450\\11.wav: The audio waveform is too short to create even one segment of length 63488, expected at least 64000\n"
     ]
    },
    {
     "name": "stderr",
     "output_type": "stream",
     "text": [
      " 18%|█▊        | 9230/51687 [02:25<08:36, 82.21it/s]"
     ]
    },
    {
     "name": "stdout",
     "output_type": "stream",
     "text": [
      "Error reading file data\\vox2_train\\id00459\\106.wav: The audio waveform is too short to create even one segment of length 63488, expected at least 64000\n"
     ]
    },
    {
     "name": "stderr",
     "output_type": "stream",
     "text": [
      " 18%|█▊        | 9436/51687 [02:28<10:07, 69.54it/s]"
     ]
    },
    {
     "name": "stdout",
     "output_type": "stream",
     "text": [
      "Error reading file data\\vox2_train\\id00459\\294.wav: The audio waveform is too short to create even one segment of length 63488, expected at least 64000\n"
     ]
    },
    {
     "name": "stderr",
     "output_type": "stream",
     "text": [
      " 18%|█▊        | 9489/51687 [02:29<11:51, 59.30it/s]"
     ]
    },
    {
     "name": "stdout",
     "output_type": "stream",
     "text": [
      "Error reading file data\\vox2_train\\id00459\\337.wav: The audio waveform is too short to create even one segment of length 63488, expected at least 64000\n"
     ]
    },
    {
     "name": "stderr",
     "output_type": "stream",
     "text": [
      " 19%|█▊        | 9601/51687 [02:31<11:09, 62.88it/s]"
     ]
    },
    {
     "name": "stdout",
     "output_type": "stream",
     "text": [
      "Error reading file data\\vox2_train\\id00459\\436.wav: The audio waveform is too short to create even one segment of length 63488, expected at least 64000\n"
     ]
    },
    {
     "name": "stderr",
     "output_type": "stream",
     "text": [
      " 19%|█▊        | 9649/51687 [02:32<09:43, 72.08it/s]"
     ]
    },
    {
     "name": "stdout",
     "output_type": "stream",
     "text": [
      "Error reading file data\\vox2_train\\id00459\\83.wav: The audio waveform is too short to create even one segment of length 63488, expected at least 64000\n"
     ]
    },
    {
     "name": "stderr",
     "output_type": "stream",
     "text": [
      " 19%|█▊        | 9676/51687 [02:32<09:00, 77.67it/s]"
     ]
    },
    {
     "name": "stdout",
     "output_type": "stream",
     "text": [
      "Error reading file data\\vox2_train\\id00464\\11.wav: The audio waveform is too short to create even one segment of length 63488, expected at least 64000\n",
      "Error reading file data\\vox2_train\\id00464\\17.wav: The audio waveform is too short to create even one segment of length 63488, expected at least 64000\n"
     ]
    },
    {
     "name": "stderr",
     "output_type": "stream",
     "text": [
      " 19%|█▉        | 9692/51687 [02:32<09:29, 73.71it/s]"
     ]
    },
    {
     "name": "stdout",
     "output_type": "stream",
     "text": [
      "Error reading file data\\vox2_train\\id00464\\30.wav: The audio waveform is too short to create even one segment of length 63488, expected at least 64000\n"
     ]
    },
    {
     "name": "stderr",
     "output_type": "stream",
     "text": [
      " 19%|█▉        | 9735/51687 [02:33<09:54, 70.51it/s]"
     ]
    },
    {
     "name": "stdout",
     "output_type": "stream",
     "text": [
      "Error reading file data\\vox2_train\\id00464\\71.wav: The audio waveform is too short to create even one segment of length 63488, expected at least 64000\n"
     ]
    },
    {
     "name": "stderr",
     "output_type": "stream",
     "text": [
      " 19%|█▉        | 9818/51687 [02:34<09:09, 76.20it/s]"
     ]
    },
    {
     "name": "stdout",
     "output_type": "stream",
     "text": [
      "Error reading file data\\vox2_train\\id00473\\15.wav: The audio waveform is too short to create even one segment of length 63488, expected at least 64000\n"
     ]
    },
    {
     "name": "stderr",
     "output_type": "stream",
     "text": [
      " 19%|█▉        | 9911/51687 [02:36<09:45, 71.38it/s]"
     ]
    },
    {
     "name": "stdout",
     "output_type": "stream",
     "text": [
      "Error reading file data\\vox2_train\\id00486\\12.wav: The audio waveform is too short to create even one segment of length 63488, expected at least 64000\n"
     ]
    },
    {
     "name": "stderr",
     "output_type": "stream",
     "text": [
      " 19%|█▉        | 10071/51687 [02:39<13:41, 50.65it/s]"
     ]
    },
    {
     "name": "stdout",
     "output_type": "stream",
     "text": [
      "Error reading file data\\vox2_train\\id00494\\215.wav: The audio waveform is too short to create even one segment of length 63488, expected at least 64000\n"
     ]
    },
    {
     "name": "stderr",
     "output_type": "stream",
     "text": [
      " 20%|█▉        | 10188/51687 [02:41<12:37, 54.79it/s]"
     ]
    },
    {
     "name": "stdout",
     "output_type": "stream",
     "text": [
      "Error reading file data\\vox2_train\\id00494\\323.wav: The audio waveform is too short to create even one segment of length 63488, expected at least 64000\n"
     ]
    },
    {
     "name": "stderr",
     "output_type": "stream",
     "text": [
      " 20%|█▉        | 10303/51687 [02:44<11:50, 58.25it/s]"
     ]
    },
    {
     "name": "stdout",
     "output_type": "stream",
     "text": [
      "Error reading file data\\vox2_train\\id00494\\62.wav: The audio waveform is too short to create even one segment of length 63488, expected at least 64000\n"
     ]
    },
    {
     "name": "stderr",
     "output_type": "stream",
     "text": [
      " 20%|██        | 10341/51687 [02:45<10:07, 68.11it/s]"
     ]
    },
    {
     "name": "stdout",
     "output_type": "stream",
     "text": [
      "Error reading file data\\vox2_train\\id00494\\95.wav: The audio waveform is too short to create even one segment of length 63488, expected at least 64000\n"
     ]
    },
    {
     "name": "stderr",
     "output_type": "stream",
     "text": [
      " 20%|██        | 10512/51687 [02:47<08:59, 76.36it/s]"
     ]
    },
    {
     "name": "stdout",
     "output_type": "stream",
     "text": [
      "Error reading file data\\vox2_train\\id00505\\56.wav: The audio waveform is too short to create even one segment of length 63488, expected at least 64000\n"
     ]
    },
    {
     "name": "stderr",
     "output_type": "stream",
     "text": [
      " 21%|██        | 10642/51687 [02:49<09:20, 73.28it/s]"
     ]
    },
    {
     "name": "stdout",
     "output_type": "stream",
     "text": [
      "Error reading file data\\vox2_train\\id00506\\78.wav: The audio waveform is too short to create even one segment of length 63488, expected at least 64000\n"
     ]
    },
    {
     "name": "stderr",
     "output_type": "stream",
     "text": [
      " 21%|██        | 10702/51687 [02:50<10:10, 67.08it/s]"
     ]
    },
    {
     "name": "stdout",
     "output_type": "stream",
     "text": [
      "Error reading file data\\vox2_train\\id00526\\16.wav: The audio waveform is too short to create even one segment of length 63488, expected at least 64000\n"
     ]
    },
    {
     "name": "stderr",
     "output_type": "stream",
     "text": [
      " 21%|██        | 10753/51687 [02:51<10:26, 65.31it/s]"
     ]
    },
    {
     "name": "stdout",
     "output_type": "stream",
     "text": [
      "Error reading file data\\vox2_train\\id00526\\6.wav: The audio waveform is too short to create even one segment of length 63488, expected at least 64000\n",
      "Error reading file data\\vox2_train\\id00526\\74.wav: The audio waveform is too short to create even one segment of length 63488, expected at least 64000\n"
     ]
    },
    {
     "name": "stderr",
     "output_type": "stream",
     "text": [
      " 21%|██        | 10934/51687 [02:55<13:55, 48.76it/s]"
     ]
    },
    {
     "name": "stdout",
     "output_type": "stream",
     "text": [
      "Error reading file data\\vox2_train\\id00529\\231.wav: The audio waveform is too short to create even one segment of length 63488, expected at least 64000\n"
     ]
    },
    {
     "name": "stderr",
     "output_type": "stream",
     "text": [
      " 21%|██▏       | 10986/51687 [02:56<09:38, 70.40it/s]"
     ]
    },
    {
     "name": "stdout",
     "output_type": "stream",
     "text": [
      "Error reading file data\\vox2_train\\id00529\\271.wav: The audio waveform is too short to create even one segment of length 63488, expected at least 64000\n"
     ]
    },
    {
     "name": "stderr",
     "output_type": "stream",
     "text": [
      " 21%|██▏       | 11087/51687 [02:57<10:26, 64.81it/s]"
     ]
    },
    {
     "name": "stdout",
     "output_type": "stream",
     "text": [
      "Error reading file data\\vox2_train\\id00529\\360.wav: The audio waveform is too short to create even one segment of length 63488, expected at least 64000\n"
     ]
    },
    {
     "name": "stderr",
     "output_type": "stream",
     "text": [
      " 22%|██▏       | 11277/51687 [03:01<09:43, 69.24it/s]"
     ]
    },
    {
     "name": "stdout",
     "output_type": "stream",
     "text": [
      "Error reading file data\\vox2_train\\id00531\\32.wav: The audio waveform is too short to create even one segment of length 63488, expected at least 64000\n",
      "Error reading file data\\vox2_train\\id00531\\4.wav: The audio waveform is too short to create even one segment of length 63488, expected at least 64000\n"
     ]
    },
    {
     "name": "stderr",
     "output_type": "stream",
     "text": [
      " 22%|██▏       | 11395/51687 [03:03<08:26, 79.63it/s]"
     ]
    },
    {
     "name": "stdout",
     "output_type": "stream",
     "text": [
      "Error reading file data\\vox2_train\\id00555\\17.wav: The audio waveform is too short to create even one segment of length 63488, expected at least 64000\n"
     ]
    },
    {
     "name": "stderr",
     "output_type": "stream",
     "text": [
      " 23%|██▎       | 11699/51687 [03:08<09:57, 66.90it/s]"
     ]
    },
    {
     "name": "stdout",
     "output_type": "stream",
     "text": [
      "Error reading file data\\vox2_train\\id00569\\247.wav: The audio waveform is too short to create even one segment of length 63488, expected at least 64000\n"
     ]
    },
    {
     "name": "stderr",
     "output_type": "stream",
     "text": [
      " 23%|██▎       | 11806/51687 [03:09<09:05, 73.13it/s]"
     ]
    },
    {
     "name": "stdout",
     "output_type": "stream",
     "text": [
      "Error reading file data\\vox2_train\\id00569\\341.wav: The audio waveform is too short to create even one segment of length 63488, expected at least 64000\n"
     ]
    },
    {
     "name": "stderr",
     "output_type": "stream",
     "text": [
      " 23%|██▎       | 11854/51687 [03:10<09:10, 72.39it/s]"
     ]
    },
    {
     "name": "stdout",
     "output_type": "stream",
     "text": [
      "Error reading file data\\vox2_train\\id00569\\53.wav: The audio waveform is too short to create even one segment of length 63488, expected at least 64000\n"
     ]
    },
    {
     "name": "stderr",
     "output_type": "stream",
     "text": [
      " 23%|██▎       | 11878/51687 [03:10<10:29, 63.24it/s]"
     ]
    },
    {
     "name": "stdout",
     "output_type": "stream",
     "text": [
      "Error reading file data\\vox2_train\\id00569\\76.wav: The audio waveform is too short to create even one segment of length 63488, expected at least 64000\n"
     ]
    },
    {
     "name": "stderr",
     "output_type": "stream",
     "text": [
      " 23%|██▎       | 12005/51687 [03:14<10:39, 62.07it/s]"
     ]
    },
    {
     "name": "stdout",
     "output_type": "stream",
     "text": [
      "Error reading file data\\vox2_train\\id00574\\190.wav: The audio waveform is too short to create even one segment of length 63488, expected at least 64000\n"
     ]
    },
    {
     "name": "stderr",
     "output_type": "stream",
     "text": [
      " 24%|██▎       | 12223/51687 [03:18<09:09, 71.85it/s]"
     ]
    },
    {
     "name": "stdout",
     "output_type": "stream",
     "text": [
      "Error reading file data\\vox2_train\\id00581\\20.wav: The audio waveform is too short to create even one segment of length 63488, expected at least 64000\n"
     ]
    },
    {
     "name": "stderr",
     "output_type": "stream",
     "text": [
      " 24%|██▎       | 12251/51687 [03:18<07:56, 82.84it/s]"
     ]
    },
    {
     "name": "stdout",
     "output_type": "stream",
     "text": [
      "Error reading file data\\vox2_train\\id00581\\9.wav: The audio waveform is too short to create even one segment of length 63488, expected at least 64000\n",
      "Error reading file data\\vox2_train\\id00582\\20.wav: The audio waveform is too short to create even one segment of length 63488, expected at least 64000\n"
     ]
    },
    {
     "name": "stderr",
     "output_type": "stream",
     "text": [
      " 24%|██▍       | 12288/51687 [03:19<08:12, 80.05it/s]"
     ]
    },
    {
     "name": "stdout",
     "output_type": "stream",
     "text": [
      "Error reading file data\\vox2_train\\id00582\\45.wav: The audio waveform is too short to create even one segment of length 63488, expected at least 64000\n",
      "Error reading file data\\vox2_train\\id00582\\58.wav: The audio waveform is too short to create even one segment of length 63488, expected at least 64000\n"
     ]
    },
    {
     "name": "stderr",
     "output_type": "stream",
     "text": [
      " 24%|██▍       | 12337/51687 [03:20<09:40, 67.75it/s]"
     ]
    },
    {
     "name": "stdout",
     "output_type": "stream",
     "text": [
      "Error reading file data\\vox2_train\\id00582\\89.wav: The audio waveform is too short to create even one segment of length 63488, expected at least 64000\n",
      "Error reading file data\\vox2_train\\id00585\\101.wav: The audio waveform is too short to create even one segment of length 63488, expected at least 64000\n"
     ]
    },
    {
     "name": "stderr",
     "output_type": "stream",
     "text": [
      " 24%|██▍       | 12370/51687 [03:20<08:56, 73.28it/s]"
     ]
    },
    {
     "name": "stdout",
     "output_type": "stream",
     "text": [
      "Error reading file data\\vox2_train\\id00585\\132.wav: The audio waveform is too short to create even one segment of length 63488, expected at least 64000\n"
     ]
    },
    {
     "name": "stderr",
     "output_type": "stream",
     "text": [
      " 24%|██▍       | 12466/51687 [03:22<12:38, 51.69it/s]"
     ]
    },
    {
     "name": "stdout",
     "output_type": "stream",
     "text": [
      "Error reading file data\\vox2_train\\id00622\\101.wav: The audio waveform is too short to create even one segment of length 63488, expected at least 64000\n"
     ]
    },
    {
     "name": "stderr",
     "output_type": "stream",
     "text": [
      " 24%|██▍       | 12567/51687 [03:24<12:55, 50.42it/s]"
     ]
    },
    {
     "name": "stdout",
     "output_type": "stream",
     "text": [
      "Error reading file data\\vox2_train\\id00622\\188.wav: The audio waveform is too short to create even one segment of length 63488, expected at least 64000\n"
     ]
    },
    {
     "name": "stderr",
     "output_type": "stream",
     "text": [
      " 25%|██▍       | 12685/51687 [03:26<10:01, 64.79it/s]"
     ]
    },
    {
     "name": "stdout",
     "output_type": "stream",
     "text": [
      "Error reading file data\\vox2_train\\id00622\\296.wav: The audio waveform is too short to create even one segment of length 63488, expected at least 64000\n"
     ]
    },
    {
     "name": "stderr",
     "output_type": "stream",
     "text": [
      " 25%|██▍       | 12732/51687 [03:27<11:01, 58.90it/s]"
     ]
    },
    {
     "name": "stdout",
     "output_type": "stream",
     "text": [
      "Error reading file data\\vox2_train\\id00622\\332.wav: The audio waveform is too short to create even one segment of length 63488, expected at least 64000\n"
     ]
    },
    {
     "name": "stderr",
     "output_type": "stream",
     "text": [
      " 25%|██▍       | 12771/51687 [03:27<11:24, 56.84it/s]"
     ]
    },
    {
     "name": "stdout",
     "output_type": "stream",
     "text": [
      "Error reading file data\\vox2_train\\id00622\\371.wav: The audio waveform is too short to create even one segment of length 63488, expected at least 64000\n"
     ]
    },
    {
     "name": "stderr",
     "output_type": "stream",
     "text": [
      " 25%|██▍       | 12916/51687 [03:30<07:58, 81.10it/s]"
     ]
    },
    {
     "name": "stdout",
     "output_type": "stream",
     "text": [
      "Error reading file data\\vox2_train\\id00634\\47.wav: The audio waveform is too short to create even one segment of length 63488, expected at least 64000\n"
     ]
    },
    {
     "name": "stderr",
     "output_type": "stream",
     "text": [
      " 25%|██▌       | 12941/51687 [03:30<08:45, 73.73it/s]"
     ]
    },
    {
     "name": "stdout",
     "output_type": "stream",
     "text": [
      "Error reading file data\\vox2_train\\id00634\\71.wav: The audio waveform is too short to create even one segment of length 63488, expected at least 64000\n"
     ]
    },
    {
     "name": "stderr",
     "output_type": "stream",
     "text": [
      " 25%|██▌       | 12966/51687 [03:30<08:57, 71.99it/s]"
     ]
    },
    {
     "name": "stdout",
     "output_type": "stream",
     "text": [
      "Error reading file data\\vox2_train\\id00634\\95.wav: The audio waveform is too short to create even one segment of length 63488, expected at least 64000\n"
     ]
    },
    {
     "name": "stderr",
     "output_type": "stream",
     "text": [
      " 25%|██▌       | 12984/51687 [03:31<08:13, 78.38it/s]"
     ]
    },
    {
     "name": "stdout",
     "output_type": "stream",
     "text": [
      "Error reading file data\\vox2_train\\id00648\\24.wav: The audio waveform is too short to create even one segment of length 63488, expected at least 64000\n",
      "Error reading file data\\vox2_train\\id00653\\17.wav: The audio waveform is too short to create even one segment of length 63488, expected at least 64000\n"
     ]
    },
    {
     "name": "stderr",
     "output_type": "stream",
     "text": [
      " 25%|██▌       | 13128/51687 [03:33<07:27, 86.18it/s]"
     ]
    },
    {
     "name": "stdout",
     "output_type": "stream",
     "text": [
      "Error reading file data\\vox2_train\\id00654\\151.wav: The audio waveform is too short to create even one segment of length 63488, expected at least 64000\n",
      "Error reading file data\\vox2_train\\id00654\\157.wav: The audio waveform is too short to create even one segment of length 63488, expected at least 64000\n"
     ]
    },
    {
     "name": "stderr",
     "output_type": "stream",
     "text": [
      " 26%|██▌       | 13210/51687 [03:34<07:43, 83.05it/s]"
     ]
    },
    {
     "name": "stdout",
     "output_type": "stream",
     "text": [
      "Error reading file data\\vox2_train\\id00654\\32.wav: The audio waveform is too short to create even one segment of length 63488, expected at least 64000\n"
     ]
    },
    {
     "name": "stderr",
     "output_type": "stream",
     "text": [
      " 26%|██▌       | 13540/51687 [03:40<10:10, 62.50it/s]"
     ]
    },
    {
     "name": "stdout",
     "output_type": "stream",
     "text": [
      "Error reading file data\\vox2_train\\id00667\\301.wav: The audio waveform is too short to create even one segment of length 63488, expected at least 64000\n",
      "Error reading file data\\vox2_train\\id00667\\309.wav: The audio waveform is too short to create even one segment of length 63488, expected at least 64000\n"
     ]
    },
    {
     "name": "stderr",
     "output_type": "stream",
     "text": [
      " 26%|██▋       | 13584/51687 [03:41<11:27, 55.38it/s]"
     ]
    },
    {
     "name": "stdout",
     "output_type": "stream",
     "text": [
      "Error reading file data\\vox2_train\\id00667\\346.wav: The audio waveform is too short to create even one segment of length 63488, expected at least 64000\n"
     ]
    },
    {
     "name": "stderr",
     "output_type": "stream",
     "text": [
      " 26%|██▋       | 13620/51687 [03:41<10:17, 61.68it/s]"
     ]
    },
    {
     "name": "stdout",
     "output_type": "stream",
     "text": [
      "Error reading file data\\vox2_train\\id00667\\53.wav: The audio waveform is too short to create even one segment of length 63488, expected at least 64000\n"
     ]
    },
    {
     "name": "stderr",
     "output_type": "stream",
     "text": [
      " 27%|██▋       | 13712/51687 [03:43<09:04, 69.69it/s]"
     ]
    },
    {
     "name": "stdout",
     "output_type": "stream",
     "text": [
      "Error reading file data\\vox2_train\\id00668\\43.wav: The audio waveform is too short to create even one segment of length 63488, expected at least 64000\n"
     ]
    },
    {
     "name": "stderr",
     "output_type": "stream",
     "text": [
      " 27%|██▋       | 13764/51687 [03:44<08:39, 73.01it/s]"
     ]
    },
    {
     "name": "stdout",
     "output_type": "stream",
     "text": [
      "Error reading file data\\vox2_train\\id00669\\12.wav: The audio waveform is too short to create even one segment of length 63488, expected at least 64000\n"
     ]
    },
    {
     "name": "stderr",
     "output_type": "stream",
     "text": [
      " 27%|██▋       | 13782/51687 [03:44<08:58, 70.43it/s]"
     ]
    },
    {
     "name": "stdout",
     "output_type": "stream",
     "text": [
      "Error reading file data\\vox2_train\\id00669\\33.wav: The audio waveform is too short to create even one segment of length 63488, expected at least 64000\n"
     ]
    },
    {
     "name": "stderr",
     "output_type": "stream",
     "text": [
      " 27%|██▋       | 13951/51687 [03:46<09:03, 69.46it/s]"
     ]
    },
    {
     "name": "stdout",
     "output_type": "stream",
     "text": [
      "Error reading file data\\vox2_train\\id00681\\139.wav: The audio waveform is too short to create even one segment of length 63488, expected at least 64000\n"
     ]
    },
    {
     "name": "stderr",
     "output_type": "stream",
     "text": [
      " 27%|██▋       | 13973/51687 [03:47<09:30, 66.15it/s]"
     ]
    },
    {
     "name": "stdout",
     "output_type": "stream",
     "text": [
      "Error reading file data\\vox2_train\\id00681\\163.wav: The audio waveform is too short to create even one segment of length 63488, expected at least 64000\n",
      "Error reading file data\\vox2_train\\id00681\\170.wav: The audio waveform is too short to create even one segment of length 63488, expected at least 64000\n"
     ]
    },
    {
     "name": "stderr",
     "output_type": "stream",
     "text": [
      " 27%|██▋       | 14007/51687 [03:47<08:04, 77.79it/s]"
     ]
    },
    {
     "name": "stdout",
     "output_type": "stream",
     "text": [
      "Error reading file data\\vox2_train\\id00681\\185.wav: The audio waveform is too short to create even one segment of length 63488, expected at least 64000\n",
      "Error reading file data\\vox2_train\\id00681\\190.wav: The audio waveform is too short to create even one segment of length 63488, expected at least 64000\n"
     ]
    },
    {
     "name": "stderr",
     "output_type": "stream",
     "text": [
      " 27%|██▋       | 14070/51687 [03:48<09:34, 65.50it/s]"
     ]
    },
    {
     "name": "stdout",
     "output_type": "stream",
     "text": [
      "Error reading file data\\vox2_train\\id00681\\25.wav: The audio waveform is too short to create even one segment of length 63488, expected at least 64000\n"
     ]
    },
    {
     "name": "stderr",
     "output_type": "stream",
     "text": [
      " 27%|██▋       | 14168/51687 [03:49<08:52, 70.49it/s]"
     ]
    },
    {
     "name": "stdout",
     "output_type": "stream",
     "text": [
      "Error reading file data\\vox2_train\\id00691\\109.wav: The audio waveform is too short to create even one segment of length 63488, expected at least 64000\n"
     ]
    },
    {
     "name": "stderr",
     "output_type": "stream",
     "text": [
      " 27%|██▋       | 14208/51687 [03:50<08:44, 71.45it/s]"
     ]
    },
    {
     "name": "stdout",
     "output_type": "stream",
     "text": [
      "Error reading file data\\vox2_train\\id00691\\145.wav: The audio waveform is too short to create even one segment of length 63488, expected at least 64000\n",
      "Error reading file data\\vox2_train\\id00691\\15.wav: The audio waveform is too short to create even one segment of length 63488, expected at least 64000\n"
     ]
    },
    {
     "name": "stderr",
     "output_type": "stream",
     "text": [
      " 28%|██▊       | 14318/51687 [03:52<09:16, 67.17it/s]"
     ]
    },
    {
     "name": "stdout",
     "output_type": "stream",
     "text": [
      "Error reading file data\\vox2_train\\id00691\\243.wav: The audio waveform is too short to create even one segment of length 63488, expected at least 64000\n"
     ]
    },
    {
     "name": "stderr",
     "output_type": "stream",
     "text": [
      " 28%|██▊       | 14515/51687 [03:55<08:50, 70.05it/s]"
     ]
    },
    {
     "name": "stdout",
     "output_type": "stream",
     "text": [
      "Error reading file data\\vox2_train\\id00700\\58.wav: The audio waveform is too short to create even one segment of length 63488, expected at least 64000\n"
     ]
    },
    {
     "name": "stderr",
     "output_type": "stream",
     "text": [
      " 28%|██▊       | 14552/51687 [03:56<10:40, 57.94it/s]"
     ]
    },
    {
     "name": "stdout",
     "output_type": "stream",
     "text": [
      "Error reading file data\\vox2_train\\id00707\\25.wav: The audio waveform is too short to create even one segment of length 63488, expected at least 64000\n"
     ]
    },
    {
     "name": "stderr",
     "output_type": "stream",
     "text": [
      " 28%|██▊       | 14670/51687 [03:58<08:38, 71.46it/s]"
     ]
    },
    {
     "name": "stdout",
     "output_type": "stream",
     "text": [
      "Error reading file data\\vox2_train\\id00715\\144.wav: The audio waveform is too short to create even one segment of length 63488, expected at least 64000\n",
      "Error reading file data\\vox2_train\\id00715\\147.wav: The audio waveform is too short to create even one segment of length 63488, expected at least 64000\n"
     ]
    },
    {
     "name": "stderr",
     "output_type": "stream",
     "text": [
      " 28%|██▊       | 14697/51687 [03:58<07:53, 78.19it/s]"
     ]
    },
    {
     "name": "stdout",
     "output_type": "stream",
     "text": [
      "Error reading file data\\vox2_train\\id00715\\170.wav: The audio waveform is too short to create even one segment of length 63488, expected at least 64000\n"
     ]
    },
    {
     "name": "stderr",
     "output_type": "stream",
     "text": [
      " 29%|██▊       | 14741/51687 [03:59<07:20, 83.88it/s]"
     ]
    },
    {
     "name": "stdout",
     "output_type": "stream",
     "text": [
      "Error reading file data\\vox2_train\\id00715\\201.wav: The audio waveform is too short to create even one segment of length 63488, expected at least 64000\n",
      "Error reading file data\\vox2_train\\id00715\\204.wav: The audio waveform is too short to create even one segment of length 63488, expected at least 64000\n"
     ]
    },
    {
     "name": "stderr",
     "output_type": "stream",
     "text": [
      " 29%|██▊       | 14788/51687 [03:59<07:49, 78.55it/s]"
     ]
    },
    {
     "name": "stdout",
     "output_type": "stream",
     "text": [
      "Error reading file data\\vox2_train\\id00715\\46.wav: The audio waveform is too short to create even one segment of length 63488, expected at least 64000\n",
      "Error reading file data\\vox2_train\\id00715\\55.wav: The audio waveform is too short to create even one segment of length 63488, expected at least 64000\n",
      "Error reading file data\\vox2_train\\id00715\\59.wav: The audio waveform is too short to create even one segment of length 63488, expected at least 64000\n"
     ]
    },
    {
     "name": "stderr",
     "output_type": "stream",
     "text": [
      " 29%|██▊       | 14849/51687 [04:00<06:37, 92.69it/s]"
     ]
    },
    {
     "name": "stdout",
     "output_type": "stream",
     "text": [
      "Error reading file data\\vox2_train\\id00715\\94.wav: The audio waveform is too short to create even one segment of length 63488, expected at least 64000\n",
      "Error reading file data\\vox2_train\\id00715\\97.wav: The audio waveform is too short to create even one segment of length 63488, expected at least 64000\n",
      "Error reading file data\\vox2_train\\id00721\\11.wav: The audio waveform is too short to create even one segment of length 63488, expected at least 64000\n"
     ]
    },
    {
     "name": "stderr",
     "output_type": "stream",
     "text": [
      " 29%|██▉       | 14998/51687 [04:02<09:29, 64.45it/s]"
     ]
    },
    {
     "name": "stdout",
     "output_type": "stream",
     "text": [
      "Error reading file data\\vox2_train\\id00723\\209.wav: The audio waveform is too short to create even one segment of length 63488, expected at least 64000\n"
     ]
    },
    {
     "name": "stderr",
     "output_type": "stream",
     "text": [
      " 29%|██▉       | 15049/51687 [04:03<08:54, 68.53it/s]"
     ]
    },
    {
     "name": "stdout",
     "output_type": "stream",
     "text": [
      "Error reading file data\\vox2_train\\id00723\\244.wav: The audio waveform is too short to create even one segment of length 63488, expected at least 64000\n"
     ]
    },
    {
     "name": "stderr",
     "output_type": "stream",
     "text": [
      " 29%|██▉       | 15088/51687 [04:03<08:55, 68.39it/s]"
     ]
    },
    {
     "name": "stdout",
     "output_type": "stream",
     "text": [
      "Error reading file data\\vox2_train\\id00723\\59.wav: The audio waveform is too short to create even one segment of length 63488, expected at least 64000\n"
     ]
    },
    {
     "name": "stderr",
     "output_type": "stream",
     "text": [
      " 29%|██▉       | 15209/51687 [04:06<09:48, 61.97it/s]"
     ]
    },
    {
     "name": "stdout",
     "output_type": "stream",
     "text": [
      "Error reading file data\\vox2_train\\id00724\\167.wav: The audio waveform is too short to create even one segment of length 63488, expected at least 64000\n"
     ]
    },
    {
     "name": "stderr",
     "output_type": "stream",
     "text": [
      " 30%|██▉       | 15442/51687 [04:09<08:54, 67.82it/s]"
     ]
    },
    {
     "name": "stdout",
     "output_type": "stream",
     "text": [
      "Error reading file data\\vox2_train\\id00724\\375.wav: The audio waveform is too short to create even one segment of length 63488, expected at least 64000\n"
     ]
    },
    {
     "name": "stderr",
     "output_type": "stream",
     "text": [
      " 30%|██▉       | 15457/51687 [04:10<08:49, 68.43it/s]"
     ]
    },
    {
     "name": "stdout",
     "output_type": "stream",
     "text": [
      "Error reading file data\\vox2_train\\id00724\\389.wav: The audio waveform is too short to create even one segment of length 63488, expected at least 64000\n"
     ]
    },
    {
     "name": "stderr",
     "output_type": "stream",
     "text": [
      " 30%|██▉       | 15506/51687 [04:10<08:40, 69.48it/s]"
     ]
    },
    {
     "name": "stdout",
     "output_type": "stream",
     "text": [
      "Error reading file data\\vox2_train\\id00724\\48.wav: The audio waveform is too short to create even one segment of length 63488, expected at least 64000\n"
     ]
    },
    {
     "name": "stderr",
     "output_type": "stream",
     "text": [
      " 30%|███       | 15530/51687 [04:11<09:22, 64.24it/s]"
     ]
    },
    {
     "name": "stdout",
     "output_type": "stream",
     "text": [
      "Error reading file data\\vox2_train\\id00724\\73.wav: The audio waveform is too short to create even one segment of length 63488, expected at least 64000\n",
      "Error reading file data\\vox2_train\\id00724\\76.wav: The audio waveform is too short to create even one segment of length 63488, expected at least 64000\n"
     ]
    },
    {
     "name": "stderr",
     "output_type": "stream",
     "text": [
      " 30%|███       | 15571/51687 [04:11<08:20, 72.22it/s]"
     ]
    },
    {
     "name": "stdout",
     "output_type": "stream",
     "text": [
      "Error reading file data\\vox2_train\\id00730\\10.wav: The audio waveform is too short to create even one segment of length 63488, expected at least 64000\n"
     ]
    },
    {
     "name": "stderr",
     "output_type": "stream",
     "text": [
      " 30%|███       | 15611/51687 [04:12<09:05, 66.18it/s]"
     ]
    },
    {
     "name": "stdout",
     "output_type": "stream",
     "text": [
      "Error reading file data\\vox2_train\\id00730\\147.wav: The audio waveform is too short to create even one segment of length 63488, expected at least 64000\n"
     ]
    },
    {
     "name": "stderr",
     "output_type": "stream",
     "text": [
      " 30%|███       | 15669/51687 [04:13<08:18, 72.24it/s]"
     ]
    },
    {
     "name": "stdout",
     "output_type": "stream",
     "text": [
      "Error reading file data\\vox2_train\\id00730\\194.wav: The audio waveform is too short to create even one segment of length 63488, expected at least 64000\n"
     ]
    },
    {
     "name": "stderr",
     "output_type": "stream",
     "text": [
      " 30%|███       | 15714/51687 [04:13<07:14, 82.81it/s]"
     ]
    },
    {
     "name": "stdout",
     "output_type": "stream",
     "text": [
      "Error reading file data\\vox2_train\\id00730\\234.wav: The audio waveform is too short to create even one segment of length 63488, expected at least 64000\n"
     ]
    },
    {
     "name": "stderr",
     "output_type": "stream",
     "text": [
      " 31%|███       | 15778/51687 [04:14<09:14, 64.79it/s]"
     ]
    },
    {
     "name": "stdout",
     "output_type": "stream",
     "text": [
      "Error reading file data\\vox2_train\\id00730\\64.wav: The audio waveform is too short to create even one segment of length 63488, expected at least 64000\n",
      "Error reading file data\\vox2_train\\id00730\\76.wav: The audio waveform is too short to create even one segment of length 63488, expected at least 64000\n"
     ]
    },
    {
     "name": "stderr",
     "output_type": "stream",
     "text": [
      " 31%|███       | 15889/51687 [04:16<07:46, 76.76it/s]"
     ]
    },
    {
     "name": "stdout",
     "output_type": "stream",
     "text": [
      "Error reading file data\\vox2_train\\id00740\\61.wav: The audio waveform is too short to create even one segment of length 63488, expected at least 64000\n"
     ]
    },
    {
     "name": "stderr",
     "output_type": "stream",
     "text": [
      " 31%|███       | 15905/51687 [04:16<08:31, 70.01it/s]"
     ]
    },
    {
     "name": "stdout",
     "output_type": "stream",
     "text": [
      "Error reading file data\\vox2_train\\id00740\\81.wav: The audio waveform is too short to create even one segment of length 63488, expected at least 64000\n"
     ]
    },
    {
     "name": "stderr",
     "output_type": "stream",
     "text": [
      " 31%|███       | 15957/51687 [04:17<09:30, 62.63it/s]"
     ]
    },
    {
     "name": "stdout",
     "output_type": "stream",
     "text": [
      "Error reading file data\\vox2_train\\id00761\\36.wav: The audio waveform is too short to create even one segment of length 63488, expected at least 64000\n"
     ]
    },
    {
     "name": "stderr",
     "output_type": "stream",
     "text": [
      " 31%|███       | 16043/51687 [04:18<07:01, 84.65it/s]"
     ]
    },
    {
     "name": "stdout",
     "output_type": "stream",
     "text": [
      "Error reading file data\\vox2_train\\id00765\\23.wav: The audio waveform is too short to create even one segment of length 63488, expected at least 64000\n"
     ]
    },
    {
     "name": "stderr",
     "output_type": "stream",
     "text": [
      " 31%|███       | 16091/51687 [04:19<09:09, 64.77it/s]"
     ]
    },
    {
     "name": "stdout",
     "output_type": "stream",
     "text": [
      "Error reading file data\\vox2_train\\id00773\\137.wav: The audio waveform is too short to create even one segment of length 63488, expected at least 64000\n"
     ]
    },
    {
     "name": "stderr",
     "output_type": "stream",
     "text": [
      " 31%|███       | 16147/51687 [04:20<07:24, 79.87it/s]"
     ]
    },
    {
     "name": "stdout",
     "output_type": "stream",
     "text": [
      "Error reading file data\\vox2_train\\id00773\\181.wav: The audio waveform is too short to create even one segment of length 63488, expected at least 64000\n"
     ]
    },
    {
     "name": "stderr",
     "output_type": "stream",
     "text": [
      " 31%|███▏      | 16165/51687 [04:20<07:09, 82.63it/s]"
     ]
    },
    {
     "name": "stdout",
     "output_type": "stream",
     "text": [
      "Error reading file data\\vox2_train\\id00773\\205.wav: The audio waveform is too short to create even one segment of length 63488, expected at least 64000\n"
     ]
    },
    {
     "name": "stderr",
     "output_type": "stream",
     "text": [
      " 31%|███▏      | 16182/51687 [04:20<08:30, 69.56it/s]"
     ]
    },
    {
     "name": "stdout",
     "output_type": "stream",
     "text": [
      "Error reading file data\\vox2_train\\id00773\\217.wav: The audio waveform is too short to create even one segment of length 63488, expected at least 64000\n"
     ]
    },
    {
     "name": "stderr",
     "output_type": "stream",
     "text": [
      " 31%|███▏      | 16208/51687 [04:20<08:11, 72.22it/s]"
     ]
    },
    {
     "name": "stdout",
     "output_type": "stream",
     "text": [
      "Error reading file data\\vox2_train\\id00773\\238.wav: The audio waveform is too short to create even one segment of length 63488, expected at least 64000\n"
     ]
    },
    {
     "name": "stderr",
     "output_type": "stream",
     "text": [
      " 31%|███▏      | 16256/51687 [04:21<08:26, 69.96it/s]"
     ]
    },
    {
     "name": "stdout",
     "output_type": "stream",
     "text": [
      "Error reading file data\\vox2_train\\id00773\\28.wav: The audio waveform is too short to create even one segment of length 63488, expected at least 64000\n"
     ]
    },
    {
     "name": "stderr",
     "output_type": "stream",
     "text": [
      " 32%|███▏      | 16403/51687 [04:24<11:59, 49.02it/s]"
     ]
    },
    {
     "name": "stdout",
     "output_type": "stream",
     "text": [
      "Error reading file data\\vox2_train\\id00773\\42.wav: The audio waveform is too short to create even one segment of length 63488, expected at least 64000\n",
      "Error reading file data\\vox2_train\\id00773\\425.wav: The audio waveform is too short to create even one segment of length 63488, expected at least 64000\n"
     ]
    },
    {
     "name": "stderr",
     "output_type": "stream",
     "text": [
      " 32%|███▏      | 16456/51687 [04:25<08:17, 70.88it/s]"
     ]
    },
    {
     "name": "stdout",
     "output_type": "stream",
     "text": [
      "Error reading file data\\vox2_train\\id00773\\467.wav: The audio waveform is too short to create even one segment of length 63488, expected at least 64000\n"
     ]
    },
    {
     "name": "stderr",
     "output_type": "stream",
     "text": [
      " 32%|███▏      | 16524/51687 [04:26<09:08, 64.15it/s]"
     ]
    },
    {
     "name": "stdout",
     "output_type": "stream",
     "text": [
      "Error reading file data\\vox2_train\\id00773\\81.wav: The audio waveform is too short to create even one segment of length 63488, expected at least 64000\n"
     ]
    },
    {
     "name": "stderr",
     "output_type": "stream",
     "text": [
      " 32%|███▏      | 16619/51687 [04:28<14:50, 39.40it/s]"
     ]
    },
    {
     "name": "stdout",
     "output_type": "stream",
     "text": [
      "Error reading file data\\vox2_train\\id00774\\166.wav: The audio waveform is too short to create even one segment of length 63488, expected at least 64000\n"
     ]
    },
    {
     "name": "stderr",
     "output_type": "stream",
     "text": [
      " 33%|███▎      | 16804/51687 [04:31<10:47, 53.85it/s]"
     ]
    },
    {
     "name": "stdout",
     "output_type": "stream",
     "text": [
      "Error reading file data\\vox2_train\\id00774\\328.wav: The audio waveform is too short to create even one segment of length 63488, expected at least 64000\n"
     ]
    },
    {
     "name": "stderr",
     "output_type": "stream",
     "text": [
      " 33%|███▎      | 16823/51687 [04:32<12:49, 45.29it/s]"
     ]
    },
    {
     "name": "stdout",
     "output_type": "stream",
     "text": [
      "Error reading file data\\vox2_train\\id00774\\349.wav: The audio waveform is too short to create even one segment of length 63488, expected at least 64000\n"
     ]
    },
    {
     "name": "stderr",
     "output_type": "stream",
     "text": [
      " 33%|███▎      | 16908/51687 [04:33<09:44, 59.47it/s]"
     ]
    },
    {
     "name": "stdout",
     "output_type": "stream",
     "text": [
      "Error reading file data\\vox2_train\\id00774\\42.wav: The audio waveform is too short to create even one segment of length 63488, expected at least 64000\n"
     ]
    },
    {
     "name": "stderr",
     "output_type": "stream",
     "text": [
      " 33%|███▎      | 17017/51687 [04:35<09:06, 63.39it/s]"
     ]
    },
    {
     "name": "stdout",
     "output_type": "stream",
     "text": [
      "Error reading file data\\vox2_train\\id00774\\65.wav: The audio waveform is too short to create even one segment of length 63488, expected at least 64000\n",
      "Error reading file data\\vox2_train\\id00774\\72.wav: The audio waveform is too short to create even one segment of length 63488, expected at least 64000\n"
     ]
    },
    {
     "name": "stderr",
     "output_type": "stream",
     "text": [
      " 33%|███▎      | 17194/51687 [04:39<08:59, 63.89it/s]"
     ]
    },
    {
     "name": "stdout",
     "output_type": "stream",
     "text": [
      "Error reading file data\\vox2_train\\id00777\\23.wav: The audio waveform is too short to create even one segment of length 63488, expected at least 64000\n"
     ]
    },
    {
     "name": "stderr",
     "output_type": "stream",
     "text": [
      " 33%|███▎      | 17207/51687 [04:39<12:52, 44.62it/s]"
     ]
    },
    {
     "name": "stdout",
     "output_type": "stream",
     "text": [
      "Error reading file data\\vox2_train\\id00777\\241.wav: The audio waveform is too short to create even one segment of length 63488, expected at least 64000\n"
     ]
    },
    {
     "name": "stderr",
     "output_type": "stream",
     "text": [
      " 33%|███▎      | 17295/51687 [04:41<10:58, 52.25it/s]"
     ]
    },
    {
     "name": "stdout",
     "output_type": "stream",
     "text": [
      "Error reading file data\\vox2_train\\id00777\\322.wav: The audio waveform is too short to create even one segment of length 63488, expected at least 64000\n"
     ]
    },
    {
     "name": "stderr",
     "output_type": "stream",
     "text": [
      " 34%|███▎      | 17395/51687 [04:43<10:55, 52.35it/s]"
     ]
    },
    {
     "name": "stdout",
     "output_type": "stream",
     "text": [
      "Error reading file data\\vox2_train\\id00777\\86.wav: The audio waveform is too short to create even one segment of length 63488, expected at least 64000\n",
      "Error reading file data\\vox2_train\\id00777\\92.wav: The audio waveform is too short to create even one segment of length 63488, expected at least 64000\n"
     ]
    },
    {
     "name": "stderr",
     "output_type": "stream",
     "text": [
      " 34%|███▍      | 17457/51687 [04:44<09:13, 61.80it/s]"
     ]
    },
    {
     "name": "stdout",
     "output_type": "stream",
     "text": [
      "Error reading file data\\vox2_train\\id00779\\14.wav: The audio waveform is too short to create even one segment of length 63488, expected at least 64000\n",
      "Error reading file data\\vox2_train\\id00779\\15.wav: The audio waveform is too short to create even one segment of length 63488, expected at least 64000\n"
     ]
    },
    {
     "name": "stderr",
     "output_type": "stream",
     "text": [
      " 34%|███▍      | 17472/51687 [04:44<09:30, 59.96it/s]"
     ]
    },
    {
     "name": "stdout",
     "output_type": "stream",
     "text": [
      "Error reading file data\\vox2_train\\id00779\\152.wav: The audio waveform is too short to create even one segment of length 63488, expected at least 64000\n"
     ]
    },
    {
     "name": "stderr",
     "output_type": "stream",
     "text": [
      " 34%|███▍      | 17564/51687 [04:46<10:24, 54.63it/s]"
     ]
    },
    {
     "name": "stdout",
     "output_type": "stream",
     "text": [
      "Error reading file data\\vox2_train\\id00779\\239.wav: The audio waveform is too short to create even one segment of length 63488, expected at least 64000\n"
     ]
    },
    {
     "name": "stderr",
     "output_type": "stream",
     "text": [
      " 34%|███▍      | 17663/51687 [04:47<07:15, 78.15it/s]"
     ]
    },
    {
     "name": "stdout",
     "output_type": "stream",
     "text": [
      "Error reading file data\\vox2_train\\id00779\\322.wav: The audio waveform is too short to create even one segment of length 63488, expected at least 64000\n"
     ]
    },
    {
     "name": "stderr",
     "output_type": "stream",
     "text": [
      " 34%|███▍      | 17825/51687 [04:50<06:29, 86.90it/s]"
     ]
    },
    {
     "name": "stdout",
     "output_type": "stream",
     "text": [
      "Error reading file data\\vox2_train\\id00781\\60.wav: The audio waveform is too short to create even one segment of length 63488, expected at least 64000\n",
      "Error reading file data\\vox2_train\\id00781\\7.wav: The audio waveform is too short to create even one segment of length 63488, expected at least 64000\n",
      "Error reading file data\\vox2_train\\id00781\\73.wav: The audio waveform is too short to create even one segment of length 63488, expected at least 64000\n"
     ]
    },
    {
     "name": "stderr",
     "output_type": "stream",
     "text": [
      " 35%|███▍      | 17908/51687 [04:51<06:56, 81.16it/s]"
     ]
    },
    {
     "name": "stdout",
     "output_type": "stream",
     "text": [
      "Error reading file data\\vox2_train\\id00796\\138.wav: The audio waveform is too short to create even one segment of length 63488, expected at least 64000\n"
     ]
    },
    {
     "name": "stderr",
     "output_type": "stream",
     "text": [
      " 35%|███▍      | 17925/51687 [04:51<07:38, 73.68it/s]"
     ]
    },
    {
     "name": "stdout",
     "output_type": "stream",
     "text": [
      "Error reading file data\\vox2_train\\id00796\\152.wav: The audio waveform is too short to create even one segment of length 63488, expected at least 64000\n"
     ]
    },
    {
     "name": "stderr",
     "output_type": "stream",
     "text": [
      " 35%|███▍      | 17971/51687 [04:51<06:56, 81.01it/s]"
     ]
    },
    {
     "name": "stdout",
     "output_type": "stream",
     "text": [
      "Error reading file data\\vox2_train\\id00796\\191.wav: The audio waveform is too short to create even one segment of length 63488, expected at least 64000\n",
      "Error reading file data\\vox2_train\\id00796\\193.wav: The audio waveform is too short to create even one segment of length 63488, expected at least 64000\n"
     ]
    },
    {
     "name": "stderr",
     "output_type": "stream",
     "text": [
      " 35%|███▍      | 18017/51687 [04:52<07:11, 78.01it/s]"
     ]
    },
    {
     "name": "stdout",
     "output_type": "stream",
     "text": [
      "Error reading file data\\vox2_train\\id00796\\228.wav: The audio waveform is too short to create even one segment of length 63488, expected at least 64000\n"
     ]
    },
    {
     "name": "stderr",
     "output_type": "stream",
     "text": [
      " 35%|███▍      | 18067/51687 [04:53<07:52, 71.15it/s]"
     ]
    },
    {
     "name": "stdout",
     "output_type": "stream",
     "text": [
      "Error reading file data\\vox2_train\\id00796\\275.wav: The audio waveform is too short to create even one segment of length 63488, expected at least 64000\n",
      "Error reading file data\\vox2_train\\id00796\\278.wav: The audio waveform is too short to create even one segment of length 63488, expected at least 64000\n"
     ]
    },
    {
     "name": "stderr",
     "output_type": "stream",
     "text": [
      " 35%|███▌      | 18151/51687 [04:54<07:27, 74.94it/s]"
     ]
    },
    {
     "name": "stdout",
     "output_type": "stream",
     "text": [
      "Error reading file data\\vox2_train\\id00796\\47.wav: The audio waveform is too short to create even one segment of length 63488, expected at least 64000\n",
      "Error reading file data\\vox2_train\\id00796\\6.wav: The audio waveform is too short to create even one segment of length 63488, expected at least 64000\n"
     ]
    },
    {
     "name": "stderr",
     "output_type": "stream",
     "text": [
      " 36%|███▌      | 18473/51687 [04:59<10:28, 52.85it/s]"
     ]
    },
    {
     "name": "stdout",
     "output_type": "stream",
     "text": [
      "Error reading file data\\vox2_train\\id00823\\145.wav: The audio waveform is too short to create even one segment of length 63488, expected at least 64000\n"
     ]
    },
    {
     "name": "stderr",
     "output_type": "stream",
     "text": [
      " 36%|███▌      | 18564/51687 [05:00<08:34, 64.42it/s]"
     ]
    },
    {
     "name": "stdout",
     "output_type": "stream",
     "text": [
      "Error reading file data\\vox2_train\\id00823\\221.wav: The audio waveform is too short to create even one segment of length 63488, expected at least 64000\n"
     ]
    },
    {
     "name": "stderr",
     "output_type": "stream",
     "text": [
      " 36%|███▌      | 18687/51687 [05:03<09:49, 56.01it/s]"
     ]
    },
    {
     "name": "stdout",
     "output_type": "stream",
     "text": [
      "Error reading file data\\vox2_train\\id00823\\338.wav: The audio waveform is too short to create even one segment of length 63488, expected at least 64000\n"
     ]
    },
    {
     "name": "stderr",
     "output_type": "stream",
     "text": [
      " 36%|███▋      | 18738/51687 [05:04<09:30, 57.78it/s]"
     ]
    },
    {
     "name": "stdout",
     "output_type": "stream",
     "text": [
      "Error reading file data\\vox2_train\\id00823\\385.wav: The audio waveform is too short to create even one segment of length 63488, expected at least 64000\n"
     ]
    },
    {
     "name": "stderr",
     "output_type": "stream",
     "text": [
      " 36%|███▋      | 18830/51687 [05:05<10:57, 49.96it/s]"
     ]
    },
    {
     "name": "stdout",
     "output_type": "stream",
     "text": [
      "Error reading file data\\vox2_train\\id00823\\58.wav: The audio waveform is too short to create even one segment of length 63488, expected at least 64000\n"
     ]
    },
    {
     "name": "stderr",
     "output_type": "stream",
     "text": [
      " 37%|███▋      | 18875/51687 [05:06<10:03, 54.40it/s]"
     ]
    },
    {
     "name": "stdout",
     "output_type": "stream",
     "text": [
      "Error reading file data\\vox2_train\\id00823\\97.wav: The audio waveform is too short to create even one segment of length 63488, expected at least 64000\n"
     ]
    },
    {
     "name": "stderr",
     "output_type": "stream",
     "text": [
      " 37%|███▋      | 19095/51687 [05:09<07:17, 74.44it/s]"
     ]
    },
    {
     "name": "stdout",
     "output_type": "stream",
     "text": [
      "Error reading file data\\vox2_train\\id00842\\76.wav: The audio waveform is too short to create even one segment of length 63488, expected at least 64000\n"
     ]
    },
    {
     "name": "stderr",
     "output_type": "stream",
     "text": [
      " 37%|███▋      | 19153/51687 [05:10<07:16, 74.49it/s]"
     ]
    },
    {
     "name": "stdout",
     "output_type": "stream",
     "text": [
      "Error reading file data\\vox2_train\\id00852\\47.wav: The audio waveform is too short to create even one segment of length 63488, expected at least 64000\n"
     ]
    },
    {
     "name": "stderr",
     "output_type": "stream",
     "text": [
      " 37%|███▋      | 19296/51687 [05:12<09:01, 59.85it/s]"
     ]
    },
    {
     "name": "stdout",
     "output_type": "stream",
     "text": [
      "Error reading file data\\vox2_train\\id00859\\90.wav: The audio waveform is too short to create even one segment of length 63488, expected at least 64000\n"
     ]
    },
    {
     "name": "stderr",
     "output_type": "stream",
     "text": [
      " 37%|███▋      | 19361/51687 [05:13<08:48, 61.22it/s]"
     ]
    },
    {
     "name": "stdout",
     "output_type": "stream",
     "text": [
      "Error reading file data\\vox2_train\\id00869\\150.wav: The audio waveform is too short to create even one segment of length 63488, expected at least 64000\n"
     ]
    },
    {
     "name": "stderr",
     "output_type": "stream",
     "text": [
      " 38%|███▊      | 19404/51687 [05:14<08:22, 64.28it/s]"
     ]
    },
    {
     "name": "stdout",
     "output_type": "stream",
     "text": [
      "Error reading file data\\vox2_train\\id00869\\186.wav: The audio waveform is too short to create even one segment of length 63488, expected at least 64000\n",
      "Error reading file data\\vox2_train\\id00869\\194.wav: The audio waveform is too short to create even one segment of length 63488, expected at least 64000\n"
     ]
    },
    {
     "name": "stderr",
     "output_type": "stream",
     "text": [
      " 38%|███▊      | 19418/51687 [05:14<08:29, 63.30it/s]"
     ]
    },
    {
     "name": "stdout",
     "output_type": "stream",
     "text": [
      "Error reading file data\\vox2_train\\id00869\\200.wav: The audio waveform is too short to create even one segment of length 63488, expected at least 64000\n"
     ]
    },
    {
     "name": "stderr",
     "output_type": "stream",
     "text": [
      " 38%|███▊      | 19433/51687 [05:15<08:28, 63.48it/s]"
     ]
    },
    {
     "name": "stdout",
     "output_type": "stream",
     "text": [
      "Error reading file data\\vox2_train\\id00869\\218.wav: The audio waveform is too short to create even one segment of length 63488, expected at least 64000\n",
      "Error reading file data\\vox2_train\\id00869\\225.wav: The audio waveform is too short to create even one segment of length 63488, expected at least 64000\n"
     ]
    },
    {
     "name": "stderr",
     "output_type": "stream",
     "text": [
      " 38%|███▊      | 19498/51687 [05:15<06:52, 77.95it/s]"
     ]
    },
    {
     "name": "stdout",
     "output_type": "stream",
     "text": [
      "Error reading file data\\vox2_train\\id00869\\271.wav: The audio waveform is too short to create even one segment of length 63488, expected at least 64000\n",
      "Error reading file data\\vox2_train\\id00869\\276.wav: The audio waveform is too short to create even one segment of length 63488, expected at least 64000\n"
     ]
    },
    {
     "name": "stderr",
     "output_type": "stream",
     "text": [
      " 38%|███▊      | 19516/51687 [05:16<06:48, 78.77it/s]"
     ]
    },
    {
     "name": "stdout",
     "output_type": "stream",
     "text": [
      "Error reading file data\\vox2_train\\id00869\\295.wav: The audio waveform is too short to create even one segment of length 63488, expected at least 64000\n"
     ]
    },
    {
     "name": "stderr",
     "output_type": "stream",
     "text": [
      " 38%|███▊      | 19588/51687 [05:17<08:09, 65.61it/s]"
     ]
    },
    {
     "name": "stdout",
     "output_type": "stream",
     "text": [
      "Error reading file data\\vox2_train\\id00869\\80.wav: The audio waveform is too short to create even one segment of length 63488, expected at least 64000\n"
     ]
    },
    {
     "name": "stderr",
     "output_type": "stream",
     "text": [
      " 38%|███▊      | 19611/51687 [05:17<08:02, 66.53it/s]"
     ]
    },
    {
     "name": "stdout",
     "output_type": "stream",
     "text": [
      "Error reading file data\\vox2_train\\id00881\\18.wav: The audio waveform is too short to create even one segment of length 63488, expected at least 64000\n"
     ]
    },
    {
     "name": "stderr",
     "output_type": "stream",
     "text": [
      " 38%|███▊      | 19709/51687 [05:19<08:35, 62.05it/s]"
     ]
    },
    {
     "name": "stdout",
     "output_type": "stream",
     "text": [
      "Error reading file data\\vox2_train\\id00890\\105.wav: The audio waveform is too short to create even one segment of length 63488, expected at least 64000\n"
     ]
    },
    {
     "name": "stderr",
     "output_type": "stream",
     "text": [
      " 38%|███▊      | 19727/51687 [05:19<07:52, 67.69it/s]"
     ]
    },
    {
     "name": "stdout",
     "output_type": "stream",
     "text": [
      "Error reading file data\\vox2_train\\id00890\\123.wav: The audio waveform is too short to create even one segment of length 63488, expected at least 64000\n"
     ]
    },
    {
     "name": "stderr",
     "output_type": "stream",
     "text": [
      " 38%|███▊      | 19828/51687 [05:21<08:02, 65.97it/s]"
     ]
    },
    {
     "name": "stdout",
     "output_type": "stream",
     "text": [
      "Error reading file data\\vox2_train\\id00890\\205.wav: The audio waveform is too short to create even one segment of length 63488, expected at least 64000\n",
      "Error reading file data\\vox2_train\\id00890\\209.wav: The audio waveform is too short to create even one segment of length 63488, expected at least 64000\n"
     ]
    },
    {
     "name": "stderr",
     "output_type": "stream",
     "text": [
      " 39%|███▉      | 20049/51687 [05:24<07:08, 73.88it/s]"
     ]
    },
    {
     "name": "stdout",
     "output_type": "stream",
     "text": [
      "Error reading file data\\vox2_train\\id00904\\104.wav: The audio waveform is too short to create even one segment of length 63488, expected at least 64000\n"
     ]
    },
    {
     "name": "stderr",
     "output_type": "stream",
     "text": [
      " 39%|███▉      | 20093/51687 [05:24<07:52, 66.90it/s]"
     ]
    },
    {
     "name": "stdout",
     "output_type": "stream",
     "text": [
      "Error reading file data\\vox2_train\\id00904\\2.wav: The audio waveform is too short to create even one segment of length 63488, expected at least 64000\n"
     ]
    },
    {
     "name": "stderr",
     "output_type": "stream",
     "text": [
      " 39%|███▉      | 20195/51687 [05:26<07:15, 72.33it/s]"
     ]
    },
    {
     "name": "stdout",
     "output_type": "stream",
     "text": [
      "Error reading file data\\vox2_train\\id00920\\17.wav: The audio waveform is too short to create even one segment of length 63488, expected at least 64000\n"
     ]
    },
    {
     "name": "stderr",
     "output_type": "stream",
     "text": [
      " 39%|███▉      | 20242/51687 [05:27<07:42, 67.97it/s]"
     ]
    },
    {
     "name": "stdout",
     "output_type": "stream",
     "text": [
      "Error reading file data\\vox2_train\\id00927\\114.wav: The audio waveform is too short to create even one segment of length 63488, expected at least 64000\n"
     ]
    },
    {
     "name": "stderr",
     "output_type": "stream",
     "text": [
      " 39%|███▉      | 20326/51687 [05:28<12:51, 40.64it/s]"
     ]
    },
    {
     "name": "stdout",
     "output_type": "stream",
     "text": [
      "Error reading file data\\vox2_train\\id00927\\64.wav: The audio waveform is too short to create even one segment of length 63488, expected at least 64000\n"
     ]
    },
    {
     "name": "stderr",
     "output_type": "stream",
     "text": [
      " 39%|███▉      | 20398/51687 [05:29<06:58, 74.76it/s]"
     ]
    },
    {
     "name": "stdout",
     "output_type": "stream",
     "text": [
      "Error reading file data\\vox2_train\\id00928\\12.wav: The audio waveform is too short to create even one segment of length 63488, expected at least 64000\n"
     ]
    },
    {
     "name": "stderr",
     "output_type": "stream",
     "text": [
      " 40%|███▉      | 20539/51687 [05:32<07:05, 73.14it/s]"
     ]
    },
    {
     "name": "stdout",
     "output_type": "stream",
     "text": [
      "Error reading file data\\vox2_train\\id00930\\12.wav: The audio waveform is too short to create even one segment of length 63488, expected at least 64000\n",
      "Error reading file data\\vox2_train\\id00930\\125.wav: The audio waveform is too short to create even one segment of length 63488, expected at least 64000\n"
     ]
    },
    {
     "name": "stderr",
     "output_type": "stream",
     "text": [
      " 40%|███▉      | 20588/51687 [05:32<06:59, 74.13it/s]"
     ]
    },
    {
     "name": "stdout",
     "output_type": "stream",
     "text": [
      "Error reading file data\\vox2_train\\id00930\\43.wav: The audio waveform is too short to create even one segment of length 63488, expected at least 64000\n"
     ]
    },
    {
     "name": "stderr",
     "output_type": "stream",
     "text": [
      " 40%|███▉      | 20673/51687 [05:34<06:59, 74.02it/s]"
     ]
    },
    {
     "name": "stdout",
     "output_type": "stream",
     "text": [
      "Error reading file data\\vox2_train\\id00934\\26.wav: The audio waveform is too short to create even one segment of length 63488, expected at least 64000\n"
     ]
    },
    {
     "name": "stderr",
     "output_type": "stream",
     "text": [
      " 40%|████      | 20768/51687 [05:35<06:23, 80.63it/s]"
     ]
    },
    {
     "name": "stdout",
     "output_type": "stream",
     "text": [
      "Error reading file data\\vox2_train\\id00947\\114.wav: The audio waveform is too short to create even one segment of length 63488, expected at least 64000\n",
      "Error reading file data\\vox2_train\\id00947\\124.wav: The audio waveform is too short to create even one segment of length 63488, expected at least 64000\n",
      "Error reading file data\\vox2_train\\id00947\\128.wav: The audio waveform is too short to create even one segment of length 63488, expected at least 64000\n"
     ]
    },
    {
     "name": "stderr",
     "output_type": "stream",
     "text": [
      " 41%|████      | 20958/51687 [05:38<09:37, 53.23it/s]"
     ]
    },
    {
     "name": "stdout",
     "output_type": "stream",
     "text": [
      "Error reading file data\\vox2_train\\id00963\\149.wav: The audio waveform is too short to create even one segment of length 63488, expected at least 64000\n"
     ]
    },
    {
     "name": "stderr",
     "output_type": "stream",
     "text": [
      " 41%|████      | 20971/51687 [05:39<09:10, 55.78it/s]"
     ]
    },
    {
     "name": "stdout",
     "output_type": "stream",
     "text": [
      "Error reading file data\\vox2_train\\id00963\\2.wav: The audio waveform is too short to create even one segment of length 63488, expected at least 64000\n"
     ]
    },
    {
     "name": "stderr",
     "output_type": "stream",
     "text": [
      " 41%|████      | 21029/51687 [05:40<07:24, 69.04it/s]"
     ]
    },
    {
     "name": "stdout",
     "output_type": "stream",
     "text": [
      "Error reading file data\\vox2_train\\id00963\\63.wav: The audio waveform is too short to create even one segment of length 63488, expected at least 64000\n"
     ]
    },
    {
     "name": "stderr",
     "output_type": "stream",
     "text": [
      " 41%|████      | 21114/51687 [05:41<08:34, 59.42it/s]"
     ]
    },
    {
     "name": "stdout",
     "output_type": "stream",
     "text": [
      "Error reading file data\\vox2_train\\id00965\\146.wav: The audio waveform is too short to create even one segment of length 63488, expected at least 64000\n"
     ]
    },
    {
     "name": "stderr",
     "output_type": "stream",
     "text": [
      " 41%|████      | 21187/51687 [05:42<07:54, 64.26it/s]"
     ]
    },
    {
     "name": "stdout",
     "output_type": "stream",
     "text": [
      "Error reading file data\\vox2_train\\id00965\\213.wav: The audio waveform is too short to create even one segment of length 63488, expected at least 64000\n"
     ]
    },
    {
     "name": "stderr",
     "output_type": "stream",
     "text": [
      " 41%|████      | 21206/51687 [05:43<06:38, 76.43it/s]"
     ]
    },
    {
     "name": "stdout",
     "output_type": "stream",
     "text": [
      "Error reading file data\\vox2_train\\id00965\\230.wav: The audio waveform is too short to create even one segment of length 63488, expected at least 64000\n"
     ]
    },
    {
     "name": "stderr",
     "output_type": "stream",
     "text": [
      " 41%|████      | 21231/51687 [05:43<07:18, 69.46it/s]"
     ]
    },
    {
     "name": "stdout",
     "output_type": "stream",
     "text": [
      "Error reading file data\\vox2_train\\id00965\\255.wav: The audio waveform is too short to create even one segment of length 63488, expected at least 64000\n",
      "Error reading file data\\vox2_train\\id00965\\262.wav: The audio waveform is too short to create even one segment of length 63488, expected at least 64000\n"
     ]
    },
    {
     "name": "stderr",
     "output_type": "stream",
     "text": [
      " 41%|████▏     | 21348/51687 [05:45<08:33, 59.11it/s]"
     ]
    },
    {
     "name": "stdout",
     "output_type": "stream",
     "text": [
      "Error reading file data\\vox2_train\\id00965\\361.wav: The audio waveform is too short to create even one segment of length 63488, expected at least 64000\n"
     ]
    },
    {
     "name": "stderr",
     "output_type": "stream",
     "text": [
      " 41%|████▏     | 21445/51687 [05:47<08:57, 56.27it/s]"
     ]
    },
    {
     "name": "stdout",
     "output_type": "stream",
     "text": [
      "Error reading file data\\vox2_train\\id00965\\446.wav: The audio waveform is too short to create even one segment of length 63488, expected at least 64000\n"
     ]
    },
    {
     "name": "stderr",
     "output_type": "stream",
     "text": [
      " 42%|████▏     | 21549/51687 [05:48<08:20, 60.26it/s]"
     ]
    },
    {
     "name": "stdout",
     "output_type": "stream",
     "text": [
      "Error reading file data\\vox2_train\\id00965\\93.wav: The audio waveform is too short to create even one segment of length 63488, expected at least 64000\n",
      "Error reading file data\\vox2_train\\id00965\\94.wav: The audio waveform is too short to create even one segment of length 63488, expected at least 64000\n"
     ]
    },
    {
     "name": "stderr",
     "output_type": "stream",
     "text": [
      " 42%|████▏     | 21583/51687 [05:49<07:06, 70.55it/s]"
     ]
    },
    {
     "name": "stdout",
     "output_type": "stream",
     "text": [
      "Error reading file data\\vox2_train\\id00975\\29.wav: The audio waveform is too short to create even one segment of length 63488, expected at least 64000\n"
     ]
    },
    {
     "name": "stderr",
     "output_type": "stream",
     "text": [
      " 42%|████▏     | 21648/51687 [05:50<06:16, 79.80it/s]"
     ]
    },
    {
     "name": "stdout",
     "output_type": "stream",
     "text": [
      "Error reading file data\\vox2_train\\id00975\\85.wav: The audio waveform is too short to create even one segment of length 63488, expected at least 64000\n",
      "Error reading file data\\vox2_train\\id00975\\86.wav: The audio waveform is too short to create even one segment of length 63488, expected at least 64000\n"
     ]
    },
    {
     "name": "stderr",
     "output_type": "stream",
     "text": [
      " 42%|████▏     | 21667/51687 [05:50<05:55, 84.38it/s]"
     ]
    },
    {
     "name": "stdout",
     "output_type": "stream",
     "text": [
      "Error reading file data\\vox2_train\\id00999\\31.wav: The audio waveform is too short to create even one segment of length 63488, expected at least 64000\n"
     ]
    },
    {
     "name": "stderr",
     "output_type": "stream",
     "text": [
      " 42%|████▏     | 21703/51687 [05:50<06:35, 75.74it/s]"
     ]
    },
    {
     "name": "stdout",
     "output_type": "stream",
     "text": [
      "Error reading file data\\vox2_train\\id00999\\61.wav: The audio waveform is too short to create even one segment of length 63488, expected at least 64000\n",
      "Error reading file data\\vox2_train\\id00999\\72.wav: The audio waveform is too short to create even one segment of length 63488, expected at least 64000\n"
     ]
    },
    {
     "name": "stderr",
     "output_type": "stream",
     "text": [
      " 42%|████▏     | 21792/51687 [05:52<13:06, 38.02it/s]"
     ]
    },
    {
     "name": "stdout",
     "output_type": "stream",
     "text": [
      "Error reading file data\\vox2_train\\id01005\\8.wav: The audio waveform is too short to create even one segment of length 63488, expected at least 64000\n",
      "Error reading file data\\vox2_train\\id01015\\18.wav: The audio waveform is too short to create even one segment of length 63488, expected at least 64000\n"
     ]
    },
    {
     "name": "stderr",
     "output_type": "stream",
     "text": [
      " 42%|████▏     | 21836/51687 [05:53<08:46, 56.74it/s]"
     ]
    },
    {
     "name": "stdout",
     "output_type": "stream",
     "text": [
      "Error reading file data\\vox2_train\\id01018\\103.wav: The audio waveform is too short to create even one segment of length 63488, expected at least 64000\n"
     ]
    },
    {
     "name": "stderr",
     "output_type": "stream",
     "text": [
      " 42%|████▏     | 21897/51687 [05:54<08:29, 58.52it/s]"
     ]
    },
    {
     "name": "stdout",
     "output_type": "stream",
     "text": [
      "Error reading file data\\vox2_train\\id01018\\153.wav: The audio waveform is too short to create even one segment of length 63488, expected at least 64000\n"
     ]
    },
    {
     "name": "stderr",
     "output_type": "stream",
     "text": [
      " 43%|████▎     | 22018/51687 [05:56<07:48, 63.36it/s]"
     ]
    },
    {
     "name": "stdout",
     "output_type": "stream",
     "text": [
      "Error reading file data\\vox2_train\\id01018\\95.wav: The audio waveform is too short to create even one segment of length 63488, expected at least 64000\n"
     ]
    },
    {
     "name": "stderr",
     "output_type": "stream",
     "text": [
      " 43%|████▎     | 22118/51687 [05:57<06:54, 71.28it/s]"
     ]
    },
    {
     "name": "stdout",
     "output_type": "stream",
     "text": [
      "Error reading file data\\vox2_train\\id01031\\104.wav: The audio waveform is too short to create even one segment of length 63488, expected at least 64000\n"
     ]
    },
    {
     "name": "stderr",
     "output_type": "stream",
     "text": [
      " 43%|████▎     | 22205/51687 [05:59<08:59, 54.68it/s]"
     ]
    },
    {
     "name": "stdout",
     "output_type": "stream",
     "text": [
      "Error reading file data\\vox2_train\\id01031\\82.wav: The audio waveform is too short to create even one segment of length 63488, expected at least 64000\n"
     ]
    },
    {
     "name": "stderr",
     "output_type": "stream",
     "text": [
      " 43%|████▎     | 22243/51687 [05:59<06:55, 70.89it/s]"
     ]
    },
    {
     "name": "stdout",
     "output_type": "stream",
     "text": [
      "Error reading file data\\vox2_train\\id01035\\24.wav: The audio waveform is too short to create even one segment of length 63488, expected at least 64000\n",
      "Error reading file data\\vox2_train\\id01035\\35.wav: The audio waveform is too short to create even one segment of length 63488, expected at least 64000\n"
     ]
    },
    {
     "name": "stderr",
     "output_type": "stream",
     "text": [
      " 43%|████▎     | 22270/51687 [06:00<06:10, 79.44it/s]"
     ]
    },
    {
     "name": "stdout",
     "output_type": "stream",
     "text": [
      "Error reading file data\\vox2_train\\id01035\\5.wav: The audio waveform is too short to create even one segment of length 63488, expected at least 64000\n",
      "Error reading file data\\vox2_train\\id01037\\19.wav: The audio waveform is too short to create even one segment of length 63488, expected at least 64000\n"
     ]
    },
    {
     "name": "stderr",
     "output_type": "stream",
     "text": [
      " 43%|████▎     | 22313/51687 [06:00<06:38, 73.72it/s]"
     ]
    },
    {
     "name": "stdout",
     "output_type": "stream",
     "text": [
      "Error reading file data\\vox2_train\\id01037\\45.wav: The audio waveform is too short to create even one segment of length 63488, expected at least 64000\n"
     ]
    },
    {
     "name": "stderr",
     "output_type": "stream",
     "text": [
      " 43%|████▎     | 22421/51687 [06:02<07:54, 61.62it/s]"
     ]
    },
    {
     "name": "stdout",
     "output_type": "stream",
     "text": [
      "Error reading file data\\vox2_train\\id01038\\16.wav: The audio waveform is too short to create even one segment of length 63488, expected at least 64000\n"
     ]
    },
    {
     "name": "stderr",
     "output_type": "stream",
     "text": [
      " 44%|████▍     | 22655/51687 [06:06<07:34, 63.94it/s]"
     ]
    },
    {
     "name": "stdout",
     "output_type": "stream",
     "text": [
      "Error reading file data\\vox2_train\\id01038\\79.wav: The audio waveform is too short to create even one segment of length 63488, expected at least 64000\n"
     ]
    },
    {
     "name": "stderr",
     "output_type": "stream",
     "text": [
      " 44%|████▍     | 22679/51687 [06:07<07:49, 61.72it/s]"
     ]
    },
    {
     "name": "stdout",
     "output_type": "stream",
     "text": [
      "Error reading file data\\vox2_train\\id01038\\97.wav: The audio waveform is too short to create even one segment of length 63488, expected at least 64000\n"
     ]
    },
    {
     "name": "stderr",
     "output_type": "stream",
     "text": [
      " 44%|████▍     | 22832/51687 [06:10<09:56, 48.34it/s]"
     ]
    },
    {
     "name": "stdout",
     "output_type": "stream",
     "text": [
      "Error reading file data\\vox2_train\\id01040\\24.wav: The audio waveform is too short to create even one segment of length 63488, expected at least 64000\n"
     ]
    },
    {
     "name": "stderr",
     "output_type": "stream",
     "text": [
      " 45%|████▍     | 23059/51687 [06:14<07:47, 61.21it/s]"
     ]
    },
    {
     "name": "stdout",
     "output_type": "stream",
     "text": [
      "Error reading file data\\vox2_train\\id01040\\48.wav: The audio waveform is too short to create even one segment of length 63488, expected at least 64000\n"
     ]
    },
    {
     "name": "stderr",
     "output_type": "stream",
     "text": [
      " 45%|████▌     | 23277/51687 [06:17<05:46, 81.99it/s]"
     ]
    },
    {
     "name": "stdout",
     "output_type": "stream",
     "text": [
      "Error reading file data\\vox2_train\\id01048\\40.wav: The audio waveform is too short to create even one segment of length 63488, expected at least 64000\n"
     ]
    },
    {
     "name": "stderr",
     "output_type": "stream",
     "text": [
      " 46%|████▌     | 23590/51687 [06:25<09:01, 51.85it/s]"
     ]
    },
    {
     "name": "stdout",
     "output_type": "stream",
     "text": [
      "Error reading file data\\vox2_train\\id01060\\329.wav: The audio waveform is too short to create even one segment of length 63488, expected at least 64000\n"
     ]
    },
    {
     "name": "stderr",
     "output_type": "stream",
     "text": [
      " 46%|████▌     | 23696/51687 [06:28<10:27, 44.57it/s]"
     ]
    },
    {
     "name": "stdout",
     "output_type": "stream",
     "text": [
      "Error reading file data\\vox2_train\\id01060\\429.wav: The audio waveform is too short to create even one segment of length 63488, expected at least 64000\n"
     ]
    },
    {
     "name": "stderr",
     "output_type": "stream",
     "text": [
      " 46%|████▌     | 23829/51687 [06:32<07:04, 65.59it/s]"
     ]
    },
    {
     "name": "stdout",
     "output_type": "stream",
     "text": [
      "Error reading file data\\vox2_train\\id01062\\7.wav: The audio waveform is too short to create even one segment of length 63488, expected at least 64000\n"
     ]
    },
    {
     "name": "stderr",
     "output_type": "stream",
     "text": [
      " 46%|████▋     | 23966/51687 [06:34<09:45, 47.32it/s]"
     ]
    },
    {
     "name": "stdout",
     "output_type": "stream",
     "text": [
      "Error reading file data\\vox2_train\\id01069\\184.wav: The audio waveform is too short to create even one segment of length 63488, expected at least 64000\n"
     ]
    },
    {
     "name": "stderr",
     "output_type": "stream",
     "text": [
      " 47%|████▋     | 24089/51687 [06:37<11:20, 40.58it/s]"
     ]
    },
    {
     "name": "stdout",
     "output_type": "stream",
     "text": [
      "Error reading file data\\vox2_train\\id01069\\31.wav: The audio waveform is too short to create even one segment of length 63488, expected at least 64000\n"
     ]
    },
    {
     "name": "stderr",
     "output_type": "stream",
     "text": [
      " 47%|████▋     | 24156/51687 [06:39<08:41, 52.83it/s]"
     ]
    },
    {
     "name": "stdout",
     "output_type": "stream",
     "text": [
      "Error reading file data\\vox2_train\\id01069\\96.wav: The audio waveform is too short to create even one segment of length 63488, expected at least 64000\n"
     ]
    },
    {
     "name": "stderr",
     "output_type": "stream",
     "text": [
      " 47%|████▋     | 24240/51687 [06:40<06:18, 72.48it/s]"
     ]
    },
    {
     "name": "stdout",
     "output_type": "stream",
     "text": [
      "Error reading file data\\vox2_train\\id01070\\162.wav: The audio waveform is too short to create even one segment of length 63488, expected at least 64000\n"
     ]
    },
    {
     "name": "stderr",
     "output_type": "stream",
     "text": [
      " 47%|████▋     | 24336/51687 [06:41<06:21, 71.64it/s]"
     ]
    },
    {
     "name": "stdout",
     "output_type": "stream",
     "text": [
      "Error reading file data\\vox2_train\\id01070\\79.wav: The audio waveform is too short to create even one segment of length 63488, expected at least 64000\n",
      "Error reading file data\\vox2_train\\id01070\\88.wav: The audio waveform is too short to create even one segment of length 63488, expected at least 64000\n"
     ]
    },
    {
     "name": "stderr",
     "output_type": "stream",
     "text": [
      " 47%|████▋     | 24392/51687 [06:42<07:38, 59.53it/s]"
     ]
    },
    {
     "name": "stdout",
     "output_type": "stream",
     "text": [
      "Error reading file data\\vox2_train\\id01108\\128.wav: The audio waveform is too short to create even one segment of length 63488, expected at least 64000\n"
     ]
    },
    {
     "name": "stderr",
     "output_type": "stream",
     "text": [
      " 48%|████▊     | 24565/51687 [06:45<06:40, 67.67it/s]"
     ]
    },
    {
     "name": "stdout",
     "output_type": "stream",
     "text": [
      "Error reading file data\\vox2_train\\id01108\\53.wav: The audio waveform is too short to create even one segment of length 63488, expected at least 64000\n",
      "Error reading file data\\vox2_train\\id01108\\56.wav: The audio waveform is too short to create even one segment of length 63488, expected at least 64000\n"
     ]
    },
    {
     "name": "stderr",
     "output_type": "stream",
     "text": [
      " 48%|████▊     | 24698/51687 [06:47<06:11, 72.64it/s]"
     ]
    },
    {
     "name": "stdout",
     "output_type": "stream",
     "text": [
      "Error reading file data\\vox2_train\\id01112\\74.wav: The audio waveform is too short to create even one segment of length 63488, expected at least 64000\n"
     ]
    },
    {
     "name": "stderr",
     "output_type": "stream",
     "text": [
      " 48%|████▊     | 24723/51687 [06:47<05:56, 75.55it/s]"
     ]
    },
    {
     "name": "stdout",
     "output_type": "stream",
     "text": [
      "Error reading file data\\vox2_train\\id01113\\103.wav: The audio waveform is too short to create even one segment of length 63488, expected at least 64000\n"
     ]
    },
    {
     "name": "stderr",
     "output_type": "stream",
     "text": [
      " 48%|████▊     | 24782/51687 [06:48<06:41, 67.06it/s]"
     ]
    },
    {
     "name": "stdout",
     "output_type": "stream",
     "text": [
      "Error reading file data\\vox2_train\\id01113\\148.wav: The audio waveform is too short to create even one segment of length 63488, expected at least 64000\n"
     ]
    },
    {
     "name": "stderr",
     "output_type": "stream",
     "text": [
      " 48%|████▊     | 25030/51687 [06:54<12:48, 34.69it/s]"
     ]
    },
    {
     "name": "stdout",
     "output_type": "stream",
     "text": [
      "Error reading file data\\vox2_train\\id01121\\166.wav: The audio waveform is too short to create even one segment of length 63488, expected at least 64000\n"
     ]
    },
    {
     "name": "stderr",
     "output_type": "stream",
     "text": [
      " 49%|████▊     | 25089/51687 [06:56<13:37, 32.55it/s]"
     ]
    },
    {
     "name": "stdout",
     "output_type": "stream",
     "text": [
      "Error reading file data\\vox2_train\\id01121\\22.wav: The audio waveform is too short to create even one segment of length 63488, expected at least 64000\n"
     ]
    },
    {
     "name": "stderr",
     "output_type": "stream",
     "text": [
      " 49%|████▉     | 25290/51687 [07:01<08:39, 50.85it/s]"
     ]
    },
    {
     "name": "stdout",
     "output_type": "stream",
     "text": [
      "Error reading file data\\vox2_train\\id01121\\394.wav: The audio waveform is too short to create even one segment of length 63488, expected at least 64000\n"
     ]
    },
    {
     "name": "stderr",
     "output_type": "stream",
     "text": [
      " 49%|████▉     | 25319/51687 [07:02<11:45, 37.37it/s]"
     ]
    },
    {
     "name": "stdout",
     "output_type": "stream",
     "text": [
      "Error reading file data\\vox2_train\\id01121\\426.wav: The audio waveform is too short to create even one segment of length 63488, expected at least 64000\n"
     ]
    },
    {
     "name": "stderr",
     "output_type": "stream",
     "text": [
      " 49%|████▉     | 25373/51687 [07:03<07:53, 55.58it/s]"
     ]
    },
    {
     "name": "stdout",
     "output_type": "stream",
     "text": [
      "Error reading file data\\vox2_train\\id01121\\470.wav: The audio waveform is too short to create even one segment of length 63488, expected at least 64000\n"
     ]
    },
    {
     "name": "stderr",
     "output_type": "stream",
     "text": [
      " 49%|████▉     | 25486/51687 [07:07<06:46, 64.40it/s]"
     ]
    },
    {
     "name": "stdout",
     "output_type": "stream",
     "text": [
      "Error reading file data\\vox2_train\\id01122\\2.wav: The audio waveform is too short to create even one segment of length 63488, expected at least 64000\n"
     ]
    },
    {
     "name": "stderr",
     "output_type": "stream",
     "text": [
      " 49%|████▉     | 25518/51687 [07:07<06:05, 71.52it/s]"
     ]
    },
    {
     "name": "stdout",
     "output_type": "stream",
     "text": [
      "Error reading file data\\vox2_train\\id01122\\47.wav: The audio waveform is too short to create even one segment of length 63488, expected at least 64000\n",
      "Error reading file data\\vox2_train\\id01122\\5.wav: The audio waveform is too short to create even one segment of length 63488, expected at least 64000\n"
     ]
    },
    {
     "name": "stderr",
     "output_type": "stream",
     "text": [
      " 49%|████▉     | 25565/51687 [07:08<04:59, 87.12it/s]"
     ]
    },
    {
     "name": "stdout",
     "output_type": "stream",
     "text": [
      "Error reading file data\\vox2_train\\id01122\\95.wav: The audio waveform is too short to create even one segment of length 63488, expected at least 64000\n"
     ]
    },
    {
     "name": "stderr",
     "output_type": "stream",
     "text": [
      " 50%|████▉     | 25673/51687 [07:11<13:35, 31.91it/s]"
     ]
    },
    {
     "name": "stdout",
     "output_type": "stream",
     "text": [
      "Error reading file data\\vox2_train\\id01132\\196.wav: The audio waveform is too short to create even one segment of length 63488, expected at least 64000\n"
     ]
    },
    {
     "name": "stderr",
     "output_type": "stream",
     "text": [
      " 50%|████▉     | 25715/51687 [07:12<12:34, 34.43it/s]"
     ]
    },
    {
     "name": "stdout",
     "output_type": "stream",
     "text": [
      "Error reading file data\\vox2_train\\id01132\\230.wav: The audio waveform is too short to create even one segment of length 63488, expected at least 64000\n"
     ]
    },
    {
     "name": "stderr",
     "output_type": "stream",
     "text": [
      " 50%|█████     | 25883/51687 [07:15<05:18, 81.00it/s]"
     ]
    },
    {
     "name": "stdout",
     "output_type": "stream",
     "text": [
      "Error reading file data\\vox2_train\\id01164\\71.wav: The audio waveform is too short to create even one segment of length 63488, expected at least 64000\n"
     ]
    },
    {
     "name": "stderr",
     "output_type": "stream",
     "text": [
      " 51%|█████     | 26184/51687 [07:20<05:50, 72.68it/s]"
     ]
    },
    {
     "name": "stdout",
     "output_type": "stream",
     "text": [
      "Error reading file data\\vox2_train\\id01184\\215.wav: The audio waveform is too short to create even one segment of length 63488, expected at least 64000\n"
     ]
    },
    {
     "name": "stderr",
     "output_type": "stream",
     "text": [
      " 51%|█████     | 26266/51687 [07:21<05:50, 72.57it/s]"
     ]
    },
    {
     "name": "stdout",
     "output_type": "stream",
     "text": [
      "Error reading file data\\vox2_train\\id01184\\8.wav: The audio waveform is too short to create even one segment of length 63488, expected at least 64000\n"
     ]
    },
    {
     "name": "stderr",
     "output_type": "stream",
     "text": [
      " 51%|█████     | 26333/51687 [07:22<06:36, 63.89it/s]"
     ]
    },
    {
     "name": "stdout",
     "output_type": "stream",
     "text": [
      "Error reading file data\\vox2_train\\id01187\\133.wav: The audio waveform is too short to create even one segment of length 63488, expected at least 64000\n"
     ]
    },
    {
     "name": "stderr",
     "output_type": "stream",
     "text": [
      " 51%|█████     | 26348/51687 [07:22<07:03, 59.79it/s]"
     ]
    },
    {
     "name": "stdout",
     "output_type": "stream",
     "text": [
      "Error reading file data\\vox2_train\\id01187\\159.wav: The audio waveform is too short to create even one segment of length 63488, expected at least 64000\n"
     ]
    },
    {
     "name": "stderr",
     "output_type": "stream",
     "text": [
      " 51%|█████▏    | 26528/51687 [07:26<05:35, 74.91it/s]"
     ]
    },
    {
     "name": "stdout",
     "output_type": "stream",
     "text": [
      "Error reading file data\\vox2_train\\id01205\\24.wav: The audio waveform is too short to create even one segment of length 63488, expected at least 64000\n"
     ]
    },
    {
     "name": "stderr",
     "output_type": "stream",
     "text": [
      " 51%|█████▏    | 26538/51687 [07:26<05:12, 80.48it/s]"
     ]
    },
    {
     "name": "stdout",
     "output_type": "stream",
     "text": [
      "Error reading file data\\vox2_train\\id01205\\42.wav: The audio waveform is too short to create even one segment of length 63488, expected at least 64000\n"
     ]
    },
    {
     "name": "stderr",
     "output_type": "stream",
     "text": [
      " 52%|█████▏    | 26664/51687 [07:28<05:06, 81.74it/s]"
     ]
    },
    {
     "name": "stdout",
     "output_type": "stream",
     "text": [
      "Error reading file data\\vox2_train\\id01206\\182.wav: The audio waveform is too short to create even one segment of length 63488, expected at least 64000\n"
     ]
    },
    {
     "name": "stderr",
     "output_type": "stream",
     "text": [
      " 52%|█████▏    | 26673/51687 [07:28<05:05, 81.97it/s]"
     ]
    },
    {
     "name": "stdout",
     "output_type": "stream",
     "text": [
      "Error reading file data\\vox2_train\\id01206\\2.wav: The audio waveform is too short to create even one segment of length 63488, expected at least 64000\n"
     ]
    },
    {
     "name": "stderr",
     "output_type": "stream",
     "text": [
      " 52%|█████▏    | 26690/51687 [07:28<05:33, 74.88it/s]"
     ]
    },
    {
     "name": "stdout",
     "output_type": "stream",
     "text": [
      "Error reading file data\\vox2_train\\id01206\\214.wav: The audio waveform is too short to create even one segment of length 63488, expected at least 64000\n"
     ]
    },
    {
     "name": "stderr",
     "output_type": "stream",
     "text": [
      " 52%|█████▏    | 26946/51687 [07:32<06:50, 60.23it/s]"
     ]
    },
    {
     "name": "stdout",
     "output_type": "stream",
     "text": [
      "Error reading file data\\vox2_train\\id01206\\441.wav: The audio waveform is too short to create even one segment of length 63488, expected at least 64000\n",
      "Error reading file data\\vox2_train\\id01206\\447.wav: The audio waveform is too short to create even one segment of length 63488, expected at least 64000\n"
     ]
    },
    {
     "name": "stderr",
     "output_type": "stream",
     "text": [
      " 52%|█████▏    | 26979/51687 [07:32<05:59, 68.70it/s]"
     ]
    },
    {
     "name": "stdout",
     "output_type": "stream",
     "text": [
      "Error reading file data\\vox2_train\\id01206\\68.wav: The audio waveform is too short to create even one segment of length 63488, expected at least 64000\n"
     ]
    },
    {
     "name": "stderr",
     "output_type": "stream",
     "text": [
      " 53%|█████▎    | 27216/51687 [07:37<06:18, 64.63it/s]"
     ]
    },
    {
     "name": "stdout",
     "output_type": "stream",
     "text": [
      "Error reading file data\\vox2_train\\id01209\\284.wav: The audio waveform is too short to create even one segment of length 63488, expected at least 64000\n"
     ]
    },
    {
     "name": "stderr",
     "output_type": "stream",
     "text": [
      " 53%|█████▎    | 27268/51687 [07:38<06:03, 67.21it/s]"
     ]
    },
    {
     "name": "stdout",
     "output_type": "stream",
     "text": [
      "Error reading file data\\vox2_train\\id01209\\330.wav: The audio waveform is too short to create even one segment of length 63488, expected at least 64000\n"
     ]
    },
    {
     "name": "stderr",
     "output_type": "stream",
     "text": [
      " 53%|█████▎    | 27409/51687 [07:41<08:47, 45.99it/s]"
     ]
    },
    {
     "name": "stdout",
     "output_type": "stream",
     "text": [
      "Error reading file data\\vox2_train\\id01209\\464.wav: The audio waveform is too short to create even one segment of length 63488, expected at least 64000\n"
     ]
    },
    {
     "name": "stderr",
     "output_type": "stream",
     "text": [
      " 53%|█████▎    | 27462/51687 [07:42<08:04, 49.96it/s]"
     ]
    },
    {
     "name": "stdout",
     "output_type": "stream",
     "text": [
      "Error reading file data\\vox2_train\\id01209\\57.wav: The audio waveform is too short to create even one segment of length 63488, expected at least 64000\n"
     ]
    },
    {
     "name": "stderr",
     "output_type": "stream",
     "text": [
      " 54%|█████▍    | 27832/51687 [07:51<06:31, 60.93it/s]"
     ]
    },
    {
     "name": "stdout",
     "output_type": "stream",
     "text": [
      "Error reading file data\\vox2_train\\id01210\\90.wav: The audio waveform is too short to create even one segment of length 63488, expected at least 64000\n"
     ]
    },
    {
     "name": "stderr",
     "output_type": "stream",
     "text": [
      " 54%|█████▍    | 27846/51687 [07:51<06:31, 60.84it/s]"
     ]
    },
    {
     "name": "stdout",
     "output_type": "stream",
     "text": [
      "Error reading file data\\vox2_train\\id01212\\11.wav: The audio waveform is too short to create even one segment of length 63488, expected at least 64000\n"
     ]
    },
    {
     "name": "stderr",
     "output_type": "stream",
     "text": [
      " 54%|█████▍    | 27906/51687 [07:52<05:40, 69.78it/s]"
     ]
    },
    {
     "name": "stdout",
     "output_type": "stream",
     "text": [
      "Error reading file data\\vox2_train\\id01212\\155.wav: The audio waveform is too short to create even one segment of length 63488, expected at least 64000\n",
      "Error reading file data\\vox2_train\\id01212\\157.wav: The audio waveform is too short to create even one segment of length 63488, expected at least 64000\n"
     ]
    },
    {
     "name": "stderr",
     "output_type": "stream",
     "text": [
      " 54%|█████▍    | 27939/51687 [07:52<05:30, 71.94it/s]"
     ]
    },
    {
     "name": "stdout",
     "output_type": "stream",
     "text": [
      "Error reading file data\\vox2_train\\id01212\\187.wav: The audio waveform is too short to create even one segment of length 63488, expected at least 64000\n",
      "Error reading file data\\vox2_train\\id01212\\19.wav: The audio waveform is too short to create even one segment of length 63488, expected at least 64000\n"
     ]
    },
    {
     "name": "stderr",
     "output_type": "stream",
     "text": [
      " 55%|█████▍    | 28215/51687 [07:57<07:04, 55.35it/s]"
     ]
    },
    {
     "name": "stdout",
     "output_type": "stream",
     "text": [
      "Error reading file data\\vox2_train\\id01217\\165.wav: The audio waveform is too short to create even one segment of length 63488, expected at least 64000\n"
     ]
    },
    {
     "name": "stderr",
     "output_type": "stream",
     "text": [
      " 55%|█████▍    | 28290/51687 [07:59<09:44, 40.02it/s]"
     ]
    },
    {
     "name": "stdout",
     "output_type": "stream",
     "text": [
      "Error reading file data\\vox2_train\\id01217\\58.wav: The audio waveform is too short to create even one segment of length 63488, expected at least 64000\n"
     ]
    },
    {
     "name": "stderr",
     "output_type": "stream",
     "text": [
      " 55%|█████▍    | 28312/51687 [07:59<07:30, 51.83it/s]"
     ]
    },
    {
     "name": "stdout",
     "output_type": "stream",
     "text": [
      "Error reading file data\\vox2_train\\id01217\\78.wav: The audio waveform is too short to create even one segment of length 63488, expected at least 64000\n"
     ]
    },
    {
     "name": "stderr",
     "output_type": "stream",
     "text": [
      " 55%|█████▍    | 28422/51687 [08:01<06:10, 62.81it/s]"
     ]
    },
    {
     "name": "stdout",
     "output_type": "stream",
     "text": [
      "Error reading file data\\vox2_train\\id01227\\17.wav: The audio waveform is too short to create even one segment of length 63488, expected at least 64000\n",
      "Error reading file data\\vox2_train\\id01227\\28.wav: The audio waveform is too short to create even one segment of length 63488, expected at least 64000\n"
     ]
    },
    {
     "name": "stderr",
     "output_type": "stream",
     "text": [
      " 55%|█████▌    | 28540/51687 [08:03<05:24, 71.25it/s]"
     ]
    },
    {
     "name": "stdout",
     "output_type": "stream",
     "text": [
      "Error reading file data\\vox2_train\\id01229\\61.wav: The audio waveform is too short to create even one segment of length 63488, expected at least 64000\n"
     ]
    },
    {
     "name": "stderr",
     "output_type": "stream",
     "text": [
      " 55%|█████▌    | 28566/51687 [08:03<05:11, 74.27it/s]"
     ]
    },
    {
     "name": "stdout",
     "output_type": "stream",
     "text": [
      "Error reading file data\\vox2_train\\id01229\\9.wav: The audio waveform is too short to create even one segment of length 63488, expected at least 64000\n"
     ]
    },
    {
     "name": "stderr",
     "output_type": "stream",
     "text": [
      " 55%|█████▌    | 28613/51687 [08:04<05:41, 67.54it/s]"
     ]
    },
    {
     "name": "stdout",
     "output_type": "stream",
     "text": [
      "Error reading file data\\vox2_train\\id01238\\26.wav: The audio waveform is too short to create even one segment of length 63488, expected at least 64000\n"
     ]
    },
    {
     "name": "stderr",
     "output_type": "stream",
     "text": [
      " 56%|█████▌    | 28843/51687 [08:07<05:00, 76.08it/s]"
     ]
    },
    {
     "name": "stdout",
     "output_type": "stream",
     "text": [
      "Error reading file data\\vox2_train\\id01239\\233.wav: The audio waveform is too short to create even one segment of length 63488, expected at least 64000\n"
     ]
    },
    {
     "name": "stderr",
     "output_type": "stream",
     "text": [
      " 56%|█████▌    | 28883/51687 [08:08<05:48, 65.37it/s]"
     ]
    },
    {
     "name": "stdout",
     "output_type": "stream",
     "text": [
      "Error reading file data\\vox2_train\\id01239\\271.wav: The audio waveform is too short to create even one segment of length 63488, expected at least 64000\n"
     ]
    },
    {
     "name": "stderr",
     "output_type": "stream",
     "text": [
      " 56%|█████▌    | 28921/51687 [08:08<05:56, 63.82it/s]"
     ]
    },
    {
     "name": "stdout",
     "output_type": "stream",
     "text": [
      "Error reading file data\\vox2_train\\id01239\\31.wav: The audio waveform is too short to create even one segment of length 63488, expected at least 64000\n"
     ]
    },
    {
     "name": "stderr",
     "output_type": "stream",
     "text": [
      " 56%|█████▋    | 29112/51687 [08:11<05:00, 75.23it/s]"
     ]
    },
    {
     "name": "stdout",
     "output_type": "stream",
     "text": [
      "Error reading file data\\vox2_train\\id01252\\34.wav: The audio waveform is too short to create even one segment of length 63488, expected at least 64000\n"
     ]
    },
    {
     "name": "stderr",
     "output_type": "stream",
     "text": [
      " 57%|█████▋    | 29365/51687 [08:15<06:15, 59.49it/s]"
     ]
    },
    {
     "name": "stdout",
     "output_type": "stream",
     "text": [
      "Error reading file data\\vox2_train\\id01255\\52.wav: The audio waveform is too short to create even one segment of length 63488, expected at least 64000\n"
     ]
    },
    {
     "name": "stderr",
     "output_type": "stream",
     "text": [
      " 57%|█████▋    | 29428/51687 [08:16<05:04, 73.15it/s]"
     ]
    },
    {
     "name": "stdout",
     "output_type": "stream",
     "text": [
      "Error reading file data\\vox2_train\\id01269\\102.wav: The audio waveform is too short to create even one segment of length 63488, expected at least 64000\n"
     ]
    },
    {
     "name": "stderr",
     "output_type": "stream",
     "text": [
      " 57%|█████▋    | 29445/51687 [08:16<05:16, 70.19it/s]"
     ]
    },
    {
     "name": "stdout",
     "output_type": "stream",
     "text": [
      "Error reading file data\\vox2_train\\id01269\\13.wav: The audio waveform is too short to create even one segment of length 63488, expected at least 64000\n"
     ]
    },
    {
     "name": "stderr",
     "output_type": "stream",
     "text": [
      " 57%|█████▋    | 29476/51687 [08:17<05:59, 61.80it/s]"
     ]
    },
    {
     "name": "stdout",
     "output_type": "stream",
     "text": [
      "Error reading file data\\vox2_train\\id01269\\154.wav: The audio waveform is too short to create even one segment of length 63488, expected at least 64000\n",
      "Error reading file data\\vox2_train\\id01269\\157.wav: The audio waveform is too short to create even one segment of length 63488, expected at least 64000\n"
     ]
    },
    {
     "name": "stderr",
     "output_type": "stream",
     "text": [
      " 57%|█████▋    | 29505/51687 [08:17<06:11, 59.73it/s]"
     ]
    },
    {
     "name": "stdout",
     "output_type": "stream",
     "text": [
      "Error reading file data\\vox2_train\\id01269\\180.wav: The audio waveform is too short to create even one segment of length 63488, expected at least 64000\n"
     ]
    },
    {
     "name": "stderr",
     "output_type": "stream",
     "text": [
      " 58%|█████▊    | 29754/51687 [08:21<04:25, 82.63it/s]"
     ]
    },
    {
     "name": "stdout",
     "output_type": "stream",
     "text": [
      "Error reading file data\\vox2_train\\id01271\\71.wav: The audio waveform is too short to create even one segment of length 63488, expected at least 64000\n",
      "Error reading file data\\vox2_train\\id01271\\74.wav: The audio waveform is too short to create even one segment of length 63488, expected at least 64000\n"
     ]
    },
    {
     "name": "stderr",
     "output_type": "stream",
     "text": [
      " 58%|█████▊    | 29772/51687 [08:21<04:55, 74.09it/s]"
     ]
    },
    {
     "name": "stdout",
     "output_type": "stream",
     "text": [
      "Error reading file data\\vox2_train\\id01275\\118.wav: The audio waveform is too short to create even one segment of length 63488, expected at least 64000\n"
     ]
    },
    {
     "name": "stderr",
     "output_type": "stream",
     "text": [
      " 58%|█████▊    | 29849/51687 [08:22<04:54, 74.17it/s]"
     ]
    },
    {
     "name": "stdout",
     "output_type": "stream",
     "text": [
      "Error reading file data\\vox2_train\\id01275\\184.wav: The audio waveform is too short to create even one segment of length 63488, expected at least 64000\n"
     ]
    },
    {
     "name": "stderr",
     "output_type": "stream",
     "text": [
      " 58%|█████▊    | 29968/51687 [08:24<04:28, 80.84it/s]"
     ]
    },
    {
     "name": "stdout",
     "output_type": "stream",
     "text": [
      "Error reading file data\\vox2_train\\id01275\\286.wav: The audio waveform is too short to create even one segment of length 63488, expected at least 64000\n"
     ]
    },
    {
     "name": "stderr",
     "output_type": "stream",
     "text": [
      " 58%|█████▊    | 30010/51687 [08:24<05:04, 71.15it/s]"
     ]
    },
    {
     "name": "stdout",
     "output_type": "stream",
     "text": [
      "Error reading file data\\vox2_train\\id01275\\51.wav: The audio waveform is too short to create even one segment of length 63488, expected at least 64000\n"
     ]
    },
    {
     "name": "stderr",
     "output_type": "stream",
     "text": [
      " 58%|█████▊    | 30025/51687 [08:25<05:22, 67.22it/s]"
     ]
    },
    {
     "name": "stdout",
     "output_type": "stream",
     "text": [
      "Error reading file data\\vox2_train\\id01275\\7.wav: The audio waveform is too short to create even one segment of length 63488, expected at least 64000\n",
      "Error reading file data\\vox2_train\\id01275\\81.wav: The audio waveform is too short to create even one segment of length 63488, expected at least 64000\n"
     ]
    },
    {
     "name": "stderr",
     "output_type": "stream",
     "text": [
      " 59%|█████▊    | 30238/51687 [08:28<04:53, 73.04it/s]"
     ]
    },
    {
     "name": "stdout",
     "output_type": "stream",
     "text": [
      "Error reading file data\\vox2_train\\id01323\\18.wav: The audio waveform is too short to create even one segment of length 63488, expected at least 64000\n",
      "Error reading file data\\vox2_train\\id01323\\22.wav: The audio waveform is too short to create even one segment of length 63488, expected at least 64000\n",
      "Error reading file data\\vox2_train\\id01323\\23.wav: The audio waveform is too short to create even one segment of length 63488, expected at least 64000\n"
     ]
    },
    {
     "name": "stderr",
     "output_type": "stream",
     "text": [
      " 59%|█████▊    | 30319/51687 [08:29<04:07, 86.39it/s]"
     ]
    },
    {
     "name": "stdout",
     "output_type": "stream",
     "text": [
      "Error reading file data\\vox2_train\\id01325\\132.wav: The audio waveform is too short to create even one segment of length 63488, expected at least 64000\n"
     ]
    },
    {
     "name": "stderr",
     "output_type": "stream",
     "text": [
      " 59%|█████▉    | 30373/51687 [08:30<06:38, 53.50it/s]"
     ]
    },
    {
     "name": "stdout",
     "output_type": "stream",
     "text": [
      "Error reading file data\\vox2_train\\id01325\\51.wav: The audio waveform is too short to create even one segment of length 63488, expected at least 64000\n"
     ]
    },
    {
     "name": "stderr",
     "output_type": "stream",
     "text": [
      " 59%|█████▉    | 30421/51687 [08:30<04:55, 72.06it/s]"
     ]
    },
    {
     "name": "stdout",
     "output_type": "stream",
     "text": [
      "Error reading file data\\vox2_train\\id01325\\93.wav: The audio waveform is too short to create even one segment of length 63488, expected at least 64000\n"
     ]
    },
    {
     "name": "stderr",
     "output_type": "stream",
     "text": [
      " 59%|█████▉    | 30500/51687 [08:32<05:25, 65.05it/s]"
     ]
    },
    {
     "name": "stdout",
     "output_type": "stream",
     "text": [
      "Error reading file data\\vox2_train\\id01329\\41.wav: The audio waveform is too short to create even one segment of length 63488, expected at least 64000\n"
     ]
    },
    {
     "name": "stderr",
     "output_type": "stream",
     "text": [
      " 59%|█████▉    | 30565/51687 [08:33<05:17, 66.45it/s]"
     ]
    },
    {
     "name": "stdout",
     "output_type": "stream",
     "text": [
      "Error reading file data\\vox2_train\\id01339\\10.wav: The audio waveform is too short to create even one segment of length 63488, expected at least 64000\n"
     ]
    },
    {
     "name": "stderr",
     "output_type": "stream",
     "text": [
      " 59%|█████▉    | 30678/51687 [08:35<05:15, 66.65it/s]"
     ]
    },
    {
     "name": "stdout",
     "output_type": "stream",
     "text": [
      "Error reading file data\\vox2_train\\id01340\\151.wav: The audio waveform is too short to create even one segment of length 63488, expected at least 64000\n"
     ]
    },
    {
     "name": "stderr",
     "output_type": "stream",
     "text": [
      " 60%|█████▉    | 30967/51687 [08:40<05:11, 66.45it/s]"
     ]
    },
    {
     "name": "stdout",
     "output_type": "stream",
     "text": [
      "Error reading file data\\vox2_train\\id01346\\73.wav: The audio waveform is too short to create even one segment of length 63488, expected at least 64000\n"
     ]
    },
    {
     "name": "stderr",
     "output_type": "stream",
     "text": [
      " 60%|█████▉    | 30982/51687 [08:40<05:18, 64.98it/s]"
     ]
    },
    {
     "name": "stdout",
     "output_type": "stream",
     "text": [
      "Error reading file data\\vox2_train\\id01346\\89.wav: The audio waveform is too short to create even one segment of length 63488, expected at least 64000\n",
      "Error reading file data\\vox2_train\\id01346\\93.wav: The audio waveform is too short to create even one segment of length 63488, expected at least 64000\n"
     ]
    },
    {
     "name": "stderr",
     "output_type": "stream",
     "text": [
      " 60%|██████    | 31027/51687 [08:41<06:04, 56.74it/s]"
     ]
    },
    {
     "name": "stdout",
     "output_type": "stream",
     "text": [
      "Error reading file data\\vox2_train\\id01376\\125.wav: The audio waveform is too short to create even one segment of length 63488, expected at least 64000\n"
     ]
    },
    {
     "name": "stderr",
     "output_type": "stream",
     "text": [
      " 60%|██████    | 31158/51687 [08:44<06:39, 51.41it/s]"
     ]
    },
    {
     "name": "stdout",
     "output_type": "stream",
     "text": [
      "Error reading file data\\vox2_train\\id01379\\101.wav: The audio waveform is too short to create even one segment of length 63488, expected at least 64000\n",
      "Error reading file data\\vox2_train\\id01379\\106.wav: The audio waveform is too short to create even one segment of length 63488, expected at least 64000\n",
      "Error reading file data\\vox2_train\\id01379\\112.wav: The audio waveform is too short to create even one segment of length 63488, expected at least 64000\n"
     ]
    },
    {
     "name": "stderr",
     "output_type": "stream",
     "text": [
      " 61%|██████    | 31283/51687 [08:46<04:45, 71.35it/s]"
     ]
    },
    {
     "name": "stdout",
     "output_type": "stream",
     "text": [
      "Error reading file data\\vox2_train\\id01379\\85.wav: The audio waveform is too short to create even one segment of length 63488, expected at least 64000\n"
     ]
    },
    {
     "name": "stderr",
     "output_type": "stream",
     "text": [
      " 61%|██████    | 31566/51687 [08:54<06:20, 52.83it/s]"
     ]
    },
    {
     "name": "stdout",
     "output_type": "stream",
     "text": [
      "Error reading file data\\vox2_train\\id01387\\348.wav: The audio waveform is too short to create even one segment of length 63488, expected at least 64000\n"
     ]
    },
    {
     "name": "stderr",
     "output_type": "stream",
     "text": [
      " 61%|██████▏   | 31761/51687 [08:58<10:59, 30.23it/s]"
     ]
    },
    {
     "name": "stdout",
     "output_type": "stream",
     "text": [
      "Error reading file data\\vox2_train\\id01387\\7.wav: The audio waveform is too short to create even one segment of length 63488, expected at least 64000\n"
     ]
    },
    {
     "name": "stderr",
     "output_type": "stream",
     "text": [
      " 62%|██████▏   | 31917/51687 [09:01<05:13, 63.02it/s]"
     ]
    },
    {
     "name": "stdout",
     "output_type": "stream",
     "text": [
      "Error reading file data\\vox2_train\\id01405\\51.wav: The audio waveform is too short to create even one segment of length 63488, expected at least 64000\n"
     ]
    },
    {
     "name": "stderr",
     "output_type": "stream",
     "text": [
      " 62%|██████▏   | 31933/51687 [09:01<05:00, 65.71it/s]"
     ]
    },
    {
     "name": "stdout",
     "output_type": "stream",
     "text": [
      "Error reading file data\\vox2_train\\id01405\\70.wav: The audio waveform is too short to create even one segment of length 63488, expected at least 64000\n"
     ]
    },
    {
     "name": "stderr",
     "output_type": "stream",
     "text": [
      " 62%|██████▏   | 32060/51687 [09:03<05:30, 59.31it/s]"
     ]
    },
    {
     "name": "stdout",
     "output_type": "stream",
     "text": [
      "Error reading file data\\vox2_train\\id01425\\184.wav: The audio waveform is too short to create even one segment of length 63488, expected at least 64000\n"
     ]
    },
    {
     "name": "stderr",
     "output_type": "stream",
     "text": [
      " 62%|██████▏   | 32126/51687 [09:05<05:12, 62.62it/s]"
     ]
    },
    {
     "name": "stdout",
     "output_type": "stream",
     "text": [
      "Error reading file data\\vox2_train\\id01425\\38.wav: The audio waveform is too short to create even one segment of length 63488, expected at least 64000\n"
     ]
    },
    {
     "name": "stderr",
     "output_type": "stream",
     "text": [
      " 62%|██████▏   | 32238/51687 [09:07<05:05, 63.63it/s]"
     ]
    },
    {
     "name": "stdout",
     "output_type": "stream",
     "text": [
      "Error reading file data\\vox2_train\\id01432\\50.wav: The audio waveform is too short to create even one segment of length 63488, expected at least 64000\n"
     ]
    },
    {
     "name": "stderr",
     "output_type": "stream",
     "text": [
      " 62%|██████▏   | 32288/51687 [09:07<04:14, 76.29it/s]"
     ]
    },
    {
     "name": "stdout",
     "output_type": "stream",
     "text": [
      "Error reading file data\\vox2_train\\id01458\\21.wav: The audio waveform is too short to create even one segment of length 63488, expected at least 64000\n"
     ]
    },
    {
     "name": "stderr",
     "output_type": "stream",
     "text": [
      " 63%|██████▎   | 32325/51687 [09:08<03:46, 85.49it/s]"
     ]
    },
    {
     "name": "stdout",
     "output_type": "stream",
     "text": [
      "Error reading file data\\vox2_train\\id01493\\1.wav: The audio waveform is too short to create even one segment of length 63488, expected at least 64000\n"
     ]
    },
    {
     "name": "stderr",
     "output_type": "stream",
     "text": [
      " 63%|██████▎   | 32444/51687 [09:09<04:25, 72.45it/s]"
     ]
    },
    {
     "name": "stdout",
     "output_type": "stream",
     "text": [
      "Error reading file data\\vox2_train\\id01493\\207.wav: The audio waveform is too short to create even one segment of length 63488, expected at least 64000\n"
     ]
    },
    {
     "name": "stderr",
     "output_type": "stream",
     "text": [
      " 63%|██████▎   | 32474/51687 [09:10<03:49, 83.65it/s]"
     ]
    },
    {
     "name": "stdout",
     "output_type": "stream",
     "text": [
      "Error reading file data\\vox2_train\\id01493\\34.wav: The audio waveform is too short to create even one segment of length 63488, expected at least 64000\n"
     ]
    },
    {
     "name": "stderr",
     "output_type": "stream",
     "text": [
      " 63%|██████▎   | 32492/51687 [09:10<04:03, 78.94it/s]"
     ]
    },
    {
     "name": "stdout",
     "output_type": "stream",
     "text": [
      "Error reading file data\\vox2_train\\id01493\\51.wav: The audio waveform is too short to create even one segment of length 63488, expected at least 64000\n"
     ]
    },
    {
     "name": "stderr",
     "output_type": "stream",
     "text": [
      " 63%|██████▎   | 32509/51687 [09:10<03:56, 80.98it/s]"
     ]
    },
    {
     "name": "stdout",
     "output_type": "stream",
     "text": [
      "Error reading file data\\vox2_train\\id01493\\64.wav: The audio waveform is too short to create even one segment of length 63488, expected at least 64000\n"
     ]
    },
    {
     "name": "stderr",
     "output_type": "stream",
     "text": [
      " 63%|██████▎   | 32554/51687 [09:11<05:17, 60.27it/s]"
     ]
    },
    {
     "name": "stdout",
     "output_type": "stream",
     "text": [
      "Error reading file data\\vox2_train\\id01501\\107.wav: The audio waveform is too short to create even one segment of length 63488, expected at least 64000\n"
     ]
    },
    {
     "name": "stderr",
     "output_type": "stream",
     "text": [
      " 63%|██████▎   | 32651/51687 [09:13<05:31, 57.36it/s]"
     ]
    },
    {
     "name": "stdout",
     "output_type": "stream",
     "text": [
      "Error reading file data\\vox2_train\\id01501\\198.wav: The audio waveform is too short to create even one segment of length 63488, expected at least 64000\n"
     ]
    },
    {
     "name": "stderr",
     "output_type": "stream",
     "text": [
      " 63%|██████▎   | 32730/51687 [09:15<05:01, 62.81it/s]"
     ]
    },
    {
     "name": "stdout",
     "output_type": "stream",
     "text": [
      "Error reading file data\\vox2_train\\id01501\\266.wav: The audio waveform is too short to create even one segment of length 63488, expected at least 64000\n",
      "Error reading file data\\vox2_train\\id01501\\270.wav: The audio waveform is too short to create even one segment of length 63488, expected at least 64000\n"
     ]
    },
    {
     "name": "stderr",
     "output_type": "stream",
     "text": [
      " 63%|██████▎   | 32752/51687 [09:15<05:03, 62.47it/s]"
     ]
    },
    {
     "name": "stdout",
     "output_type": "stream",
     "text": [
      "Error reading file data\\vox2_train\\id01501\\29.wav: The audio waveform is too short to create even one segment of length 63488, expected at least 64000\n",
      "Error reading file data\\vox2_train\\id01501\\290.wav: The audio waveform is too short to create even one segment of length 63488, expected at least 64000\n"
     ]
    },
    {
     "name": "stderr",
     "output_type": "stream",
     "text": [
      " 64%|██████▎   | 32911/51687 [09:19<05:54, 52.96it/s]"
     ]
    },
    {
     "name": "stdout",
     "output_type": "stream",
     "text": [
      "Error reading file data\\vox2_train\\id01501\\430.wav: The audio waveform is too short to create even one segment of length 63488, expected at least 64000\n"
     ]
    },
    {
     "name": "stderr",
     "output_type": "stream",
     "text": [
      " 64%|██████▍   | 33056/51687 [09:21<04:47, 64.87it/s]"
     ]
    },
    {
     "name": "stdout",
     "output_type": "stream",
     "text": [
      "Error reading file data\\vox2_train\\id01505\\104.wav: The audio waveform is too short to create even one segment of length 63488, expected at least 64000\n"
     ]
    },
    {
     "name": "stderr",
     "output_type": "stream",
     "text": [
      " 64%|██████▍   | 33206/51687 [09:23<04:15, 72.34it/s]"
     ]
    },
    {
     "name": "stdout",
     "output_type": "stream",
     "text": [
      "Error reading file data\\vox2_train\\id01513\\8.wav: The audio waveform is too short to create even one segment of length 63488, expected at least 64000\n"
     ]
    },
    {
     "name": "stderr",
     "output_type": "stream",
     "text": [
      " 64%|██████▍   | 33231/51687 [09:24<04:15, 72.31it/s]"
     ]
    },
    {
     "name": "stdout",
     "output_type": "stream",
     "text": [
      "Error reading file data\\vox2_train\\id01515\\35.wav: The audio waveform is too short to create even one segment of length 63488, expected at least 64000\n"
     ]
    },
    {
     "name": "stderr",
     "output_type": "stream",
     "text": [
      " 64%|██████▍   | 33335/51687 [09:25<03:36, 84.73it/s]"
     ]
    },
    {
     "name": "stdout",
     "output_type": "stream",
     "text": [
      "Error reading file data\\vox2_train\\id01528\\49.wav: The audio waveform is too short to create even one segment of length 63488, expected at least 64000\n"
     ]
    },
    {
     "name": "stderr",
     "output_type": "stream",
     "text": [
      " 65%|██████▍   | 33362/51687 [09:25<03:48, 80.29it/s]"
     ]
    },
    {
     "name": "stdout",
     "output_type": "stream",
     "text": [
      "Error reading file data\\vox2_train\\id01528\\77.wav: The audio waveform is too short to create even one segment of length 63488, expected at least 64000\n"
     ]
    },
    {
     "name": "stderr",
     "output_type": "stream",
     "text": [
      " 65%|██████▍   | 33389/51687 [09:26<04:28, 68.24it/s]"
     ]
    },
    {
     "name": "stdout",
     "output_type": "stream",
     "text": [
      "Error reading file data\\vox2_train\\id01529\\10.wav: The audio waveform is too short to create even one segment of length 63488, expected at least 64000\n"
     ]
    },
    {
     "name": "stderr",
     "output_type": "stream",
     "text": [
      " 65%|██████▍   | 33451/51687 [09:27<04:41, 64.88it/s]"
     ]
    },
    {
     "name": "stdout",
     "output_type": "stream",
     "text": [
      "Error reading file data\\vox2_train\\id01529\\155.wav: The audio waveform is too short to create even one segment of length 63488, expected at least 64000\n"
     ]
    },
    {
     "name": "stderr",
     "output_type": "stream",
     "text": [
      " 65%|██████▌   | 33665/51687 [09:30<03:33, 84.39it/s]"
     ]
    },
    {
     "name": "stdout",
     "output_type": "stream",
     "text": [
      "Error reading file data\\vox2_train\\id01536\\48.wav: The audio waveform is too short to create even one segment of length 63488, expected at least 64000\n"
     ]
    },
    {
     "name": "stderr",
     "output_type": "stream",
     "text": [
      " 65%|██████▌   | 33701/51687 [09:30<03:45, 79.72it/s]"
     ]
    },
    {
     "name": "stdout",
     "output_type": "stream",
     "text": [
      "Error reading file data\\vox2_train\\id01536\\83.wav: The audio waveform is too short to create even one segment of length 63488, expected at least 64000\n"
     ]
    },
    {
     "name": "stderr",
     "output_type": "stream",
     "text": [
      " 66%|██████▌   | 33864/51687 [09:32<03:26, 86.13it/s]"
     ]
    },
    {
     "name": "stdout",
     "output_type": "stream",
     "text": [
      "Error reading file data\\vox2_train\\id01542\\49.wav: The audio waveform is too short to create even one segment of length 63488, expected at least 64000\n",
      "Error reading file data\\vox2_train\\id01542\\56.wav: The audio waveform is too short to create even one segment of length 63488, expected at least 64000\n"
     ]
    },
    {
     "name": "stderr",
     "output_type": "stream",
     "text": [
      " 66%|██████▌   | 33899/51687 [09:33<03:56, 75.15it/s]"
     ]
    },
    {
     "name": "stdout",
     "output_type": "stream",
     "text": [
      "Error reading file data\\vox2_train\\id01542\\88.wav: The audio waveform is too short to create even one segment of length 63488, expected at least 64000\n",
      "Error reading file data\\vox2_train\\id01542\\91.wav: The audio waveform is too short to create even one segment of length 63488, expected at least 64000\n"
     ]
    },
    {
     "name": "stderr",
     "output_type": "stream",
     "text": [
      " 66%|██████▌   | 33966/51687 [09:34<04:03, 72.91it/s]"
     ]
    },
    {
     "name": "stdout",
     "output_type": "stream",
     "text": [
      "Error reading file data\\vox2_train\\id01545\\151.wav: The audio waveform is too short to create even one segment of length 63488, expected at least 64000\n"
     ]
    },
    {
     "name": "stderr",
     "output_type": "stream",
     "text": [
      " 66%|██████▌   | 34015/51687 [09:34<03:53, 75.71it/s]"
     ]
    },
    {
     "name": "stdout",
     "output_type": "stream",
     "text": [
      "Error reading file data\\vox2_train\\id01545\\50.wav: The audio waveform is too short to create even one segment of length 63488, expected at least 64000\n"
     ]
    },
    {
     "name": "stderr",
     "output_type": "stream",
     "text": [
      " 66%|██████▌   | 34117/51687 [09:36<05:24, 54.18it/s]"
     ]
    },
    {
     "name": "stdout",
     "output_type": "stream",
     "text": [
      "Error reading file data\\vox2_train\\id01555\\30.wav: The audio waveform is too short to create even one segment of length 63488, expected at least 64000\n"
     ]
    },
    {
     "name": "stderr",
     "output_type": "stream",
     "text": [
      " 66%|██████▌   | 34187/51687 [09:37<04:15, 68.61it/s]"
     ]
    },
    {
     "name": "stdout",
     "output_type": "stream",
     "text": [
      "Error reading file data\\vox2_train\\id01570\\12.wav: The audio waveform is too short to create even one segment of length 63488, expected at least 64000\n"
     ]
    },
    {
     "name": "stderr",
     "output_type": "stream",
     "text": [
      " 66%|██████▌   | 34228/51687 [09:38<04:00, 72.49it/s]"
     ]
    },
    {
     "name": "stdout",
     "output_type": "stream",
     "text": [
      "Error reading file data\\vox2_train\\id01570\\156.wav: The audio waveform is too short to create even one segment of length 63488, expected at least 64000\n"
     ]
    },
    {
     "name": "stderr",
     "output_type": "stream",
     "text": [
      " 66%|██████▋   | 34281/51687 [09:38<03:30, 82.54it/s]"
     ]
    },
    {
     "name": "stdout",
     "output_type": "stream",
     "text": [
      "Error reading file data\\vox2_train\\id01570\\21.wav: The audio waveform is too short to create even one segment of length 63488, expected at least 64000\n",
      "Error reading file data\\vox2_train\\id01570\\213.wav: The audio waveform is too short to create even one segment of length 63488, expected at least 64000\n"
     ]
    },
    {
     "name": "stderr",
     "output_type": "stream",
     "text": [
      " 66%|██████▋   | 34352/51687 [09:39<04:12, 68.58it/s]"
     ]
    },
    {
     "name": "stdout",
     "output_type": "stream",
     "text": [
      "Error reading file data\\vox2_train\\id01570\\269.wav: The audio waveform is too short to create even one segment of length 63488, expected at least 64000\n"
     ]
    },
    {
     "name": "stderr",
     "output_type": "stream",
     "text": [
      " 67%|██████▋   | 34403/51687 [09:40<04:18, 66.89it/s]"
     ]
    },
    {
     "name": "stdout",
     "output_type": "stream",
     "text": [
      "Error reading file data\\vox2_train\\id01570\\318.wav: The audio waveform is too short to create even one segment of length 63488, expected at least 64000\n"
     ]
    },
    {
     "name": "stderr",
     "output_type": "stream",
     "text": [
      " 67%|██████▋   | 34519/51687 [09:42<04:04, 70.09it/s]"
     ]
    },
    {
     "name": "stdout",
     "output_type": "stream",
     "text": [
      "Error reading file data\\vox2_train\\id01570\\71.wav: The audio waveform is too short to create even one segment of length 63488, expected at least 64000\n",
      "Error reading file data\\vox2_train\\id01570\\77.wav: The audio waveform is too short to create even one segment of length 63488, expected at least 64000\n"
     ]
    },
    {
     "name": "stderr",
     "output_type": "stream",
     "text": [
      " 67%|██████▋   | 34552/51687 [09:42<04:42, 60.65it/s]"
     ]
    },
    {
     "name": "stdout",
     "output_type": "stream",
     "text": [
      "Error reading file data\\vox2_train\\id01570\\98.wav: The audio waveform is too short to create even one segment of length 63488, expected at least 64000\n"
     ]
    },
    {
     "name": "stderr",
     "output_type": "stream",
     "text": [
      " 67%|██████▋   | 34584/51687 [09:43<04:00, 70.98it/s]"
     ]
    },
    {
     "name": "stdout",
     "output_type": "stream",
     "text": [
      "Error reading file data\\vox2_train\\id01571\\37.wav: The audio waveform is too short to create even one segment of length 63488, expected at least 64000\n",
      "Error reading file data\\vox2_train\\id01571\\41.wav: The audio waveform is too short to create even one segment of length 63488, expected at least 64000\n"
     ]
    },
    {
     "name": "stderr",
     "output_type": "stream",
     "text": [
      " 67%|██████▋   | 34617/51687 [09:43<03:42, 76.67it/s]"
     ]
    },
    {
     "name": "stdout",
     "output_type": "stream",
     "text": [
      "Error reading file data\\vox2_train\\id01571\\66.wav: The audio waveform is too short to create even one segment of length 63488, expected at least 64000\n"
     ]
    },
    {
     "name": "stderr",
     "output_type": "stream",
     "text": [
      " 67%|██████▋   | 34669/51687 [09:44<03:27, 81.86it/s]"
     ]
    },
    {
     "name": "stdout",
     "output_type": "stream",
     "text": [
      "Error reading file data\\vox2_train\\id01580\\108.wav: The audio waveform is too short to create even one segment of length 63488, expected at least 64000\n",
      "Error reading file data\\vox2_train\\id01580\\119.wav: The audio waveform is too short to create even one segment of length 63488, expected at least 64000\n"
     ]
    },
    {
     "name": "stderr",
     "output_type": "stream",
     "text": [
      " 67%|██████▋   | 34720/51687 [09:45<04:00, 70.62it/s]"
     ]
    },
    {
     "name": "stdout",
     "output_type": "stream",
     "text": [
      "Error reading file data\\vox2_train\\id01580\\160.wav: The audio waveform is too short to create even one segment of length 63488, expected at least 64000\n",
      "Error reading file data\\vox2_train\\id01580\\167.wav: The audio waveform is too short to create even one segment of length 63488, expected at least 64000\n"
     ]
    },
    {
     "name": "stderr",
     "output_type": "stream",
     "text": [
      " 67%|██████▋   | 34826/51687 [09:46<03:38, 77.17it/s]"
     ]
    },
    {
     "name": "stdout",
     "output_type": "stream",
     "text": [
      "Error reading file data\\vox2_train\\id01580\\255.wav: The audio waveform is too short to create even one segment of length 63488, expected at least 64000\n"
     ]
    },
    {
     "name": "stderr",
     "output_type": "stream",
     "text": [
      " 67%|██████▋   | 34861/51687 [09:47<03:48, 73.50it/s]"
     ]
    },
    {
     "name": "stdout",
     "output_type": "stream",
     "text": [
      "Error reading file data\\vox2_train\\id01580\\41.wav: The audio waveform is too short to create even one segment of length 63488, expected at least 64000\n"
     ]
    },
    {
     "name": "stderr",
     "output_type": "stream",
     "text": [
      " 67%|██████▋   | 34885/51687 [09:47<04:00, 69.72it/s]"
     ]
    },
    {
     "name": "stdout",
     "output_type": "stream",
     "text": [
      "Error reading file data\\vox2_train\\id01580\\63.wav: The audio waveform is too short to create even one segment of length 63488, expected at least 64000\n"
     ]
    },
    {
     "name": "stderr",
     "output_type": "stream",
     "text": [
      " 68%|██████▊   | 34962/51687 [09:48<03:24, 81.76it/s]"
     ]
    },
    {
     "name": "stdout",
     "output_type": "stream",
     "text": [
      "Error reading file data\\vox2_train\\id01590\\39.wav: The audio waveform is too short to create even one segment of length 63488, expected at least 64000\n"
     ]
    },
    {
     "name": "stderr",
     "output_type": "stream",
     "text": [
      " 68%|██████▊   | 34981/51687 [09:48<03:21, 82.78it/s]"
     ]
    },
    {
     "name": "stdout",
     "output_type": "stream",
     "text": [
      "Error reading file data\\vox2_train\\id01590\\59.wav: The audio waveform is too short to create even one segment of length 63488, expected at least 64000\n"
     ]
    },
    {
     "name": "stderr",
     "output_type": "stream",
     "text": [
      " 68%|██████▊   | 35039/51687 [09:49<04:14, 65.31it/s]"
     ]
    },
    {
     "name": "stdout",
     "output_type": "stream",
     "text": [
      "Error reading file data\\vox2_train\\id01592\\14.wav: The audio waveform is too short to create even one segment of length 63488, expected at least 64000\n"
     ]
    },
    {
     "name": "stderr",
     "output_type": "stream",
     "text": [
      " 68%|██████▊   | 35137/51687 [09:51<04:10, 66.20it/s]"
     ]
    },
    {
     "name": "stdout",
     "output_type": "stream",
     "text": [
      "Error reading file data\\vox2_train\\id01592\\226.wav: The audio waveform is too short to create even one segment of length 63488, expected at least 64000\n"
     ]
    },
    {
     "name": "stderr",
     "output_type": "stream",
     "text": [
      " 68%|██████▊   | 35151/51687 [09:51<05:38, 48.87it/s]"
     ]
    },
    {
     "name": "stdout",
     "output_type": "stream",
     "text": [
      "Error reading file data\\vox2_train\\id01592\\242.wav: The audio waveform is too short to create even one segment of length 63488, expected at least 64000\n"
     ]
    },
    {
     "name": "stderr",
     "output_type": "stream",
     "text": [
      " 68%|██████▊   | 35179/51687 [09:52<04:33, 60.26it/s]"
     ]
    },
    {
     "name": "stdout",
     "output_type": "stream",
     "text": [
      "Error reading file data\\vox2_train\\id01592\\30.wav: The audio waveform is too short to create even one segment of length 63488, expected at least 64000\n"
     ]
    },
    {
     "name": "stderr",
     "output_type": "stream",
     "text": [
      " 68%|██████▊   | 35285/51687 [09:53<03:37, 75.36it/s]"
     ]
    },
    {
     "name": "stdout",
     "output_type": "stream",
     "text": [
      "Error reading file data\\vox2_train\\id01605\\35.wav: The audio waveform is too short to create even one segment of length 63488, expected at least 64000\n"
     ]
    },
    {
     "name": "stderr",
     "output_type": "stream",
     "text": [
      " 68%|██████▊   | 35345/51687 [09:54<04:09, 65.42it/s]"
     ]
    },
    {
     "name": "stdout",
     "output_type": "stream",
     "text": [
      "Error reading file data\\vox2_train\\id01617\\116.wav: The audio waveform is too short to create even one segment of length 63488, expected at least 64000\n",
      "Error reading file data\\vox2_train\\id01617\\121.wav: The audio waveform is too short to create even one segment of length 63488, expected at least 64000\n"
     ]
    },
    {
     "name": "stderr",
     "output_type": "stream",
     "text": [
      " 69%|██████▊   | 35428/51687 [09:56<03:46, 71.84it/s]"
     ]
    },
    {
     "name": "stdout",
     "output_type": "stream",
     "text": [
      "Error reading file data\\vox2_train\\id01617\\193.wav: The audio waveform is too short to create even one segment of length 63488, expected at least 64000\n"
     ]
    },
    {
     "name": "stderr",
     "output_type": "stream",
     "text": [
      " 69%|██████▊   | 35499/51687 [09:57<03:46, 71.47it/s]"
     ]
    },
    {
     "name": "stdout",
     "output_type": "stream",
     "text": [
      "Error reading file data\\vox2_train\\id01617\\257.wav: The audio waveform is too short to create even one segment of length 63488, expected at least 64000\n"
     ]
    },
    {
     "name": "stderr",
     "output_type": "stream",
     "text": [
      " 69%|██████▉   | 35544/51687 [09:58<05:18, 50.63it/s]"
     ]
    },
    {
     "name": "stdout",
     "output_type": "stream",
     "text": [
      "Error reading file data\\vox2_train\\id01617\\298.wav: The audio waveform is too short to create even one segment of length 63488, expected at least 64000\n"
     ]
    },
    {
     "name": "stderr",
     "output_type": "stream",
     "text": [
      " 70%|██████▉   | 35923/51687 [10:04<03:30, 74.94it/s]"
     ]
    },
    {
     "name": "stdout",
     "output_type": "stream",
     "text": [
      "Error reading file data\\vox2_train\\id01646\\165.wav: The audio waveform is too short to create even one segment of length 63488, expected at least 64000\n"
     ]
    },
    {
     "name": "stderr",
     "output_type": "stream",
     "text": [
      " 70%|██████▉   | 35957/51687 [10:05<03:20, 78.59it/s]"
     ]
    },
    {
     "name": "stdout",
     "output_type": "stream",
     "text": [
      "Error reading file data\\vox2_train\\id01646\\22.wav: The audio waveform is too short to create even one segment of length 63488, expected at least 64000\n"
     ]
    },
    {
     "name": "stderr",
     "output_type": "stream",
     "text": [
      " 70%|██████▉   | 36047/51687 [10:06<04:12, 61.82it/s]"
     ]
    },
    {
     "name": "stdout",
     "output_type": "stream",
     "text": [
      "Error reading file data\\vox2_train\\id01657\\104.wav: The audio waveform is too short to create even one segment of length 63488, expected at least 64000\n",
      "Error reading file data\\vox2_train\\id01657\\16.wav: The audio waveform is too short to create even one segment of length 63488, expected at least 64000\n"
     ]
    },
    {
     "name": "stderr",
     "output_type": "stream",
     "text": [
      " 70%|██████▉   | 36109/51687 [10:07<03:16, 79.12it/s]"
     ]
    },
    {
     "name": "stdout",
     "output_type": "stream",
     "text": [
      "Error reading file data\\vox2_train\\id01657\\59.wav: The audio waveform is too short to create even one segment of length 63488, expected at least 64000\n"
     ]
    },
    {
     "name": "stderr",
     "output_type": "stream",
     "text": [
      " 70%|██████▉   | 36142/51687 [10:07<03:55, 65.97it/s]"
     ]
    },
    {
     "name": "stdout",
     "output_type": "stream",
     "text": [
      "Error reading file data\\vox2_train\\id01657\\94.wav: The audio waveform is too short to create even one segment of length 63488, expected at least 64000\n"
     ]
    },
    {
     "name": "stderr",
     "output_type": "stream",
     "text": [
      " 70%|███████   | 36198/51687 [10:08<04:08, 62.30it/s]"
     ]
    },
    {
     "name": "stdout",
     "output_type": "stream",
     "text": [
      "Error reading file data\\vox2_train\\id01668\\9.wav: The audio waveform is too short to create even one segment of length 63488, expected at least 64000\n"
     ]
    },
    {
     "name": "stderr",
     "output_type": "stream",
     "text": [
      " 70%|███████   | 36320/51687 [10:11<05:01, 50.90it/s]"
     ]
    },
    {
     "name": "stdout",
     "output_type": "stream",
     "text": [
      "Error reading file data\\vox2_train\\id01710\\80.wav: The audio waveform is too short to create even one segment of length 63488, expected at least 64000\n"
     ]
    },
    {
     "name": "stderr",
     "output_type": "stream",
     "text": [
      " 70%|███████   | 36367/51687 [10:12<04:24, 57.85it/s]"
     ]
    },
    {
     "name": "stdout",
     "output_type": "stream",
     "text": [
      "Error reading file data\\vox2_train\\id01719\\31.wav: The audio waveform is too short to create even one segment of length 63488, expected at least 64000\n"
     ]
    },
    {
     "name": "stderr",
     "output_type": "stream",
     "text": [
      " 71%|███████   | 36585/51687 [10:15<03:01, 83.01it/s]"
     ]
    },
    {
     "name": "stdout",
     "output_type": "stream",
     "text": [
      "Error reading file data\\vox2_train\\id01738\\116.wav: The audio waveform is too short to create even one segment of length 63488, expected at least 64000\n"
     ]
    },
    {
     "name": "stderr",
     "output_type": "stream",
     "text": [
      " 71%|███████   | 36611/51687 [10:15<04:00, 62.75it/s]"
     ]
    },
    {
     "name": "stdout",
     "output_type": "stream",
     "text": [
      "Error reading file data\\vox2_train\\id01738\\144.wav: The audio waveform is too short to create even one segment of length 63488, expected at least 64000\n",
      "Error reading file data\\vox2_train\\id01738\\15.wav: The audio waveform is too short to create even one segment of length 63488, expected at least 64000\n"
     ]
    },
    {
     "name": "stderr",
     "output_type": "stream",
     "text": [
      " 71%|███████   | 36626/51687 [10:16<04:01, 62.30it/s]"
     ]
    },
    {
     "name": "stdout",
     "output_type": "stream",
     "text": [
      "Error reading file data\\vox2_train\\id01738\\155.wav: The audio waveform is too short to create even one segment of length 63488, expected at least 64000\n"
     ]
    },
    {
     "name": "stderr",
     "output_type": "stream",
     "text": [
      " 71%|███████   | 36738/51687 [10:17<02:52, 86.49it/s]"
     ]
    },
    {
     "name": "stdout",
     "output_type": "stream",
     "text": [
      "Error reading file data\\vox2_train\\id01738\\60.wav: The audio waveform is too short to create even one segment of length 63488, expected at least 64000\n"
     ]
    },
    {
     "name": "stderr",
     "output_type": "stream",
     "text": [
      " 71%|███████   | 36765/51687 [10:18<03:02, 81.67it/s]"
     ]
    },
    {
     "name": "stdout",
     "output_type": "stream",
     "text": [
      "Error reading file data\\vox2_train\\id01738\\87.wav: The audio waveform is too short to create even one segment of length 63488, expected at least 64000\n"
     ]
    },
    {
     "name": "stderr",
     "output_type": "stream",
     "text": [
      " 71%|███████   | 36791/51687 [10:18<03:14, 76.74it/s]"
     ]
    },
    {
     "name": "stdout",
     "output_type": "stream",
     "text": [
      "Error reading file data\\vox2_train\\id01758\\114.wav: The audio waveform is too short to create even one segment of length 63488, expected at least 64000\n"
     ]
    },
    {
     "name": "stderr",
     "output_type": "stream",
     "text": [
      " 71%|███████▏  | 36840/51687 [10:19<03:31, 70.06it/s]"
     ]
    },
    {
     "name": "stdout",
     "output_type": "stream",
     "text": [
      "Error reading file data\\vox2_train\\id01758\\157.wav: The audio waveform is too short to create even one segment of length 63488, expected at least 64000\n"
     ]
    },
    {
     "name": "stderr",
     "output_type": "stream",
     "text": [
      " 71%|███████▏  | 36872/51687 [10:19<03:22, 73.15it/s]"
     ]
    },
    {
     "name": "stdout",
     "output_type": "stream",
     "text": [
      "Error reading file data\\vox2_train\\id01758\\181.wav: The audio waveform is too short to create even one segment of length 63488, expected at least 64000\n"
     ]
    },
    {
     "name": "stderr",
     "output_type": "stream",
     "text": [
      " 71%|███████▏  | 36943/51687 [10:20<03:18, 74.19it/s]"
     ]
    },
    {
     "name": "stdout",
     "output_type": "stream",
     "text": [
      "Error reading file data\\vox2_train\\id01758\\249.wav: The audio waveform is too short to create even one segment of length 63488, expected at least 64000\n"
     ]
    },
    {
     "name": "stderr",
     "output_type": "stream",
     "text": [
      " 72%|███████▏  | 36966/51687 [10:20<03:37, 67.54it/s]"
     ]
    },
    {
     "name": "stdout",
     "output_type": "stream",
     "text": [
      "Error reading file data\\vox2_train\\id01758\\271.wav: The audio waveform is too short to create even one segment of length 63488, expected at least 64000\n",
      "Error reading file data\\vox2_train\\id01758\\277.wav: The audio waveform is too short to create even one segment of length 63488, expected at least 64000\n",
      "Error reading file data\\vox2_train\\id01758\\282.wav: The audio waveform is too short to create even one segment of length 63488, expected at least 64000\n"
     ]
    },
    {
     "name": "stderr",
     "output_type": "stream",
     "text": [
      " 72%|███████▏  | 36991/51687 [10:21<03:21, 72.86it/s]"
     ]
    },
    {
     "name": "stdout",
     "output_type": "stream",
     "text": [
      "Error reading file data\\vox2_train\\id01758\\293.wav: The audio waveform is too short to create even one segment of length 63488, expected at least 64000\n"
     ]
    },
    {
     "name": "stderr",
     "output_type": "stream",
     "text": [
      " 72%|███████▏  | 37056/51687 [10:22<03:49, 63.88it/s]"
     ]
    },
    {
     "name": "stdout",
     "output_type": "stream",
     "text": [
      "Error reading file data\\vox2_train\\id01758\\356.wav: The audio waveform is too short to create even one segment of length 63488, expected at least 64000\n"
     ]
    },
    {
     "name": "stderr",
     "output_type": "stream",
     "text": [
      " 72%|███████▏  | 37077/51687 [10:22<04:19, 56.20it/s]"
     ]
    },
    {
     "name": "stdout",
     "output_type": "stream",
     "text": [
      "Error reading file data\\vox2_train\\id01758\\37.wav: The audio waveform is too short to create even one segment of length 63488, expected at least 64000\n"
     ]
    },
    {
     "name": "stderr",
     "output_type": "stream",
     "text": [
      " 72%|███████▏  | 37280/51687 [10:25<03:11, 75.36it/s]"
     ]
    },
    {
     "name": "stdout",
     "output_type": "stream",
     "text": [
      "Error reading file data\\vox2_train\\id01758\\98.wav: The audio waveform is too short to create even one segment of length 63488, expected at least 64000\n"
     ]
    },
    {
     "name": "stderr",
     "output_type": "stream",
     "text": [
      " 72%|███████▏  | 37304/51687 [10:25<03:20, 71.66it/s]"
     ]
    },
    {
     "name": "stdout",
     "output_type": "stream",
     "text": [
      "Error reading file data\\vox2_train\\id01761\\124.wav: The audio waveform is too short to create even one segment of length 63488, expected at least 64000\n"
     ]
    },
    {
     "name": "stderr",
     "output_type": "stream",
     "text": [
      " 72%|███████▏  | 37445/51687 [10:27<02:56, 80.58it/s]"
     ]
    },
    {
     "name": "stdout",
     "output_type": "stream",
     "text": [
      "Error reading file data\\vox2_train\\id01761\\25.wav: The audio waveform is too short to create even one segment of length 63488, expected at least 64000\n"
     ]
    },
    {
     "name": "stderr",
     "output_type": "stream",
     "text": [
      " 72%|███████▏  | 37462/51687 [10:28<03:12, 73.82it/s]"
     ]
    },
    {
     "name": "stdout",
     "output_type": "stream",
     "text": [
      "Error reading file data\\vox2_train\\id01761\\266.wav: The audio waveform is too short to create even one segment of length 63488, expected at least 64000\n"
     ]
    },
    {
     "name": "stderr",
     "output_type": "stream",
     "text": [
      " 73%|███████▎  | 37489/51687 [10:28<02:57, 80.09it/s]"
     ]
    },
    {
     "name": "stdout",
     "output_type": "stream",
     "text": [
      "Error reading file data\\vox2_train\\id01761\\29.wav: The audio waveform is too short to create even one segment of length 63488, expected at least 64000\n",
      "Error reading file data\\vox2_train\\id01761\\296.wav: The audio waveform is too short to create even one segment of length 63488, expected at least 64000\n",
      "Error reading file data\\vox2_train\\id01761\\301.wav: The audio waveform is too short to create even one segment of length 63488, expected at least 64000\n"
     ]
    },
    {
     "name": "stderr",
     "output_type": "stream",
     "text": [
      " 73%|███████▎  | 37535/51687 [10:28<02:53, 81.51it/s]"
     ]
    },
    {
     "name": "stdout",
     "output_type": "stream",
     "text": [
      "Error reading file data\\vox2_train\\id01761\\331.wav: The audio waveform is too short to create even one segment of length 63488, expected at least 64000\n"
     ]
    },
    {
     "name": "stderr",
     "output_type": "stream",
     "text": [
      " 73%|███████▎  | 37640/51687 [10:30<03:12, 72.86it/s]"
     ]
    },
    {
     "name": "stdout",
     "output_type": "stream",
     "text": [
      "Error reading file data\\vox2_train\\id01762\\130.wav: The audio waveform is too short to create even one segment of length 63488, expected at least 64000\n"
     ]
    },
    {
     "name": "stderr",
     "output_type": "stream",
     "text": [
      " 73%|███████▎  | 37809/51687 [10:32<02:56, 78.41it/s]"
     ]
    },
    {
     "name": "stdout",
     "output_type": "stream",
     "text": [
      "Error reading file data\\vox2_train\\id01767\\47.wav: The audio waveform is too short to create even one segment of length 63488, expected at least 64000\n"
     ]
    },
    {
     "name": "stderr",
     "output_type": "stream",
     "text": [
      " 73%|███████▎  | 37834/51687 [10:33<03:00, 76.88it/s]"
     ]
    },
    {
     "name": "stdout",
     "output_type": "stream",
     "text": [
      "Error reading file data\\vox2_train\\id01774\\28.wav: The audio waveform is too short to create even one segment of length 63488, expected at least 64000\n",
      "Error reading file data\\vox2_train\\id01774\\36.wav: The audio waveform is too short to create even one segment of length 63488, expected at least 64000\n"
     ]
    },
    {
     "name": "stderr",
     "output_type": "stream",
     "text": [
      " 73%|███████▎  | 37898/51687 [10:34<04:34, 50.23it/s]"
     ]
    },
    {
     "name": "stdout",
     "output_type": "stream",
     "text": [
      "Error reading file data\\vox2_train\\id01774\\89.wav: The audio waveform is too short to create even one segment of length 63488, expected at least 64000\n"
     ]
    },
    {
     "name": "stderr",
     "output_type": "stream",
     "text": [
      " 73%|███████▎  | 37910/51687 [10:34<04:38, 49.55it/s]"
     ]
    },
    {
     "name": "stdout",
     "output_type": "stream",
     "text": [
      "Error reading file data\\vox2_train\\id01777\\109.wav: The audio waveform is too short to create even one segment of length 63488, expected at least 64000\n"
     ]
    },
    {
     "name": "stderr",
     "output_type": "stream",
     "text": [
      " 74%|███████▎  | 37990/51687 [10:35<03:41, 61.76it/s]"
     ]
    },
    {
     "name": "stdout",
     "output_type": "stream",
     "text": [
      "Error reading file data\\vox2_train\\id01777\\178.wav: The audio waveform is too short to create even one segment of length 63488, expected at least 64000\n"
     ]
    },
    {
     "name": "stderr",
     "output_type": "stream",
     "text": [
      " 74%|███████▎  | 38015/51687 [10:36<03:14, 70.37it/s]"
     ]
    },
    {
     "name": "stdout",
     "output_type": "stream",
     "text": [
      "Error reading file data\\vox2_train\\id01777\\2.wav: The audio waveform is too short to create even one segment of length 63488, expected at least 64000\n"
     ]
    },
    {
     "name": "stderr",
     "output_type": "stream",
     "text": [
      " 74%|███████▎  | 38084/51687 [10:37<03:19, 68.11it/s]"
     ]
    },
    {
     "name": "stdout",
     "output_type": "stream",
     "text": [
      "Error reading file data\\vox2_train\\id01777\\32.wav: The audio waveform is too short to create even one segment of length 63488, expected at least 64000\n"
     ]
    },
    {
     "name": "stderr",
     "output_type": "stream",
     "text": [
      " 74%|███████▍  | 38218/51687 [10:39<02:43, 82.40it/s]"
     ]
    },
    {
     "name": "stdout",
     "output_type": "stream",
     "text": [
      "Error reading file data\\vox2_train\\id01781\\145.wav: The audio waveform is too short to create even one segment of length 63488, expected at least 64000\n"
     ]
    },
    {
     "name": "stderr",
     "output_type": "stream",
     "text": [
      " 74%|███████▍  | 38261/51687 [10:39<03:04, 72.66it/s]"
     ]
    },
    {
     "name": "stdout",
     "output_type": "stream",
     "text": [
      "Error reading file data\\vox2_train\\id01781\\188.wav: The audio waveform is too short to create even one segment of length 63488, expected at least 64000\n"
     ]
    },
    {
     "name": "stderr",
     "output_type": "stream",
     "text": [
      " 74%|███████▍  | 38292/51687 [10:40<03:27, 64.50it/s]"
     ]
    },
    {
     "name": "stdout",
     "output_type": "stream",
     "text": [
      "Error reading file data\\vox2_train\\id01781\\215.wav: The audio waveform is too short to create even one segment of length 63488, expected at least 64000\n"
     ]
    },
    {
     "name": "stderr",
     "output_type": "stream",
     "text": [
      " 74%|███████▍  | 38344/51687 [10:41<03:15, 68.19it/s]"
     ]
    },
    {
     "name": "stdout",
     "output_type": "stream",
     "text": [
      "Error reading file data\\vox2_train\\id01781\\264.wav: The audio waveform is too short to create even one segment of length 63488, expected at least 64000\n"
     ]
    },
    {
     "name": "stderr",
     "output_type": "stream",
     "text": [
      " 74%|███████▍  | 38419/51687 [10:42<03:22, 65.38it/s]"
     ]
    },
    {
     "name": "stdout",
     "output_type": "stream",
     "text": [
      "Error reading file data\\vox2_train\\id01781\\83.wav: The audio waveform is too short to create even one segment of length 63488, expected at least 64000\n"
     ]
    },
    {
     "name": "stderr",
     "output_type": "stream",
     "text": [
      " 75%|███████▍  | 38509/51687 [10:43<03:22, 65.17it/s]"
     ]
    },
    {
     "name": "stdout",
     "output_type": "stream",
     "text": [
      "Error reading file data\\vox2_train\\id01788\\38.wav: The audio waveform is too short to create even one segment of length 63488, expected at least 64000\n",
      "Error reading file data\\vox2_train\\id01788\\47.wav: The audio waveform is too short to create even one segment of length 63488, expected at least 64000\n"
     ]
    },
    {
     "name": "stderr",
     "output_type": "stream",
     "text": [
      " 75%|███████▍  | 38570/51687 [10:44<03:17, 66.41it/s]"
     ]
    },
    {
     "name": "stdout",
     "output_type": "stream",
     "text": [
      "Error reading file data\\vox2_train\\id01788\\87.wav: The audio waveform is too short to create even one segment of length 63488, expected at least 64000\n"
     ]
    },
    {
     "name": "stderr",
     "output_type": "stream",
     "text": [
      " 75%|███████▍  | 38731/51687 [10:47<03:21, 64.14it/s]"
     ]
    },
    {
     "name": "stdout",
     "output_type": "stream",
     "text": [
      "Error reading file data\\vox2_train\\id01823\\69.wav: The audio waveform is too short to create even one segment of length 63488, expected at least 64000\n"
     ]
    },
    {
     "name": "stderr",
     "output_type": "stream",
     "text": [
      " 75%|███████▌  | 38796/51687 [10:48<02:55, 73.62it/s]"
     ]
    },
    {
     "name": "stdout",
     "output_type": "stream",
     "text": [
      "Error reading file data\\vox2_train\\id01849\\39.wav: The audio waveform is too short to create even one segment of length 63488, expected at least 64000\n"
     ]
    },
    {
     "name": "stderr",
     "output_type": "stream",
     "text": [
      " 75%|███████▌  | 38838/51687 [10:48<02:49, 75.60it/s]"
     ]
    },
    {
     "name": "stdout",
     "output_type": "stream",
     "text": [
      "Error reading file data\\vox2_train\\id01849\\71.wav: The audio waveform is too short to create even one segment of length 63488, expected at least 64000\n",
      "Error reading file data\\vox2_train\\id01849\\82.wav: The audio waveform is too short to create even one segment of length 63488, expected at least 64000\n"
     ]
    },
    {
     "name": "stderr",
     "output_type": "stream",
     "text": [
      " 75%|███████▌  | 38956/51687 [10:50<02:55, 72.36it/s]"
     ]
    },
    {
     "name": "stdout",
     "output_type": "stream",
     "text": [
      "Error reading file data\\vox2_train\\id01854\\22.wav: The audio waveform is too short to create even one segment of length 63488, expected at least 64000\n"
     ]
    },
    {
     "name": "stderr",
     "output_type": "stream",
     "text": [
      " 75%|███████▌  | 38994/51687 [10:50<02:30, 84.13it/s]"
     ]
    },
    {
     "name": "stdout",
     "output_type": "stream",
     "text": [
      "Error reading file data\\vox2_train\\id01854\\55.wav: The audio waveform is too short to create even one segment of length 63488, expected at least 64000\n"
     ]
    },
    {
     "name": "stderr",
     "output_type": "stream",
     "text": [
      " 75%|███████▌  | 39015/51687 [10:51<02:31, 83.80it/s]"
     ]
    },
    {
     "name": "stdout",
     "output_type": "stream",
     "text": [
      "Error reading file data\\vox2_train\\id01854\\74.wav: The audio waveform is too short to create even one segment of length 63488, expected at least 64000\n"
     ]
    },
    {
     "name": "stderr",
     "output_type": "stream",
     "text": [
      " 76%|███████▌  | 39187/51687 [10:53<03:18, 62.82it/s]"
     ]
    },
    {
     "name": "stdout",
     "output_type": "stream",
     "text": [
      "Error reading file data\\vox2_train\\id01857\\231.wav: The audio waveform is too short to create even one segment of length 63488, expected at least 64000\n",
      "Error reading file data\\vox2_train\\id01857\\232.wav: The audio waveform is too short to create even one segment of length 63488, expected at least 64000\n",
      "Error reading file data\\vox2_train\\id01857\\236.wav: The audio waveform is too short to create even one segment of length 63488, expected at least 64000\n"
     ]
    },
    {
     "name": "stderr",
     "output_type": "stream",
     "text": [
      " 76%|███████▌  | 39200/51687 [10:54<03:49, 54.39it/s]"
     ]
    },
    {
     "name": "stdout",
     "output_type": "stream",
     "text": [
      "Error reading file data\\vox2_train\\id01857\\25.wav: The audio waveform is too short to create even one segment of length 63488, expected at least 64000\n"
     ]
    },
    {
     "name": "stderr",
     "output_type": "stream",
     "text": [
      " 76%|███████▋  | 39535/51687 [11:00<04:46, 42.42it/s]"
     ]
    },
    {
     "name": "stdout",
     "output_type": "stream",
     "text": [
      "Error reading file data\\vox2_train\\id01880\\168.wav: The audio waveform is too short to create even one segment of length 63488, expected at least 64000\n"
     ]
    },
    {
     "name": "stderr",
     "output_type": "stream",
     "text": [
      " 77%|███████▋  | 39569/51687 [11:01<03:56, 51.20it/s]"
     ]
    },
    {
     "name": "stdout",
     "output_type": "stream",
     "text": [
      "Error reading file data\\vox2_train\\id01880\\197.wav: The audio waveform is too short to create even one segment of length 63488, expected at least 64000\n"
     ]
    },
    {
     "name": "stderr",
     "output_type": "stream",
     "text": [
      " 77%|███████▋  | 39789/51687 [11:05<04:12, 47.21it/s]"
     ]
    },
    {
     "name": "stdout",
     "output_type": "stream",
     "text": [
      "Error reading file data\\vox2_train\\id01881\\24.wav: The audio waveform is too short to create even one segment of length 63488, expected at least 64000\n"
     ]
    },
    {
     "name": "stderr",
     "output_type": "stream",
     "text": [
      " 77%|███████▋  | 39813/51687 [11:05<03:08, 62.96it/s]"
     ]
    },
    {
     "name": "stdout",
     "output_type": "stream",
     "text": [
      "Error reading file data\\vox2_train\\id01881\\38.wav: The audio waveform is too short to create even one segment of length 63488, expected at least 64000\n",
      "Error reading file data\\vox2_train\\id01881\\47.wav: The audio waveform is too short to create even one segment of length 63488, expected at least 64000\n"
     ]
    },
    {
     "name": "stderr",
     "output_type": "stream",
     "text": [
      " 77%|███████▋  | 40019/51687 [11:09<02:59, 65.13it/s]"
     ]
    },
    {
     "name": "stdout",
     "output_type": "stream",
     "text": [
      "Error reading file data\\vox2_train\\id01899\\24.wav: The audio waveform is too short to create even one segment of length 63488, expected at least 64000\n"
     ]
    },
    {
     "name": "stderr",
     "output_type": "stream",
     "text": [
      " 77%|███████▋  | 40050/51687 [11:09<02:53, 67.25it/s]"
     ]
    },
    {
     "name": "stdout",
     "output_type": "stream",
     "text": [
      "Error reading file data\\vox2_train\\id01899\\46.wav: The audio waveform is too short to create even one segment of length 63488, expected at least 64000\n"
     ]
    },
    {
     "name": "stderr",
     "output_type": "stream",
     "text": [
      " 78%|███████▊  | 40094/51687 [11:10<02:31, 76.75it/s]"
     ]
    },
    {
     "name": "stdout",
     "output_type": "stream",
     "text": [
      "Error reading file data\\vox2_train\\id01899\\9.wav: The audio waveform is too short to create even one segment of length 63488, expected at least 64000\n"
     ]
    },
    {
     "name": "stderr",
     "output_type": "stream",
     "text": [
      " 78%|███████▊  | 40122/51687 [11:10<02:14, 86.12it/s]"
     ]
    },
    {
     "name": "stdout",
     "output_type": "stream",
     "text": [
      "Error reading file data\\vox2_train\\id01925\\37.wav: The audio waveform is too short to create even one segment of length 63488, expected at least 64000\n",
      "Error reading file data\\vox2_train\\id01925\\49.wav: The audio waveform is too short to create even one segment of length 63488, expected at least 64000\n"
     ]
    },
    {
     "name": "stderr",
     "output_type": "stream",
     "text": [
      " 78%|███████▊  | 40158/51687 [11:11<02:19, 82.57it/s]"
     ]
    },
    {
     "name": "stdout",
     "output_type": "stream",
     "text": [
      "Error reading file data\\vox2_train\\id01925\\68.wav: The audio waveform is too short to create even one segment of length 63488, expected at least 64000\n"
     ]
    },
    {
     "name": "stderr",
     "output_type": "stream",
     "text": [
      " 78%|███████▊  | 40187/51687 [11:11<02:12, 86.80it/s]"
     ]
    },
    {
     "name": "stdout",
     "output_type": "stream",
     "text": [
      "Error reading file data\\vox2_train\\id01928\\3.wav: The audio waveform is too short to create even one segment of length 63488, expected at least 64000\n"
     ]
    },
    {
     "name": "stderr",
     "output_type": "stream",
     "text": [
      " 78%|███████▊  | 40297/51687 [11:13<04:16, 44.36it/s]"
     ]
    },
    {
     "name": "stdout",
     "output_type": "stream",
     "text": [
      "Error reading file data\\vox2_train\\id01949\\188.wav: The audio waveform is too short to create even one segment of length 63488, expected at least 64000\n"
     ]
    },
    {
     "name": "stderr",
     "output_type": "stream",
     "text": [
      " 78%|███████▊  | 40409/51687 [11:15<02:54, 64.55it/s]"
     ]
    },
    {
     "name": "stdout",
     "output_type": "stream",
     "text": [
      "Error reading file data\\vox2_train\\id01949\\283.wav: The audio waveform is too short to create even one segment of length 63488, expected at least 64000\n"
     ]
    },
    {
     "name": "stderr",
     "output_type": "stream",
     "text": [
      " 79%|███████▊  | 40643/51687 [11:20<04:21, 42.30it/s]"
     ]
    },
    {
     "name": "stdout",
     "output_type": "stream",
     "text": [
      "Error reading file data\\vox2_train\\id01960\\15.wav: The audio waveform is too short to create even one segment of length 63488, expected at least 64000\n"
     ]
    },
    {
     "name": "stderr",
     "output_type": "stream",
     "text": [
      " 79%|███████▊  | 40669/51687 [11:21<03:21, 54.70it/s]"
     ]
    },
    {
     "name": "stdout",
     "output_type": "stream",
     "text": [
      "Error reading file data\\vox2_train\\id01960\\177.wav: The audio waveform is too short to create even one segment of length 63488, expected at least 64000\n"
     ]
    },
    {
     "name": "stderr",
     "output_type": "stream",
     "text": [
      " 79%|███████▉  | 40720/51687 [11:22<03:15, 56.05it/s]"
     ]
    },
    {
     "name": "stdout",
     "output_type": "stream",
     "text": [
      "Error reading file data\\vox2_train\\id01960\\213.wav: The audio waveform is too short to create even one segment of length 63488, expected at least 64000\n",
      "Error reading file data\\vox2_train\\id01960\\222.wav: The audio waveform is too short to create even one segment of length 63488, expected at least 64000\n"
     ]
    },
    {
     "name": "stderr",
     "output_type": "stream",
     "text": [
      " 79%|███████▉  | 41091/51687 [11:31<03:02, 57.94it/s]"
     ]
    },
    {
     "name": "stdout",
     "output_type": "stream",
     "text": [
      "Error reading file data\\vox2_train\\id01969\\105.wav: The audio waveform is too short to create even one segment of length 63488, expected at least 64000\n"
     ]
    },
    {
     "name": "stderr",
     "output_type": "stream",
     "text": [
      " 80%|███████▉  | 41256/51687 [11:34<02:17, 76.04it/s]"
     ]
    },
    {
     "name": "stdout",
     "output_type": "stream",
     "text": [
      "Error reading file data\\vox2_train\\id01969\\250.wav: The audio waveform is too short to create even one segment of length 63488, expected at least 64000\n",
      "Error reading file data\\vox2_train\\id01969\\254.wav: The audio waveform is too short to create even one segment of length 63488, expected at least 64000\n",
      "Error reading file data\\vox2_train\\id01969\\256.wav: The audio waveform is too short to create even one segment of length 63488, expected at least 64000\n"
     ]
    },
    {
     "name": "stderr",
     "output_type": "stream",
     "text": [
      " 80%|████████  | 41372/51687 [11:36<03:51, 44.64it/s]"
     ]
    },
    {
     "name": "stdout",
     "output_type": "stream",
     "text": [
      "Error reading file data\\vox2_train\\id01969\\63.wav: The audio waveform is too short to create even one segment of length 63488, expected at least 64000\n"
     ]
    },
    {
     "name": "stderr",
     "output_type": "stream",
     "text": [
      " 80%|████████  | 41453/51687 [11:38<02:49, 60.42it/s]"
     ]
    },
    {
     "name": "stdout",
     "output_type": "stream",
     "text": [
      "Error reading file data\\vox2_train\\id01971\\133.wav: The audio waveform is too short to create even one segment of length 63488, expected at least 64000\n"
     ]
    },
    {
     "name": "stderr",
     "output_type": "stream",
     "text": [
      " 80%|████████  | 41483/51687 [11:38<02:38, 64.41it/s]"
     ]
    },
    {
     "name": "stdout",
     "output_type": "stream",
     "text": [
      "Error reading file data\\vox2_train\\id01971\\157.wav: The audio waveform is too short to create even one segment of length 63488, expected at least 64000\n"
     ]
    },
    {
     "name": "stderr",
     "output_type": "stream",
     "text": [
      " 80%|████████  | 41501/51687 [11:38<02:21, 71.80it/s]"
     ]
    },
    {
     "name": "stdout",
     "output_type": "stream",
     "text": [
      "Error reading file data\\vox2_train\\id01971\\176.wav: The audio waveform is too short to create even one segment of length 63488, expected at least 64000\n",
      "Error reading file data\\vox2_train\\id01971\\180.wav: The audio waveform is too short to create even one segment of length 63488, expected at least 64000\n"
     ]
    },
    {
     "name": "stderr",
     "output_type": "stream",
     "text": [
      " 80%|████████  | 41554/51687 [11:39<02:43, 62.01it/s]"
     ]
    },
    {
     "name": "stdout",
     "output_type": "stream",
     "text": [
      "Error reading file data\\vox2_train\\id01971\\223.wav: The audio waveform is too short to create even one segment of length 63488, expected at least 64000\n"
     ]
    },
    {
     "name": "stderr",
     "output_type": "stream",
     "text": [
      " 80%|████████  | 41568/51687 [11:40<02:58, 56.64it/s]"
     ]
    },
    {
     "name": "stdout",
     "output_type": "stream",
     "text": [
      "Error reading file data\\vox2_train\\id01971\\239.wav: The audio waveform is too short to create even one segment of length 63488, expected at least 64000\n"
     ]
    },
    {
     "name": "stderr",
     "output_type": "stream",
     "text": [
      " 80%|████████  | 41591/51687 [11:40<02:35, 65.05it/s]"
     ]
    },
    {
     "name": "stdout",
     "output_type": "stream",
     "text": [
      "Error reading file data\\vox2_train\\id01971\\254.wav: The audio waveform is too short to create even one segment of length 63488, expected at least 64000\n",
      "Error reading file data\\vox2_train\\id01971\\264.wav: The audio waveform is too short to create even one segment of length 63488, expected at least 64000\n",
      "Error reading file data\\vox2_train\\id01971\\267.wav: The audio waveform is too short to create even one segment of length 63488, expected at least 64000\n"
     ]
    },
    {
     "name": "stderr",
     "output_type": "stream",
     "text": [
      " 81%|████████  | 41707/51687 [11:42<02:11, 75.75it/s]"
     ]
    },
    {
     "name": "stdout",
     "output_type": "stream",
     "text": [
      "Error reading file data\\vox2_train\\id01987\\10.wav: The audio waveform is too short to create even one segment of length 63488, expected at least 64000\n"
     ]
    },
    {
     "name": "stderr",
     "output_type": "stream",
     "text": [
      " 81%|████████  | 41740/51687 [11:42<02:11, 75.88it/s]"
     ]
    },
    {
     "name": "stdout",
     "output_type": "stream",
     "text": [
      "Error reading file data\\vox2_train\\id01987\\134.wav: The audio waveform is too short to create even one segment of length 63488, expected at least 64000\n"
     ]
    },
    {
     "name": "stderr",
     "output_type": "stream",
     "text": [
      " 81%|████████  | 41787/51687 [11:43<02:14, 73.84it/s]"
     ]
    },
    {
     "name": "stdout",
     "output_type": "stream",
     "text": [
      "Error reading file data\\vox2_train\\id01987\\175.wav: The audio waveform is too short to create even one segment of length 63488, expected at least 64000\n",
      "Error reading file data\\vox2_train\\id01987\\176.wav: The audio waveform is too short to create even one segment of length 63488, expected at least 64000\n"
     ]
    },
    {
     "name": "stderr",
     "output_type": "stream",
     "text": [
      " 81%|████████  | 41867/51687 [11:44<02:20, 69.74it/s]"
     ]
    },
    {
     "name": "stdout",
     "output_type": "stream",
     "text": [
      "Error reading file data\\vox2_train\\id01987\\43.wav: The audio waveform is too short to create even one segment of length 63488, expected at least 64000\n"
     ]
    },
    {
     "name": "stderr",
     "output_type": "stream",
     "text": [
      " 81%|████████  | 41885/51687 [11:44<02:23, 68.41it/s]"
     ]
    },
    {
     "name": "stdout",
     "output_type": "stream",
     "text": [
      "Error reading file data\\vox2_train\\id01987\\6.wav: The audio waveform is too short to create even one segment of length 63488, expected at least 64000\n"
     ]
    },
    {
     "name": "stderr",
     "output_type": "stream",
     "text": [
      " 81%|████████  | 41908/51687 [11:44<02:32, 64.09it/s]"
     ]
    },
    {
     "name": "stdout",
     "output_type": "stream",
     "text": [
      "Error reading file data\\vox2_train\\id01987\\84.wav: The audio waveform is too short to create even one segment of length 63488, expected at least 64000\n"
     ]
    },
    {
     "name": "stderr",
     "output_type": "stream",
     "text": [
      " 81%|████████  | 41960/51687 [11:45<03:05, 52.39it/s]"
     ]
    },
    {
     "name": "stdout",
     "output_type": "stream",
     "text": [
      "Error reading file data\\vox2_train\\id01988\\41.wav: The audio waveform is too short to create even one segment of length 63488, expected at least 64000\n"
     ]
    },
    {
     "name": "stderr",
     "output_type": "stream",
     "text": [
      " 81%|████████▏ | 42017/51687 [11:47<02:52, 55.98it/s]"
     ]
    },
    {
     "name": "stdout",
     "output_type": "stream",
     "text": [
      "Error reading file data\\vox2_train\\id01993\\19.wav: The audio waveform is too short to create even one segment of length 63488, expected at least 64000\n",
      "Error reading file data\\vox2_train\\id01993\\27.wav: The audio waveform is too short to create even one segment of length 63488, expected at least 64000\n"
     ]
    },
    {
     "name": "stderr",
     "output_type": "stream",
     "text": [
      " 81%|████████▏ | 42054/51687 [11:47<03:34, 44.86it/s]"
     ]
    },
    {
     "name": "stdout",
     "output_type": "stream",
     "text": [
      "Error reading file data\\vox2_train\\id01993\\53.wav: The audio waveform is too short to create even one segment of length 63488, expected at least 64000\n"
     ]
    },
    {
     "name": "stderr",
     "output_type": "stream",
     "text": [
      " 82%|████████▏ | 42134/51687 [11:49<02:33, 62.14it/s]"
     ]
    },
    {
     "name": "stdout",
     "output_type": "stream",
     "text": [
      "Error reading file data\\vox2_train\\id01997\\126.wav: The audio waveform is too short to create even one segment of length 63488, expected at least 64000\n"
     ]
    },
    {
     "name": "stderr",
     "output_type": "stream",
     "text": [
      " 82%|████████▏ | 42164/51687 [11:49<03:15, 48.83it/s]"
     ]
    },
    {
     "name": "stdout",
     "output_type": "stream",
     "text": [
      "Error reading file data\\vox2_train\\id01997\\152.wav: The audio waveform is too short to create even one segment of length 63488, expected at least 64000\n"
     ]
    },
    {
     "name": "stderr",
     "output_type": "stream",
     "text": [
      " 82%|████████▏ | 42215/51687 [11:51<03:20, 47.27it/s]"
     ]
    },
    {
     "name": "stdout",
     "output_type": "stream",
     "text": [
      "Error reading file data\\vox2_train\\id01997\\22.wav: The audio waveform is too short to create even one segment of length 63488, expected at least 64000\n"
     ]
    },
    {
     "name": "stderr",
     "output_type": "stream",
     "text": [
      " 82%|████████▏ | 42232/51687 [11:51<02:39, 59.45it/s]"
     ]
    },
    {
     "name": "stdout",
     "output_type": "stream",
     "text": [
      "Error reading file data\\vox2_train\\id01997\\38.wav: The audio waveform is too short to create even one segment of length 63488, expected at least 64000\n"
     ]
    },
    {
     "name": "stderr",
     "output_type": "stream",
     "text": [
      " 82%|████████▏ | 42245/51687 [11:51<02:51, 54.98it/s]"
     ]
    },
    {
     "name": "stdout",
     "output_type": "stream",
     "text": [
      "Error reading file data\\vox2_train\\id01997\\49.wav: The audio waveform is too short to create even one segment of length 63488, expected at least 64000\n"
     ]
    },
    {
     "name": "stderr",
     "output_type": "stream",
     "text": [
      " 82%|████████▏ | 42267/51687 [11:51<02:33, 61.52it/s]"
     ]
    },
    {
     "name": "stdout",
     "output_type": "stream",
     "text": [
      "Error reading file data\\vox2_train\\id01997\\65.wav: The audio waveform is too short to create even one segment of length 63488, expected at least 64000\n",
      "Error reading file data\\vox2_train\\id01997\\71.wav: The audio waveform is too short to create even one segment of length 63488, expected at least 64000\n"
     ]
    },
    {
     "name": "stderr",
     "output_type": "stream",
     "text": [
      " 82%|████████▏ | 42357/51687 [11:53<02:21, 65.86it/s]"
     ]
    },
    {
     "name": "stdout",
     "output_type": "stream",
     "text": [
      "Error reading file data\\vox2_train\\id02000\\58.wav: The audio waveform is too short to create even one segment of length 63488, expected at least 64000\n"
     ]
    },
    {
     "name": "stderr",
     "output_type": "stream",
     "text": [
      " 82%|████████▏ | 42401/51687 [11:54<02:15, 68.68it/s]"
     ]
    },
    {
     "name": "stdout",
     "output_type": "stream",
     "text": [
      "Error reading file data\\vox2_train\\id02001\\110.wav: The audio waveform is too short to create even one segment of length 63488, expected at least 64000\n"
     ]
    },
    {
     "name": "stderr",
     "output_type": "stream",
     "text": [
      " 82%|████████▏ | 42470/51687 [11:55<02:13, 68.87it/s]"
     ]
    },
    {
     "name": "stdout",
     "output_type": "stream",
     "text": [
      "Error reading file data\\vox2_train\\id02001\\171.wav: The audio waveform is too short to create even one segment of length 63488, expected at least 64000\n"
     ]
    },
    {
     "name": "stderr",
     "output_type": "stream",
     "text": [
      " 82%|████████▏ | 42632/51687 [11:57<01:49, 83.07it/s]"
     ]
    },
    {
     "name": "stdout",
     "output_type": "stream",
     "text": [
      "Error reading file data\\vox2_train\\id02005\\119.wav: The audio waveform is too short to create even one segment of length 63488, expected at least 64000\n"
     ]
    },
    {
     "name": "stderr",
     "output_type": "stream",
     "text": [
      " 83%|████████▎ | 42661/51687 [11:57<01:42, 88.21it/s]"
     ]
    },
    {
     "name": "stdout",
     "output_type": "stream",
     "text": [
      "Error reading file data\\vox2_train\\id02005\\144.wav: The audio waveform is too short to create even one segment of length 63488, expected at least 64000\n",
      "Error reading file data\\vox2_train\\id02005\\150.wav: The audio waveform is too short to create even one segment of length 63488, expected at least 64000\n"
     ]
    },
    {
     "name": "stderr",
     "output_type": "stream",
     "text": [
      " 83%|████████▎ | 42736/51687 [11:58<01:39, 90.22it/s]"
     ]
    },
    {
     "name": "stdout",
     "output_type": "stream",
     "text": [
      "Error reading file data\\vox2_train\\id02005\\204.wav: The audio waveform is too short to create even one segment of length 63488, expected at least 64000\n"
     ]
    },
    {
     "name": "stderr",
     "output_type": "stream",
     "text": [
      " 83%|████████▎ | 42756/51687 [11:58<01:36, 92.16it/s]"
     ]
    },
    {
     "name": "stdout",
     "output_type": "stream",
     "text": [
      "Error reading file data\\vox2_train\\id02005\\229.wav: The audio waveform is too short to create even one segment of length 63488, expected at least 64000\n"
     ]
    },
    {
     "name": "stderr",
     "output_type": "stream",
     "text": [
      " 83%|████████▎ | 42787/51687 [11:58<01:33, 94.73it/s]"
     ]
    },
    {
     "name": "stdout",
     "output_type": "stream",
     "text": [
      "Error reading file data\\vox2_train\\id02005\\260.wav: The audio waveform is too short to create even one segment of length 63488, expected at least 64000\n"
     ]
    },
    {
     "name": "stderr",
     "output_type": "stream",
     "text": [
      " 83%|████████▎ | 42851/51687 [11:59<01:57, 75.08it/s]"
     ]
    },
    {
     "name": "stdout",
     "output_type": "stream",
     "text": [
      "Error reading file data\\vox2_train\\id02005\\45.wav: The audio waveform is too short to create even one segment of length 63488, expected at least 64000\n"
     ]
    },
    {
     "name": "stderr",
     "output_type": "stream",
     "text": [
      " 83%|████████▎ | 42908/51687 [12:00<01:39, 88.61it/s]"
     ]
    },
    {
     "name": "stdout",
     "output_type": "stream",
     "text": [
      "Error reading file data\\vox2_train\\id02005\\91.wav: The audio waveform is too short to create even one segment of length 63488, expected at least 64000\n",
      "Error reading file data\\vox2_train\\id02008\\101.wav: The audio waveform is too short to create even one segment of length 63488, expected at least 64000\n"
     ]
    },
    {
     "name": "stderr",
     "output_type": "stream",
     "text": [
      " 83%|████████▎ | 42945/51687 [12:00<01:44, 83.39it/s]"
     ]
    },
    {
     "name": "stdout",
     "output_type": "stream",
     "text": [
      "Error reading file data\\vox2_train\\id02008\\130.wav: The audio waveform is too short to create even one segment of length 63488, expected at least 64000\n"
     ]
    },
    {
     "name": "stderr",
     "output_type": "stream",
     "text": [
      " 83%|████████▎ | 42988/51687 [12:01<01:57, 74.26it/s]"
     ]
    },
    {
     "name": "stdout",
     "output_type": "stream",
     "text": [
      "Error reading file data\\vox2_train\\id02008\\175.wav: The audio waveform is too short to create even one segment of length 63488, expected at least 64000\n"
     ]
    },
    {
     "name": "stderr",
     "output_type": "stream",
     "text": [
      " 83%|████████▎ | 43019/51687 [12:02<02:17, 62.88it/s]"
     ]
    },
    {
     "name": "stdout",
     "output_type": "stream",
     "text": [
      "Error reading file data\\vox2_train\\id02008\\2.wav: The audio waveform is too short to create even one segment of length 63488, expected at least 64000\n"
     ]
    },
    {
     "name": "stderr",
     "output_type": "stream",
     "text": [
      " 83%|████████▎ | 43120/51687 [12:03<02:00, 70.93it/s]"
     ]
    },
    {
     "name": "stdout",
     "output_type": "stream",
     "text": [
      "Error reading file data\\vox2_train\\id02008\\292.wav: The audio waveform is too short to create even one segment of length 63488, expected at least 64000\n",
      "Error reading file data\\vox2_train\\id02008\\30.wav: The audio waveform is too short to create even one segment of length 63488, expected at least 64000\n"
     ]
    },
    {
     "name": "stderr",
     "output_type": "stream",
     "text": [
      " 84%|████████▍ | 43448/51687 [12:08<01:52, 73.03it/s]"
     ]
    },
    {
     "name": "stdout",
     "output_type": "stream",
     "text": [
      "Error reading file data\\vox2_train\\id02034\\41.wav: The audio waveform is too short to create even one segment of length 63488, expected at least 64000\n"
     ]
    },
    {
     "name": "stderr",
     "output_type": "stream",
     "text": [
      " 84%|████████▍ | 43538/51687 [12:09<01:39, 82.22it/s]"
     ]
    },
    {
     "name": "stdout",
     "output_type": "stream",
     "text": [
      "Error reading file data\\vox2_train\\id02037\\55.wav: The audio waveform is too short to create even one segment of length 63488, expected at least 64000\n"
     ]
    },
    {
     "name": "stderr",
     "output_type": "stream",
     "text": [
      " 84%|████████▍ | 43555/51687 [12:10<01:56, 69.98it/s]"
     ]
    },
    {
     "name": "stdout",
     "output_type": "stream",
     "text": [
      "Error reading file data\\vox2_train\\id02037\\72.wav: The audio waveform is too short to create even one segment of length 63488, expected at least 64000\n"
     ]
    },
    {
     "name": "stderr",
     "output_type": "stream",
     "text": [
      " 84%|████████▍ | 43606/51687 [12:11<02:08, 63.11it/s]"
     ]
    },
    {
     "name": "stdout",
     "output_type": "stream",
     "text": [
      "Error reading file data\\vox2_train\\id02039\\117.wav: The audio waveform is too short to create even one segment of length 63488, expected at least 64000\n",
      "Error reading file data\\vox2_train\\id02039\\12.wav: The audio waveform is too short to create even one segment of length 63488, expected at least 64000\n"
     ]
    },
    {
     "name": "stderr",
     "output_type": "stream",
     "text": [
      " 84%|████████▍ | 43654/51687 [12:12<02:29, 53.87it/s]"
     ]
    },
    {
     "name": "stdout",
     "output_type": "stream",
     "text": [
      "Error reading file data\\vox2_train\\id02039\\166.wav: The audio waveform is too short to create even one segment of length 63488, expected at least 64000\n"
     ]
    },
    {
     "name": "stderr",
     "output_type": "stream",
     "text": [
      " 84%|████████▍ | 43674/51687 [12:12<02:15, 58.95it/s]"
     ]
    },
    {
     "name": "stdout",
     "output_type": "stream",
     "text": [
      "Error reading file data\\vox2_train\\id02039\\179.wav: The audio waveform is too short to create even one segment of length 63488, expected at least 64000\n"
     ]
    },
    {
     "name": "stderr",
     "output_type": "stream",
     "text": [
      " 85%|████████▍ | 43783/51687 [12:14<01:53, 69.87it/s]"
     ]
    },
    {
     "name": "stdout",
     "output_type": "stream",
     "text": [
      "Error reading file data\\vox2_train\\id02039\\275.wav: The audio waveform is too short to create even one segment of length 63488, expected at least 64000\n"
     ]
    },
    {
     "name": "stderr",
     "output_type": "stream",
     "text": [
      " 85%|████████▍ | 43811/51687 [12:14<02:19, 56.49it/s]"
     ]
    },
    {
     "name": "stdout",
     "output_type": "stream",
     "text": [
      "Error reading file data\\vox2_train\\id02039\\309.wav: The audio waveform is too short to create even one segment of length 63488, expected at least 64000\n"
     ]
    },
    {
     "name": "stderr",
     "output_type": "stream",
     "text": [
      " 85%|████████▍ | 43897/51687 [12:16<02:18, 56.17it/s]"
     ]
    },
    {
     "name": "stdout",
     "output_type": "stream",
     "text": [
      "Error reading file data\\vox2_train\\id02039\\387.wav: The audio waveform is too short to create even one segment of length 63488, expected at least 64000\n"
     ]
    },
    {
     "name": "stderr",
     "output_type": "stream",
     "text": [
      " 85%|████████▍ | 43922/51687 [12:16<02:53, 44.78it/s]"
     ]
    },
    {
     "name": "stdout",
     "output_type": "stream",
     "text": [
      "Error reading file data\\vox2_train\\id02039\\408.wav: The audio waveform is too short to create even one segment of length 63488, expected at least 64000\n"
     ]
    },
    {
     "name": "stderr",
     "output_type": "stream",
     "text": [
      " 85%|████████▌ | 43962/51687 [12:17<02:23, 53.79it/s]"
     ]
    },
    {
     "name": "stdout",
     "output_type": "stream",
     "text": [
      "Error reading file data\\vox2_train\\id02039\\442.wav: The audio waveform is too short to create even one segment of length 63488, expected at least 64000\n"
     ]
    },
    {
     "name": "stderr",
     "output_type": "stream",
     "text": [
      " 85%|████████▌ | 44025/51687 [12:18<01:49, 70.07it/s]"
     ]
    },
    {
     "name": "stdout",
     "output_type": "stream",
     "text": [
      "Error reading file data\\vox2_train\\id02039\\55.wav: The audio waveform is too short to create even one segment of length 63488, expected at least 64000\n"
     ]
    },
    {
     "name": "stderr",
     "output_type": "stream",
     "text": [
      " 85%|████████▌ | 44094/51687 [12:19<02:16, 55.42it/s]"
     ]
    },
    {
     "name": "stdout",
     "output_type": "stream",
     "text": [
      "Error reading file data\\vox2_train\\id02041\\4.wav: The audio waveform is too short to create even one segment of length 63488, expected at least 64000\n",
      "Error reading file data\\vox2_train\\id02041\\9.wav: The audio waveform is too short to create even one segment of length 63488, expected at least 64000\n"
     ]
    },
    {
     "name": "stderr",
     "output_type": "stream",
     "text": [
      " 87%|████████▋ | 44721/51687 [12:33<01:25, 81.88it/s]"
     ]
    },
    {
     "name": "stdout",
     "output_type": "stream",
     "text": [
      "Error reading file data\\vox2_train\\id02059\\28.wav: The audio waveform is too short to create even one segment of length 63488, expected at least 64000\n"
     ]
    },
    {
     "name": "stderr",
     "output_type": "stream",
     "text": [
      " 87%|████████▋ | 44741/51687 [12:34<01:18, 88.48it/s]"
     ]
    },
    {
     "name": "stdout",
     "output_type": "stream",
     "text": [
      "Error reading file data\\vox2_train\\id02059\\47.wav: The audio waveform is too short to create even one segment of length 63488, expected at least 64000\n",
      "Error reading file data\\vox2_train\\id02059\\55.wav: The audio waveform is too short to create even one segment of length 63488, expected at least 64000\n"
     ]
    },
    {
     "name": "stderr",
     "output_type": "stream",
     "text": [
      " 87%|████████▋ | 44768/51687 [12:34<01:24, 81.64it/s]"
     ]
    },
    {
     "name": "stdout",
     "output_type": "stream",
     "text": [
      "Error reading file data\\vox2_train\\id02059\\72.wav: The audio waveform is too short to create even one segment of length 63488, expected at least 64000\n"
     ]
    },
    {
     "name": "stderr",
     "output_type": "stream",
     "text": [
      " 87%|████████▋ | 44975/51687 [12:38<01:36, 69.39it/s]"
     ]
    },
    {
     "name": "stdout",
     "output_type": "stream",
     "text": [
      "Error reading file data\\vox2_train\\id02075\\259.wav: The audio waveform is too short to create even one segment of length 63488, expected at least 64000\n"
     ]
    },
    {
     "name": "stderr",
     "output_type": "stream",
     "text": [
      " 87%|████████▋ | 45019/51687 [12:38<01:29, 74.32it/s]"
     ]
    },
    {
     "name": "stdout",
     "output_type": "stream",
     "text": [
      "Error reading file data\\vox2_train\\id02075\\305.wav: The audio waveform is too short to create even one segment of length 63488, expected at least 64000\n"
     ]
    },
    {
     "name": "stderr",
     "output_type": "stream",
     "text": [
      " 87%|████████▋ | 45078/51687 [12:40<02:19, 47.29it/s]"
     ]
    },
    {
     "name": "stdout",
     "output_type": "stream",
     "text": [
      "Error reading file data\\vox2_train\\id02075\\356.wav: The audio waveform is too short to create even one segment of length 63488, expected at least 64000\n"
     ]
    },
    {
     "name": "stderr",
     "output_type": "stream",
     "text": [
      " 87%|████████▋ | 45156/51687 [12:41<01:29, 73.23it/s]"
     ]
    },
    {
     "name": "stdout",
     "output_type": "stream",
     "text": [
      "Error reading file data\\vox2_train\\id02075\\421.wav: The audio waveform is too short to create even one segment of length 63488, expected at least 64000\n"
     ]
    },
    {
     "name": "stderr",
     "output_type": "stream",
     "text": [
      " 88%|████████▊ | 45432/51687 [12:46<01:32, 67.56it/s]"
     ]
    },
    {
     "name": "stdout",
     "output_type": "stream",
     "text": [
      "Error reading file data\\vox2_train\\id02090\\25.wav: The audio waveform is too short to create even one segment of length 63488, expected at least 64000\n"
     ]
    },
    {
     "name": "stderr",
     "output_type": "stream",
     "text": [
      " 88%|████████▊ | 45461/51687 [12:46<01:15, 82.95it/s]"
     ]
    },
    {
     "name": "stdout",
     "output_type": "stream",
     "text": [
      "Error reading file data\\vox2_train\\id02090\\40.wav: The audio waveform is too short to create even one segment of length 63488, expected at least 64000\n"
     ]
    },
    {
     "name": "stderr",
     "output_type": "stream",
     "text": [
      " 88%|████████▊ | 45470/51687 [12:47<01:16, 81.58it/s]"
     ]
    },
    {
     "name": "stdout",
     "output_type": "stream",
     "text": [
      "Error reading file data\\vox2_train\\id02090\\60.wav: The audio waveform is too short to create even one segment of length 63488, expected at least 64000\n"
     ]
    },
    {
     "name": "stderr",
     "output_type": "stream",
     "text": [
      " 88%|████████▊ | 45642/51687 [12:49<01:39, 60.52it/s]"
     ]
    },
    {
     "name": "stdout",
     "output_type": "stream",
     "text": [
      "Error reading file data\\vox2_train\\id02091\\228.wav: The audio waveform is too short to create even one segment of length 63488, expected at least 64000\n"
     ]
    },
    {
     "name": "stderr",
     "output_type": "stream",
     "text": [
      " 88%|████████▊ | 45695/51687 [12:50<01:38, 61.09it/s]"
     ]
    },
    {
     "name": "stdout",
     "output_type": "stream",
     "text": [
      "Error reading file data\\vox2_train\\id02091\\28.wav: The audio waveform is too short to create even one segment of length 63488, expected at least 64000\n"
     ]
    },
    {
     "name": "stderr",
     "output_type": "stream",
     "text": [
      " 88%|████████▊ | 45742/51687 [12:51<01:50, 53.85it/s]"
     ]
    },
    {
     "name": "stdout",
     "output_type": "stream",
     "text": [
      "Error reading file data\\vox2_train\\id02091\\72.wav: The audio waveform is too short to create even one segment of length 63488, expected at least 64000\n"
     ]
    },
    {
     "name": "stderr",
     "output_type": "stream",
     "text": [
      " 89%|████████▉ | 45900/51687 [12:54<01:19, 73.12it/s]"
     ]
    },
    {
     "name": "stdout",
     "output_type": "stream",
     "text": [
      "Error reading file data\\vox2_train\\id02097\\22.wav: The audio waveform is too short to create even one segment of length 63488, expected at least 64000\n"
     ]
    },
    {
     "name": "stderr",
     "output_type": "stream",
     "text": [
      " 89%|████████▉ | 45939/51687 [12:54<01:25, 66.86it/s]"
     ]
    },
    {
     "name": "stdout",
     "output_type": "stream",
     "text": [
      "Error reading file data\\vox2_train\\id02097\\55.wav: The audio waveform is too short to create even one segment of length 63488, expected at least 64000\n"
     ]
    },
    {
     "name": "stderr",
     "output_type": "stream",
     "text": [
      " 89%|████████▉ | 46160/51687 [12:58<01:52, 49.07it/s]"
     ]
    },
    {
     "name": "stdout",
     "output_type": "stream",
     "text": [
      "Error reading file data\\vox2_train\\id02105\\192.wav: The audio waveform is too short to create even one segment of length 63488, expected at least 64000\n"
     ]
    },
    {
     "name": "stderr",
     "output_type": "stream",
     "text": [
      " 90%|████████▉ | 46416/51687 [13:04<01:27, 60.33it/s]"
     ]
    },
    {
     "name": "stdout",
     "output_type": "stream",
     "text": [
      "Error reading file data\\vox2_train\\id02105\\9.wav: The audio waveform is too short to create even one segment of length 63488, expected at least 64000\n"
     ]
    },
    {
     "name": "stderr",
     "output_type": "stream",
     "text": [
      " 90%|████████▉ | 46458/51687 [13:04<01:07, 77.00it/s]"
     ]
    },
    {
     "name": "stdout",
     "output_type": "stream",
     "text": [
      "Error reading file data\\vox2_train\\id02115\\32.wav: The audio waveform is too short to create even one segment of length 63488, expected at least 64000\n"
     ]
    },
    {
     "name": "stderr",
     "output_type": "stream",
     "text": [
      " 90%|█████████ | 46564/51687 [13:06<01:19, 64.45it/s]"
     ]
    },
    {
     "name": "stdout",
     "output_type": "stream",
     "text": [
      "Error reading file data\\vox2_train\\id02134\\53.wav: The audio waveform is too short to create even one segment of length 63488, expected at least 64000\n"
     ]
    },
    {
     "name": "stderr",
     "output_type": "stream",
     "text": [
      " 90%|█████████ | 46608/51687 [13:07<01:19, 63.84it/s]"
     ]
    },
    {
     "name": "stdout",
     "output_type": "stream",
     "text": [
      "Error reading file data\\vox2_train\\id02134\\85.wav: The audio waveform is too short to create even one segment of length 63488, expected at least 64000\n"
     ]
    },
    {
     "name": "stderr",
     "output_type": "stream",
     "text": [
      " 90%|█████████ | 46625/51687 [13:07<01:17, 65.12it/s]"
     ]
    },
    {
     "name": "stdout",
     "output_type": "stream",
     "text": [
      "Error reading file data\\vox2_train\\id02139\\106.wav: The audio waveform is too short to create even one segment of length 63488, expected at least 64000\n"
     ]
    },
    {
     "name": "stderr",
     "output_type": "stream",
     "text": [
      " 90%|█████████ | 46763/51687 [13:09<01:00, 81.53it/s]"
     ]
    },
    {
     "name": "stdout",
     "output_type": "stream",
     "text": [
      "Error reading file data\\vox2_train\\id02139\\93.wav: The audio waveform is too short to create even one segment of length 63488, expected at least 64000\n",
      "Error reading file data\\vox2_train\\id02151\\109.wav: The audio waveform is too short to create even one segment of length 63488, expected at least 64000\n"
     ]
    },
    {
     "name": "stderr",
     "output_type": "stream",
     "text": [
      " 91%|█████████ | 46800/51687 [13:09<00:58, 83.61it/s]"
     ]
    },
    {
     "name": "stdout",
     "output_type": "stream",
     "text": [
      "Error reading file data\\vox2_train\\id02151\\122.wav: The audio waveform is too short to create even one segment of length 63488, expected at least 64000\n"
     ]
    },
    {
     "name": "stderr",
     "output_type": "stream",
     "text": [
      " 91%|█████████ | 46836/51687 [13:10<01:02, 77.14it/s]"
     ]
    },
    {
     "name": "stdout",
     "output_type": "stream",
     "text": [
      "Error reading file data\\vox2_train\\id02151\\159.wav: The audio waveform is too short to create even one segment of length 63488, expected at least 64000\n"
     ]
    },
    {
     "name": "stderr",
     "output_type": "stream",
     "text": [
      " 91%|█████████ | 46864/51687 [13:10<00:57, 83.59it/s]"
     ]
    },
    {
     "name": "stdout",
     "output_type": "stream",
     "text": [
      "Error reading file data\\vox2_train\\id02151\\177.wav: The audio waveform is too short to create even one segment of length 63488, expected at least 64000\n",
      "Error reading file data\\vox2_train\\id02151\\26.wav: The audio waveform is too short to create even one segment of length 63488, expected at least 64000\n"
     ]
    },
    {
     "name": "stderr",
     "output_type": "stream",
     "text": [
      " 91%|█████████ | 46910/51687 [13:11<00:56, 84.06it/s]"
     ]
    },
    {
     "name": "stdout",
     "output_type": "stream",
     "text": [
      "Error reading file data\\vox2_train\\id02151\\64.wav: The audio waveform is too short to create even one segment of length 63488, expected at least 64000\n",
      "Error reading file data\\vox2_train\\id02151\\70.wav: The audio waveform is too short to create even one segment of length 63488, expected at least 64000\n"
     ]
    },
    {
     "name": "stderr",
     "output_type": "stream",
     "text": [
      " 91%|█████████ | 47051/51687 [13:12<00:52, 89.02it/s]"
     ]
    },
    {
     "name": "stdout",
     "output_type": "stream",
     "text": [
      "Error reading file data\\vox2_train\\id02164\\46.wav: The audio waveform is too short to create even one segment of length 63488, expected at least 64000\n"
     ]
    },
    {
     "name": "stderr",
     "output_type": "stream",
     "text": [
      " 91%|█████████▏| 47171/51687 [13:14<01:37, 46.50it/s]"
     ]
    },
    {
     "name": "stdout",
     "output_type": "stream",
     "text": [
      "Error reading file data\\vox2_train\\id02183\\127.wav: The audio waveform is too short to create even one segment of length 63488, expected at least 64000\n"
     ]
    },
    {
     "name": "stderr",
     "output_type": "stream",
     "text": [
      " 92%|█████████▏| 47355/51687 [13:18<00:55, 77.85it/s]"
     ]
    },
    {
     "name": "stdout",
     "output_type": "stream",
     "text": [
      "Error reading file data\\vox2_train\\id02183\\60.wav: The audio waveform is too short to create even one segment of length 63488, expected at least 64000\n",
      "Error reading file data\\vox2_train\\id02183\\72.wav: The audio waveform is too short to create even one segment of length 63488, expected at least 64000\n"
     ]
    },
    {
     "name": "stderr",
     "output_type": "stream",
     "text": [
      " 92%|█████████▏| 47401/51687 [13:18<00:52, 82.06it/s]"
     ]
    },
    {
     "name": "stdout",
     "output_type": "stream",
     "text": [
      "Error reading file data\\vox2_train\\id02189\\15.wav: The audio waveform is too short to create even one segment of length 63488, expected at least 64000\n"
     ]
    },
    {
     "name": "stderr",
     "output_type": "stream",
     "text": [
      " 92%|█████████▏| 47453/51687 [13:19<00:45, 93.57it/s]"
     ]
    },
    {
     "name": "stdout",
     "output_type": "stream",
     "text": [
      "Error reading file data\\vox2_train\\id02189\\66.wav: The audio waveform is too short to create even one segment of length 63488, expected at least 64000\n"
     ]
    },
    {
     "name": "stderr",
     "output_type": "stream",
     "text": [
      " 92%|█████████▏| 47498/51687 [13:19<00:58, 72.01it/s]"
     ]
    },
    {
     "name": "stdout",
     "output_type": "stream",
     "text": [
      "Error reading file data\\vox2_train\\id02193\\112.wav: The audio waveform is too short to create even one segment of length 63488, expected at least 64000\n"
     ]
    },
    {
     "name": "stderr",
     "output_type": "stream",
     "text": [
      " 92%|█████████▏| 47565/51687 [13:20<00:58, 70.75it/s]"
     ]
    },
    {
     "name": "stdout",
     "output_type": "stream",
     "text": [
      "Error reading file data\\vox2_train\\id02193\\171.wav: The audio waveform is too short to create even one segment of length 63488, expected at least 64000\n",
      "Error reading file data\\vox2_train\\id02193\\174.wav: The audio waveform is too short to create even one segment of length 63488, expected at least 64000\n"
     ]
    },
    {
     "name": "stderr",
     "output_type": "stream",
     "text": [
      " 92%|█████████▏| 47632/51687 [13:21<00:55, 73.54it/s]"
     ]
    },
    {
     "name": "stdout",
     "output_type": "stream",
     "text": [
      "Error reading file data\\vox2_train\\id02193\\47.wav: The audio waveform is too short to create even one segment of length 63488, expected at least 64000\n",
      "Error reading file data\\vox2_train\\id02193\\50.wav: The audio waveform is too short to create even one segment of length 63488, expected at least 64000\n"
     ]
    },
    {
     "name": "stderr",
     "output_type": "stream",
     "text": [
      " 92%|█████████▏| 47648/51687 [13:21<00:56, 71.45it/s]"
     ]
    },
    {
     "name": "stdout",
     "output_type": "stream",
     "text": [
      "Error reading file data\\vox2_train\\id02193\\61.wav: The audio waveform is too short to create even one segment of length 63488, expected at least 64000\n"
     ]
    },
    {
     "name": "stderr",
     "output_type": "stream",
     "text": [
      " 92%|█████████▏| 47706/51687 [13:22<00:48, 82.66it/s]"
     ]
    },
    {
     "name": "stdout",
     "output_type": "stream",
     "text": [
      "Error reading file data\\vox2_train\\id02194\\2.wav: The audio waveform is too short to create even one segment of length 63488, expected at least 64000\n"
     ]
    },
    {
     "name": "stderr",
     "output_type": "stream",
     "text": [
      " 92%|█████████▏| 47797/51687 [13:23<00:53, 72.11it/s]"
     ]
    },
    {
     "name": "stdout",
     "output_type": "stream",
     "text": [
      "Error reading file data\\vox2_train\\id02196\\122.wav: The audio waveform is too short to create even one segment of length 63488, expected at least 64000\n"
     ]
    },
    {
     "name": "stderr",
     "output_type": "stream",
     "text": [
      " 93%|█████████▎| 47980/51687 [13:26<00:49, 74.35it/s]"
     ]
    },
    {
     "name": "stdout",
     "output_type": "stream",
     "text": [
      "Error reading file data\\vox2_train\\id02201\\169.wav: The audio waveform is too short to create even one segment of length 63488, expected at least 64000\n"
     ]
    },
    {
     "name": "stderr",
     "output_type": "stream",
     "text": [
      " 93%|█████████▎| 48156/51687 [13:29<00:57, 61.52it/s]"
     ]
    },
    {
     "name": "stdout",
     "output_type": "stream",
     "text": [
      "Error reading file data\\vox2_train\\id02201\\331.wav: The audio waveform is too short to create even one segment of length 63488, expected at least 64000\n"
     ]
    },
    {
     "name": "stderr",
     "output_type": "stream",
     "text": [
      " 93%|█████████▎| 48258/51687 [13:31<00:48, 70.35it/s]"
     ]
    },
    {
     "name": "stdout",
     "output_type": "stream",
     "text": [
      "Error reading file data\\vox2_train\\id02222\\1.wav: The audio waveform is too short to create even one segment of length 63488, expected at least 64000\n"
     ]
    },
    {
     "name": "stderr",
     "output_type": "stream",
     "text": [
      " 94%|█████████▎| 48355/51687 [13:32<00:40, 81.50it/s]"
     ]
    },
    {
     "name": "stdout",
     "output_type": "stream",
     "text": [
      "Error reading file data\\vox2_train\\id02226\\4.wav: The audio waveform is too short to create even one segment of length 63488, expected at least 64000\n",
      "Error reading file data\\vox2_train\\id02226\\44.wav: The audio waveform is too short to create even one segment of length 63488, expected at least 64000\n"
     ]
    },
    {
     "name": "stderr",
     "output_type": "stream",
     "text": [
      " 94%|█████████▎| 48388/51687 [13:33<01:04, 51.46it/s]"
     ]
    },
    {
     "name": "stdout",
     "output_type": "stream",
     "text": [
      "Error reading file data\\vox2_train\\id02239\\106.wav: The audio waveform is too short to create even one segment of length 63488, expected at least 64000\n"
     ]
    },
    {
     "name": "stderr",
     "output_type": "stream",
     "text": [
      " 94%|█████████▎| 48418/51687 [13:34<01:08, 47.62it/s]"
     ]
    },
    {
     "name": "stdout",
     "output_type": "stream",
     "text": [
      "Error reading file data\\vox2_train\\id02239\\127.wav: The audio waveform is too short to create even one segment of length 63488, expected at least 64000\n"
     ]
    },
    {
     "name": "stderr",
     "output_type": "stream",
     "text": [
      " 94%|█████████▍| 48483/51687 [13:35<01:16, 41.99it/s]"
     ]
    },
    {
     "name": "stdout",
     "output_type": "stream",
     "text": [
      "Error reading file data\\vox2_train\\id02239\\189.wav: The audio waveform is too short to create even one segment of length 63488, expected at least 64000\n"
     ]
    },
    {
     "name": "stderr",
     "output_type": "stream",
     "text": [
      " 94%|█████████▍| 48523/51687 [13:36<01:15, 41.97it/s]"
     ]
    },
    {
     "name": "stdout",
     "output_type": "stream",
     "text": [
      "Error reading file data\\vox2_train\\id02239\\225.wav: The audio waveform is too short to create even one segment of length 63488, expected at least 64000\n"
     ]
    },
    {
     "name": "stderr",
     "output_type": "stream",
     "text": [
      " 94%|█████████▍| 48571/51687 [13:37<00:57, 54.58it/s]"
     ]
    },
    {
     "name": "stdout",
     "output_type": "stream",
     "text": [
      "Error reading file data\\vox2_train\\id02239\\270.wav: The audio waveform is too short to create even one segment of length 63488, expected at least 64000\n"
     ]
    },
    {
     "name": "stderr",
     "output_type": "stream",
     "text": [
      " 94%|█████████▍| 48670/51687 [13:39<00:57, 52.76it/s]"
     ]
    },
    {
     "name": "stdout",
     "output_type": "stream",
     "text": [
      "Error reading file data\\vox2_train\\id02239\\355.wav: The audio waveform is too short to create even one segment of length 63488, expected at least 64000\n"
     ]
    },
    {
     "name": "stderr",
     "output_type": "stream",
     "text": [
      " 94%|█████████▍| 48742/51687 [13:41<00:48, 60.56it/s]"
     ]
    },
    {
     "name": "stdout",
     "output_type": "stream",
     "text": [
      "Error reading file data\\vox2_train\\id02239\\422.wav: The audio waveform is too short to create even one segment of length 63488, expected at least 64000\n",
      "Error reading file data\\vox2_train\\id02239\\426.wav: The audio waveform is too short to create even one segment of length 63488, expected at least 64000\n"
     ]
    },
    {
     "name": "stderr",
     "output_type": "stream",
     "text": [
      " 95%|█████████▍| 48929/51687 [13:44<00:45, 61.14it/s]"
     ]
    },
    {
     "name": "stdout",
     "output_type": "stream",
     "text": [
      "Error reading file data\\vox2_train\\id02247\\43.wav: The audio waveform is too short to create even one segment of length 63488, expected at least 64000\n",
      "Error reading file data\\vox2_train\\id02247\\58.wav: The audio waveform is too short to create even one segment of length 63488, expected at least 64000\n"
     ]
    },
    {
     "name": "stderr",
     "output_type": "stream",
     "text": [
      " 95%|█████████▍| 48975/51687 [13:45<00:42, 63.93it/s]"
     ]
    },
    {
     "name": "stdout",
     "output_type": "stream",
     "text": [
      "Error reading file data\\vox2_train\\id02247\\89.wav: The audio waveform is too short to create even one segment of length 63488, expected at least 64000\n"
     ]
    },
    {
     "name": "stderr",
     "output_type": "stream",
     "text": [
      " 95%|█████████▍| 49016/51687 [13:46<00:36, 73.76it/s]"
     ]
    },
    {
     "name": "stdout",
     "output_type": "stream",
     "text": [
      "Error reading file data\\vox2_train\\id02252\\132.wav: The audio waveform is too short to create even one segment of length 63488, expected at least 64000\n"
     ]
    },
    {
     "name": "stderr",
     "output_type": "stream",
     "text": [
      " 95%|█████████▍| 49067/51687 [13:46<00:35, 73.15it/s]"
     ]
    },
    {
     "name": "stdout",
     "output_type": "stream",
     "text": [
      "Error reading file data\\vox2_train\\id02252\\173.wav: The audio waveform is too short to create even one segment of length 63488, expected at least 64000\n",
      "Error reading file data\\vox2_train\\id02252\\178.wav: The audio waveform is too short to create even one segment of length 63488, expected at least 64000\n"
     ]
    },
    {
     "name": "stderr",
     "output_type": "stream",
     "text": [
      " 95%|█████████▍| 49099/51687 [13:47<00:36, 71.32it/s]"
     ]
    },
    {
     "name": "stdout",
     "output_type": "stream",
     "text": [
      "Error reading file data\\vox2_train\\id02252\\201.wav: The audio waveform is too short to create even one segment of length 63488, expected at least 64000\n"
     ]
    },
    {
     "name": "stderr",
     "output_type": "stream",
     "text": [
      " 95%|█████████▌| 49286/51687 [13:50<00:37, 63.83it/s]"
     ]
    },
    {
     "name": "stdout",
     "output_type": "stream",
     "text": [
      "Error reading file data\\vox2_train\\id02252\\374.wav: The audio waveform is too short to create even one segment of length 63488, expected at least 64000\n"
     ]
    },
    {
     "name": "stderr",
     "output_type": "stream",
     "text": [
      " 96%|█████████▌| 49364/51687 [13:51<00:34, 66.95it/s]"
     ]
    },
    {
     "name": "stdout",
     "output_type": "stream",
     "text": [
      "Error reading file data\\vox2_train\\id02252\\443.wav: The audio waveform is too short to create even one segment of length 63488, expected at least 64000\n"
     ]
    },
    {
     "name": "stderr",
     "output_type": "stream",
     "text": [
      " 96%|█████████▌| 49400/51687 [13:52<00:40, 56.52it/s]"
     ]
    },
    {
     "name": "stdout",
     "output_type": "stream",
     "text": [
      "Error reading file data\\vox2_train\\id02252\\60.wav: The audio waveform is too short to create even one segment of length 63488, expected at least 64000\n"
     ]
    },
    {
     "name": "stderr",
     "output_type": "stream",
     "text": [
      " 96%|█████████▌| 49621/51687 [13:56<00:37, 55.14it/s]"
     ]
    },
    {
     "name": "stdout",
     "output_type": "stream",
     "text": [
      "Error reading file data\\vox2_train\\id02253\\254.wav: The audio waveform is too short to create even one segment of length 63488, expected at least 64000\n"
     ]
    },
    {
     "name": "stderr",
     "output_type": "stream",
     "text": [
      " 96%|█████████▌| 49654/51687 [13:56<00:33, 60.12it/s]"
     ]
    },
    {
     "name": "stdout",
     "output_type": "stream",
     "text": [
      "Error reading file data\\vox2_train\\id02253\\288.wav: The audio waveform is too short to create even one segment of length 63488, expected at least 64000\n"
     ]
    },
    {
     "name": "stderr",
     "output_type": "stream",
     "text": [
      " 96%|█████████▌| 49678/51687 [13:57<00:28, 71.23it/s]"
     ]
    },
    {
     "name": "stdout",
     "output_type": "stream",
     "text": [
      "Error reading file data\\vox2_train\\id02253\\305.wav: The audio waveform is too short to create even one segment of length 63488, expected at least 64000\n"
     ]
    },
    {
     "name": "stderr",
     "output_type": "stream",
     "text": [
      " 96%|█████████▋| 49766/51687 [13:58<00:26, 71.19it/s]"
     ]
    },
    {
     "name": "stdout",
     "output_type": "stream",
     "text": [
      "Error reading file data\\vox2_train\\id02257\\100.wav: The audio waveform is too short to create even one segment of length 63488, expected at least 64000\n"
     ]
    },
    {
     "name": "stderr",
     "output_type": "stream",
     "text": [
      " 96%|█████████▋| 49872/51687 [14:00<00:27, 65.14it/s]"
     ]
    },
    {
     "name": "stdout",
     "output_type": "stream",
     "text": [
      "Error reading file data\\vox2_train\\id02257\\63.wav: The audio waveform is too short to create even one segment of length 63488, expected at least 64000\n"
     ]
    },
    {
     "name": "stderr",
     "output_type": "stream",
     "text": [
      " 97%|█████████▋| 49903/51687 [14:00<00:27, 64.63it/s]"
     ]
    },
    {
     "name": "stdout",
     "output_type": "stream",
     "text": [
      "Error reading file data\\vox2_train\\id02257\\9.wav: The audio waveform is too short to create even one segment of length 63488, expected at least 64000\n"
     ]
    },
    {
     "name": "stderr",
     "output_type": "stream",
     "text": [
      " 97%|█████████▋| 49919/51687 [14:01<00:36, 48.95it/s]"
     ]
    },
    {
     "name": "stdout",
     "output_type": "stream",
     "text": [
      "Error reading file data\\vox2_train\\id02268\\2.wav: The audio waveform is too short to create even one segment of length 63488, expected at least 64000\n"
     ]
    },
    {
     "name": "stderr",
     "output_type": "stream",
     "text": [
      " 97%|█████████▋| 49935/51687 [14:01<00:29, 59.03it/s]"
     ]
    },
    {
     "name": "stdout",
     "output_type": "stream",
     "text": [
      "Error reading file data\\vox2_train\\id02268\\34.wav: The audio waveform is too short to create even one segment of length 63488, expected at least 64000\n"
     ]
    },
    {
     "name": "stderr",
     "output_type": "stream",
     "text": [
      " 97%|█████████▋| 49992/51687 [14:02<00:22, 74.05it/s]"
     ]
    },
    {
     "name": "stdout",
     "output_type": "stream",
     "text": [
      "Error reading file data\\vox2_train\\id02268\\83.wav: The audio waveform is too short to create even one segment of length 63488, expected at least 64000\n"
     ]
    },
    {
     "name": "stderr",
     "output_type": "stream",
     "text": [
      " 97%|█████████▋| 50031/51687 [14:03<00:23, 71.00it/s]"
     ]
    },
    {
     "name": "stdout",
     "output_type": "stream",
     "text": [
      "Error reading file data\\vox2_train\\id02273\\36.wav: The audio waveform is too short to create even one segment of length 63488, expected at least 64000\n"
     ]
    },
    {
     "name": "stderr",
     "output_type": "stream",
     "text": [
      " 97%|█████████▋| 50220/51687 [14:05<00:23, 62.67it/s]"
     ]
    },
    {
     "name": "stdout",
     "output_type": "stream",
     "text": [
      "Error reading file data\\vox2_train\\id02298\\21.wav: The audio waveform is too short to create even one segment of length 63488, expected at least 64000\n"
     ]
    },
    {
     "name": "stderr",
     "output_type": "stream",
     "text": [
      " 97%|█████████▋| 50253/51687 [14:06<00:19, 73.37it/s]"
     ]
    },
    {
     "name": "stdout",
     "output_type": "stream",
     "text": [
      "Error reading file data\\vox2_train\\id02300\\100.wav: The audio waveform is too short to create even one segment of length 63488, expected at least 64000\n"
     ]
    },
    {
     "name": "stderr",
     "output_type": "stream",
     "text": [
      " 98%|█████████▊| 50485/51687 [14:09<00:18, 63.35it/s]"
     ]
    },
    {
     "name": "stdout",
     "output_type": "stream",
     "text": [
      "Error reading file data\\vox2_train\\id02300\\315.wav: The audio waveform is too short to create even one segment of length 63488, expected at least 64000\n",
      "Error reading file data\\vox2_train\\id02300\\318.wav: The audio waveform is too short to create even one segment of length 63488, expected at least 64000\n"
     ]
    },
    {
     "name": "stderr",
     "output_type": "stream",
     "text": [
      " 98%|█████████▊| 50658/51687 [14:12<00:13, 78.60it/s]"
     ]
    },
    {
     "name": "stdout",
     "output_type": "stream",
     "text": [
      "Error reading file data\\vox2_train\\id02303\\66.wav: The audio waveform is too short to create even one segment of length 63488, expected at least 64000\n"
     ]
    },
    {
     "name": "stderr",
     "output_type": "stream",
     "text": [
      " 98%|█████████▊| 50762/51687 [14:14<00:15, 59.57it/s]"
     ]
    },
    {
     "name": "stdout",
     "output_type": "stream",
     "text": [
      "Error reading file data\\vox2_train\\id02316\\76.wav: The audio waveform is too short to create even one segment of length 63488, expected at least 64000\n"
     ]
    },
    {
     "name": "stderr",
     "output_type": "stream",
     "text": [
      " 98%|█████████▊| 50785/51687 [14:14<00:14, 63.72it/s]"
     ]
    },
    {
     "name": "stdout",
     "output_type": "stream",
     "text": [
      "Error reading file data\\vox2_train\\id02316\\93.wav: The audio waveform is too short to create even one segment of length 63488, expected at least 64000\n"
     ]
    },
    {
     "name": "stderr",
     "output_type": "stream",
     "text": [
      " 98%|█████████▊| 50884/51687 [14:15<00:10, 73.80it/s]"
     ]
    },
    {
     "name": "stdout",
     "output_type": "stream",
     "text": [
      "Error reading file data\\vox2_train\\id02332\\51.wav: The audio waveform is too short to create even one segment of length 63488, expected at least 64000\n",
      "Error reading file data\\vox2_train\\id02332\\53.wav: The audio waveform is too short to create even one segment of length 63488, expected at least 64000\n"
     ]
    },
    {
     "name": "stderr",
     "output_type": "stream",
     "text": [
      " 99%|█████████▊| 50919/51687 [14:16<00:13, 55.80it/s]"
     ]
    },
    {
     "name": "stdout",
     "output_type": "stream",
     "text": [
      "Error reading file data\\vox2_train\\id02332\\89.wav: The audio waveform is too short to create even one segment of length 63488, expected at least 64000\n"
     ]
    },
    {
     "name": "stderr",
     "output_type": "stream",
     "text": [
      " 99%|█████████▉| 51058/51687 [14:19<00:13, 47.55it/s]"
     ]
    },
    {
     "name": "stdout",
     "output_type": "stream",
     "text": [
      "Error reading file data\\vox2_train\\id02351\\186.wav: The audio waveform is too short to create even one segment of length 63488, expected at least 64000\n",
      "Error reading file data\\vox2_train\\id02351\\195.wav: The audio waveform is too short to create even one segment of length 63488, expected at least 64000\n"
     ]
    },
    {
     "name": "stderr",
     "output_type": "stream",
     "text": [
      " 99%|█████████▉| 51072/51687 [14:19<00:11, 55.39it/s]"
     ]
    },
    {
     "name": "stdout",
     "output_type": "stream",
     "text": [
      "Error reading file data\\vox2_train\\id02351\\198.wav: The audio waveform is too short to create even one segment of length 63488, expected at least 64000\n"
     ]
    },
    {
     "name": "stderr",
     "output_type": "stream",
     "text": [
      " 99%|█████████▉| 51143/51687 [14:21<00:11, 48.75it/s]"
     ]
    },
    {
     "name": "stdout",
     "output_type": "stream",
     "text": [
      "Error reading file data\\vox2_train\\id02351\\26.wav: The audio waveform is too short to create even one segment of length 63488, expected at least 64000\n"
     ]
    },
    {
     "name": "stderr",
     "output_type": "stream",
     "text": [
      "100%|█████████▉| 51492/51687 [14:28<00:02, 83.81it/s]"
     ]
    },
    {
     "name": "stdout",
     "output_type": "stream",
     "text": [
      "Error reading file data\\vox2_train\\id02353\\3.wav: The audio waveform is too short to create even one segment of length 63488, expected at least 64000\n"
     ]
    },
    {
     "name": "stderr",
     "output_type": "stream",
     "text": [
      "100%|█████████▉| 51538/51687 [14:29<00:01, 80.69it/s]"
     ]
    },
    {
     "name": "stdout",
     "output_type": "stream",
     "text": [
      "Error reading file data\\vox2_train\\id02368\\27.wav: The audio waveform is too short to create even one segment of length 63488, expected at least 64000\n"
     ]
    },
    {
     "name": "stderr",
     "output_type": "stream",
     "text": [
      "100%|█████████▉| 51566/51687 [14:29<00:01, 77.80it/s]"
     ]
    },
    {
     "name": "stdout",
     "output_type": "stream",
     "text": [
      "Error reading file data\\vox2_train\\id02368\\56.wav: The audio waveform is too short to create even one segment of length 63488, expected at least 64000\n"
     ]
    },
    {
     "name": "stderr",
     "output_type": "stream",
     "text": [
      "100%|██████████| 51687/51687 [14:30<00:00, 59.35it/s]\n"
     ]
    }
   ],
   "source": [
    "# save preprocessed data, file_name og segment should have original_file_name + \"_segment\" + segment_number\n",
    "\n",
    "# for each row in df, extract audio tensor\n",
    "output_dir= os.path.join(\"data\", \"vox2_train_segments\")\n",
    "os.makedirs(output_dir, exist_ok=True)\n",
    "for index, row in tqdm(df.iterrows(), total=df.shape[0]):\n",
    "    try:\n",
    "        audio_tensor = get_audio_tensor(row[\"path\"])\n",
    "    except Exception as e:\n",
    "        print(f\"Error reading file {row['path']}: {e}\")\n",
    "        continue\n",
    "    for i, segment in enumerate(audio_tensor):\n",
    "        segment_name = \"_seg_\" + str(i)\n",
    "        os.makedirs(output_dir + \"/\" + row[\"person_id\"], exist_ok=True)\n",
    "        segment_path = output_dir + \"/\" + row[\"person_id\"] + \"/\" + row[\"utterance_filename\"].replace(\".wav\",\"\") + segment_name + \".wav\"\n",
    "        torchaudio.save(segment_path, segment, 16000)"
   ]
  },
  {
   "cell_type": "code",
   "execution_count": null,
   "metadata": {},
   "outputs": [],
   "source": []
  }
 ],
 "metadata": {
  "kernelspec": {
   "display_name": ".venv",
   "language": "python",
   "name": "python3"
  },
  "language_info": {
   "codemirror_mode": {
    "name": "ipython",
    "version": 3
   },
   "file_extension": ".py",
   "mimetype": "text/x-python",
   "name": "python",
   "nbconvert_exporter": "python",
   "pygments_lexer": "ipython3",
   "version": "3.12.8"
  }
 },
 "nbformat": 4,
 "nbformat_minor": 2
}
