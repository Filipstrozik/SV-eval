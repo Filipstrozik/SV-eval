{
 "cells": [
  {
   "cell_type": "code",
   "execution_count": 1,
   "metadata": {},
   "outputs": [],
   "source": [
    "from tqdm import tqdm\n",
    "import numpy as np\n",
    "import torchaudio\n",
    "import torch\n",
    "import os\n",
    "import wespeaker\n",
    "import pandas as pd\n",
    "from torch.utils.data import DataLoader\n",
    "from torch.utils.data import Dataset\n",
    "import os\n",
    "import subprocess\n",
    "import sys"
   ]
  },
  {
   "cell_type": "code",
   "execution_count": 2,
   "metadata": {},
   "outputs": [],
   "source": [
    "os.chdir(\"..\")"
   ]
  },
  {
   "cell_type": "code",
   "execution_count": 3,
   "metadata": {},
   "outputs": [],
   "source": [
    "from src.utilities.prep_audio import get_audio_tensor"
   ]
  },
  {
   "cell_type": "code",
   "execution_count": 8,
   "metadata": {},
   "outputs": [],
   "source": [
    "def scan_directory_voxceleb2(test_dir):\n",
    "    data = []\n",
    "    for person_id in os.listdir(test_dir):\n",
    "        person_path = os.path.join(test_dir, person_id)\n",
    "        if os.path.isdir(person_path):\n",
    "            for file in os.listdir(person_path):\n",
    "                file_path = os.path.join(person_path, file)\n",
    "                if os.path.isfile(file_path):\n",
    "                    data.append([file_path, person_id, file])\n",
    "\n",
    "    df = pd.DataFrame(\n",
    "        data, columns=[\"path\", \"person_id\", \"utterance_filename\"]\n",
    "    )\n",
    "    return df"
   ]
  },
  {
   "cell_type": "code",
   "execution_count": 9,
   "metadata": {},
   "outputs": [],
   "source": [
    "test_dir = \"data/voxceleb2_wav_test\"\n",
    "df = scan_directory_voxceleb2(test_dir)"
   ]
  },
  {
   "cell_type": "code",
   "execution_count": 10,
   "metadata": {},
   "outputs": [
    {
     "data": {
      "text/html": [
       "<div>\n",
       "<style scoped>\n",
       "    .dataframe tbody tr th:only-of-type {\n",
       "        vertical-align: middle;\n",
       "    }\n",
       "\n",
       "    .dataframe tbody tr th {\n",
       "        vertical-align: top;\n",
       "    }\n",
       "\n",
       "    .dataframe thead th {\n",
       "        text-align: right;\n",
       "    }\n",
       "</style>\n",
       "<table border=\"1\" class=\"dataframe\">\n",
       "  <thead>\n",
       "    <tr style=\"text-align: right;\">\n",
       "      <th></th>\n",
       "      <th>path</th>\n",
       "      <th>person_id</th>\n",
       "      <th>utterance_filename</th>\n",
       "    </tr>\n",
       "  </thead>\n",
       "  <tbody>\n",
       "    <tr>\n",
       "      <th>0</th>\n",
       "      <td>data/voxceleb2_wav_test/id08149/16.wav</td>\n",
       "      <td>id08149</td>\n",
       "      <td>16.wav</td>\n",
       "    </tr>\n",
       "    <tr>\n",
       "      <th>1</th>\n",
       "      <td>data/voxceleb2_wav_test/id08149/17.wav</td>\n",
       "      <td>id08149</td>\n",
       "      <td>17.wav</td>\n",
       "    </tr>\n",
       "    <tr>\n",
       "      <th>2</th>\n",
       "      <td>data/voxceleb2_wav_test/id08149/15.wav</td>\n",
       "      <td>id08149</td>\n",
       "      <td>15.wav</td>\n",
       "    </tr>\n",
       "    <tr>\n",
       "      <th>3</th>\n",
       "      <td>data/voxceleb2_wav_test/id08149/28.wav</td>\n",
       "      <td>id08149</td>\n",
       "      <td>28.wav</td>\n",
       "    </tr>\n",
       "    <tr>\n",
       "      <th>4</th>\n",
       "      <td>data/voxceleb2_wav_test/id08149/14.wav</td>\n",
       "      <td>id08149</td>\n",
       "      <td>14.wav</td>\n",
       "    </tr>\n",
       "    <tr>\n",
       "      <th>...</th>\n",
       "      <td>...</td>\n",
       "      <td>...</td>\n",
       "      <td>...</td>\n",
       "    </tr>\n",
       "    <tr>\n",
       "      <th>2471</th>\n",
       "      <td>data/voxceleb2_wav_test/id04950/118.wav</td>\n",
       "      <td>id04950</td>\n",
       "      <td>118.wav</td>\n",
       "    </tr>\n",
       "    <tr>\n",
       "      <th>2472</th>\n",
       "      <td>data/voxceleb2_wav_test/id04950/279.wav</td>\n",
       "      <td>id04950</td>\n",
       "      <td>279.wav</td>\n",
       "    </tr>\n",
       "    <tr>\n",
       "      <th>2473</th>\n",
       "      <td>data/voxceleb2_wav_test/id04950/319.wav</td>\n",
       "      <td>id04950</td>\n",
       "      <td>319.wav</td>\n",
       "    </tr>\n",
       "    <tr>\n",
       "      <th>2474</th>\n",
       "      <td>data/voxceleb2_wav_test/id04950/126.wav</td>\n",
       "      <td>id04950</td>\n",
       "      <td>126.wav</td>\n",
       "    </tr>\n",
       "    <tr>\n",
       "      <th>2475</th>\n",
       "      <td>data/voxceleb2_wav_test/id04950/244.wav</td>\n",
       "      <td>id04950</td>\n",
       "      <td>244.wav</td>\n",
       "    </tr>\n",
       "  </tbody>\n",
       "</table>\n",
       "<p>2476 rows × 3 columns</p>\n",
       "</div>"
      ],
      "text/plain": [
       "                                         path person_id utterance_filename\n",
       "0      data/voxceleb2_wav_test/id08149/16.wav   id08149             16.wav\n",
       "1      data/voxceleb2_wav_test/id08149/17.wav   id08149             17.wav\n",
       "2      data/voxceleb2_wav_test/id08149/15.wav   id08149             15.wav\n",
       "3      data/voxceleb2_wav_test/id08149/28.wav   id08149             28.wav\n",
       "4      data/voxceleb2_wav_test/id08149/14.wav   id08149             14.wav\n",
       "...                                       ...       ...                ...\n",
       "2471  data/voxceleb2_wav_test/id04950/118.wav   id04950            118.wav\n",
       "2472  data/voxceleb2_wav_test/id04950/279.wav   id04950            279.wav\n",
       "2473  data/voxceleb2_wav_test/id04950/319.wav   id04950            319.wav\n",
       "2474  data/voxceleb2_wav_test/id04950/126.wav   id04950            126.wav\n",
       "2475  data/voxceleb2_wav_test/id04950/244.wav   id04950            244.wav\n",
       "\n",
       "[2476 rows x 3 columns]"
      ]
     },
     "execution_count": 10,
     "metadata": {},
     "output_type": "execute_result"
    }
   ],
   "source": [
    "df"
   ]
  },
  {
   "cell_type": "code",
   "execution_count": 11,
   "metadata": {},
   "outputs": [
    {
     "name": "stderr",
     "output_type": "stream",
     "text": [
      "  4%|▍         | 106/2476 [00:00<00:04, 543.92it/s]"
     ]
    },
    {
     "name": "stdout",
     "output_type": "stream",
     "text": [
      "Error reading file data/voxceleb2_wav_test/id08149/9.wav: The audio waveform is too short to create even one segment of length 63488, expected at least 64000\n",
      "Error reading file data/voxceleb2_wav_test/id08548/52.wav: The audio waveform is too short to create even one segment of length 63488, expected at least 64000\n",
      "Error reading file data/voxceleb2_wav_test/id08548/18.wav: The audio waveform is too short to create even one segment of length 63488, expected at least 64000\n",
      "Error reading file data/voxceleb2_wav_test/id05850/29.wav: The audio waveform is too short to create even one segment of length 63488, expected at least 64000\n"
     ]
    },
    {
     "name": "stderr",
     "output_type": "stream",
     "text": [
      " 14%|█▎        | 338/2476 [00:00<00:03, 562.31it/s]"
     ]
    },
    {
     "name": "stdout",
     "output_type": "stream",
     "text": [
      "Error reading file data/voxceleb2_wav_test/id08374/287.wav: The audio waveform is too short to create even one segment of length 63488, expected at least 64000\n",
      "Error reading file data/voxceleb2_wav_test/id05055/459.wav: The audio waveform is too short to create even one segment of length 63488, expected at least 64000\n",
      "Error reading file data/voxceleb2_wav_test/id05055/87.wav: The audio waveform is too short to create even one segment of length 63488, expected at least 64000\n"
     ]
    },
    {
     "name": "stderr",
     "output_type": "stream",
     "text": [
      " 22%|██▏       | 541/2476 [00:01<00:04, 418.26it/s]"
     ]
    },
    {
     "name": "stdout",
     "output_type": "stream",
     "text": [
      "Error reading file data/voxceleb2_wav_test/id08696/28.wav: The audio waveform is too short to create even one segment of length 63488, expected at least 64000\n",
      "Error reading file data/voxceleb2_wav_test/id08696/353.wav: The audio waveform is too short to create even one segment of length 63488, expected at least 64000\n",
      "Error reading file data/voxceleb2_wav_test/id08696/335.wav: The audio waveform is too short to create even one segment of length 63488, expected at least 64000\n",
      "Error reading file data/voxceleb2_wav_test/id05714/22.wav: The audio waveform is too short to create even one segment of length 63488, expected at least 64000\n"
     ]
    },
    {
     "name": "stderr",
     "output_type": "stream",
     "text": [
      " 24%|██▎       | 585/2476 [00:01<00:04, 390.05it/s]"
     ]
    },
    {
     "name": "stdout",
     "output_type": "stream",
     "text": [
      "Error reading file data/voxceleb2_wav_test/id04656/200.wav: The audio waveform is too short to create even one segment of length 63488, expected at least 64000\n"
     ]
    },
    {
     "name": "stderr",
     "output_type": "stream",
     "text": [
      " 29%|██▊       | 711/2476 [00:01<00:04, 365.70it/s]"
     ]
    },
    {
     "name": "stdout",
     "output_type": "stream",
     "text": [
      "Error reading file data/voxceleb2_wav_test/id07426/84.wav: The audio waveform is too short to create even one segment of length 63488, expected at least 64000\n",
      "Error reading file data/voxceleb2_wav_test/id05594/166.wav: The audio waveform is too short to create even one segment of length 63488, expected at least 64000\n"
     ]
    },
    {
     "name": "stderr",
     "output_type": "stream",
     "text": [
      " 36%|███▌      | 894/2476 [00:02<00:03, 430.84it/s]"
     ]
    },
    {
     "name": "stdout",
     "output_type": "stream",
     "text": [
      "Error reading file data/voxceleb2_wav_test/id06310/40.wav: The audio waveform is too short to create even one segment of length 63488, expected at least 64000\n",
      "Error reading file data/voxceleb2_wav_test/id07494/177.wav: The audio waveform is too short to create even one segment of length 63488, expected at least 64000\n",
      "Error reading file data/voxceleb2_wav_test/id07494/70.wav: The audio waveform is too short to create even one segment of length 63488, expected at least 64000\n"
     ]
    },
    {
     "name": "stderr",
     "output_type": "stream",
     "text": [
      " 41%|████▏     | 1027/2476 [00:02<00:03, 369.75it/s]"
     ]
    },
    {
     "name": "stdout",
     "output_type": "stream",
     "text": [
      "Error reading file data/voxceleb2_wav_test/id06209/9.wav: The audio waveform is too short to create even one segment of length 63488, expected at least 64000\n",
      "Error reading file data/voxceleb2_wav_test/id05816/298.wav: The audio waveform is too short to create even one segment of length 63488, expected at least 64000\n",
      "Error reading file data/voxceleb2_wav_test/id05816/365.wav: The audio waveform is too short to create even one segment of length 63488, expected at least 64000\n"
     ]
    },
    {
     "name": "stderr",
     "output_type": "stream",
     "text": [
      " 47%|████▋     | 1156/2476 [00:02<00:03, 381.38it/s]"
     ]
    },
    {
     "name": "stdout",
     "output_type": "stream",
     "text": [
      "Error reading file data/voxceleb2_wav_test/id05015/223.wav: The audio waveform is too short to create even one segment of length 63488, expected at least 64000\n",
      "Error reading file data/voxceleb2_wav_test/id09017/231.wav: The audio waveform is too short to create even one segment of length 63488, expected at least 64000\n"
     ]
    },
    {
     "name": "stderr",
     "output_type": "stream",
     "text": [
      " 51%|█████     | 1266/2476 [00:03<00:02, 423.02it/s]"
     ]
    },
    {
     "name": "stdout",
     "output_type": "stream",
     "text": [
      "Error reading file data/voxceleb2_wav_test/id08552/91.wav: The audio waveform is too short to create even one segment of length 63488, expected at least 64000\n"
     ]
    },
    {
     "name": "stderr",
     "output_type": "stream",
     "text": [
      " 59%|█████▊    | 1454/2476 [00:03<00:02, 423.09it/s]"
     ]
    },
    {
     "name": "stdout",
     "output_type": "stream",
     "text": [
      "Error reading file data/voxceleb2_wav_test/id06816/182.wav: The audio waveform is too short to create even one segment of length 63488, expected at least 64000\n",
      "Error reading file data/voxceleb2_wav_test/id06816/156.wav: The audio waveform is too short to create even one segment of length 63488, expected at least 64000\n",
      "Error reading file data/voxceleb2_wav_test/id06816/18.wav: The audio waveform is too short to create even one segment of length 63488, expected at least 64000\n"
     ]
    },
    {
     "name": "stderr",
     "output_type": "stream",
     "text": [
      " 65%|██████▍   | 1600/2476 [00:03<00:01, 444.23it/s]"
     ]
    },
    {
     "name": "stdout",
     "output_type": "stream",
     "text": [
      "Error reading file data/voxceleb2_wav_test/id07354/493.wav: The audio waveform is too short to create even one segment of length 63488, expected at least 64000\n",
      "Error reading file data/voxceleb2_wav_test/id06484/189.wav: The audio waveform is too short to create even one segment of length 63488, expected at least 64000\n",
      "Error reading file data/voxceleb2_wav_test/id05654/77.wav: The audio waveform is too short to create even one segment of length 63488, expected at least 64000\n"
     ]
    },
    {
     "name": "stderr",
     "output_type": "stream",
     "text": [
      " 74%|███████▍  | 1839/2476 [00:04<00:01, 386.16it/s]"
     ]
    },
    {
     "name": "stdout",
     "output_type": "stream",
     "text": [
      "Error reading file data/voxceleb2_wav_test/id06104/80.wav: The audio waveform is too short to create even one segment of length 63488, expected at least 64000\n"
     ]
    },
    {
     "name": "stderr",
     "output_type": "stream",
     "text": [
      " 82%|████████▏ | 2039/2476 [00:04<00:00, 446.06it/s]"
     ]
    },
    {
     "name": "stdout",
     "output_type": "stream",
     "text": [
      "Error reading file data/voxceleb2_wav_test/id07874/34.wav: The audio waveform is too short to create even one segment of length 63488, expected at least 64000\n",
      "Error reading file data/voxceleb2_wav_test/id07621/331.wav: The audio waveform is too short to create even one segment of length 63488, expected at least 64000\n",
      "Error reading file data/voxceleb2_wav_test/id05176/107.wav: The audio waveform is too short to create even one segment of length 63488, expected at least 64000\n"
     ]
    },
    {
     "name": "stderr",
     "output_type": "stream",
     "text": [
      " 91%|█████████ | 2251/2476 [00:05<00:00, 488.43it/s]"
     ]
    },
    {
     "name": "stdout",
     "output_type": "stream",
     "text": [
      "Error reading file data/voxceleb2_wav_test/id06913/25.wav: The audio waveform is too short to create even one segment of length 63488, expected at least 64000\n",
      "Error reading file data/voxceleb2_wav_test/id04536/394.wav: The audio waveform is too short to create even one segment of length 63488, expected at least 64000\n"
     ]
    },
    {
     "name": "stderr",
     "output_type": "stream",
     "text": [
      "100%|██████████| 2476/2476 [00:05<00:00, 417.98it/s]\n"
     ]
    }
   ],
   "source": [
    "# save preprocessed data, file_name og segment should have original_file_name + \"_segment\" + segment_number\n",
    "\n",
    "# for each row in df, extract audio tensor\n",
    "output_dir=\"data/voxceleb2_test_segments\"\n",
    "os.makedirs(output_dir, exist_ok=True)\n",
    "for index, row in tqdm(df.iterrows(), total=df.shape[0]):\n",
    "    try:\n",
    "        audio_tensor = get_audio_tensor(row[\"path\"])\n",
    "    except Exception as e:\n",
    "        print(f\"Error reading file {row['path']}: {e}\")\n",
    "        continue\n",
    "    for i, segment in enumerate(audio_tensor):\n",
    "        segment_name = \"_seg_\" + str(i)\n",
    "        os.makedirs(output_dir + \"/\" + row[\"person_id\"], exist_ok=True)\n",
    "        segment_path = output_dir + \"/\" + row[\"person_id\"] + \"/\" + row[\"utterance_filename\"].replace(\".wav\",\"\") + segment_name + \".wav\"\n",
    "        torchaudio.save(segment_path, segment, 16000)"
   ]
  },
  {
   "cell_type": "code",
   "execution_count": null,
   "metadata": {},
   "outputs": [],
   "source": []
  }
 ],
 "metadata": {
  "kernelspec": {
   "display_name": ".venv",
   "language": "python",
   "name": "python3"
  },
  "language_info": {
   "codemirror_mode": {
    "name": "ipython",
    "version": 3
   },
   "file_extension": ".py",
   "mimetype": "text/x-python",
   "name": "python",
   "nbconvert_exporter": "python",
   "pygments_lexer": "ipython3",
   "version": "3.12.8"
  }
 },
 "nbformat": 4,
 "nbformat_minor": 2
}
