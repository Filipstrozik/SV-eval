{
 "cells": [
  {
   "cell_type": "code",
   "execution_count": 1,
   "id": "ef4e5757",
   "metadata": {},
   "outputs": [
    {
     "name": "stdout",
     "output_type": "stream",
     "text": [
      "60\n"
     ]
    }
   ],
   "source": [
    "import os\n",
    "import glob\n",
    "\n",
    "def find_json_files(path):\n",
    "    \n",
    "    # Use recursive glob to find all json files\n",
    "    json_files = glob.glob(os.path.join(path, \"**/*.json\"), recursive=True)\n",
    "    \n",
    "    # Return the list of json file paths\n",
    "    return json_files\n",
    "\n",
    "path = '../results/noisy/'\n",
    "json_files = find_json_files(path)\n",
    "print(len(json_files))"
   ]
  },
  {
   "cell_type": "code",
   "execution_count": 2,
   "id": "e1fa37b0",
   "metadata": {},
   "outputs": [
    {
     "name": "stdout",
     "output_type": "stream",
     "text": [
      "             Noise  SNR          Model       EER\n",
      "0   noisy_gaussian    0       campplus  0.079633\n",
      "1   noisy_gaussian    0  ecapa_tdnn_ft  0.085559\n",
      "2   noisy_gaussian    0     ecapa_tdnn  0.081721\n",
      "3   noisy_gaussian    0       redimnet  0.074895\n",
      "4   noisy_gaussian   10       campplus  0.033785\n",
      "5   noisy_gaussian   10  ecapa_tdnn_ft  0.042374\n",
      "6   noisy_gaussian   10     ecapa_tdnn  0.036264\n",
      "7   noisy_gaussian   10       redimnet  0.029624\n",
      "8   noisy_gaussian   15       campplus  0.024607\n",
      "9   noisy_gaussian   15  ecapa_tdnn_ft  0.033777\n",
      "10  noisy_gaussian   15     ecapa_tdnn  0.025958\n",
      "11  noisy_gaussian   15       redimnet  0.020249\n",
      "12  noisy_gaussian   20       campplus  0.019203\n",
      "13  noisy_gaussian   20  ecapa_tdnn_ft  0.028489\n",
      "14  noisy_gaussian   20     ecapa_tdnn  0.020257\n",
      "15  noisy_gaussian   20       redimnet  0.015329\n",
      "16  noisy_gaussian    5       campplus  0.050508\n",
      "17  noisy_gaussian    5  ecapa_tdnn_ft  0.057896\n",
      "18  noisy_gaussian    5     ecapa_tdnn  0.052242\n",
      "19  noisy_gaussian    5       redimnet  0.046056\n"
     ]
    }
   ],
   "source": [
    "import json\n",
    "import re\n",
    "import pandas as pd\n",
    "\n",
    "results = []\n",
    "for file_path in json_files:\n",
    "    # Extract noise type and SNR from path using regex\n",
    "    pattern = r'snr_(\\d+)_(\\w+)\\\\(\\w+)_results'\n",
    "    match = re.search(pattern, file_path)\n",
    "    \n",
    "    if match:\n",
    "        snr = match.group(1)\n",
    "        noise_type = match.group(2)\n",
    "        model = match.group(3)\n",
    "        \n",
    "        # Read and parse JSON file\n",
    "        with open(file_path, 'r') as f:\n",
    "            data = json.load(f)\n",
    "            eer = data['EER']\n",
    "            \n",
    "        results.append({\n",
    "            'Noise': noise_type,\n",
    "            'SNR': int(snr),\n",
    "            'Model': model,\n",
    "            'EER': eer\n",
    "        })\n",
    "\n",
    "# Convert to pandas DataFrame for easier analysis\n",
    "df = pd.DataFrame(results)\n",
    "print(df.head(20))"
   ]
  },
  {
   "cell_type": "code",
   "execution_count": 8,
   "id": "62d661e9",
   "metadata": {},
   "outputs": [
    {
     "name": "stdout",
     "output_type": "stream",
     "text": [
      "Results saved to ../csv_results/deepfilternet3/deepfilternet3_results.csv\n"
     ]
    }
   ],
   "source": [
    "# save the DataFrame to a CSV file to path new dir ../csv_results/metricgan\n",
    "output_path = '../csv_results/deepfilternet3/'\n",
    "os.makedirs(output_path, exist_ok=True)\n",
    "output_file = os.path.join(output_path, \"deepfilternet3_results.csv\")\n",
    "df.to_csv(output_file, index=False)\n",
    "print(f\"Results saved to {output_file}\")"
   ]
  },
  {
   "cell_type": "code",
   "execution_count": 4,
   "id": "4a75de38",
   "metadata": {},
   "outputs": [
    {
     "name": "stdout",
     "output_type": "stream",
     "text": [
      "Total JSON files found: 120\n",
      "Total results processed: 120\n",
      "            Noise  SNR          Model       EER\n",
      "0  noisy_gaussian    0       campplus  0.079633\n",
      "1  noisy_gaussian    0  ecapa_tdnn_ft  0.085559\n",
      "2  noisy_gaussian    0     ecapa_tdnn  0.081721\n",
      "3  noisy_gaussian    0       redimnet  0.074895\n",
      "4  noisy_gaussian   10       campplus  0.033785\n",
      "5  noisy_gaussian   10  ecapa_tdnn_ft  0.042374\n",
      "6  noisy_gaussian   10     ecapa_tdnn  0.036264\n",
      "7  noisy_gaussian   10       redimnet  0.029624\n",
      "8  noisy_gaussian   15       campplus  0.024607\n",
      "9  noisy_gaussian   15  ecapa_tdnn_ft  0.033777\n",
      "Combined results saved to ../csv_results/combined/combined_noise_results.csv\n"
     ]
    }
   ],
   "source": [
    "# Load results from both noisy and noisy_bg directories\n",
    "import os\n",
    "import glob\n",
    "import json\n",
    "import re\n",
    "import pandas as pd\n",
    "\n",
    "def find_json_files(paths):\n",
    "    \"\"\"Find all JSON files in multiple directories\"\"\"\n",
    "    all_json_files = []\n",
    "    for path in paths:\n",
    "        json_files = glob.glob(os.path.join(path, \"**/*.json\"), recursive=True)\n",
    "        all_json_files.extend(json_files)\n",
    "    return all_json_files\n",
    "\n",
    "# Define paths to both directories\n",
    "paths = ['../results/noisy/', '../results/noisy_bg/']\n",
    "all_json_files = find_json_files(paths)\n",
    "print(f\"Total JSON files found: {len(all_json_files)}\")\n",
    "\n",
    "# Process all files\n",
    "combined_results = []\n",
    "for file_path in all_json_files:\n",
    "    # Extract noise type and SNR from path using regex\n",
    "    pattern = r'snr_(\\d+)_(\\w+)\\\\(\\w+)_results'\n",
    "    match = re.search(pattern, file_path)\n",
    "    \n",
    "    if match:\n",
    "        snr = match.group(1)\n",
    "        noise_type = match.group(2)\n",
    "        model = match.group(3)\n",
    "        \n",
    "        # Read and parse JSON file\n",
    "        with open(file_path, 'r') as f:\n",
    "            data = json.load(f)\n",
    "            eer = data['EER']\n",
    "            \n",
    "        combined_results.append({\n",
    "            'Noise': noise_type,\n",
    "            'SNR': int(snr),\n",
    "            'Model': model,\n",
    "            'EER': eer\n",
    "        })\n",
    "\n",
    "# Convert to pandas DataFrame for easier analysis\n",
    "combined_df = pd.DataFrame(combined_results)\n",
    "print(f\"Total results processed: {len(combined_df)}\")\n",
    "print(combined_df.head(10))\n",
    "\n",
    "# Save the combined DataFrame to a CSV file\n",
    "output_path = '../csv_results/combined/'\n",
    "os.makedirs(output_path, exist_ok=True)\n",
    "output_file = os.path.join(output_path, \"combined_noise_results.csv\")\n",
    "combined_df.to_csv(output_file, index=False)\n",
    "print(f\"Combined results saved to {output_file}\")"
   ]
  }
 ],
 "metadata": {
  "kernelspec": {
   "display_name": ".venv",
   "language": "python",
   "name": "python3"
  },
  "language_info": {
   "codemirror_mode": {
    "name": "ipython",
    "version": 3
   },
   "file_extension": ".py",
   "mimetype": "text/x-python",
   "name": "python",
   "nbconvert_exporter": "python",
   "pygments_lexer": "ipython3",
   "version": "3.12.8"
  }
 },
 "nbformat": 4,
 "nbformat_minor": 5
}
