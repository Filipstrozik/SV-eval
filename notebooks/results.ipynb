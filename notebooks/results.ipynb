{
 "cells": [
  {
   "cell_type": "code",
   "execution_count": 6,
   "id": "ef4e5757",
   "metadata": {},
   "outputs": [
    {
     "name": "stdout",
     "output_type": "stream",
     "text": [
      "90\n"
     ]
    }
   ],
   "source": [
    "import os\n",
    "import glob\n",
    "\n",
    "def find_json_files(path):\n",
    "    \n",
    "    # Use recursive glob to find all json files\n",
    "    json_files = glob.glob(os.path.join(path, \"**/*.json\"), recursive=True)\n",
    "    \n",
    "    # Return the list of json file paths\n",
    "    return json_files\n",
    "\n",
    "path = '../results/deepfilternet3/'\n",
    "json_files = find_json_files(path)\n",
    "print(len(json_files))"
   ]
  },
  {
   "cell_type": "code",
   "execution_count": 7,
   "id": "e1fa37b0",
   "metadata": {},
   "outputs": [
    {
     "name": "stdout",
     "output_type": "stream",
     "text": [
      "             Noise  SNR       Model       EER\n",
      "0   AirConditioner    0    campplus  0.090241\n",
      "1   AirConditioner    0  ecapa_tdnn  0.089676\n",
      "2   AirConditioner    0    redimnet  0.077031\n",
      "3   AirConditioner   10    campplus  0.046449\n",
      "4   AirConditioner   10  ecapa_tdnn  0.049857\n",
      "5   AirConditioner   10    redimnet  0.037518\n",
      "6   AirConditioner   15    campplus  0.035269\n",
      "7   AirConditioner   15  ecapa_tdnn  0.039137\n",
      "8   AirConditioner   15    redimnet  0.028633\n",
      "9   AirConditioner   20    campplus  0.028282\n",
      "10  AirConditioner   20  ecapa_tdnn  0.031936\n",
      "11  AirConditioner   20    redimnet  0.022715\n",
      "12  AirConditioner    5    campplus  0.064444\n",
      "13  AirConditioner    5  ecapa_tdnn  0.066382\n",
      "14  AirConditioner    5    redimnet  0.052850\n",
      "15          Babble    0    campplus  0.146463\n",
      "16          Babble    0  ecapa_tdnn  0.142437\n",
      "17          Babble    0    redimnet  0.135256\n",
      "18          Babble   10    campplus  0.066587\n",
      "19          Babble   10  ecapa_tdnn  0.068395\n"
     ]
    }
   ],
   "source": [
    "import json\n",
    "import re\n",
    "import pandas as pd\n",
    "\n",
    "results = []\n",
    "for file_path in json_files:\n",
    "    # Extract noise type and SNR from path using regex\n",
    "    pattern = r'snr_(\\d+)_(\\w+)\\\\(\\w+)_results'\n",
    "    match = re.search(pattern, file_path)\n",
    "    \n",
    "    if match:\n",
    "        snr = match.group(1)\n",
    "        noise_type = match.group(2)\n",
    "        model = match.group(3)\n",
    "        \n",
    "        # Read and parse JSON file\n",
    "        with open(file_path, 'r') as f:\n",
    "            data = json.load(f)\n",
    "            eer = data['EER']\n",
    "            \n",
    "        results.append({\n",
    "            'Noise': noise_type,\n",
    "            'SNR': int(snr),\n",
    "            'Model': model,\n",
    "            'EER': eer\n",
    "        })\n",
    "\n",
    "# Convert to pandas DataFrame for easier analysis\n",
    "df = pd.DataFrame(results)\n",
    "print(df.head(20))"
   ]
  },
  {
   "cell_type": "code",
   "execution_count": 8,
   "id": "62d661e9",
   "metadata": {},
   "outputs": [
    {
     "name": "stdout",
     "output_type": "stream",
     "text": [
      "Results saved to ../csv_results/deepfilternet3/deepfilternet3_results.csv\n"
     ]
    }
   ],
   "source": [
    "# save the DataFrame to a CSV file to path new dir ../csv_results/metricgan\n",
    "output_path = '../csv_results/deepfilternet3/'\n",
    "os.makedirs(output_path, exist_ok=True)\n",
    "output_file = os.path.join(output_path, \"deepfilternet3_results.csv\")\n",
    "df.to_csv(output_file, index=False)\n",
    "print(f\"Results saved to {output_file}\")"
   ]
  },
  {
   "cell_type": "code",
   "execution_count": null,
   "id": "4a75de38",
   "metadata": {},
   "outputs": [],
   "source": []
  }
 ],
 "metadata": {
  "kernelspec": {
   "display_name": ".venv",
   "language": "python",
   "name": "python3"
  },
  "language_info": {
   "codemirror_mode": {
    "name": "ipython",
    "version": 3
   },
   "file_extension": ".py",
   "mimetype": "text/x-python",
   "name": "python",
   "nbconvert_exporter": "python",
   "pygments_lexer": "ipython3",
   "version": "3.12.8"
  }
 },
 "nbformat": 4,
 "nbformat_minor": 5
}
